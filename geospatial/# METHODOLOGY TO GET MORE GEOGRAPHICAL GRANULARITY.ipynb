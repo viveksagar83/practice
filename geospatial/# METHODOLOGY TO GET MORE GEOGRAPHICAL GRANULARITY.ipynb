{
 "cells": [
  {
   "cell_type": "markdown",
   "id": "d8b4f648",
   "metadata": {},
   "source": [
    "# METHODOLOGY TO GET MORE GEOGRAPHICAL GRANULARITY"
   ]
  },
  {
   "cell_type": "code",
   "execution_count": 15,
   "id": "d93f7212",
   "metadata": {},
   "outputs": [],
   "source": [
    "from scipy.cluster.vq import kmeans2, whiten\n",
    "import geopandas as gpd\n",
    "from shapely import geometry as geom\n",
    "import numpy as np\n",
    "import pandas as pd\n",
    "import math\n",
    "from shapely.ops import cascaded_union\n",
    "from geovoronoi import voronoi_regions_from_coords, points_to_coords"
   ]
  },
  {
   "cell_type": "markdown",
   "id": "40388a4c",
   "metadata": {},
   "source": [
    "### 1.- From Landscan, clip country extent and convert from raster to vector (points)"
   ]
  },
  {
   "cell_type": "code",
   "execution_count": 16,
   "id": "0ce9fe20",
   "metadata": {},
   "outputs": [],
   "source": [
    "gdf = gpd.read_file('points_population.shp')"
   ]
  },
  {
   "cell_type": "markdown",
   "id": "834268a4",
   "metadata": {},
   "source": [
    "### 2,. Remove points with population = 0"
   ]
  },
  {
   "cell_type": "code",
   "execution_count": 17,
   "id": "17531344",
   "metadata": {},
   "outputs": [],
   "source": [
    "gdf = gdf[gdf['VALUE']!=0]"
   ]
  },
  {
   "cell_type": "markdown",
   "id": "ea3db7b3",
   "metadata": {},
   "source": [
    "### 3.- Create a new column with a list fo range(0,population) and then explode that column to get a point for each person"
   ]
  },
  {
   "cell_type": "code",
   "execution_count": 18,
   "id": "40f1abf8",
   "metadata": {},
   "outputs": [
    {
     "name": "stderr",
     "output_type": "stream",
     "text": [
      "C:\\Users\\ibra1001\\Anaconda3\\envs\\qgis\\lib\\site-packages\\ipykernel_launcher.py:4: VisibleDeprecationWarning: Creating an ndarray from ragged nested sequences (which is a list-or-tuple of lists-or-tuples-or ndarrays with different lengths or shapes) is deprecated. If you meant to do this, you must specify 'dtype=object' when creating the ndarray.\n",
      "  after removing the cwd from sys.path.\n"
     ]
    }
   ],
   "source": [
    "def rang(x):\n",
    "    l = [*range(0,np.round(x/100).astype(int))]\n",
    "    return l\n",
    "gdf['list'] = np.array(list(map(rang,(np.round(gdf['VALUE'].values)).astype(int))))"
   ]
  },
  {
   "cell_type": "code",
   "execution_count": 19,
   "id": "6f7660ca",
   "metadata": {},
   "outputs": [],
   "source": [
    "exploded = pd.DataFrame(gdf).explode('list')"
   ]
  },
  {
   "cell_type": "markdown",
   "id": "a92c29fd",
   "metadata": {},
   "source": [
    "### 4.- Load original geo_keys and demographics"
   ]
  },
  {
   "cell_type": "code",
   "execution_count": 20,
   "id": "4a6d2f9a",
   "metadata": {},
   "outputs": [],
   "source": [
    "boundaries = gpd.read_file('MBR_CL_R2020_Comunas.shp')"
   ]
  },
  {
   "cell_type": "code",
   "execution_count": 21,
   "id": "7b2fc7ef",
   "metadata": {},
   "outputs": [],
   "source": [
    "boundaries['ADMINCODE'] = boundaries['ADMINCODE'].astype(int)"
   ]
  },
  {
   "cell_type": "code",
   "execution_count": 22,
   "id": "3af022a8",
   "metadata": {},
   "outputs": [],
   "source": [
    "demographics = pd.read_excel('MBR_MarketData_2020_CL_Comunas.xlsx')"
   ]
  },
  {
   "cell_type": "code",
   "execution_count": 23,
   "id": "1e762e2f",
   "metadata": {},
   "outputs": [],
   "source": [
    "demographics = demographics.drop(columns=['CTRYCODE','NAME'])"
   ]
  },
  {
   "cell_type": "code",
   "execution_count": 24,
   "id": "3a674d06",
   "metadata": {},
   "outputs": [],
   "source": [
    "boundaries = boundaries.merge(demographics, on='ADMINCODE')"
   ]
  },
  {
   "cell_type": "code",
   "execution_count": 28,
   "id": "06e39d2b",
   "metadata": {},
   "outputs": [
    {
     "data": {
      "text/html": [
       "<div>\n",
       "<style scoped>\n",
       "    .dataframe tbody tr th:only-of-type {\n",
       "        vertical-align: middle;\n",
       "    }\n",
       "\n",
       "    .dataframe tbody tr th {\n",
       "        vertical-align: top;\n",
       "    }\n",
       "\n",
       "    .dataframe thead th {\n",
       "        text-align: right;\n",
       "    }\n",
       "</style>\n",
       "<table border=\"1\" class=\"dataframe\">\n",
       "  <thead>\n",
       "    <tr style=\"text-align: right;\">\n",
       "      <th></th>\n",
       "      <th>CTRYCODE</th>\n",
       "      <th>NAME</th>\n",
       "      <th>ADMINCODE</th>\n",
       "      <th>geometry</th>\n",
       "      <th>VALUE</th>\n",
       "      <th>P_T</th>\n",
       "      <th>P_PRM</th>\n",
       "      <th>HH_T</th>\n",
       "      <th>HH_SIZE</th>\n",
       "      <th>MALE</th>\n",
       "      <th>...</th>\n",
       "      <th>AGE_F6064</th>\n",
       "      <th>AGE_T6569</th>\n",
       "      <th>AGE_M6569</th>\n",
       "      <th>AGE_F6569</th>\n",
       "      <th>AGE_T7074</th>\n",
       "      <th>AGE_M7074</th>\n",
       "      <th>AGE_F7074</th>\n",
       "      <th>AGE_T75PL</th>\n",
       "      <th>AGE_M75PL</th>\n",
       "      <th>AGE_F75PL</th>\n",
       "    </tr>\n",
       "    <tr>\n",
       "      <th>cluster</th>\n",
       "      <th></th>\n",
       "      <th></th>\n",
       "      <th></th>\n",
       "      <th></th>\n",
       "      <th></th>\n",
       "      <th></th>\n",
       "      <th></th>\n",
       "      <th></th>\n",
       "      <th></th>\n",
       "      <th></th>\n",
       "      <th></th>\n",
       "      <th></th>\n",
       "      <th></th>\n",
       "      <th></th>\n",
       "      <th></th>\n",
       "      <th></th>\n",
       "      <th></th>\n",
       "      <th></th>\n",
       "      <th></th>\n",
       "      <th></th>\n",
       "      <th></th>\n",
       "    </tr>\n",
       "  </thead>\n",
       "  <tbody>\n",
       "    <tr>\n",
       "      <th>0</th>\n",
       "      <td>CL</td>\n",
       "      <td>Iquique</td>\n",
       "      <td>1101</td>\n",
       "      <td>POINT (-70.16250 -20.84583)</td>\n",
       "      <td>3.0</td>\n",
       "      <td>208695</td>\n",
       "      <td>11.391947</td>\n",
       "      <td>65642</td>\n",
       "      <td>3.179291</td>\n",
       "      <td>104279</td>\n",
       "      <td>...</td>\n",
       "      <td>5362</td>\n",
       "      <td>7966</td>\n",
       "      <td>3817</td>\n",
       "      <td>4149</td>\n",
       "      <td>5088</td>\n",
       "      <td>2477</td>\n",
       "      <td>2611</td>\n",
       "      <td>7644</td>\n",
       "      <td>2958</td>\n",
       "      <td>4686</td>\n",
       "    </tr>\n",
       "    <tr>\n",
       "      <th>1</th>\n",
       "      <td>CL</td>\n",
       "      <td>Iquique</td>\n",
       "      <td>1101</td>\n",
       "      <td>POINT (-70.14583 -20.22917)</td>\n",
       "      <td>8795.0</td>\n",
       "      <td>208695</td>\n",
       "      <td>11.391947</td>\n",
       "      <td>65642</td>\n",
       "      <td>3.179291</td>\n",
       "      <td>104279</td>\n",
       "      <td>...</td>\n",
       "      <td>5362</td>\n",
       "      <td>7966</td>\n",
       "      <td>3817</td>\n",
       "      <td>4149</td>\n",
       "      <td>5088</td>\n",
       "      <td>2477</td>\n",
       "      <td>2611</td>\n",
       "      <td>7644</td>\n",
       "      <td>2958</td>\n",
       "      <td>4686</td>\n",
       "    </tr>\n",
       "    <tr>\n",
       "      <th>2</th>\n",
       "      <td>CL</td>\n",
       "      <td>Iquique</td>\n",
       "      <td>1101</td>\n",
       "      <td>POINT (-70.14583 -20.22083)</td>\n",
       "      <td>14547.0</td>\n",
       "      <td>208695</td>\n",
       "      <td>11.391947</td>\n",
       "      <td>65642</td>\n",
       "      <td>3.179291</td>\n",
       "      <td>104279</td>\n",
       "      <td>...</td>\n",
       "      <td>5362</td>\n",
       "      <td>7966</td>\n",
       "      <td>3817</td>\n",
       "      <td>4149</td>\n",
       "      <td>5088</td>\n",
       "      <td>2477</td>\n",
       "      <td>2611</td>\n",
       "      <td>7644</td>\n",
       "      <td>2958</td>\n",
       "      <td>4686</td>\n",
       "    </tr>\n",
       "    <tr>\n",
       "      <th>3</th>\n",
       "      <td>CL</td>\n",
       "      <td>Iquique</td>\n",
       "      <td>1101</td>\n",
       "      <td>POINT (-70.12083 -21.11250)</td>\n",
       "      <td>41.0</td>\n",
       "      <td>208695</td>\n",
       "      <td>11.391947</td>\n",
       "      <td>65642</td>\n",
       "      <td>3.179291</td>\n",
       "      <td>104279</td>\n",
       "      <td>...</td>\n",
       "      <td>5362</td>\n",
       "      <td>7966</td>\n",
       "      <td>3817</td>\n",
       "      <td>4149</td>\n",
       "      <td>5088</td>\n",
       "      <td>2477</td>\n",
       "      <td>2611</td>\n",
       "      <td>7644</td>\n",
       "      <td>2958</td>\n",
       "      <td>4686</td>\n",
       "    </tr>\n",
       "    <tr>\n",
       "      <th>4</th>\n",
       "      <td>CL</td>\n",
       "      <td>Iquique</td>\n",
       "      <td>1101</td>\n",
       "      <td>POINT (-70.13750 -20.18750)</td>\n",
       "      <td>13.0</td>\n",
       "      <td>208695</td>\n",
       "      <td>11.391947</td>\n",
       "      <td>65642</td>\n",
       "      <td>3.179291</td>\n",
       "      <td>104279</td>\n",
       "      <td>...</td>\n",
       "      <td>5362</td>\n",
       "      <td>7966</td>\n",
       "      <td>3817</td>\n",
       "      <td>4149</td>\n",
       "      <td>5088</td>\n",
       "      <td>2477</td>\n",
       "      <td>2611</td>\n",
       "      <td>7644</td>\n",
       "      <td>2958</td>\n",
       "      <td>4686</td>\n",
       "    </tr>\n",
       "    <tr>\n",
       "      <th>5</th>\n",
       "      <td>CL</td>\n",
       "      <td>Iquique</td>\n",
       "      <td>1101</td>\n",
       "      <td>POINT (-70.13750 -20.22917)</td>\n",
       "      <td>11729.0</td>\n",
       "      <td>208695</td>\n",
       "      <td>11.391947</td>\n",
       "      <td>65642</td>\n",
       "      <td>3.179291</td>\n",
       "      <td>104279</td>\n",
       "      <td>...</td>\n",
       "      <td>5362</td>\n",
       "      <td>7966</td>\n",
       "      <td>3817</td>\n",
       "      <td>4149</td>\n",
       "      <td>5088</td>\n",
       "      <td>2477</td>\n",
       "      <td>2611</td>\n",
       "      <td>7644</td>\n",
       "      <td>2958</td>\n",
       "      <td>4686</td>\n",
       "    </tr>\n",
       "    <tr>\n",
       "      <th>7</th>\n",
       "      <td>CL</td>\n",
       "      <td>Iquique</td>\n",
       "      <td>1101</td>\n",
       "      <td>POINT (-70.13750 -20.19583)</td>\n",
       "      <td>19405.0</td>\n",
       "      <td>208695</td>\n",
       "      <td>11.391947</td>\n",
       "      <td>65642</td>\n",
       "      <td>3.179291</td>\n",
       "      <td>104279</td>\n",
       "      <td>...</td>\n",
       "      <td>5362</td>\n",
       "      <td>7966</td>\n",
       "      <td>3817</td>\n",
       "      <td>4149</td>\n",
       "      <td>5088</td>\n",
       "      <td>2477</td>\n",
       "      <td>2611</td>\n",
       "      <td>7644</td>\n",
       "      <td>2958</td>\n",
       "      <td>4686</td>\n",
       "    </tr>\n",
       "    <tr>\n",
       "      <th>8</th>\n",
       "      <td>CL</td>\n",
       "      <td>Iquique</td>\n",
       "      <td>1101</td>\n",
       "      <td>POINT (-70.11250 -20.27083)</td>\n",
       "      <td>1805.0</td>\n",
       "      <td>208695</td>\n",
       "      <td>11.391947</td>\n",
       "      <td>65642</td>\n",
       "      <td>3.179291</td>\n",
       "      <td>104279</td>\n",
       "      <td>...</td>\n",
       "      <td>5362</td>\n",
       "      <td>7966</td>\n",
       "      <td>3817</td>\n",
       "      <td>4149</td>\n",
       "      <td>5088</td>\n",
       "      <td>2477</td>\n",
       "      <td>2611</td>\n",
       "      <td>7644</td>\n",
       "      <td>2958</td>\n",
       "      <td>4686</td>\n",
       "    </tr>\n",
       "    <tr>\n",
       "      <th>11</th>\n",
       "      <td>CL</td>\n",
       "      <td>Iquique</td>\n",
       "      <td>1101</td>\n",
       "      <td>POINT (-70.13750 -20.21250)</td>\n",
       "      <td>7560.0</td>\n",
       "      <td>208695</td>\n",
       "      <td>11.391947</td>\n",
       "      <td>65642</td>\n",
       "      <td>3.179291</td>\n",
       "      <td>104279</td>\n",
       "      <td>...</td>\n",
       "      <td>5362</td>\n",
       "      <td>7966</td>\n",
       "      <td>3817</td>\n",
       "      <td>4149</td>\n",
       "      <td>5088</td>\n",
       "      <td>2477</td>\n",
       "      <td>2611</td>\n",
       "      <td>7644</td>\n",
       "      <td>2958</td>\n",
       "      <td>4686</td>\n",
       "    </tr>\n",
       "    <tr>\n",
       "      <th>12</th>\n",
       "      <td>CL</td>\n",
       "      <td>Iquique</td>\n",
       "      <td>1101</td>\n",
       "      <td>POINT (-70.12917 -20.23750)</td>\n",
       "      <td>5219.0</td>\n",
       "      <td>208695</td>\n",
       "      <td>11.391947</td>\n",
       "      <td>65642</td>\n",
       "      <td>3.179291</td>\n",
       "      <td>104279</td>\n",
       "      <td>...</td>\n",
       "      <td>5362</td>\n",
       "      <td>7966</td>\n",
       "      <td>3817</td>\n",
       "      <td>4149</td>\n",
       "      <td>5088</td>\n",
       "      <td>2477</td>\n",
       "      <td>2611</td>\n",
       "      <td>7644</td>\n",
       "      <td>2958</td>\n",
       "      <td>4686</td>\n",
       "    </tr>\n",
       "    <tr>\n",
       "      <th>13</th>\n",
       "      <td>CL</td>\n",
       "      <td>Iquique</td>\n",
       "      <td>1101</td>\n",
       "      <td>POINT (-70.12917 -20.20417)</td>\n",
       "      <td>1928.0</td>\n",
       "      <td>208695</td>\n",
       "      <td>11.391947</td>\n",
       "      <td>65642</td>\n",
       "      <td>3.179291</td>\n",
       "      <td>104279</td>\n",
       "      <td>...</td>\n",
       "      <td>5362</td>\n",
       "      <td>7966</td>\n",
       "      <td>3817</td>\n",
       "      <td>4149</td>\n",
       "      <td>5088</td>\n",
       "      <td>2477</td>\n",
       "      <td>2611</td>\n",
       "      <td>7644</td>\n",
       "      <td>2958</td>\n",
       "      <td>4686</td>\n",
       "    </tr>\n",
       "    <tr>\n",
       "      <th>14</th>\n",
       "      <td>CL</td>\n",
       "      <td>Iquique</td>\n",
       "      <td>1101</td>\n",
       "      <td>POINT (-70.12917 -20.24583)</td>\n",
       "      <td>6785.0</td>\n",
       "      <td>208695</td>\n",
       "      <td>11.391947</td>\n",
       "      <td>65642</td>\n",
       "      <td>3.179291</td>\n",
       "      <td>104279</td>\n",
       "      <td>...</td>\n",
       "      <td>5362</td>\n",
       "      <td>7966</td>\n",
       "      <td>3817</td>\n",
       "      <td>4149</td>\n",
       "      <td>5088</td>\n",
       "      <td>2477</td>\n",
       "      <td>2611</td>\n",
       "      <td>7644</td>\n",
       "      <td>2958</td>\n",
       "      <td>4686</td>\n",
       "    </tr>\n",
       "    <tr>\n",
       "      <th>16</th>\n",
       "      <td>CL</td>\n",
       "      <td>Iquique</td>\n",
       "      <td>1101</td>\n",
       "      <td>POINT (-70.14583 -20.23750)</td>\n",
       "      <td>6998.0</td>\n",
       "      <td>208695</td>\n",
       "      <td>11.391947</td>\n",
       "      <td>65642</td>\n",
       "      <td>3.179291</td>\n",
       "      <td>104279</td>\n",
       "      <td>...</td>\n",
       "      <td>5362</td>\n",
       "      <td>7966</td>\n",
       "      <td>3817</td>\n",
       "      <td>4149</td>\n",
       "      <td>5088</td>\n",
       "      <td>2477</td>\n",
       "      <td>2611</td>\n",
       "      <td>7644</td>\n",
       "      <td>2958</td>\n",
       "      <td>4686</td>\n",
       "    </tr>\n",
       "    <tr>\n",
       "      <th>17</th>\n",
       "      <td>CL</td>\n",
       "      <td>Iquique</td>\n",
       "      <td>1101</td>\n",
       "      <td>POINT (-70.15417 -20.21250)</td>\n",
       "      <td>9241.0</td>\n",
       "      <td>208695</td>\n",
       "      <td>11.391947</td>\n",
       "      <td>65642</td>\n",
       "      <td>3.179291</td>\n",
       "      <td>104279</td>\n",
       "      <td>...</td>\n",
       "      <td>5362</td>\n",
       "      <td>7966</td>\n",
       "      <td>3817</td>\n",
       "      <td>4149</td>\n",
       "      <td>5088</td>\n",
       "      <td>2477</td>\n",
       "      <td>2611</td>\n",
       "      <td>7644</td>\n",
       "      <td>2958</td>\n",
       "      <td>4686</td>\n",
       "    </tr>\n",
       "    <tr>\n",
       "      <th>18</th>\n",
       "      <td>CL</td>\n",
       "      <td>Iquique</td>\n",
       "      <td>1101</td>\n",
       "      <td>POINT (-69.88750 -21.22917)</td>\n",
       "      <td>2.0</td>\n",
       "      <td>208695</td>\n",
       "      <td>11.391947</td>\n",
       "      <td>65642</td>\n",
       "      <td>3.179291</td>\n",
       "      <td>104279</td>\n",
       "      <td>...</td>\n",
       "      <td>5362</td>\n",
       "      <td>7966</td>\n",
       "      <td>3817</td>\n",
       "      <td>4149</td>\n",
       "      <td>5088</td>\n",
       "      <td>2477</td>\n",
       "      <td>2611</td>\n",
       "      <td>7644</td>\n",
       "      <td>2958</td>\n",
       "      <td>4686</td>\n",
       "    </tr>\n",
       "    <tr>\n",
       "      <th>19</th>\n",
       "      <td>CL</td>\n",
       "      <td>Iquique</td>\n",
       "      <td>1101</td>\n",
       "      <td>POINT (-70.19583 -20.61250)</td>\n",
       "      <td>41.0</td>\n",
       "      <td>208695</td>\n",
       "      <td>11.391947</td>\n",
       "      <td>65642</td>\n",
       "      <td>3.179291</td>\n",
       "      <td>104279</td>\n",
       "      <td>...</td>\n",
       "      <td>5362</td>\n",
       "      <td>7966</td>\n",
       "      <td>3817</td>\n",
       "      <td>4149</td>\n",
       "      <td>5088</td>\n",
       "      <td>2477</td>\n",
       "      <td>2611</td>\n",
       "      <td>7644</td>\n",
       "      <td>2958</td>\n",
       "      <td>4686</td>\n",
       "    </tr>\n",
       "    <tr>\n",
       "      <th>20</th>\n",
       "      <td>CL</td>\n",
       "      <td>Iquique</td>\n",
       "      <td>1101</td>\n",
       "      <td>POINT (-70.13750 -20.20417)</td>\n",
       "      <td>7160.0</td>\n",
       "      <td>208695</td>\n",
       "      <td>11.391947</td>\n",
       "      <td>65642</td>\n",
       "      <td>3.179291</td>\n",
       "      <td>104279</td>\n",
       "      <td>...</td>\n",
       "      <td>5362</td>\n",
       "      <td>7966</td>\n",
       "      <td>3817</td>\n",
       "      <td>4149</td>\n",
       "      <td>5088</td>\n",
       "      <td>2477</td>\n",
       "      <td>2611</td>\n",
       "      <td>7644</td>\n",
       "      <td>2958</td>\n",
       "      <td>4686</td>\n",
       "    </tr>\n",
       "    <tr>\n",
       "      <th>23</th>\n",
       "      <td>CL</td>\n",
       "      <td>Iquique</td>\n",
       "      <td>1101</td>\n",
       "      <td>POINT (-70.12917 -20.25417)</td>\n",
       "      <td>4291.0</td>\n",
       "      <td>208695</td>\n",
       "      <td>11.391947</td>\n",
       "      <td>65642</td>\n",
       "      <td>3.179291</td>\n",
       "      <td>104279</td>\n",
       "      <td>...</td>\n",
       "      <td>5362</td>\n",
       "      <td>7966</td>\n",
       "      <td>3817</td>\n",
       "      <td>4149</td>\n",
       "      <td>5088</td>\n",
       "      <td>2477</td>\n",
       "      <td>2611</td>\n",
       "      <td>7644</td>\n",
       "      <td>2958</td>\n",
       "      <td>4686</td>\n",
       "    </tr>\n",
       "    <tr>\n",
       "      <th>25</th>\n",
       "      <td>CL</td>\n",
       "      <td>Iquique</td>\n",
       "      <td>1101</td>\n",
       "      <td>POINT (-70.12917 -20.22917)</td>\n",
       "      <td>2080.0</td>\n",
       "      <td>208695</td>\n",
       "      <td>11.391947</td>\n",
       "      <td>65642</td>\n",
       "      <td>3.179291</td>\n",
       "      <td>104279</td>\n",
       "      <td>...</td>\n",
       "      <td>5362</td>\n",
       "      <td>7966</td>\n",
       "      <td>3817</td>\n",
       "      <td>4149</td>\n",
       "      <td>5088</td>\n",
       "      <td>2477</td>\n",
       "      <td>2611</td>\n",
       "      <td>7644</td>\n",
       "      <td>2958</td>\n",
       "      <td>4686</td>\n",
       "    </tr>\n",
       "    <tr>\n",
       "      <th>26</th>\n",
       "      <td>CL</td>\n",
       "      <td>Iquique</td>\n",
       "      <td>1101</td>\n",
       "      <td>POINT (-70.14583 -20.17083)</td>\n",
       "      <td>2.0</td>\n",
       "      <td>208695</td>\n",
       "      <td>11.391947</td>\n",
       "      <td>65642</td>\n",
       "      <td>3.179291</td>\n",
       "      <td>104279</td>\n",
       "      <td>...</td>\n",
       "      <td>5362</td>\n",
       "      <td>7966</td>\n",
       "      <td>3817</td>\n",
       "      <td>4149</td>\n",
       "      <td>5088</td>\n",
       "      <td>2477</td>\n",
       "      <td>2611</td>\n",
       "      <td>7644</td>\n",
       "      <td>2958</td>\n",
       "      <td>4686</td>\n",
       "    </tr>\n",
       "    <tr>\n",
       "      <th>27</th>\n",
       "      <td>CL</td>\n",
       "      <td>Iquique</td>\n",
       "      <td>1101</td>\n",
       "      <td>POINT (-70.14583 -20.42917)</td>\n",
       "      <td>256.0</td>\n",
       "      <td>208695</td>\n",
       "      <td>11.391947</td>\n",
       "      <td>65642</td>\n",
       "      <td>3.179291</td>\n",
       "      <td>104279</td>\n",
       "      <td>...</td>\n",
       "      <td>5362</td>\n",
       "      <td>7966</td>\n",
       "      <td>3817</td>\n",
       "      <td>4149</td>\n",
       "      <td>5088</td>\n",
       "      <td>2477</td>\n",
       "      <td>2611</td>\n",
       "      <td>7644</td>\n",
       "      <td>2958</td>\n",
       "      <td>4686</td>\n",
       "    </tr>\n",
       "    <tr>\n",
       "      <th>30</th>\n",
       "      <td>CL</td>\n",
       "      <td>Iquique</td>\n",
       "      <td>1101</td>\n",
       "      <td>POINT (-70.14583 -20.21250)</td>\n",
       "      <td>15680.0</td>\n",
       "      <td>208695</td>\n",
       "      <td>11.391947</td>\n",
       "      <td>65642</td>\n",
       "      <td>3.179291</td>\n",
       "      <td>104279</td>\n",
       "      <td>...</td>\n",
       "      <td>5362</td>\n",
       "      <td>7966</td>\n",
       "      <td>3817</td>\n",
       "      <td>4149</td>\n",
       "      <td>5088</td>\n",
       "      <td>2477</td>\n",
       "      <td>2611</td>\n",
       "      <td>7644</td>\n",
       "      <td>2958</td>\n",
       "      <td>4686</td>\n",
       "    </tr>\n",
       "    <tr>\n",
       "      <th>32</th>\n",
       "      <td>CL</td>\n",
       "      <td>Iquique</td>\n",
       "      <td>1101</td>\n",
       "      <td>POINT (-70.16250 -20.42083)</td>\n",
       "      <td>41.0</td>\n",
       "      <td>208695</td>\n",
       "      <td>11.391947</td>\n",
       "      <td>65642</td>\n",
       "      <td>3.179291</td>\n",
       "      <td>104279</td>\n",
       "      <td>...</td>\n",
       "      <td>5362</td>\n",
       "      <td>7966</td>\n",
       "      <td>3817</td>\n",
       "      <td>4149</td>\n",
       "      <td>5088</td>\n",
       "      <td>2477</td>\n",
       "      <td>2611</td>\n",
       "      <td>7644</td>\n",
       "      <td>2958</td>\n",
       "      <td>4686</td>\n",
       "    </tr>\n",
       "    <tr>\n",
       "      <th>33</th>\n",
       "      <td>CL</td>\n",
       "      <td>Iquique</td>\n",
       "      <td>1101</td>\n",
       "      <td>POINT (-70.12917 -20.27083)</td>\n",
       "      <td>1688.0</td>\n",
       "      <td>208695</td>\n",
       "      <td>11.391947</td>\n",
       "      <td>65642</td>\n",
       "      <td>3.179291</td>\n",
       "      <td>104279</td>\n",
       "      <td>...</td>\n",
       "      <td>5362</td>\n",
       "      <td>7966</td>\n",
       "      <td>3817</td>\n",
       "      <td>4149</td>\n",
       "      <td>5088</td>\n",
       "      <td>2477</td>\n",
       "      <td>2611</td>\n",
       "      <td>7644</td>\n",
       "      <td>2958</td>\n",
       "      <td>4686</td>\n",
       "    </tr>\n",
       "    <tr>\n",
       "      <th>35</th>\n",
       "      <td>CL</td>\n",
       "      <td>Iquique</td>\n",
       "      <td>1101</td>\n",
       "      <td>POINT (-70.07083 -20.82917)</td>\n",
       "      <td>3.0</td>\n",
       "      <td>208695</td>\n",
       "      <td>11.391947</td>\n",
       "      <td>65642</td>\n",
       "      <td>3.179291</td>\n",
       "      <td>104279</td>\n",
       "      <td>...</td>\n",
       "      <td>5362</td>\n",
       "      <td>7966</td>\n",
       "      <td>3817</td>\n",
       "      <td>4149</td>\n",
       "      <td>5088</td>\n",
       "      <td>2477</td>\n",
       "      <td>2611</td>\n",
       "      <td>7644</td>\n",
       "      <td>2958</td>\n",
       "      <td>4686</td>\n",
       "    </tr>\n",
       "    <tr>\n",
       "      <th>37</th>\n",
       "      <td>CL</td>\n",
       "      <td>Iquique</td>\n",
       "      <td>1101</td>\n",
       "      <td>POINT (-70.18750 -20.70417)</td>\n",
       "      <td>80.0</td>\n",
       "      <td>208695</td>\n",
       "      <td>11.391947</td>\n",
       "      <td>65642</td>\n",
       "      <td>3.179291</td>\n",
       "      <td>104279</td>\n",
       "      <td>...</td>\n",
       "      <td>5362</td>\n",
       "      <td>7966</td>\n",
       "      <td>3817</td>\n",
       "      <td>4149</td>\n",
       "      <td>5088</td>\n",
       "      <td>2477</td>\n",
       "      <td>2611</td>\n",
       "      <td>7644</td>\n",
       "      <td>2958</td>\n",
       "      <td>4686</td>\n",
       "    </tr>\n",
       "    <tr>\n",
       "      <th>38</th>\n",
       "      <td>CL</td>\n",
       "      <td>Iquique</td>\n",
       "      <td>1101</td>\n",
       "      <td>POINT (-70.13750 -20.22083)</td>\n",
       "      <td>20339.0</td>\n",
       "      <td>208695</td>\n",
       "      <td>11.391947</td>\n",
       "      <td>65642</td>\n",
       "      <td>3.179291</td>\n",
       "      <td>104279</td>\n",
       "      <td>...</td>\n",
       "      <td>5362</td>\n",
       "      <td>7966</td>\n",
       "      <td>3817</td>\n",
       "      <td>4149</td>\n",
       "      <td>5088</td>\n",
       "      <td>2477</td>\n",
       "      <td>2611</td>\n",
       "      <td>7644</td>\n",
       "      <td>2958</td>\n",
       "      <td>4686</td>\n",
       "    </tr>\n",
       "    <tr>\n",
       "      <th>39</th>\n",
       "      <td>CL</td>\n",
       "      <td>Iquique</td>\n",
       "      <td>1101</td>\n",
       "      <td>POINT (-70.07917 -21.38750)</td>\n",
       "      <td>3.0</td>\n",
       "      <td>208695</td>\n",
       "      <td>11.391947</td>\n",
       "      <td>65642</td>\n",
       "      <td>3.179291</td>\n",
       "      <td>104279</td>\n",
       "      <td>...</td>\n",
       "      <td>5362</td>\n",
       "      <td>7966</td>\n",
       "      <td>3817</td>\n",
       "      <td>4149</td>\n",
       "      <td>5088</td>\n",
       "      <td>2477</td>\n",
       "      <td>2611</td>\n",
       "      <td>7644</td>\n",
       "      <td>2958</td>\n",
       "      <td>4686</td>\n",
       "    </tr>\n",
       "  </tbody>\n",
       "</table>\n",
       "<p>28 rows × 59 columns</p>\n",
       "</div>"
      ],
      "text/plain": [
       "        CTRYCODE     NAME  ADMINCODE                     geometry    VALUE  \\\n",
       "cluster                                                                      \n",
       "0             CL  Iquique       1101  POINT (-70.16250 -20.84583)      3.0   \n",
       "1             CL  Iquique       1101  POINT (-70.14583 -20.22917)   8795.0   \n",
       "2             CL  Iquique       1101  POINT (-70.14583 -20.22083)  14547.0   \n",
       "3             CL  Iquique       1101  POINT (-70.12083 -21.11250)     41.0   \n",
       "4             CL  Iquique       1101  POINT (-70.13750 -20.18750)     13.0   \n",
       "5             CL  Iquique       1101  POINT (-70.13750 -20.22917)  11729.0   \n",
       "7             CL  Iquique       1101  POINT (-70.13750 -20.19583)  19405.0   \n",
       "8             CL  Iquique       1101  POINT (-70.11250 -20.27083)   1805.0   \n",
       "11            CL  Iquique       1101  POINT (-70.13750 -20.21250)   7560.0   \n",
       "12            CL  Iquique       1101  POINT (-70.12917 -20.23750)   5219.0   \n",
       "13            CL  Iquique       1101  POINT (-70.12917 -20.20417)   1928.0   \n",
       "14            CL  Iquique       1101  POINT (-70.12917 -20.24583)   6785.0   \n",
       "16            CL  Iquique       1101  POINT (-70.14583 -20.23750)   6998.0   \n",
       "17            CL  Iquique       1101  POINT (-70.15417 -20.21250)   9241.0   \n",
       "18            CL  Iquique       1101  POINT (-69.88750 -21.22917)      2.0   \n",
       "19            CL  Iquique       1101  POINT (-70.19583 -20.61250)     41.0   \n",
       "20            CL  Iquique       1101  POINT (-70.13750 -20.20417)   7160.0   \n",
       "23            CL  Iquique       1101  POINT (-70.12917 -20.25417)   4291.0   \n",
       "25            CL  Iquique       1101  POINT (-70.12917 -20.22917)   2080.0   \n",
       "26            CL  Iquique       1101  POINT (-70.14583 -20.17083)      2.0   \n",
       "27            CL  Iquique       1101  POINT (-70.14583 -20.42917)    256.0   \n",
       "30            CL  Iquique       1101  POINT (-70.14583 -20.21250)  15680.0   \n",
       "32            CL  Iquique       1101  POINT (-70.16250 -20.42083)     41.0   \n",
       "33            CL  Iquique       1101  POINT (-70.12917 -20.27083)   1688.0   \n",
       "35            CL  Iquique       1101  POINT (-70.07083 -20.82917)      3.0   \n",
       "37            CL  Iquique       1101  POINT (-70.18750 -20.70417)     80.0   \n",
       "38            CL  Iquique       1101  POINT (-70.13750 -20.22083)  20339.0   \n",
       "39            CL  Iquique       1101  POINT (-70.07917 -21.38750)      3.0   \n",
       "\n",
       "            P_T      P_PRM   HH_T   HH_SIZE    MALE  ...  AGE_F6064  \\\n",
       "cluster                                              ...              \n",
       "0        208695  11.391947  65642  3.179291  104279  ...       5362   \n",
       "1        208695  11.391947  65642  3.179291  104279  ...       5362   \n",
       "2        208695  11.391947  65642  3.179291  104279  ...       5362   \n",
       "3        208695  11.391947  65642  3.179291  104279  ...       5362   \n",
       "4        208695  11.391947  65642  3.179291  104279  ...       5362   \n",
       "5        208695  11.391947  65642  3.179291  104279  ...       5362   \n",
       "7        208695  11.391947  65642  3.179291  104279  ...       5362   \n",
       "8        208695  11.391947  65642  3.179291  104279  ...       5362   \n",
       "11       208695  11.391947  65642  3.179291  104279  ...       5362   \n",
       "12       208695  11.391947  65642  3.179291  104279  ...       5362   \n",
       "13       208695  11.391947  65642  3.179291  104279  ...       5362   \n",
       "14       208695  11.391947  65642  3.179291  104279  ...       5362   \n",
       "16       208695  11.391947  65642  3.179291  104279  ...       5362   \n",
       "17       208695  11.391947  65642  3.179291  104279  ...       5362   \n",
       "18       208695  11.391947  65642  3.179291  104279  ...       5362   \n",
       "19       208695  11.391947  65642  3.179291  104279  ...       5362   \n",
       "20       208695  11.391947  65642  3.179291  104279  ...       5362   \n",
       "23       208695  11.391947  65642  3.179291  104279  ...       5362   \n",
       "25       208695  11.391947  65642  3.179291  104279  ...       5362   \n",
       "26       208695  11.391947  65642  3.179291  104279  ...       5362   \n",
       "27       208695  11.391947  65642  3.179291  104279  ...       5362   \n",
       "30       208695  11.391947  65642  3.179291  104279  ...       5362   \n",
       "32       208695  11.391947  65642  3.179291  104279  ...       5362   \n",
       "33       208695  11.391947  65642  3.179291  104279  ...       5362   \n",
       "35       208695  11.391947  65642  3.179291  104279  ...       5362   \n",
       "37       208695  11.391947  65642  3.179291  104279  ...       5362   \n",
       "38       208695  11.391947  65642  3.179291  104279  ...       5362   \n",
       "39       208695  11.391947  65642  3.179291  104279  ...       5362   \n",
       "\n",
       "         AGE_T6569  AGE_M6569  AGE_F6569  AGE_T7074  AGE_M7074  AGE_F7074  \\\n",
       "cluster                                                                     \n",
       "0             7966       3817       4149       5088       2477       2611   \n",
       "1             7966       3817       4149       5088       2477       2611   \n",
       "2             7966       3817       4149       5088       2477       2611   \n",
       "3             7966       3817       4149       5088       2477       2611   \n",
       "4             7966       3817       4149       5088       2477       2611   \n",
       "5             7966       3817       4149       5088       2477       2611   \n",
       "7             7966       3817       4149       5088       2477       2611   \n",
       "8             7966       3817       4149       5088       2477       2611   \n",
       "11            7966       3817       4149       5088       2477       2611   \n",
       "12            7966       3817       4149       5088       2477       2611   \n",
       "13            7966       3817       4149       5088       2477       2611   \n",
       "14            7966       3817       4149       5088       2477       2611   \n",
       "16            7966       3817       4149       5088       2477       2611   \n",
       "17            7966       3817       4149       5088       2477       2611   \n",
       "18            7966       3817       4149       5088       2477       2611   \n",
       "19            7966       3817       4149       5088       2477       2611   \n",
       "20            7966       3817       4149       5088       2477       2611   \n",
       "23            7966       3817       4149       5088       2477       2611   \n",
       "25            7966       3817       4149       5088       2477       2611   \n",
       "26            7966       3817       4149       5088       2477       2611   \n",
       "27            7966       3817       4149       5088       2477       2611   \n",
       "30            7966       3817       4149       5088       2477       2611   \n",
       "32            7966       3817       4149       5088       2477       2611   \n",
       "33            7966       3817       4149       5088       2477       2611   \n",
       "35            7966       3817       4149       5088       2477       2611   \n",
       "37            7966       3817       4149       5088       2477       2611   \n",
       "38            7966       3817       4149       5088       2477       2611   \n",
       "39            7966       3817       4149       5088       2477       2611   \n",
       "\n",
       "         AGE_T75PL  AGE_M75PL  AGE_F75PL  \n",
       "cluster                                   \n",
       "0             7644       2958       4686  \n",
       "1             7644       2958       4686  \n",
       "2             7644       2958       4686  \n",
       "3             7644       2958       4686  \n",
       "4             7644       2958       4686  \n",
       "5             7644       2958       4686  \n",
       "7             7644       2958       4686  \n",
       "8             7644       2958       4686  \n",
       "11            7644       2958       4686  \n",
       "12            7644       2958       4686  \n",
       "13            7644       2958       4686  \n",
       "14            7644       2958       4686  \n",
       "16            7644       2958       4686  \n",
       "17            7644       2958       4686  \n",
       "18            7644       2958       4686  \n",
       "19            7644       2958       4686  \n",
       "20            7644       2958       4686  \n",
       "23            7644       2958       4686  \n",
       "25            7644       2958       4686  \n",
       "26            7644       2958       4686  \n",
       "27            7644       2958       4686  \n",
       "30            7644       2958       4686  \n",
       "32            7644       2958       4686  \n",
       "33            7644       2958       4686  \n",
       "35            7644       2958       4686  \n",
       "37            7644       2958       4686  \n",
       "38            7644       2958       4686  \n",
       "39            7644       2958       4686  \n",
       "\n",
       "[28 rows x 59 columns]"
      ]
     },
     "execution_count": 28,
     "metadata": {},
     "output_type": "execute_result"
    }
   ],
   "source": [
    "subset3"
   ]
  },
  {
   "cell_type": "markdown",
   "id": "4109805e",
   "metadata": {},
   "source": [
    "### 5.- Build Voronoi polygons for each region\n",
    "- Get points in each region\n",
    "- K-means to get one cluster/5,000 inh.\n",
    "- Voronoi for each cluster keeping the most populated point"
   ]
  },
  {
   "cell_type": "code",
   "execution_count": 31,
   "id": "5dab1d7d",
   "metadata": {},
   "outputs": [
    {
     "name": "stdout",
     "output_type": "stream",
     "text": [
      "Region:  1101\n",
      "Spatial join\n",
      "K-means\n"
     ]
    },
    {
     "name": "stderr",
     "output_type": "stream",
     "text": [
      "C:\\Users\\ibra1001\\Anaconda3\\envs\\qgis\\lib\\site-packages\\scipy\\cluster\\vq.py:575: UserWarning: One of the clusters is empty. Re-run kmeans with a different initialization.\n",
      "  warnings.warn(\"One of the clusters is empty. \"\n"
     ]
    },
    {
     "name": "stdout",
     "output_type": "stream",
     "text": [
      "Voronoi\n"
     ]
    },
    {
     "name": "stderr",
     "output_type": "stream",
     "text": [
      "C:\\Users\\ibra1001\\Anaconda3\\envs\\qgis\\lib\\site-packages\\ipykernel_launcher.py:29: UserWarning: CRS mismatch between the CRS of left geometries and the CRS of right geometries.\n",
      "Use `to_crs()` to reproject one of the input geometries to match the CRS of the other.\n",
      "\n",
      "Left CRS: EPSG:4326\n",
      "Right CRS: None\n",
      "\n"
     ]
    },
    {
     "name": "stdout",
     "output_type": "stream",
     "text": [
      "Region:  1107\n",
      "Spatial join\n",
      "K-means\n"
     ]
    },
    {
     "name": "stderr",
     "output_type": "stream",
     "text": [
      "C:\\Users\\ibra1001\\Anaconda3\\envs\\qgis\\lib\\site-packages\\scipy\\cluster\\vq.py:575: UserWarning: One of the clusters is empty. Re-run kmeans with a different initialization.\n",
      "  warnings.warn(\"One of the clusters is empty. \"\n"
     ]
    },
    {
     "name": "stdout",
     "output_type": "stream",
     "text": [
      "Voronoi\n"
     ]
    },
    {
     "name": "stderr",
     "output_type": "stream",
     "text": [
      "C:\\Users\\ibra1001\\Anaconda3\\envs\\qgis\\lib\\site-packages\\ipykernel_launcher.py:29: UserWarning: CRS mismatch between the CRS of left geometries and the CRS of right geometries.\n",
      "Use `to_crs()` to reproject one of the input geometries to match the CRS of the other.\n",
      "\n",
      "Left CRS: EPSG:4326\n",
      "Right CRS: None\n",
      "\n"
     ]
    },
    {
     "name": "stdout",
     "output_type": "stream",
     "text": [
      "(54, 56)\n",
      "Region:  1401\n",
      "Spatial join\n",
      "K-means\n",
      "Voronoi\n"
     ]
    },
    {
     "name": "stderr",
     "output_type": "stream",
     "text": [
      "C:\\Users\\ibra1001\\Anaconda3\\envs\\qgis\\lib\\site-packages\\ipykernel_launcher.py:29: UserWarning: CRS mismatch between the CRS of left geometries and the CRS of right geometries.\n",
      "Use `to_crs()` to reproject one of the input geometries to match the CRS of the other.\n",
      "\n",
      "Left CRS: EPSG:4326\n",
      "Right CRS: None\n",
      "\n"
     ]
    },
    {
     "name": "stdout",
     "output_type": "stream",
     "text": [
      "(92, 56)\n",
      "Region:  1402\n",
      "Spatial join\n",
      "K-means\n",
      "Voronoi\n"
     ]
    },
    {
     "name": "stderr",
     "output_type": "stream",
     "text": [
      "C:\\Users\\ibra1001\\Anaconda3\\envs\\qgis\\lib\\site-packages\\ipykernel_launcher.py:29: UserWarning: CRS mismatch between the CRS of left geometries and the CRS of right geometries.\n",
      "Use `to_crs()` to reproject one of the input geometries to match the CRS of the other.\n",
      "\n",
      "Left CRS: EPSG:4326\n",
      "Right CRS: None\n",
      "\n"
     ]
    },
    {
     "name": "stdout",
     "output_type": "stream",
     "text": [
      "(97, 56)\n",
      "Region:  1403\n",
      "Spatial join\n",
      "K-means\n",
      "Voronoi\n"
     ]
    },
    {
     "name": "stderr",
     "output_type": "stream",
     "text": [
      "C:\\Users\\ibra1001\\Anaconda3\\envs\\qgis\\lib\\site-packages\\ipykernel_launcher.py:29: UserWarning: CRS mismatch between the CRS of left geometries and the CRS of right geometries.\n",
      "Use `to_crs()` to reproject one of the input geometries to match the CRS of the other.\n",
      "\n",
      "Left CRS: EPSG:4326\n",
      "Right CRS: None\n",
      "\n"
     ]
    },
    {
     "name": "stdout",
     "output_type": "stream",
     "text": [
      "(103, 56)\n",
      "Region:  1404\n",
      "Spatial join\n",
      "K-means\n",
      "Voronoi\n"
     ]
    },
    {
     "name": "stderr",
     "output_type": "stream",
     "text": [
      "C:\\Users\\ibra1001\\Anaconda3\\envs\\qgis\\lib\\site-packages\\ipykernel_launcher.py:29: UserWarning: CRS mismatch between the CRS of left geometries and the CRS of right geometries.\n",
      "Use `to_crs()` to reproject one of the input geometries to match the CRS of the other.\n",
      "\n",
      "Left CRS: EPSG:4326\n",
      "Right CRS: None\n",
      "\n"
     ]
    },
    {
     "name": "stdout",
     "output_type": "stream",
     "text": [
      "(119, 56)\n",
      "Region:  1405\n",
      "Spatial join\n",
      "K-means\n",
      "Voronoi\n"
     ]
    },
    {
     "name": "stderr",
     "output_type": "stream",
     "text": [
      "C:\\Users\\ibra1001\\Anaconda3\\envs\\qgis\\lib\\site-packages\\ipykernel_launcher.py:29: UserWarning: CRS mismatch between the CRS of left geometries and the CRS of right geometries.\n",
      "Use `to_crs()` to reproject one of the input geometries to match the CRS of the other.\n",
      "\n",
      "Left CRS: EPSG:4326\n",
      "Right CRS: None\n",
      "\n"
     ]
    },
    {
     "name": "stdout",
     "output_type": "stream",
     "text": [
      "(158, 56)\n",
      "Region:  2101\n",
      "Spatial join\n",
      "K-means\n"
     ]
    },
    {
     "name": "stderr",
     "output_type": "stream",
     "text": [
      "C:\\Users\\ibra1001\\Anaconda3\\envs\\qgis\\lib\\site-packages\\scipy\\cluster\\vq.py:575: UserWarning: One of the clusters is empty. Re-run kmeans with a different initialization.\n",
      "  warnings.warn(\"One of the clusters is empty. \"\n"
     ]
    },
    {
     "name": "stdout",
     "output_type": "stream",
     "text": [
      "Voronoi\n"
     ]
    },
    {
     "name": "stderr",
     "output_type": "stream",
     "text": [
      "C:\\Users\\ibra1001\\Anaconda3\\envs\\qgis\\lib\\site-packages\\ipykernel_launcher.py:29: UserWarning: CRS mismatch between the CRS of left geometries and the CRS of right geometries.\n",
      "Use `to_crs()` to reproject one of the input geometries to match the CRS of the other.\n",
      "\n",
      "Left CRS: EPSG:4326\n",
      "Right CRS: None\n",
      "\n"
     ]
    },
    {
     "name": "stdout",
     "output_type": "stream",
     "text": [
      "(383, 56)\n",
      "Region:  2102\n",
      "Spatial join\n",
      "K-means\n",
      "Voronoi\n"
     ]
    },
    {
     "name": "stderr",
     "output_type": "stream",
     "text": [
      "C:\\Users\\ibra1001\\Anaconda3\\envs\\qgis\\lib\\site-packages\\ipykernel_launcher.py:29: UserWarning: CRS mismatch between the CRS of left geometries and the CRS of right geometries.\n",
      "Use `to_crs()` to reproject one of the input geometries to match the CRS of the other.\n",
      "\n",
      "Left CRS: EPSG:4326\n",
      "Right CRS: None\n",
      "\n"
     ]
    },
    {
     "name": "stdout",
     "output_type": "stream",
     "text": [
      "(443, 56)\n",
      "Region:  2103\n",
      "Spatial join\n",
      "K-means\n",
      "Voronoi\n"
     ]
    },
    {
     "name": "stderr",
     "output_type": "stream",
     "text": [
      "C:\\Users\\ibra1001\\Anaconda3\\envs\\qgis\\lib\\site-packages\\ipykernel_launcher.py:29: UserWarning: CRS mismatch between the CRS of left geometries and the CRS of right geometries.\n",
      "Use `to_crs()` to reproject one of the input geometries to match the CRS of the other.\n",
      "\n",
      "Left CRS: EPSG:4326\n",
      "Right CRS: None\n",
      "\n"
     ]
    },
    {
     "name": "stdout",
     "output_type": "stream",
     "text": [
      "(517, 56)\n",
      "Region:  2104\n",
      "Spatial join\n",
      "K-means\n"
     ]
    },
    {
     "name": "stderr",
     "output_type": "stream",
     "text": [
      "C:\\Users\\ibra1001\\Anaconda3\\envs\\qgis\\lib\\site-packages\\scipy\\cluster\\vq.py:575: UserWarning: One of the clusters is empty. Re-run kmeans with a different initialization.\n",
      "  warnings.warn(\"One of the clusters is empty. \"\n"
     ]
    },
    {
     "name": "stdout",
     "output_type": "stream",
     "text": [
      "Voronoi\n"
     ]
    },
    {
     "name": "stderr",
     "output_type": "stream",
     "text": [
      "C:\\Users\\ibra1001\\Anaconda3\\envs\\qgis\\lib\\site-packages\\ipykernel_launcher.py:29: UserWarning: CRS mismatch between the CRS of left geometries and the CRS of right geometries.\n",
      "Use `to_crs()` to reproject one of the input geometries to match the CRS of the other.\n",
      "\n",
      "Left CRS: EPSG:4326\n",
      "Right CRS: None\n",
      "\n"
     ]
    },
    {
     "name": "stdout",
     "output_type": "stream",
     "text": [
      "(592, 56)\n",
      "Region:  2201\n",
      "Spatial join\n",
      "K-means\n"
     ]
    },
    {
     "name": "stderr",
     "output_type": "stream",
     "text": [
      "C:\\Users\\ibra1001\\Anaconda3\\envs\\qgis\\lib\\site-packages\\scipy\\cluster\\vq.py:575: UserWarning: One of the clusters is empty. Re-run kmeans with a different initialization.\n",
      "  warnings.warn(\"One of the clusters is empty. \"\n"
     ]
    },
    {
     "name": "stdout",
     "output_type": "stream",
     "text": [
      "Voronoi\n"
     ]
    },
    {
     "name": "stderr",
     "output_type": "stream",
     "text": [
      "C:\\Users\\ibra1001\\Anaconda3\\envs\\qgis\\lib\\site-packages\\ipykernel_launcher.py:29: UserWarning: CRS mismatch between the CRS of left geometries and the CRS of right geometries.\n",
      "Use `to_crs()` to reproject one of the input geometries to match the CRS of the other.\n",
      "\n",
      "Left CRS: EPSG:4326\n",
      "Right CRS: None\n",
      "\n"
     ]
    },
    {
     "name": "stdout",
     "output_type": "stream",
     "text": [
      "(671, 56)\n",
      "Region:  2202\n",
      "Spatial join\n",
      "K-means\n",
      "Voronoi\n"
     ]
    },
    {
     "name": "stderr",
     "output_type": "stream",
     "text": [
      "C:\\Users\\ibra1001\\Anaconda3\\envs\\qgis\\lib\\site-packages\\ipykernel_launcher.py:29: UserWarning: CRS mismatch between the CRS of left geometries and the CRS of right geometries.\n",
      "Use `to_crs()` to reproject one of the input geometries to match the CRS of the other.\n",
      "\n",
      "Left CRS: EPSG:4326\n",
      "Right CRS: None\n",
      "\n"
     ]
    },
    {
     "name": "stdout",
     "output_type": "stream",
     "text": [
      "(676, 56)\n",
      "Region:  2203\n",
      "Spatial join\n",
      "K-means\n",
      "Voronoi\n"
     ]
    },
    {
     "name": "stderr",
     "output_type": "stream",
     "text": [
      "C:\\Users\\ibra1001\\Anaconda3\\envs\\qgis\\lib\\site-packages\\ipykernel_launcher.py:29: UserWarning: CRS mismatch between the CRS of left geometries and the CRS of right geometries.\n",
      "Use `to_crs()` to reproject one of the input geometries to match the CRS of the other.\n",
      "\n",
      "Left CRS: EPSG:4326\n",
      "Right CRS: None\n",
      "\n"
     ]
    },
    {
     "name": "stdout",
     "output_type": "stream",
     "text": [
      "(722, 56)\n",
      "Region:  2301\n",
      "Spatial join\n",
      "K-means\n"
     ]
    },
    {
     "name": "stderr",
     "output_type": "stream",
     "text": [
      "C:\\Users\\ibra1001\\Anaconda3\\envs\\qgis\\lib\\site-packages\\scipy\\cluster\\vq.py:575: UserWarning: One of the clusters is empty. Re-run kmeans with a different initialization.\n",
      "  warnings.warn(\"One of the clusters is empty. \"\n"
     ]
    },
    {
     "name": "stdout",
     "output_type": "stream",
     "text": [
      "Voronoi\n"
     ]
    },
    {
     "name": "stderr",
     "output_type": "stream",
     "text": [
      "C:\\Users\\ibra1001\\Anaconda3\\envs\\qgis\\lib\\site-packages\\ipykernel_launcher.py:29: UserWarning: CRS mismatch between the CRS of left geometries and the CRS of right geometries.\n",
      "Use `to_crs()` to reproject one of the input geometries to match the CRS of the other.\n",
      "\n",
      "Left CRS: EPSG:4326\n",
      "Right CRS: None\n",
      "\n"
     ]
    },
    {
     "name": "stdout",
     "output_type": "stream",
     "text": [
      "(737, 56)\n",
      "Region:  2302\n",
      "Spatial join\n",
      "K-means\n",
      "Voronoi\n"
     ]
    },
    {
     "name": "stderr",
     "output_type": "stream",
     "text": [
      "C:\\Users\\ibra1001\\Anaconda3\\envs\\qgis\\lib\\site-packages\\ipykernel_launcher.py:29: UserWarning: CRS mismatch between the CRS of left geometries and the CRS of right geometries.\n",
      "Use `to_crs()` to reproject one of the input geometries to match the CRS of the other.\n",
      "\n",
      "Left CRS: EPSG:4326\n",
      "Right CRS: None\n",
      "\n"
     ]
    },
    {
     "name": "stdout",
     "output_type": "stream",
     "text": [
      "(783, 56)\n",
      "Region:  3101\n",
      "Spatial join\n",
      "K-means\n"
     ]
    },
    {
     "name": "stderr",
     "output_type": "stream",
     "text": [
      "C:\\Users\\ibra1001\\Anaconda3\\envs\\qgis\\lib\\site-packages\\scipy\\cluster\\vq.py:575: UserWarning: One of the clusters is empty. Re-run kmeans with a different initialization.\n",
      "  warnings.warn(\"One of the clusters is empty. \"\n"
     ]
    },
    {
     "name": "stdout",
     "output_type": "stream",
     "text": [
      "Voronoi\n"
     ]
    },
    {
     "name": "stderr",
     "output_type": "stream",
     "text": [
      "C:\\Users\\ibra1001\\Anaconda3\\envs\\qgis\\lib\\site-packages\\ipykernel_launcher.py:29: UserWarning: CRS mismatch between the CRS of left geometries and the CRS of right geometries.\n",
      "Use `to_crs()` to reproject one of the input geometries to match the CRS of the other.\n",
      "\n",
      "Left CRS: EPSG:4326\n",
      "Right CRS: None\n",
      "\n"
     ]
    },
    {
     "name": "stdout",
     "output_type": "stream",
     "text": [
      "(908, 56)\n",
      "Region:  3102\n",
      "Spatial join\n",
      "K-means\n",
      "Voronoi\n"
     ]
    },
    {
     "name": "stderr",
     "output_type": "stream",
     "text": [
      "C:\\Users\\ibra1001\\Anaconda3\\envs\\qgis\\lib\\site-packages\\ipykernel_launcher.py:29: UserWarning: CRS mismatch between the CRS of left geometries and the CRS of right geometries.\n",
      "Use `to_crs()` to reproject one of the input geometries to match the CRS of the other.\n",
      "\n",
      "Left CRS: EPSG:4326\n",
      "Right CRS: None\n",
      "\n"
     ]
    },
    {
     "name": "stdout",
     "output_type": "stream",
     "text": [
      "(940, 56)\n",
      "Region:  3103\n",
      "Spatial join\n",
      "K-means\n",
      "Voronoi\n"
     ]
    },
    {
     "name": "stderr",
     "output_type": "stream",
     "text": [
      "C:\\Users\\ibra1001\\Anaconda3\\envs\\qgis\\lib\\site-packages\\ipykernel_launcher.py:29: UserWarning: CRS mismatch between the CRS of left geometries and the CRS of right geometries.\n",
      "Use `to_crs()` to reproject one of the input geometries to match the CRS of the other.\n",
      "\n",
      "Left CRS: EPSG:4326\n",
      "Right CRS: None\n",
      "\n"
     ]
    },
    {
     "name": "stdout",
     "output_type": "stream",
     "text": [
      "(1001, 56)\n",
      "Region:  3201\n",
      "Spatial join\n",
      "K-means\n",
      "Voronoi\n"
     ]
    },
    {
     "name": "stderr",
     "output_type": "stream",
     "text": [
      "C:\\Users\\ibra1001\\Anaconda3\\envs\\qgis\\lib\\site-packages\\ipykernel_launcher.py:29: UserWarning: CRS mismatch between the CRS of left geometries and the CRS of right geometries.\n",
      "Use `to_crs()` to reproject one of the input geometries to match the CRS of the other.\n",
      "\n",
      "Left CRS: EPSG:4326\n",
      "Right CRS: None\n",
      "\n"
     ]
    },
    {
     "name": "stdout",
     "output_type": "stream",
     "text": [
      "(1040, 56)\n",
      "Region:  3202\n",
      "Spatial join\n",
      "K-means\n",
      "Voronoi\n"
     ]
    },
    {
     "name": "stderr",
     "output_type": "stream",
     "text": [
      "C:\\Users\\ibra1001\\Anaconda3\\envs\\qgis\\lib\\site-packages\\ipykernel_launcher.py:29: UserWarning: CRS mismatch between the CRS of left geometries and the CRS of right geometries.\n",
      "Use `to_crs()` to reproject one of the input geometries to match the CRS of the other.\n",
      "\n",
      "Left CRS: EPSG:4326\n",
      "Right CRS: None\n",
      "\n"
     ]
    },
    {
     "name": "stdout",
     "output_type": "stream",
     "text": [
      "(1088, 56)\n",
      "Region:  3301\n",
      "Spatial join\n",
      "K-means\n"
     ]
    },
    {
     "name": "stderr",
     "output_type": "stream",
     "text": [
      "C:\\Users\\ibra1001\\Anaconda3\\envs\\qgis\\lib\\site-packages\\scipy\\cluster\\vq.py:575: UserWarning: One of the clusters is empty. Re-run kmeans with a different initialization.\n",
      "  warnings.warn(\"One of the clusters is empty. \"\n"
     ]
    },
    {
     "name": "stdout",
     "output_type": "stream",
     "text": [
      "Voronoi\n"
     ]
    },
    {
     "name": "stderr",
     "output_type": "stream",
     "text": [
      "C:\\Users\\ibra1001\\Anaconda3\\envs\\qgis\\lib\\site-packages\\ipykernel_launcher.py:29: UserWarning: CRS mismatch between the CRS of left geometries and the CRS of right geometries.\n",
      "Use `to_crs()` to reproject one of the input geometries to match the CRS of the other.\n",
      "\n",
      "Left CRS: EPSG:4326\n",
      "Right CRS: None\n",
      "\n"
     ]
    },
    {
     "name": "stdout",
     "output_type": "stream",
     "text": [
      "(1220, 56)\n",
      "Region:  3302\n",
      "Spatial join\n",
      "K-means\n",
      "Voronoi\n"
     ]
    },
    {
     "name": "stderr",
     "output_type": "stream",
     "text": [
      "C:\\Users\\ibra1001\\Anaconda3\\envs\\qgis\\lib\\site-packages\\ipykernel_launcher.py:29: UserWarning: CRS mismatch between the CRS of left geometries and the CRS of right geometries.\n",
      "Use `to_crs()` to reproject one of the input geometries to match the CRS of the other.\n",
      "\n",
      "Left CRS: EPSG:4326\n",
      "Right CRS: None\n",
      "\n"
     ]
    },
    {
     "name": "stdout",
     "output_type": "stream",
     "text": [
      "(1246, 56)\n",
      "Region:  3303\n",
      "Spatial join\n",
      "K-means\n",
      "Voronoi\n"
     ]
    },
    {
     "name": "stderr",
     "output_type": "stream",
     "text": [
      "C:\\Users\\ibra1001\\Anaconda3\\envs\\qgis\\lib\\site-packages\\ipykernel_launcher.py:29: UserWarning: CRS mismatch between the CRS of left geometries and the CRS of right geometries.\n",
      "Use `to_crs()` to reproject one of the input geometries to match the CRS of the other.\n",
      "\n",
      "Left CRS: EPSG:4326\n",
      "Right CRS: None\n",
      "\n"
     ]
    },
    {
     "name": "stdout",
     "output_type": "stream",
     "text": [
      "(1290, 56)\n",
      "Region:  3304\n",
      "Spatial join\n",
      "K-means\n"
     ]
    },
    {
     "name": "stderr",
     "output_type": "stream",
     "text": [
      "C:\\Users\\ibra1001\\Anaconda3\\envs\\qgis\\lib\\site-packages\\scipy\\cluster\\vq.py:575: UserWarning: One of the clusters is empty. Re-run kmeans with a different initialization.\n",
      "  warnings.warn(\"One of the clusters is empty. \"\n"
     ]
    },
    {
     "name": "stdout",
     "output_type": "stream",
     "text": [
      "Voronoi\n"
     ]
    },
    {
     "name": "stderr",
     "output_type": "stream",
     "text": [
      "C:\\Users\\ibra1001\\Anaconda3\\envs\\qgis\\lib\\site-packages\\ipykernel_launcher.py:29: UserWarning: CRS mismatch between the CRS of left geometries and the CRS of right geometries.\n",
      "Use `to_crs()` to reproject one of the input geometries to match the CRS of the other.\n",
      "\n",
      "Left CRS: EPSG:4326\n",
      "Right CRS: None\n",
      "\n"
     ]
    },
    {
     "name": "stdout",
     "output_type": "stream",
     "text": [
      "(1307, 56)\n",
      "Region:  4101\n",
      "Spatial join\n",
      "K-means\n"
     ]
    },
    {
     "name": "stderr",
     "output_type": "stream",
     "text": [
      "C:\\Users\\ibra1001\\Anaconda3\\envs\\qgis\\lib\\site-packages\\scipy\\cluster\\vq.py:575: UserWarning: One of the clusters is empty. Re-run kmeans with a different initialization.\n",
      "  warnings.warn(\"One of the clusters is empty. \"\n"
     ]
    },
    {
     "name": "stdout",
     "output_type": "stream",
     "text": [
      "Voronoi\n"
     ]
    },
    {
     "name": "stderr",
     "output_type": "stream",
     "text": [
      "C:\\Users\\ibra1001\\Anaconda3\\envs\\qgis\\lib\\site-packages\\ipykernel_launcher.py:29: UserWarning: CRS mismatch between the CRS of left geometries and the CRS of right geometries.\n",
      "Use `to_crs()` to reproject one of the input geometries to match the CRS of the other.\n",
      "\n",
      "Left CRS: EPSG:4326\n",
      "Right CRS: None\n",
      "\n"
     ]
    },
    {
     "name": "stdout",
     "output_type": "stream",
     "text": [
      "(1376, 56)\n",
      "Region:  4102\n",
      "Spatial join\n",
      "K-means\n"
     ]
    },
    {
     "name": "stderr",
     "output_type": "stream",
     "text": [
      "C:\\Users\\ibra1001\\Anaconda3\\envs\\qgis\\lib\\site-packages\\scipy\\cluster\\vq.py:575: UserWarning: One of the clusters is empty. Re-run kmeans with a different initialization.\n",
      "  warnings.warn(\"One of the clusters is empty. \"\n"
     ]
    },
    {
     "name": "stdout",
     "output_type": "stream",
     "text": [
      "Voronoi\n"
     ]
    },
    {
     "name": "stderr",
     "output_type": "stream",
     "text": [
      "C:\\Users\\ibra1001\\Anaconda3\\envs\\qgis\\lib\\site-packages\\ipykernel_launcher.py:29: UserWarning: CRS mismatch between the CRS of left geometries and the CRS of right geometries.\n",
      "Use `to_crs()` to reproject one of the input geometries to match the CRS of the other.\n",
      "\n",
      "Left CRS: EPSG:4326\n",
      "Right CRS: None\n",
      "\n"
     ]
    },
    {
     "name": "stdout",
     "output_type": "stream",
     "text": [
      "(1437, 56)\n",
      "Region:  4103\n",
      "Spatial join\n",
      "K-means\n",
      "Voronoi\n"
     ]
    },
    {
     "name": "stderr",
     "output_type": "stream",
     "text": [
      "C:\\Users\\ibra1001\\Anaconda3\\envs\\qgis\\lib\\site-packages\\ipykernel_launcher.py:29: UserWarning: CRS mismatch between the CRS of left geometries and the CRS of right geometries.\n",
      "Use `to_crs()` to reproject one of the input geometries to match the CRS of the other.\n",
      "\n",
      "Left CRS: EPSG:4326\n",
      "Right CRS: None\n",
      "\n"
     ]
    },
    {
     "name": "stdout",
     "output_type": "stream",
     "text": [
      "(1451, 56)\n",
      "Region:  4104\n",
      "Spatial join\n",
      "K-means\n",
      "Voronoi\n"
     ]
    },
    {
     "name": "stderr",
     "output_type": "stream",
     "text": [
      "C:\\Users\\ibra1001\\Anaconda3\\envs\\qgis\\lib\\site-packages\\ipykernel_launcher.py:29: UserWarning: CRS mismatch between the CRS of left geometries and the CRS of right geometries.\n",
      "Use `to_crs()` to reproject one of the input geometries to match the CRS of the other.\n",
      "\n",
      "Left CRS: EPSG:4326\n",
      "Right CRS: None\n",
      "\n"
     ]
    },
    {
     "name": "stdout",
     "output_type": "stream",
     "text": [
      "(1477, 56)\n",
      "Region:  4105\n",
      "Spatial join\n",
      "K-means\n",
      "Voronoi\n"
     ]
    },
    {
     "name": "stderr",
     "output_type": "stream",
     "text": [
      "C:\\Users\\ibra1001\\Anaconda3\\envs\\qgis\\lib\\site-packages\\ipykernel_launcher.py:29: UserWarning: CRS mismatch between the CRS of left geometries and the CRS of right geometries.\n",
      "Use `to_crs()` to reproject one of the input geometries to match the CRS of the other.\n",
      "\n",
      "Left CRS: EPSG:4326\n",
      "Right CRS: None\n",
      "\n"
     ]
    },
    {
     "name": "stdout",
     "output_type": "stream",
     "text": [
      "(1487, 56)\n",
      "Region:  4106\n",
      "Spatial join\n",
      "K-means\n",
      "Voronoi\n"
     ]
    },
    {
     "name": "stderr",
     "output_type": "stream",
     "text": [
      "C:\\Users\\ibra1001\\Anaconda3\\envs\\qgis\\lib\\site-packages\\ipykernel_launcher.py:29: UserWarning: CRS mismatch between the CRS of left geometries and the CRS of right geometries.\n",
      "Use `to_crs()` to reproject one of the input geometries to match the CRS of the other.\n",
      "\n",
      "Left CRS: EPSG:4326\n",
      "Right CRS: None\n",
      "\n"
     ]
    },
    {
     "name": "stdout",
     "output_type": "stream",
     "text": [
      "(1539, 56)\n",
      "Region:  4201\n",
      "Spatial join\n",
      "K-means\n"
     ]
    },
    {
     "name": "stderr",
     "output_type": "stream",
     "text": [
      "C:\\Users\\ibra1001\\Anaconda3\\envs\\qgis\\lib\\site-packages\\scipy\\cluster\\vq.py:575: UserWarning: One of the clusters is empty. Re-run kmeans with a different initialization.\n",
      "  warnings.warn(\"One of the clusters is empty. \"\n"
     ]
    },
    {
     "name": "stdout",
     "output_type": "stream",
     "text": [
      "Voronoi\n"
     ]
    },
    {
     "name": "stderr",
     "output_type": "stream",
     "text": [
      "C:\\Users\\ibra1001\\Anaconda3\\envs\\qgis\\lib\\site-packages\\ipykernel_launcher.py:29: UserWarning: CRS mismatch between the CRS of left geometries and the CRS of right geometries.\n",
      "Use `to_crs()` to reproject one of the input geometries to match the CRS of the other.\n",
      "\n",
      "Left CRS: EPSG:4326\n",
      "Right CRS: None\n",
      "\n"
     ]
    },
    {
     "name": "stdout",
     "output_type": "stream",
     "text": [
      "(1586, 56)\n",
      "Region:  4202\n",
      "Spatial join\n",
      "K-means\n",
      "Voronoi\n"
     ]
    },
    {
     "name": "stderr",
     "output_type": "stream",
     "text": [
      "C:\\Users\\ibra1001\\Anaconda3\\envs\\qgis\\lib\\site-packages\\ipykernel_launcher.py:29: UserWarning: CRS mismatch between the CRS of left geometries and the CRS of right geometries.\n",
      "Use `to_crs()` to reproject one of the input geometries to match the CRS of the other.\n",
      "\n",
      "Left CRS: EPSG:4326\n",
      "Right CRS: None\n",
      "\n"
     ]
    },
    {
     "name": "stdout",
     "output_type": "stream",
     "text": [
      "(1617, 56)\n",
      "Region:  4203\n",
      "Spatial join\n",
      "K-means\n",
      "Voronoi\n"
     ]
    },
    {
     "name": "stderr",
     "output_type": "stream",
     "text": [
      "C:\\Users\\ibra1001\\Anaconda3\\envs\\qgis\\lib\\site-packages\\ipykernel_launcher.py:29: UserWarning: CRS mismatch between the CRS of left geometries and the CRS of right geometries.\n",
      "Use `to_crs()` to reproject one of the input geometries to match the CRS of the other.\n",
      "\n",
      "Left CRS: EPSG:4326\n",
      "Right CRS: None\n",
      "\n"
     ]
    },
    {
     "name": "stdout",
     "output_type": "stream",
     "text": [
      "(1651, 56)\n",
      "Region:  4204\n",
      "Spatial join\n",
      "K-means\n"
     ]
    },
    {
     "name": "stderr",
     "output_type": "stream",
     "text": [
      "C:\\Users\\ibra1001\\Anaconda3\\envs\\qgis\\lib\\site-packages\\scipy\\cluster\\vq.py:575: UserWarning: One of the clusters is empty. Re-run kmeans with a different initialization.\n",
      "  warnings.warn(\"One of the clusters is empty. \"\n"
     ]
    },
    {
     "name": "stdout",
     "output_type": "stream",
     "text": [
      "Voronoi\n"
     ]
    },
    {
     "name": "stderr",
     "output_type": "stream",
     "text": [
      "C:\\Users\\ibra1001\\Anaconda3\\envs\\qgis\\lib\\site-packages\\ipykernel_launcher.py:29: UserWarning: CRS mismatch between the CRS of left geometries and the CRS of right geometries.\n",
      "Use `to_crs()` to reproject one of the input geometries to match the CRS of the other.\n",
      "\n",
      "Left CRS: EPSG:4326\n",
      "Right CRS: None\n",
      "\n"
     ]
    },
    {
     "name": "stdout",
     "output_type": "stream",
     "text": [
      "(1693, 56)\n",
      "Region:  4301\n",
      "Spatial join\n",
      "K-means\n"
     ]
    },
    {
     "name": "stderr",
     "output_type": "stream",
     "text": [
      "C:\\Users\\ibra1001\\Anaconda3\\envs\\qgis\\lib\\site-packages\\scipy\\cluster\\vq.py:575: UserWarning: One of the clusters is empty. Re-run kmeans with a different initialization.\n",
      "  warnings.warn(\"One of the clusters is empty. \"\n"
     ]
    },
    {
     "name": "stdout",
     "output_type": "stream",
     "text": [
      "Voronoi\n"
     ]
    },
    {
     "name": "stderr",
     "output_type": "stream",
     "text": [
      "C:\\Users\\ibra1001\\Anaconda3\\envs\\qgis\\lib\\site-packages\\ipykernel_launcher.py:29: UserWarning: CRS mismatch between the CRS of left geometries and the CRS of right geometries.\n",
      "Use `to_crs()` to reproject one of the input geometries to match the CRS of the other.\n",
      "\n",
      "Left CRS: EPSG:4326\n",
      "Right CRS: None\n",
      "\n"
     ]
    },
    {
     "name": "stdout",
     "output_type": "stream",
     "text": [
      "(1799, 56)\n",
      "Region:  4302\n",
      "Spatial join\n",
      "K-means\n",
      "Voronoi\n"
     ]
    },
    {
     "name": "stderr",
     "output_type": "stream",
     "text": [
      "C:\\Users\\ibra1001\\Anaconda3\\envs\\qgis\\lib\\site-packages\\ipykernel_launcher.py:29: UserWarning: CRS mismatch between the CRS of left geometries and the CRS of right geometries.\n",
      "Use `to_crs()` to reproject one of the input geometries to match the CRS of the other.\n",
      "\n",
      "Left CRS: EPSG:4326\n",
      "Right CRS: None\n",
      "\n"
     ]
    },
    {
     "name": "stdout",
     "output_type": "stream",
     "text": [
      "(1838, 56)\n",
      "Region:  4303\n",
      "Spatial join\n",
      "K-means\n"
     ]
    },
    {
     "name": "stderr",
     "output_type": "stream",
     "text": [
      "C:\\Users\\ibra1001\\Anaconda3\\envs\\qgis\\lib\\site-packages\\scipy\\cluster\\vq.py:575: UserWarning: One of the clusters is empty. Re-run kmeans with a different initialization.\n",
      "  warnings.warn(\"One of the clusters is empty. \"\n"
     ]
    },
    {
     "name": "stdout",
     "output_type": "stream",
     "text": [
      "Voronoi\n"
     ]
    },
    {
     "name": "stderr",
     "output_type": "stream",
     "text": [
      "C:\\Users\\ibra1001\\Anaconda3\\envs\\qgis\\lib\\site-packages\\ipykernel_launcher.py:29: UserWarning: CRS mismatch between the CRS of left geometries and the CRS of right geometries.\n",
      "Use `to_crs()` to reproject one of the input geometries to match the CRS of the other.\n",
      "\n",
      "Left CRS: EPSG:4326\n",
      "Right CRS: None\n",
      "\n"
     ]
    },
    {
     "name": "stdout",
     "output_type": "stream",
     "text": [
      "(1901, 56)\n",
      "Region:  4304\n",
      "Spatial join\n",
      "K-means\n",
      "Voronoi\n"
     ]
    },
    {
     "name": "stderr",
     "output_type": "stream",
     "text": [
      "C:\\Users\\ibra1001\\Anaconda3\\envs\\qgis\\lib\\site-packages\\ipykernel_launcher.py:29: UserWarning: CRS mismatch between the CRS of left geometries and the CRS of right geometries.\n",
      "Use `to_crs()` to reproject one of the input geometries to match the CRS of the other.\n",
      "\n",
      "Left CRS: EPSG:4326\n",
      "Right CRS: None\n",
      "\n"
     ]
    },
    {
     "name": "stdout",
     "output_type": "stream",
     "text": [
      "(1927, 56)\n",
      "Region:  4305\n",
      "Spatial join\n",
      "K-means\n",
      "Voronoi\n"
     ]
    },
    {
     "name": "stderr",
     "output_type": "stream",
     "text": [
      "C:\\Users\\ibra1001\\Anaconda3\\envs\\qgis\\lib\\site-packages\\ipykernel_launcher.py:29: UserWarning: CRS mismatch between the CRS of left geometries and the CRS of right geometries.\n",
      "Use `to_crs()` to reproject one of the input geometries to match the CRS of the other.\n",
      "\n",
      "Left CRS: EPSG:4326\n",
      "Right CRS: None\n",
      "\n"
     ]
    },
    {
     "name": "stdout",
     "output_type": "stream",
     "text": [
      "(1946, 56)\n",
      "Region:  5101\n",
      "Spatial join\n",
      "K-means\n"
     ]
    },
    {
     "name": "stderr",
     "output_type": "stream",
     "text": [
      "C:\\Users\\ibra1001\\Anaconda3\\envs\\qgis\\lib\\site-packages\\scipy\\cluster\\vq.py:575: UserWarning: One of the clusters is empty. Re-run kmeans with a different initialization.\n",
      "  warnings.warn(\"One of the clusters is empty. \"\n"
     ]
    },
    {
     "name": "stdout",
     "output_type": "stream",
     "text": [
      "Voronoi\n"
     ]
    },
    {
     "name": "stderr",
     "output_type": "stream",
     "text": [
      "C:\\Users\\ibra1001\\Anaconda3\\envs\\qgis\\lib\\site-packages\\ipykernel_launcher.py:29: UserWarning: CRS mismatch between the CRS of left geometries and the CRS of right geometries.\n",
      "Use `to_crs()` to reproject one of the input geometries to match the CRS of the other.\n",
      "\n",
      "Left CRS: EPSG:4326\n",
      "Right CRS: None\n",
      "\n"
     ]
    },
    {
     "name": "stdout",
     "output_type": "stream",
     "text": [
      "(1990, 56)\n",
      "Region:  5102\n",
      "Spatial join\n",
      "K-means\n",
      "Voronoi\n"
     ]
    },
    {
     "name": "stderr",
     "output_type": "stream",
     "text": [
      "C:\\Users\\ibra1001\\Anaconda3\\envs\\qgis\\lib\\site-packages\\ipykernel_launcher.py:29: UserWarning: CRS mismatch between the CRS of left geometries and the CRS of right geometries.\n",
      "Use `to_crs()` to reproject one of the input geometries to match the CRS of the other.\n",
      "\n",
      "Left CRS: EPSG:4326\n",
      "Right CRS: None\n",
      "\n"
     ]
    },
    {
     "name": "stdout",
     "output_type": "stream",
     "text": [
      "(2019, 56)\n",
      "Region:  5103\n",
      "Spatial join\n",
      "K-means\n",
      "Voronoi\n"
     ]
    },
    {
     "name": "stderr",
     "output_type": "stream",
     "text": [
      "C:\\Users\\ibra1001\\Anaconda3\\envs\\qgis\\lib\\site-packages\\scipy\\cluster\\vq.py:575: UserWarning: One of the clusters is empty. Re-run kmeans with a different initialization.\n",
      "  warnings.warn(\"One of the clusters is empty. \"\n",
      "C:\\Users\\ibra1001\\Anaconda3\\envs\\qgis\\lib\\site-packages\\ipykernel_launcher.py:29: UserWarning: CRS mismatch between the CRS of left geometries and the CRS of right geometries.\n",
      "Use `to_crs()` to reproject one of the input geometries to match the CRS of the other.\n",
      "\n",
      "Left CRS: EPSG:4326\n",
      "Right CRS: None\n",
      "\n"
     ]
    },
    {
     "name": "stdout",
     "output_type": "stream",
     "text": [
      "(2029, 56)\n",
      "Region:  5104\n",
      "Spatial join\n",
      "K-means\n",
      "Voronoi\n"
     ]
    },
    {
     "name": "stderr",
     "output_type": "stream",
     "text": [
      "C:\\Users\\ibra1001\\Anaconda3\\envs\\qgis\\lib\\site-packages\\ipykernel_launcher.py:29: UserWarning: CRS mismatch between the CRS of left geometries and the CRS of right geometries.\n",
      "Use `to_crs()` to reproject one of the input geometries to match the CRS of the other.\n",
      "\n",
      "Left CRS: EPSG:4326\n",
      "Right CRS: None\n",
      "\n"
     ]
    },
    {
     "name": "stdout",
     "output_type": "stream",
     "text": [
      "(2033, 56)\n",
      "Region:  5105\n",
      "Spatial join\n",
      "K-means\n",
      "Voronoi\n"
     ]
    },
    {
     "name": "stderr",
     "output_type": "stream",
     "text": [
      "C:\\Users\\ibra1001\\Anaconda3\\envs\\qgis\\lib\\site-packages\\ipykernel_launcher.py:29: UserWarning: CRS mismatch between the CRS of left geometries and the CRS of right geometries.\n",
      "Use `to_crs()` to reproject one of the input geometries to match the CRS of the other.\n",
      "\n",
      "Left CRS: EPSG:4326\n",
      "Right CRS: None\n",
      "\n"
     ]
    },
    {
     "name": "stdout",
     "output_type": "stream",
     "text": [
      "(2043, 56)\n",
      "Region:  5107\n",
      "Spatial join\n",
      "K-means\n",
      "Voronoi\n"
     ]
    },
    {
     "name": "stderr",
     "output_type": "stream",
     "text": [
      "C:\\Users\\ibra1001\\Anaconda3\\envs\\qgis\\lib\\site-packages\\ipykernel_launcher.py:29: UserWarning: CRS mismatch between the CRS of left geometries and the CRS of right geometries.\n",
      "Use `to_crs()` to reproject one of the input geometries to match the CRS of the other.\n",
      "\n",
      "Left CRS: EPSG:4326\n",
      "Right CRS: None\n",
      "\n"
     ]
    },
    {
     "name": "stdout",
     "output_type": "stream",
     "text": [
      "(2052, 56)\n",
      "Region:  5109\n",
      "Spatial join\n",
      "K-means\n"
     ]
    },
    {
     "name": "stderr",
     "output_type": "stream",
     "text": [
      "C:\\Users\\ibra1001\\Anaconda3\\envs\\qgis\\lib\\site-packages\\scipy\\cluster\\vq.py:575: UserWarning: One of the clusters is empty. Re-run kmeans with a different initialization.\n",
      "  warnings.warn(\"One of the clusters is empty. \"\n"
     ]
    },
    {
     "name": "stdout",
     "output_type": "stream",
     "text": [
      "Voronoi\n"
     ]
    },
    {
     "name": "stderr",
     "output_type": "stream",
     "text": [
      "C:\\Users\\ibra1001\\Anaconda3\\envs\\qgis\\lib\\site-packages\\ipykernel_launcher.py:29: UserWarning: CRS mismatch between the CRS of left geometries and the CRS of right geometries.\n",
      "Use `to_crs()` to reproject one of the input geometries to match the CRS of the other.\n",
      "\n",
      "Left CRS: EPSG:4326\n",
      "Right CRS: None\n",
      "\n"
     ]
    },
    {
     "name": "stdout",
     "output_type": "stream",
     "text": [
      "(2106, 56)\n",
      "Region:  5201\n",
      "Spatial join\n",
      "K-means\n",
      "Voronoi\n"
     ]
    },
    {
     "name": "stderr",
     "output_type": "stream",
     "text": [
      "C:\\Users\\ibra1001\\Anaconda3\\envs\\qgis\\lib\\site-packages\\ipykernel_launcher.py:29: UserWarning: CRS mismatch between the CRS of left geometries and the CRS of right geometries.\n",
      "Use `to_crs()` to reproject one of the input geometries to match the CRS of the other.\n",
      "\n",
      "Left CRS: EPSG:4326\n",
      "Right CRS: None\n",
      "\n"
     ]
    },
    {
     "name": "stdout",
     "output_type": "stream",
     "text": [
      "(2111, 56)\n",
      "Region:  5301\n",
      "Spatial join\n",
      "K-means\n"
     ]
    },
    {
     "name": "stderr",
     "output_type": "stream",
     "text": [
      "C:\\Users\\ibra1001\\Anaconda3\\envs\\qgis\\lib\\site-packages\\scipy\\cluster\\vq.py:575: UserWarning: One of the clusters is empty. Re-run kmeans with a different initialization.\n",
      "  warnings.warn(\"One of the clusters is empty. \"\n"
     ]
    },
    {
     "name": "stdout",
     "output_type": "stream",
     "text": [
      "Voronoi\n"
     ]
    },
    {
     "name": "stderr",
     "output_type": "stream",
     "text": [
      "C:\\Users\\ibra1001\\Anaconda3\\envs\\qgis\\lib\\site-packages\\ipykernel_launcher.py:29: UserWarning: CRS mismatch between the CRS of left geometries and the CRS of right geometries.\n",
      "Use `to_crs()` to reproject one of the input geometries to match the CRS of the other.\n",
      "\n",
      "Left CRS: EPSG:4326\n",
      "Right CRS: None\n",
      "\n"
     ]
    },
    {
     "name": "stdout",
     "output_type": "stream",
     "text": [
      "(2124, 56)\n",
      "Region:  5302\n",
      "Spatial join\n",
      "K-means\n",
      "Voronoi\n"
     ]
    },
    {
     "name": "stderr",
     "output_type": "stream",
     "text": [
      "C:\\Users\\ibra1001\\Anaconda3\\envs\\qgis\\lib\\site-packages\\ipykernel_launcher.py:29: UserWarning: CRS mismatch between the CRS of left geometries and the CRS of right geometries.\n",
      "Use `to_crs()` to reproject one of the input geometries to match the CRS of the other.\n",
      "\n",
      "Left CRS: EPSG:4326\n",
      "Right CRS: None\n",
      "\n"
     ]
    },
    {
     "name": "stdout",
     "output_type": "stream",
     "text": [
      "(2131, 56)\n",
      "Region:  5303\n",
      "Spatial join\n",
      "K-means\n",
      "Voronoi\n"
     ]
    },
    {
     "name": "stderr",
     "output_type": "stream",
     "text": [
      "C:\\Users\\ibra1001\\Anaconda3\\envs\\qgis\\lib\\site-packages\\ipykernel_launcher.py:29: UserWarning: CRS mismatch between the CRS of left geometries and the CRS of right geometries.\n",
      "Use `to_crs()` to reproject one of the input geometries to match the CRS of the other.\n",
      "\n",
      "Left CRS: EPSG:4326\n",
      "Right CRS: None\n",
      "\n"
     ]
    },
    {
     "name": "stdout",
     "output_type": "stream",
     "text": [
      "(2136, 56)\n",
      "Region:  5304\n",
      "Spatial join\n",
      "K-means\n"
     ]
    },
    {
     "name": "stderr",
     "output_type": "stream",
     "text": [
      "C:\\Users\\ibra1001\\Anaconda3\\envs\\qgis\\lib\\site-packages\\scipy\\cluster\\vq.py:575: UserWarning: One of the clusters is empty. Re-run kmeans with a different initialization.\n",
      "  warnings.warn(\"One of the clusters is empty. \"\n"
     ]
    },
    {
     "name": "stdout",
     "output_type": "stream",
     "text": [
      "Voronoi\n"
     ]
    },
    {
     "name": "stderr",
     "output_type": "stream",
     "text": [
      "C:\\Users\\ibra1001\\Anaconda3\\envs\\qgis\\lib\\site-packages\\ipykernel_launcher.py:29: UserWarning: CRS mismatch between the CRS of left geometries and the CRS of right geometries.\n",
      "Use `to_crs()` to reproject one of the input geometries to match the CRS of the other.\n",
      "\n",
      "Left CRS: EPSG:4326\n",
      "Right CRS: None\n",
      "\n"
     ]
    },
    {
     "name": "stdout",
     "output_type": "stream",
     "text": [
      "(2148, 56)\n",
      "Region:  5401\n",
      "Spatial join\n",
      "K-means\n",
      "Voronoi\n"
     ]
    },
    {
     "name": "stderr",
     "output_type": "stream",
     "text": [
      "C:\\Users\\ibra1001\\Anaconda3\\envs\\qgis\\lib\\site-packages\\ipykernel_launcher.py:29: UserWarning: CRS mismatch between the CRS of left geometries and the CRS of right geometries.\n",
      "Use `to_crs()` to reproject one of the input geometries to match the CRS of the other.\n",
      "\n",
      "Left CRS: EPSG:4326\n",
      "Right CRS: None\n",
      "\n"
     ]
    },
    {
     "name": "stdout",
     "output_type": "stream",
     "text": [
      "(2182, 56)\n",
      "Region:  5402\n",
      "Spatial join\n",
      "K-means\n",
      "Voronoi\n"
     ]
    },
    {
     "name": "stderr",
     "output_type": "stream",
     "text": [
      "C:\\Users\\ibra1001\\Anaconda3\\envs\\qgis\\lib\\site-packages\\ipykernel_launcher.py:29: UserWarning: CRS mismatch between the CRS of left geometries and the CRS of right geometries.\n",
      "Use `to_crs()` to reproject one of the input geometries to match the CRS of the other.\n",
      "\n",
      "Left CRS: EPSG:4326\n",
      "Right CRS: None\n",
      "\n"
     ]
    },
    {
     "name": "stdout",
     "output_type": "stream",
     "text": [
      "(2208, 56)\n",
      "Region:  5403\n",
      "Spatial join\n",
      "K-means\n",
      "Voronoi\n"
     ]
    },
    {
     "name": "stderr",
     "output_type": "stream",
     "text": [
      "C:\\Users\\ibra1001\\Anaconda3\\envs\\qgis\\lib\\site-packages\\ipykernel_launcher.py:29: UserWarning: CRS mismatch between the CRS of left geometries and the CRS of right geometries.\n",
      "Use `to_crs()` to reproject one of the input geometries to match the CRS of the other.\n",
      "\n",
      "Left CRS: EPSG:4326\n",
      "Right CRS: None\n",
      "\n"
     ]
    },
    {
     "name": "stdout",
     "output_type": "stream",
     "text": [
      "(2213, 56)\n",
      "Region:  5404\n",
      "Spatial join\n",
      "K-means\n",
      "Voronoi\n"
     ]
    },
    {
     "name": "stderr",
     "output_type": "stream",
     "text": [
      "C:\\Users\\ibra1001\\Anaconda3\\envs\\qgis\\lib\\site-packages\\ipykernel_launcher.py:29: UserWarning: CRS mismatch between the CRS of left geometries and the CRS of right geometries.\n",
      "Use `to_crs()` to reproject one of the input geometries to match the CRS of the other.\n",
      "\n",
      "Left CRS: EPSG:4326\n",
      "Right CRS: None\n",
      "\n"
     ]
    },
    {
     "name": "stdout",
     "output_type": "stream",
     "text": [
      "(2243, 56)\n",
      "Region:  5405\n",
      "Spatial join\n",
      "K-means\n",
      "Voronoi\n"
     ]
    },
    {
     "name": "stderr",
     "output_type": "stream",
     "text": [
      "C:\\Users\\ibra1001\\Anaconda3\\envs\\qgis\\lib\\site-packages\\ipykernel_launcher.py:29: UserWarning: CRS mismatch between the CRS of left geometries and the CRS of right geometries.\n",
      "Use `to_crs()` to reproject one of the input geometries to match the CRS of the other.\n",
      "\n",
      "Left CRS: EPSG:4326\n",
      "Right CRS: None\n",
      "\n"
     ]
    },
    {
     "name": "stdout",
     "output_type": "stream",
     "text": [
      "(2251, 56)\n",
      "Region:  5501\n",
      "Spatial join\n",
      "K-means\n"
     ]
    },
    {
     "name": "stderr",
     "output_type": "stream",
     "text": [
      "C:\\Users\\ibra1001\\Anaconda3\\envs\\qgis\\lib\\site-packages\\scipy\\cluster\\vq.py:575: UserWarning: One of the clusters is empty. Re-run kmeans with a different initialization.\n",
      "  warnings.warn(\"One of the clusters is empty. \"\n"
     ]
    },
    {
     "name": "stdout",
     "output_type": "stream",
     "text": [
      "Voronoi\n"
     ]
    },
    {
     "name": "stderr",
     "output_type": "stream",
     "text": [
      "C:\\Users\\ibra1001\\Anaconda3\\envs\\qgis\\lib\\site-packages\\ipykernel_launcher.py:29: UserWarning: CRS mismatch between the CRS of left geometries and the CRS of right geometries.\n",
      "Use `to_crs()` to reproject one of the input geometries to match the CRS of the other.\n",
      "\n",
      "Left CRS: EPSG:4326\n",
      "Right CRS: None\n",
      "\n"
     ]
    },
    {
     "name": "stdout",
     "output_type": "stream",
     "text": [
      "(2274, 56)\n",
      "Region:  5502\n",
      "Spatial join\n",
      "K-means\n",
      "Voronoi\n"
     ]
    },
    {
     "name": "stderr",
     "output_type": "stream",
     "text": [
      "C:\\Users\\ibra1001\\Anaconda3\\envs\\qgis\\lib\\site-packages\\scipy\\cluster\\vq.py:575: UserWarning: One of the clusters is empty. Re-run kmeans with a different initialization.\n",
      "  warnings.warn(\"One of the clusters is empty. \"\n",
      "C:\\Users\\ibra1001\\Anaconda3\\envs\\qgis\\lib\\site-packages\\ipykernel_launcher.py:29: UserWarning: CRS mismatch between the CRS of left geometries and the CRS of right geometries.\n",
      "Use `to_crs()` to reproject one of the input geometries to match the CRS of the other.\n",
      "\n",
      "Left CRS: EPSG:4326\n",
      "Right CRS: None\n",
      "\n"
     ]
    },
    {
     "name": "stdout",
     "output_type": "stream",
     "text": [
      "(2285, 56)\n",
      "Region:  5503\n",
      "Spatial join\n",
      "K-means\n",
      "Voronoi\n"
     ]
    },
    {
     "name": "stderr",
     "output_type": "stream",
     "text": [
      "C:\\Users\\ibra1001\\Anaconda3\\envs\\qgis\\lib\\site-packages\\ipykernel_launcher.py:29: UserWarning: CRS mismatch between the CRS of left geometries and the CRS of right geometries.\n",
      "Use `to_crs()` to reproject one of the input geometries to match the CRS of the other.\n",
      "\n",
      "Left CRS: EPSG:4326\n",
      "Right CRS: None\n",
      "\n"
     ]
    },
    {
     "name": "stdout",
     "output_type": "stream",
     "text": [
      "(2293, 56)\n",
      "Region:  5504\n",
      "Spatial join\n",
      "K-means\n",
      "Voronoi\n"
     ]
    },
    {
     "name": "stderr",
     "output_type": "stream",
     "text": [
      "C:\\Users\\ibra1001\\Anaconda3\\envs\\qgis\\lib\\site-packages\\ipykernel_launcher.py:29: UserWarning: CRS mismatch between the CRS of left geometries and the CRS of right geometries.\n",
      "Use `to_crs()` to reproject one of the input geometries to match the CRS of the other.\n",
      "\n",
      "Left CRS: EPSG:4326\n",
      "Right CRS: None\n",
      "\n"
     ]
    },
    {
     "name": "stdout",
     "output_type": "stream",
     "text": [
      "(2298, 56)\n",
      "Region:  5506\n",
      "Spatial join\n",
      "K-means\n",
      "Voronoi\n"
     ]
    },
    {
     "name": "stderr",
     "output_type": "stream",
     "text": [
      "C:\\Users\\ibra1001\\Anaconda3\\envs\\qgis\\lib\\site-packages\\scipy\\cluster\\vq.py:575: UserWarning: One of the clusters is empty. Re-run kmeans with a different initialization.\n",
      "  warnings.warn(\"One of the clusters is empty. \"\n",
      "C:\\Users\\ibra1001\\Anaconda3\\envs\\qgis\\lib\\site-packages\\ipykernel_launcher.py:29: UserWarning: CRS mismatch between the CRS of left geometries and the CRS of right geometries.\n",
      "Use `to_crs()` to reproject one of the input geometries to match the CRS of the other.\n",
      "\n",
      "Left CRS: EPSG:4326\n",
      "Right CRS: None\n",
      "\n"
     ]
    },
    {
     "name": "stdout",
     "output_type": "stream",
     "text": [
      "(2311, 56)\n",
      "Region:  5601\n",
      "Spatial join\n",
      "K-means\n"
     ]
    },
    {
     "name": "stderr",
     "output_type": "stream",
     "text": [
      "C:\\Users\\ibra1001\\Anaconda3\\envs\\qgis\\lib\\site-packages\\scipy\\cluster\\vq.py:575: UserWarning: One of the clusters is empty. Re-run kmeans with a different initialization.\n",
      "  warnings.warn(\"One of the clusters is empty. \"\n"
     ]
    },
    {
     "name": "stdout",
     "output_type": "stream",
     "text": [
      "Voronoi\n"
     ]
    },
    {
     "name": "stderr",
     "output_type": "stream",
     "text": [
      "C:\\Users\\ibra1001\\Anaconda3\\envs\\qgis\\lib\\site-packages\\ipykernel_launcher.py:29: UserWarning: CRS mismatch between the CRS of left geometries and the CRS of right geometries.\n",
      "Use `to_crs()` to reproject one of the input geometries to match the CRS of the other.\n",
      "\n",
      "Left CRS: EPSG:4326\n",
      "Right CRS: None\n",
      "\n"
     ]
    },
    {
     "name": "stdout",
     "output_type": "stream",
     "text": [
      "(2338, 56)\n",
      "Region:  5602\n",
      "Spatial join\n",
      "K-means\n",
      "Voronoi\n"
     ]
    },
    {
     "name": "stderr",
     "output_type": "stream",
     "text": [
      "C:\\Users\\ibra1001\\Anaconda3\\envs\\qgis\\lib\\site-packages\\ipykernel_launcher.py:29: UserWarning: CRS mismatch between the CRS of left geometries and the CRS of right geometries.\n",
      "Use `to_crs()` to reproject one of the input geometries to match the CRS of the other.\n",
      "\n",
      "Left CRS: EPSG:4326\n",
      "Right CRS: None\n",
      "\n"
     ]
    },
    {
     "name": "stdout",
     "output_type": "stream",
     "text": [
      "(2345, 56)\n",
      "Region:  5603\n",
      "Spatial join\n",
      "K-means\n",
      "Voronoi\n"
     ]
    },
    {
     "name": "stderr",
     "output_type": "stream",
     "text": [
      "C:\\Users\\ibra1001\\Anaconda3\\envs\\qgis\\lib\\site-packages\\ipykernel_launcher.py:29: UserWarning: CRS mismatch between the CRS of left geometries and the CRS of right geometries.\n",
      "Use `to_crs()` to reproject one of the input geometries to match the CRS of the other.\n",
      "\n",
      "Left CRS: EPSG:4326\n",
      "Right CRS: None\n",
      "\n"
     ]
    },
    {
     "name": "stdout",
     "output_type": "stream",
     "text": [
      "(2355, 56)\n",
      "Region:  5604\n",
      "Spatial join\n",
      "K-means\n",
      "Voronoi\n"
     ]
    },
    {
     "name": "stderr",
     "output_type": "stream",
     "text": [
      "C:\\Users\\ibra1001\\Anaconda3\\envs\\qgis\\lib\\site-packages\\scipy\\cluster\\vq.py:575: UserWarning: One of the clusters is empty. Re-run kmeans with a different initialization.\n",
      "  warnings.warn(\"One of the clusters is empty. \"\n",
      "C:\\Users\\ibra1001\\Anaconda3\\envs\\qgis\\lib\\site-packages\\ipykernel_launcher.py:29: UserWarning: CRS mismatch between the CRS of left geometries and the CRS of right geometries.\n",
      "Use `to_crs()` to reproject one of the input geometries to match the CRS of the other.\n",
      "\n",
      "Left CRS: EPSG:4326\n",
      "Right CRS: None\n",
      "\n"
     ]
    },
    {
     "name": "stdout",
     "output_type": "stream",
     "text": [
      "(2360, 56)\n",
      "Region:  5605\n",
      "Spatial join\n",
      "K-means\n",
      "Voronoi\n"
     ]
    },
    {
     "name": "stderr",
     "output_type": "stream",
     "text": [
      "C:\\Users\\ibra1001\\Anaconda3\\envs\\qgis\\lib\\site-packages\\ipykernel_launcher.py:29: UserWarning: CRS mismatch between the CRS of left geometries and the CRS of right geometries.\n",
      "Use `to_crs()` to reproject one of the input geometries to match the CRS of the other.\n",
      "\n",
      "Left CRS: EPSG:4326\n",
      "Right CRS: None\n",
      "\n"
     ]
    },
    {
     "name": "stdout",
     "output_type": "stream",
     "text": [
      "(2365, 56)\n",
      "Region:  5606\n",
      "Spatial join\n",
      "K-means\n",
      "Voronoi\n"
     ]
    },
    {
     "name": "stderr",
     "output_type": "stream",
     "text": [
      "C:\\Users\\ibra1001\\Anaconda3\\envs\\qgis\\lib\\site-packages\\ipykernel_launcher.py:29: UserWarning: CRS mismatch between the CRS of left geometries and the CRS of right geometries.\n",
      "Use `to_crs()` to reproject one of the input geometries to match the CRS of the other.\n",
      "\n",
      "Left CRS: EPSG:4326\n",
      "Right CRS: None\n",
      "\n"
     ]
    },
    {
     "name": "stdout",
     "output_type": "stream",
     "text": [
      "(2381, 56)\n",
      "Region:  5701\n",
      "Spatial join\n",
      "K-means\n"
     ]
    },
    {
     "name": "stderr",
     "output_type": "stream",
     "text": [
      "C:\\Users\\ibra1001\\Anaconda3\\envs\\qgis\\lib\\site-packages\\scipy\\cluster\\vq.py:575: UserWarning: One of the clusters is empty. Re-run kmeans with a different initialization.\n",
      "  warnings.warn(\"One of the clusters is empty. \"\n"
     ]
    },
    {
     "name": "stdout",
     "output_type": "stream",
     "text": [
      "Voronoi\n"
     ]
    },
    {
     "name": "stderr",
     "output_type": "stream",
     "text": [
      "C:\\Users\\ibra1001\\Anaconda3\\envs\\qgis\\lib\\site-packages\\ipykernel_launcher.py:29: UserWarning: CRS mismatch between the CRS of left geometries and the CRS of right geometries.\n",
      "Use `to_crs()` to reproject one of the input geometries to match the CRS of the other.\n",
      "\n",
      "Left CRS: EPSG:4326\n",
      "Right CRS: None\n",
      "\n"
     ]
    },
    {
     "name": "stdout",
     "output_type": "stream",
     "text": [
      "(2398, 56)\n",
      "Region:  5702\n",
      "Spatial join\n",
      "K-means\n"
     ]
    },
    {
     "name": "stderr",
     "output_type": "stream",
     "text": [
      "C:\\Users\\ibra1001\\Anaconda3\\envs\\qgis\\lib\\site-packages\\scipy\\cluster\\vq.py:575: UserWarning: One of the clusters is empty. Re-run kmeans with a different initialization.\n",
      "  warnings.warn(\"One of the clusters is empty. \"\n"
     ]
    },
    {
     "name": "stdout",
     "output_type": "stream",
     "text": [
      "Voronoi\n"
     ]
    },
    {
     "name": "stderr",
     "output_type": "stream",
     "text": [
      "C:\\Users\\ibra1001\\Anaconda3\\envs\\qgis\\lib\\site-packages\\ipykernel_launcher.py:29: UserWarning: CRS mismatch between the CRS of left geometries and the CRS of right geometries.\n",
      "Use `to_crs()` to reproject one of the input geometries to match the CRS of the other.\n",
      "\n",
      "Left CRS: EPSG:4326\n",
      "Right CRS: None\n",
      "\n"
     ]
    },
    {
     "name": "stdout",
     "output_type": "stream",
     "text": [
      "(2410, 56)\n",
      "Region:  5703\n",
      "Spatial join\n",
      "K-means\n",
      "Voronoi\n"
     ]
    },
    {
     "name": "stderr",
     "output_type": "stream",
     "text": [
      "C:\\Users\\ibra1001\\Anaconda3\\envs\\qgis\\lib\\site-packages\\scipy\\cluster\\vq.py:575: UserWarning: One of the clusters is empty. Re-run kmeans with a different initialization.\n",
      "  warnings.warn(\"One of the clusters is empty. \"\n",
      "C:\\Users\\ibra1001\\Anaconda3\\envs\\qgis\\lib\\site-packages\\ipykernel_launcher.py:29: UserWarning: CRS mismatch between the CRS of left geometries and the CRS of right geometries.\n",
      "Use `to_crs()` to reproject one of the input geometries to match the CRS of the other.\n",
      "\n",
      "Left CRS: EPSG:4326\n",
      "Right CRS: None\n",
      "\n"
     ]
    },
    {
     "name": "stdout",
     "output_type": "stream",
     "text": [
      "(2421, 56)\n",
      "Region:  5704\n",
      "Spatial join\n",
      "K-means\n",
      "Voronoi\n"
     ]
    },
    {
     "name": "stderr",
     "output_type": "stream",
     "text": [
      "C:\\Users\\ibra1001\\Anaconda3\\envs\\qgis\\lib\\site-packages\\ipykernel_launcher.py:29: UserWarning: CRS mismatch between the CRS of left geometries and the CRS of right geometries.\n",
      "Use `to_crs()` to reproject one of the input geometries to match the CRS of the other.\n",
      "\n",
      "Left CRS: EPSG:4326\n",
      "Right CRS: None\n",
      "\n"
     ]
    },
    {
     "name": "stdout",
     "output_type": "stream",
     "text": [
      "(2426, 56)\n",
      "Region:  5705\n",
      "Spatial join\n",
      "K-means\n",
      "Voronoi\n"
     ]
    },
    {
     "name": "stderr",
     "output_type": "stream",
     "text": [
      "C:\\Users\\ibra1001\\Anaconda3\\envs\\qgis\\lib\\site-packages\\ipykernel_launcher.py:29: UserWarning: CRS mismatch between the CRS of left geometries and the CRS of right geometries.\n",
      "Use `to_crs()` to reproject one of the input geometries to match the CRS of the other.\n",
      "\n",
      "Left CRS: EPSG:4326\n",
      "Right CRS: None\n",
      "\n"
     ]
    },
    {
     "name": "stdout",
     "output_type": "stream",
     "text": [
      "(2445, 56)\n",
      "Region:  5706\n",
      "Spatial join\n",
      "K-means\n",
      "Voronoi\n"
     ]
    },
    {
     "name": "stderr",
     "output_type": "stream",
     "text": [
      "C:\\Users\\ibra1001\\Anaconda3\\envs\\qgis\\lib\\site-packages\\ipykernel_launcher.py:29: UserWarning: CRS mismatch between the CRS of left geometries and the CRS of right geometries.\n",
      "Use `to_crs()` to reproject one of the input geometries to match the CRS of the other.\n",
      "\n",
      "Left CRS: EPSG:4326\n",
      "Right CRS: None\n",
      "\n"
     ]
    },
    {
     "name": "stdout",
     "output_type": "stream",
     "text": [
      "(2451, 56)\n",
      "Region:  5801\n",
      "Spatial join\n",
      "K-means\n"
     ]
    },
    {
     "name": "stderr",
     "output_type": "stream",
     "text": [
      "C:\\Users\\ibra1001\\Anaconda3\\envs\\qgis\\lib\\site-packages\\scipy\\cluster\\vq.py:575: UserWarning: One of the clusters is empty. Re-run kmeans with a different initialization.\n",
      "  warnings.warn(\"One of the clusters is empty. \"\n"
     ]
    },
    {
     "name": "stdout",
     "output_type": "stream",
     "text": [
      "Voronoi\n"
     ]
    },
    {
     "name": "stderr",
     "output_type": "stream",
     "text": [
      "C:\\Users\\ibra1001\\Anaconda3\\envs\\qgis\\lib\\site-packages\\ipykernel_launcher.py:29: UserWarning: CRS mismatch between the CRS of left geometries and the CRS of right geometries.\n",
      "Use `to_crs()` to reproject one of the input geometries to match the CRS of the other.\n",
      "\n",
      "Left CRS: EPSG:4326\n",
      "Right CRS: None\n",
      "\n"
     ]
    },
    {
     "name": "stdout",
     "output_type": "stream",
     "text": [
      "(2489, 56)\n",
      "Region:  5802\n",
      "Spatial join\n",
      "K-means\n"
     ]
    },
    {
     "name": "stderr",
     "output_type": "stream",
     "text": [
      "C:\\Users\\ibra1001\\Anaconda3\\envs\\qgis\\lib\\site-packages\\scipy\\cluster\\vq.py:575: UserWarning: One of the clusters is empty. Re-run kmeans with a different initialization.\n",
      "  warnings.warn(\"One of the clusters is empty. \"\n"
     ]
    },
    {
     "name": "stdout",
     "output_type": "stream",
     "text": [
      "Voronoi\n"
     ]
    },
    {
     "name": "stderr",
     "output_type": "stream",
     "text": [
      "C:\\Users\\ibra1001\\Anaconda3\\envs\\qgis\\lib\\site-packages\\ipykernel_launcher.py:29: UserWarning: CRS mismatch between the CRS of left geometries and the CRS of right geometries.\n",
      "Use `to_crs()` to reproject one of the input geometries to match the CRS of the other.\n",
      "\n",
      "Left CRS: EPSG:4326\n",
      "Right CRS: None\n",
      "\n"
     ]
    },
    {
     "name": "stdout",
     "output_type": "stream",
     "text": [
      "(2505, 56)\n",
      "Region:  5803\n",
      "Spatial join\n",
      "K-means\n",
      "Voronoi\n"
     ]
    },
    {
     "name": "stderr",
     "output_type": "stream",
     "text": [
      "C:\\Users\\ibra1001\\Anaconda3\\envs\\qgis\\lib\\site-packages\\ipykernel_launcher.py:29: UserWarning: CRS mismatch between the CRS of left geometries and the CRS of right geometries.\n",
      "Use `to_crs()` to reproject one of the input geometries to match the CRS of the other.\n",
      "\n",
      "Left CRS: EPSG:4326\n",
      "Right CRS: None\n",
      "\n"
     ]
    },
    {
     "name": "stdout",
     "output_type": "stream",
     "text": [
      "(2513, 56)\n",
      "Region:  5804\n",
      "Spatial join\n",
      "K-means\n"
     ]
    },
    {
     "name": "stderr",
     "output_type": "stream",
     "text": [
      "C:\\Users\\ibra1001\\Anaconda3\\envs\\qgis\\lib\\site-packages\\scipy\\cluster\\vq.py:575: UserWarning: One of the clusters is empty. Re-run kmeans with a different initialization.\n",
      "  warnings.warn(\"One of the clusters is empty. \"\n"
     ]
    },
    {
     "name": "stdout",
     "output_type": "stream",
     "text": [
      "Voronoi\n"
     ]
    },
    {
     "name": "stderr",
     "output_type": "stream",
     "text": [
      "C:\\Users\\ibra1001\\Anaconda3\\envs\\qgis\\lib\\site-packages\\ipykernel_launcher.py:29: UserWarning: CRS mismatch between the CRS of left geometries and the CRS of right geometries.\n",
      "Use `to_crs()` to reproject one of the input geometries to match the CRS of the other.\n",
      "\n",
      "Left CRS: EPSG:4326\n",
      "Right CRS: None\n",
      "\n"
     ]
    },
    {
     "name": "stdout",
     "output_type": "stream",
     "text": [
      "(2539, 56)\n",
      "Region:  6101\n",
      "Spatial join\n",
      "K-means\n"
     ]
    },
    {
     "name": "stderr",
     "output_type": "stream",
     "text": [
      "C:\\Users\\ibra1001\\Anaconda3\\envs\\qgis\\lib\\site-packages\\scipy\\cluster\\vq.py:575: UserWarning: One of the clusters is empty. Re-run kmeans with a different initialization.\n",
      "  warnings.warn(\"One of the clusters is empty. \"\n"
     ]
    },
    {
     "name": "stdout",
     "output_type": "stream",
     "text": [
      "Voronoi\n"
     ]
    },
    {
     "name": "stderr",
     "output_type": "stream",
     "text": [
      "C:\\Users\\ibra1001\\Anaconda3\\envs\\qgis\\lib\\site-packages\\ipykernel_launcher.py:29: UserWarning: CRS mismatch between the CRS of left geometries and the CRS of right geometries.\n",
      "Use `to_crs()` to reproject one of the input geometries to match the CRS of the other.\n",
      "\n",
      "Left CRS: EPSG:4326\n",
      "Right CRS: None\n",
      "\n"
     ]
    },
    {
     "name": "stdout",
     "output_type": "stream",
     "text": [
      "(2582, 56)\n",
      "Region:  6102\n",
      "Spatial join\n",
      "K-means\n",
      "Voronoi\n"
     ]
    },
    {
     "name": "stderr",
     "output_type": "stream",
     "text": [
      "C:\\Users\\ibra1001\\Anaconda3\\envs\\qgis\\lib\\site-packages\\ipykernel_launcher.py:29: UserWarning: CRS mismatch between the CRS of left geometries and the CRS of right geometries.\n",
      "Use `to_crs()` to reproject one of the input geometries to match the CRS of the other.\n",
      "\n",
      "Left CRS: EPSG:4326\n",
      "Right CRS: None\n",
      "\n"
     ]
    },
    {
     "name": "stdout",
     "output_type": "stream",
     "text": [
      "(2590, 56)\n",
      "Region:  6103\n",
      "Spatial join\n",
      "K-means\n",
      "Voronoi\n"
     ]
    },
    {
     "name": "stderr",
     "output_type": "stream",
     "text": [
      "C:\\Users\\ibra1001\\Anaconda3\\envs\\qgis\\lib\\site-packages\\ipykernel_launcher.py:29: UserWarning: CRS mismatch between the CRS of left geometries and the CRS of right geometries.\n",
      "Use `to_crs()` to reproject one of the input geometries to match the CRS of the other.\n",
      "\n",
      "Left CRS: EPSG:4326\n",
      "Right CRS: None\n",
      "\n"
     ]
    },
    {
     "name": "stdout",
     "output_type": "stream",
     "text": [
      "(2595, 56)\n",
      "Region:  6104\n",
      "Spatial join\n",
      "K-means\n",
      "Voronoi\n"
     ]
    },
    {
     "name": "stderr",
     "output_type": "stream",
     "text": [
      "C:\\Users\\ibra1001\\Anaconda3\\envs\\qgis\\lib\\site-packages\\ipykernel_launcher.py:29: UserWarning: CRS mismatch between the CRS of left geometries and the CRS of right geometries.\n",
      "Use `to_crs()` to reproject one of the input geometries to match the CRS of the other.\n",
      "\n",
      "Left CRS: EPSG:4326\n",
      "Right CRS: None\n",
      "\n"
     ]
    },
    {
     "name": "stdout",
     "output_type": "stream",
     "text": [
      "(2602, 56)\n",
      "Region:  6105\n",
      "Spatial join\n",
      "K-means\n",
      "Voronoi\n"
     ]
    },
    {
     "name": "stderr",
     "output_type": "stream",
     "text": [
      "C:\\Users\\ibra1001\\Anaconda3\\envs\\qgis\\lib\\site-packages\\scipy\\cluster\\vq.py:575: UserWarning: One of the clusters is empty. Re-run kmeans with a different initialization.\n",
      "  warnings.warn(\"One of the clusters is empty. \"\n",
      "C:\\Users\\ibra1001\\Anaconda3\\envs\\qgis\\lib\\site-packages\\ipykernel_launcher.py:29: UserWarning: CRS mismatch between the CRS of left geometries and the CRS of right geometries.\n",
      "Use `to_crs()` to reproject one of the input geometries to match the CRS of the other.\n",
      "\n",
      "Left CRS: EPSG:4326\n",
      "Right CRS: None\n",
      "\n"
     ]
    },
    {
     "name": "stdout",
     "output_type": "stream",
     "text": [
      "(2607, 56)\n",
      "Region:  6106\n",
      "Spatial join\n",
      "K-means\n",
      "Voronoi\n"
     ]
    },
    {
     "name": "stderr",
     "output_type": "stream",
     "text": [
      "C:\\Users\\ibra1001\\Anaconda3\\envs\\qgis\\lib\\site-packages\\scipy\\cluster\\vq.py:575: UserWarning: One of the clusters is empty. Re-run kmeans with a different initialization.\n",
      "  warnings.warn(\"One of the clusters is empty. \"\n",
      "C:\\Users\\ibra1001\\Anaconda3\\envs\\qgis\\lib\\site-packages\\ipykernel_launcher.py:29: UserWarning: CRS mismatch between the CRS of left geometries and the CRS of right geometries.\n",
      "Use `to_crs()` to reproject one of the input geometries to match the CRS of the other.\n",
      "\n",
      "Left CRS: EPSG:4326\n",
      "Right CRS: None\n",
      "\n"
     ]
    },
    {
     "name": "stdout",
     "output_type": "stream",
     "text": [
      "(2616, 56)\n",
      "Region:  6107\n",
      "Spatial join\n",
      "K-means\n",
      "Voronoi\n"
     ]
    },
    {
     "name": "stderr",
     "output_type": "stream",
     "text": [
      "C:\\Users\\ibra1001\\Anaconda3\\envs\\qgis\\lib\\site-packages\\ipykernel_launcher.py:29: UserWarning: CRS mismatch between the CRS of left geometries and the CRS of right geometries.\n",
      "Use `to_crs()` to reproject one of the input geometries to match the CRS of the other.\n",
      "\n",
      "Left CRS: EPSG:4326\n",
      "Right CRS: None\n",
      "\n"
     ]
    },
    {
     "name": "stdout",
     "output_type": "stream",
     "text": [
      "(2636, 56)\n",
      "Region:  6108\n",
      "Spatial join\n",
      "K-means\n",
      "Voronoi\n"
     ]
    },
    {
     "name": "stderr",
     "output_type": "stream",
     "text": [
      "C:\\Users\\ibra1001\\Anaconda3\\envs\\qgis\\lib\\site-packages\\ipykernel_launcher.py:29: UserWarning: CRS mismatch between the CRS of left geometries and the CRS of right geometries.\n",
      "Use `to_crs()` to reproject one of the input geometries to match the CRS of the other.\n",
      "\n",
      "Left CRS: EPSG:4326\n",
      "Right CRS: None\n",
      "\n"
     ]
    },
    {
     "name": "stdout",
     "output_type": "stream",
     "text": [
      "(2685, 56)\n",
      "Region:  6109\n",
      "Spatial join\n",
      "K-means\n",
      "Voronoi\n"
     ]
    },
    {
     "name": "stderr",
     "output_type": "stream",
     "text": [
      "C:\\Users\\ibra1001\\Anaconda3\\envs\\qgis\\lib\\site-packages\\ipykernel_launcher.py:29: UserWarning: CRS mismatch between the CRS of left geometries and the CRS of right geometries.\n",
      "Use `to_crs()` to reproject one of the input geometries to match the CRS of the other.\n",
      "\n",
      "Left CRS: EPSG:4326\n",
      "Right CRS: None\n",
      "\n"
     ]
    },
    {
     "name": "stdout",
     "output_type": "stream",
     "text": [
      "(2692, 56)\n",
      "Region:  6110\n",
      "Spatial join\n",
      "K-means\n",
      "Voronoi\n"
     ]
    },
    {
     "name": "stderr",
     "output_type": "stream",
     "text": [
      "C:\\Users\\ibra1001\\Anaconda3\\envs\\qgis\\lib\\site-packages\\ipykernel_launcher.py:29: UserWarning: CRS mismatch between the CRS of left geometries and the CRS of right geometries.\n",
      "Use `to_crs()` to reproject one of the input geometries to match the CRS of the other.\n",
      "\n",
      "Left CRS: EPSG:4326\n",
      "Right CRS: None\n",
      "\n"
     ]
    },
    {
     "name": "stdout",
     "output_type": "stream",
     "text": [
      "(2709, 56)\n",
      "Region:  6111\n",
      "Spatial join\n",
      "K-means\n",
      "Voronoi\n"
     ]
    },
    {
     "name": "stderr",
     "output_type": "stream",
     "text": [
      "C:\\Users\\ibra1001\\Anaconda3\\envs\\qgis\\lib\\site-packages\\scipy\\cluster\\vq.py:575: UserWarning: One of the clusters is empty. Re-run kmeans with a different initialization.\n",
      "  warnings.warn(\"One of the clusters is empty. \"\n",
      "C:\\Users\\ibra1001\\Anaconda3\\envs\\qgis\\lib\\site-packages\\ipykernel_launcher.py:29: UserWarning: CRS mismatch between the CRS of left geometries and the CRS of right geometries.\n",
      "Use `to_crs()` to reproject one of the input geometries to match the CRS of the other.\n",
      "\n",
      "Left CRS: EPSG:4326\n",
      "Right CRS: None\n",
      "\n"
     ]
    },
    {
     "name": "stdout",
     "output_type": "stream",
     "text": [
      "(2714, 56)\n",
      "Region:  6112\n",
      "Spatial join\n",
      "K-means\n",
      "Voronoi\n"
     ]
    },
    {
     "name": "stderr",
     "output_type": "stream",
     "text": [
      "C:\\Users\\ibra1001\\Anaconda3\\envs\\qgis\\lib\\site-packages\\scipy\\cluster\\vq.py:575: UserWarning: One of the clusters is empty. Re-run kmeans with a different initialization.\n",
      "  warnings.warn(\"One of the clusters is empty. \"\n",
      "C:\\Users\\ibra1001\\Anaconda3\\envs\\qgis\\lib\\site-packages\\ipykernel_launcher.py:29: UserWarning: CRS mismatch between the CRS of left geometries and the CRS of right geometries.\n",
      "Use `to_crs()` to reproject one of the input geometries to match the CRS of the other.\n",
      "\n",
      "Left CRS: EPSG:4326\n",
      "Right CRS: None\n",
      "\n"
     ]
    },
    {
     "name": "stdout",
     "output_type": "stream",
     "text": [
      "(2720, 56)\n",
      "Region:  6113\n",
      "Spatial join\n",
      "K-means\n",
      "Voronoi\n"
     ]
    },
    {
     "name": "stderr",
     "output_type": "stream",
     "text": [
      "C:\\Users\\ibra1001\\Anaconda3\\envs\\qgis\\lib\\site-packages\\ipykernel_launcher.py:29: UserWarning: CRS mismatch between the CRS of left geometries and the CRS of right geometries.\n",
      "Use `to_crs()` to reproject one of the input geometries to match the CRS of the other.\n",
      "\n",
      "Left CRS: EPSG:4326\n",
      "Right CRS: None\n",
      "\n"
     ]
    },
    {
     "name": "stdout",
     "output_type": "stream",
     "text": [
      "(2730, 56)\n",
      "Region:  6114\n",
      "Spatial join\n",
      "K-means\n",
      "Voronoi\n"
     ]
    },
    {
     "name": "stderr",
     "output_type": "stream",
     "text": [
      "C:\\Users\\ibra1001\\Anaconda3\\envs\\qgis\\lib\\site-packages\\ipykernel_launcher.py:29: UserWarning: CRS mismatch between the CRS of left geometries and the CRS of right geometries.\n",
      "Use `to_crs()` to reproject one of the input geometries to match the CRS of the other.\n",
      "\n",
      "Left CRS: EPSG:4326\n",
      "Right CRS: None\n",
      "\n"
     ]
    },
    {
     "name": "stdout",
     "output_type": "stream",
     "text": [
      "(2735, 56)\n",
      "Region:  6115\n",
      "Spatial join\n",
      "K-means\n"
     ]
    },
    {
     "name": "stderr",
     "output_type": "stream",
     "text": [
      "C:\\Users\\ibra1001\\Anaconda3\\envs\\qgis\\lib\\site-packages\\scipy\\cluster\\vq.py:575: UserWarning: One of the clusters is empty. Re-run kmeans with a different initialization.\n",
      "  warnings.warn(\"One of the clusters is empty. \"\n"
     ]
    },
    {
     "name": "stdout",
     "output_type": "stream",
     "text": [
      "Voronoi\n"
     ]
    },
    {
     "name": "stderr",
     "output_type": "stream",
     "text": [
      "C:\\Users\\ibra1001\\Anaconda3\\envs\\qgis\\lib\\site-packages\\ipykernel_launcher.py:29: UserWarning: CRS mismatch between the CRS of left geometries and the CRS of right geometries.\n",
      "Use `to_crs()` to reproject one of the input geometries to match the CRS of the other.\n",
      "\n",
      "Left CRS: EPSG:4326\n",
      "Right CRS: None\n",
      "\n"
     ]
    },
    {
     "name": "stdout",
     "output_type": "stream",
     "text": [
      "(2757, 56)\n",
      "Region:  6116\n",
      "Spatial join\n",
      "K-means\n"
     ]
    },
    {
     "name": "stderr",
     "output_type": "stream",
     "text": [
      "C:\\Users\\ibra1001\\Anaconda3\\envs\\qgis\\lib\\site-packages\\scipy\\cluster\\vq.py:575: UserWarning: One of the clusters is empty. Re-run kmeans with a different initialization.\n",
      "  warnings.warn(\"One of the clusters is empty. \"\n"
     ]
    },
    {
     "name": "stdout",
     "output_type": "stream",
     "text": [
      "Voronoi\n"
     ]
    },
    {
     "name": "stderr",
     "output_type": "stream",
     "text": [
      "C:\\Users\\ibra1001\\Anaconda3\\envs\\qgis\\lib\\site-packages\\ipykernel_launcher.py:29: UserWarning: CRS mismatch between the CRS of left geometries and the CRS of right geometries.\n",
      "Use `to_crs()` to reproject one of the input geometries to match the CRS of the other.\n",
      "\n",
      "Left CRS: EPSG:4326\n",
      "Right CRS: None\n",
      "\n"
     ]
    },
    {
     "name": "stdout",
     "output_type": "stream",
     "text": [
      "(2778, 56)\n",
      "Region:  6117\n",
      "Spatial join\n",
      "K-means\n"
     ]
    },
    {
     "name": "stderr",
     "output_type": "stream",
     "text": [
      "C:\\Users\\ibra1001\\Anaconda3\\envs\\qgis\\lib\\site-packages\\scipy\\cluster\\vq.py:575: UserWarning: One of the clusters is empty. Re-run kmeans with a different initialization.\n",
      "  warnings.warn(\"One of the clusters is empty. \"\n"
     ]
    },
    {
     "name": "stdout",
     "output_type": "stream",
     "text": [
      "Voronoi\n"
     ]
    },
    {
     "name": "stderr",
     "output_type": "stream",
     "text": [
      "C:\\Users\\ibra1001\\Anaconda3\\envs\\qgis\\lib\\site-packages\\ipykernel_launcher.py:29: UserWarning: CRS mismatch between the CRS of left geometries and the CRS of right geometries.\n",
      "Use `to_crs()` to reproject one of the input geometries to match the CRS of the other.\n",
      "\n",
      "Left CRS: EPSG:4326\n",
      "Right CRS: None\n",
      "\n"
     ]
    },
    {
     "name": "stdout",
     "output_type": "stream",
     "text": [
      "(2797, 56)\n",
      "Region:  6201\n",
      "Spatial join\n",
      "K-means\n",
      "Voronoi\n"
     ]
    },
    {
     "name": "stderr",
     "output_type": "stream",
     "text": [
      "C:\\Users\\ibra1001\\Anaconda3\\envs\\qgis\\lib\\site-packages\\ipykernel_launcher.py:29: UserWarning: CRS mismatch between the CRS of left geometries and the CRS of right geometries.\n",
      "Use `to_crs()` to reproject one of the input geometries to match the CRS of the other.\n",
      "\n",
      "Left CRS: EPSG:4326\n",
      "Right CRS: None\n",
      "\n"
     ]
    },
    {
     "name": "stdout",
     "output_type": "stream",
     "text": [
      "(2819, 56)\n",
      "Region:  6202\n",
      "Spatial join\n",
      "K-means\n",
      "Voronoi\n"
     ]
    },
    {
     "name": "stderr",
     "output_type": "stream",
     "text": [
      "C:\\Users\\ibra1001\\Anaconda3\\envs\\qgis\\lib\\site-packages\\ipykernel_launcher.py:29: UserWarning: CRS mismatch between the CRS of left geometries and the CRS of right geometries.\n",
      "Use `to_crs()` to reproject one of the input geometries to match the CRS of the other.\n",
      "\n",
      "Left CRS: EPSG:4326\n",
      "Right CRS: None\n",
      "\n"
     ]
    },
    {
     "name": "stdout",
     "output_type": "stream",
     "text": [
      "(2831, 56)\n",
      "Region:  6203\n",
      "Spatial join\n",
      "K-means\n",
      "Voronoi\n"
     ]
    },
    {
     "name": "stderr",
     "output_type": "stream",
     "text": [
      "C:\\Users\\ibra1001\\Anaconda3\\envs\\qgis\\lib\\site-packages\\ipykernel_launcher.py:29: UserWarning: CRS mismatch between the CRS of left geometries and the CRS of right geometries.\n",
      "Use `to_crs()` to reproject one of the input geometries to match the CRS of the other.\n",
      "\n",
      "Left CRS: EPSG:4326\n",
      "Right CRS: None\n",
      "\n"
     ]
    },
    {
     "name": "stdout",
     "output_type": "stream",
     "text": [
      "(2848, 56)\n",
      "Region:  6204\n",
      "Spatial join\n",
      "K-means\n",
      "Voronoi\n"
     ]
    },
    {
     "name": "stderr",
     "output_type": "stream",
     "text": [
      "C:\\Users\\ibra1001\\Anaconda3\\envs\\qgis\\lib\\site-packages\\ipykernel_launcher.py:29: UserWarning: CRS mismatch between the CRS of left geometries and the CRS of right geometries.\n",
      "Use `to_crs()` to reproject one of the input geometries to match the CRS of the other.\n",
      "\n",
      "Left CRS: EPSG:4326\n",
      "Right CRS: None\n",
      "\n"
     ]
    },
    {
     "name": "stdout",
     "output_type": "stream",
     "text": [
      "(2867, 56)\n",
      "Region:  6205\n",
      "Spatial join\n",
      "K-means\n",
      "Voronoi\n"
     ]
    },
    {
     "name": "stderr",
     "output_type": "stream",
     "text": [
      "C:\\Users\\ibra1001\\Anaconda3\\envs\\qgis\\lib\\site-packages\\ipykernel_launcher.py:29: UserWarning: CRS mismatch between the CRS of left geometries and the CRS of right geometries.\n",
      "Use `to_crs()` to reproject one of the input geometries to match the CRS of the other.\n",
      "\n",
      "Left CRS: EPSG:4326\n",
      "Right CRS: None\n",
      "\n"
     ]
    },
    {
     "name": "stdout",
     "output_type": "stream",
     "text": [
      "(2876, 56)\n",
      "Region:  6206\n",
      "Spatial join\n",
      "K-means\n",
      "Voronoi\n"
     ]
    },
    {
     "name": "stderr",
     "output_type": "stream",
     "text": [
      "C:\\Users\\ibra1001\\Anaconda3\\envs\\qgis\\lib\\site-packages\\ipykernel_launcher.py:29: UserWarning: CRS mismatch between the CRS of left geometries and the CRS of right geometries.\n",
      "Use `to_crs()` to reproject one of the input geometries to match the CRS of the other.\n",
      "\n",
      "Left CRS: EPSG:4326\n",
      "Right CRS: None\n",
      "\n"
     ]
    },
    {
     "name": "stdout",
     "output_type": "stream",
     "text": [
      "(2892, 56)\n",
      "Region:  6301\n",
      "Spatial join\n",
      "K-means\n"
     ]
    },
    {
     "name": "stderr",
     "output_type": "stream",
     "text": [
      "C:\\Users\\ibra1001\\Anaconda3\\envs\\qgis\\lib\\site-packages\\scipy\\cluster\\vq.py:575: UserWarning: One of the clusters is empty. Re-run kmeans with a different initialization.\n",
      "  warnings.warn(\"One of the clusters is empty. \"\n"
     ]
    },
    {
     "name": "stdout",
     "output_type": "stream",
     "text": [
      "Voronoi\n"
     ]
    },
    {
     "name": "stderr",
     "output_type": "stream",
     "text": [
      "C:\\Users\\ibra1001\\Anaconda3\\envs\\qgis\\lib\\site-packages\\ipykernel_launcher.py:29: UserWarning: CRS mismatch between the CRS of left geometries and the CRS of right geometries.\n",
      "Use `to_crs()` to reproject one of the input geometries to match the CRS of the other.\n",
      "\n",
      "Left CRS: EPSG:4326\n",
      "Right CRS: None\n",
      "\n"
     ]
    },
    {
     "name": "stdout",
     "output_type": "stream",
     "text": [
      "(2925, 56)\n",
      "Region:  6302\n",
      "Spatial join\n",
      "K-means\n",
      "Voronoi\n"
     ]
    },
    {
     "name": "stderr",
     "output_type": "stream",
     "text": [
      "C:\\Users\\ibra1001\\Anaconda3\\envs\\qgis\\lib\\site-packages\\ipykernel_launcher.py:29: UserWarning: CRS mismatch between the CRS of left geometries and the CRS of right geometries.\n",
      "Use `to_crs()` to reproject one of the input geometries to match the CRS of the other.\n",
      "\n",
      "Left CRS: EPSG:4326\n",
      "Right CRS: None\n",
      "\n"
     ]
    },
    {
     "name": "stdout",
     "output_type": "stream",
     "text": [
      "(2940, 56)\n",
      "Region:  6303\n",
      "Spatial join\n",
      "K-means\n"
     ]
    },
    {
     "name": "stderr",
     "output_type": "stream",
     "text": [
      "C:\\Users\\ibra1001\\Anaconda3\\envs\\qgis\\lib\\site-packages\\scipy\\cluster\\vq.py:575: UserWarning: One of the clusters is empty. Re-run kmeans with a different initialization.\n",
      "  warnings.warn(\"One of the clusters is empty. \"\n"
     ]
    },
    {
     "name": "stdout",
     "output_type": "stream",
     "text": [
      "Voronoi\n"
     ]
    },
    {
     "name": "stderr",
     "output_type": "stream",
     "text": [
      "C:\\Users\\ibra1001\\Anaconda3\\envs\\qgis\\lib\\site-packages\\ipykernel_launcher.py:29: UserWarning: CRS mismatch between the CRS of left geometries and the CRS of right geometries.\n",
      "Use `to_crs()` to reproject one of the input geometries to match the CRS of the other.\n",
      "\n",
      "Left CRS: EPSG:4326\n",
      "Right CRS: None\n",
      "\n"
     ]
    },
    {
     "name": "stdout",
     "output_type": "stream",
     "text": [
      "(2956, 56)\n",
      "Region:  6304\n",
      "Spatial join\n",
      "K-means\n",
      "Voronoi\n"
     ]
    },
    {
     "name": "stderr",
     "output_type": "stream",
     "text": [
      "C:\\Users\\ibra1001\\Anaconda3\\envs\\qgis\\lib\\site-packages\\ipykernel_launcher.py:29: UserWarning: CRS mismatch between the CRS of left geometries and the CRS of right geometries.\n",
      "Use `to_crs()` to reproject one of the input geometries to match the CRS of the other.\n",
      "\n",
      "Left CRS: EPSG:4326\n",
      "Right CRS: None\n",
      "\n"
     ]
    },
    {
     "name": "stdout",
     "output_type": "stream",
     "text": [
      "(2973, 56)\n",
      "Region:  6305\n",
      "Spatial join\n",
      "K-means\n",
      "Voronoi\n"
     ]
    },
    {
     "name": "stderr",
     "output_type": "stream",
     "text": [
      "C:\\Users\\ibra1001\\Anaconda3\\envs\\qgis\\lib\\site-packages\\ipykernel_launcher.py:29: UserWarning: CRS mismatch between the CRS of left geometries and the CRS of right geometries.\n",
      "Use `to_crs()` to reproject one of the input geometries to match the CRS of the other.\n",
      "\n",
      "Left CRS: EPSG:4326\n",
      "Right CRS: None\n",
      "\n"
     ]
    },
    {
     "name": "stdout",
     "output_type": "stream",
     "text": [
      "(2979, 56)\n",
      "Region:  6306\n",
      "Spatial join\n",
      "K-means\n",
      "Voronoi\n"
     ]
    },
    {
     "name": "stderr",
     "output_type": "stream",
     "text": [
      "C:\\Users\\ibra1001\\Anaconda3\\envs\\qgis\\lib\\site-packages\\ipykernel_launcher.py:29: UserWarning: CRS mismatch between the CRS of left geometries and the CRS of right geometries.\n",
      "Use `to_crs()` to reproject one of the input geometries to match the CRS of the other.\n",
      "\n",
      "Left CRS: EPSG:4326\n",
      "Right CRS: None\n",
      "\n"
     ]
    },
    {
     "name": "stdout",
     "output_type": "stream",
     "text": [
      "(2986, 56)\n",
      "Region:  6307\n",
      "Spatial join\n",
      "K-means\n",
      "Voronoi\n"
     ]
    },
    {
     "name": "stderr",
     "output_type": "stream",
     "text": [
      "C:\\Users\\ibra1001\\Anaconda3\\envs\\qgis\\lib\\site-packages\\ipykernel_launcher.py:29: UserWarning: CRS mismatch between the CRS of left geometries and the CRS of right geometries.\n",
      "Use `to_crs()` to reproject one of the input geometries to match the CRS of the other.\n",
      "\n",
      "Left CRS: EPSG:4326\n",
      "Right CRS: None\n",
      "\n"
     ]
    },
    {
     "name": "stdout",
     "output_type": "stream",
     "text": [
      "(2994, 56)\n",
      "Region:  6308\n",
      "Spatial join\n",
      "K-means\n",
      "Voronoi\n"
     ]
    },
    {
     "name": "stderr",
     "output_type": "stream",
     "text": [
      "C:\\Users\\ibra1001\\Anaconda3\\envs\\qgis\\lib\\site-packages\\ipykernel_launcher.py:29: UserWarning: CRS mismatch between the CRS of left geometries and the CRS of right geometries.\n",
      "Use `to_crs()` to reproject one of the input geometries to match the CRS of the other.\n",
      "\n",
      "Left CRS: EPSG:4326\n",
      "Right CRS: None\n",
      "\n"
     ]
    },
    {
     "name": "stdout",
     "output_type": "stream",
     "text": [
      "(2999, 56)\n",
      "Region:  6309\n",
      "Spatial join\n",
      "K-means\n",
      "Voronoi\n"
     ]
    },
    {
     "name": "stderr",
     "output_type": "stream",
     "text": [
      "C:\\Users\\ibra1001\\Anaconda3\\envs\\qgis\\lib\\site-packages\\ipykernel_launcher.py:29: UserWarning: CRS mismatch between the CRS of left geometries and the CRS of right geometries.\n",
      "Use `to_crs()` to reproject one of the input geometries to match the CRS of the other.\n",
      "\n",
      "Left CRS: EPSG:4326\n",
      "Right CRS: None\n",
      "\n"
     ]
    },
    {
     "name": "stdout",
     "output_type": "stream",
     "text": [
      "(3011, 56)\n",
      "Region:  6310\n",
      "Spatial join\n",
      "K-means\n"
     ]
    },
    {
     "name": "stderr",
     "output_type": "stream",
     "text": [
      "C:\\Users\\ibra1001\\Anaconda3\\envs\\qgis\\lib\\site-packages\\scipy\\cluster\\vq.py:575: UserWarning: One of the clusters is empty. Re-run kmeans with a different initialization.\n",
      "  warnings.warn(\"One of the clusters is empty. \"\n"
     ]
    },
    {
     "name": "stdout",
     "output_type": "stream",
     "text": [
      "Voronoi\n"
     ]
    },
    {
     "name": "stderr",
     "output_type": "stream",
     "text": [
      "C:\\Users\\ibra1001\\Anaconda3\\envs\\qgis\\lib\\site-packages\\ipykernel_launcher.py:29: UserWarning: CRS mismatch between the CRS of left geometries and the CRS of right geometries.\n",
      "Use `to_crs()` to reproject one of the input geometries to match the CRS of the other.\n",
      "\n",
      "Left CRS: EPSG:4326\n",
      "Right CRS: None\n",
      "\n"
     ]
    },
    {
     "name": "stdout",
     "output_type": "stream",
     "text": [
      "(3027, 56)\n",
      "Region:  7101\n",
      "Spatial join\n",
      "K-means\n"
     ]
    },
    {
     "name": "stderr",
     "output_type": "stream",
     "text": [
      "C:\\Users\\ibra1001\\Anaconda3\\envs\\qgis\\lib\\site-packages\\scipy\\cluster\\vq.py:575: UserWarning: One of the clusters is empty. Re-run kmeans with a different initialization.\n",
      "  warnings.warn(\"One of the clusters is empty. \"\n"
     ]
    },
    {
     "name": "stdout",
     "output_type": "stream",
     "text": [
      "Voronoi\n"
     ]
    },
    {
     "name": "stderr",
     "output_type": "stream",
     "text": [
      "C:\\Users\\ibra1001\\Anaconda3\\envs\\qgis\\lib\\site-packages\\ipykernel_launcher.py:29: UserWarning: CRS mismatch between the CRS of left geometries and the CRS of right geometries.\n",
      "Use `to_crs()` to reproject one of the input geometries to match the CRS of the other.\n",
      "\n",
      "Left CRS: EPSG:4326\n",
      "Right CRS: None\n",
      "\n"
     ]
    },
    {
     "name": "stdout",
     "output_type": "stream",
     "text": [
      "(3067, 56)\n",
      "Region:  7102\n",
      "Spatial join\n",
      "K-means\n"
     ]
    },
    {
     "name": "stderr",
     "output_type": "stream",
     "text": [
      "C:\\Users\\ibra1001\\Anaconda3\\envs\\qgis\\lib\\site-packages\\scipy\\cluster\\vq.py:575: UserWarning: One of the clusters is empty. Re-run kmeans with a different initialization.\n",
      "  warnings.warn(\"One of the clusters is empty. \"\n"
     ]
    },
    {
     "name": "stdout",
     "output_type": "stream",
     "text": [
      "Voronoi\n"
     ]
    },
    {
     "name": "stderr",
     "output_type": "stream",
     "text": [
      "C:\\Users\\ibra1001\\Anaconda3\\envs\\qgis\\lib\\site-packages\\ipykernel_launcher.py:29: UserWarning: CRS mismatch between the CRS of left geometries and the CRS of right geometries.\n",
      "Use `to_crs()` to reproject one of the input geometries to match the CRS of the other.\n",
      "\n",
      "Left CRS: EPSG:4326\n",
      "Right CRS: None\n",
      "\n"
     ]
    },
    {
     "name": "stdout",
     "output_type": "stream",
     "text": [
      "(3110, 56)\n",
      "Region:  7103\n",
      "Spatial join\n",
      "K-means\n",
      "Voronoi\n"
     ]
    },
    {
     "name": "stderr",
     "output_type": "stream",
     "text": [
      "C:\\Users\\ibra1001\\Anaconda3\\envs\\qgis\\lib\\site-packages\\ipykernel_launcher.py:29: UserWarning: CRS mismatch between the CRS of left geometries and the CRS of right geometries.\n",
      "Use `to_crs()` to reproject one of the input geometries to match the CRS of the other.\n",
      "\n",
      "Left CRS: EPSG:4326\n",
      "Right CRS: None\n",
      "\n"
     ]
    },
    {
     "name": "stdout",
     "output_type": "stream",
     "text": [
      "(3140, 56)\n",
      "Region:  7104\n",
      "Spatial join\n",
      "K-means\n",
      "Voronoi\n"
     ]
    },
    {
     "name": "stderr",
     "output_type": "stream",
     "text": [
      "C:\\Users\\ibra1001\\Anaconda3\\envs\\qgis\\lib\\site-packages\\ipykernel_launcher.py:29: UserWarning: CRS mismatch between the CRS of left geometries and the CRS of right geometries.\n",
      "Use `to_crs()` to reproject one of the input geometries to match the CRS of the other.\n",
      "\n",
      "Left CRS: EPSG:4326\n",
      "Right CRS: None\n",
      "\n"
     ]
    },
    {
     "name": "stdout",
     "output_type": "stream",
     "text": [
      "(3156, 56)\n",
      "Region:  7105\n",
      "Spatial join\n",
      "K-means\n"
     ]
    },
    {
     "name": "stderr",
     "output_type": "stream",
     "text": [
      "C:\\Users\\ibra1001\\Anaconda3\\envs\\qgis\\lib\\site-packages\\scipy\\cluster\\vq.py:575: UserWarning: One of the clusters is empty. Re-run kmeans with a different initialization.\n",
      "  warnings.warn(\"One of the clusters is empty. \"\n"
     ]
    },
    {
     "name": "stdout",
     "output_type": "stream",
     "text": [
      "Voronoi\n"
     ]
    },
    {
     "name": "stderr",
     "output_type": "stream",
     "text": [
      "C:\\Users\\ibra1001\\Anaconda3\\envs\\qgis\\lib\\site-packages\\ipykernel_launcher.py:29: UserWarning: CRS mismatch between the CRS of left geometries and the CRS of right geometries.\n",
      "Use `to_crs()` to reproject one of the input geometries to match the CRS of the other.\n",
      "\n",
      "Left CRS: EPSG:4326\n",
      "Right CRS: None\n",
      "\n"
     ]
    },
    {
     "name": "stdout",
     "output_type": "stream",
     "text": [
      "(3170, 56)\n",
      "Region:  7106\n",
      "Spatial join\n",
      "K-means\n",
      "Voronoi\n"
     ]
    },
    {
     "name": "stderr",
     "output_type": "stream",
     "text": [
      "C:\\Users\\ibra1001\\Anaconda3\\envs\\qgis\\lib\\site-packages\\ipykernel_launcher.py:29: UserWarning: CRS mismatch between the CRS of left geometries and the CRS of right geometries.\n",
      "Use `to_crs()` to reproject one of the input geometries to match the CRS of the other.\n",
      "\n",
      "Left CRS: EPSG:4326\n",
      "Right CRS: None\n",
      "\n"
     ]
    },
    {
     "name": "stdout",
     "output_type": "stream",
     "text": [
      "(3180, 56)\n",
      "Region:  7107\n",
      "Spatial join\n",
      "K-means\n",
      "Voronoi\n"
     ]
    },
    {
     "name": "stderr",
     "output_type": "stream",
     "text": [
      "C:\\Users\\ibra1001\\Anaconda3\\envs\\qgis\\lib\\site-packages\\ipykernel_launcher.py:29: UserWarning: CRS mismatch between the CRS of left geometries and the CRS of right geometries.\n",
      "Use `to_crs()` to reproject one of the input geometries to match the CRS of the other.\n",
      "\n",
      "Left CRS: EPSG:4326\n",
      "Right CRS: None\n",
      "\n"
     ]
    },
    {
     "name": "stdout",
     "output_type": "stream",
     "text": [
      "(3207, 56)\n",
      "Region:  7108\n",
      "Spatial join\n",
      "K-means\n",
      "Voronoi\n"
     ]
    },
    {
     "name": "stderr",
     "output_type": "stream",
     "text": [
      "C:\\Users\\ibra1001\\Anaconda3\\envs\\qgis\\lib\\site-packages\\ipykernel_launcher.py:29: UserWarning: CRS mismatch between the CRS of left geometries and the CRS of right geometries.\n",
      "Use `to_crs()` to reproject one of the input geometries to match the CRS of the other.\n",
      "\n",
      "Left CRS: EPSG:4326\n",
      "Right CRS: None\n",
      "\n"
     ]
    },
    {
     "name": "stdout",
     "output_type": "stream",
     "text": [
      "(3220, 56)\n",
      "Region:  7109\n",
      "Spatial join\n",
      "K-means\n",
      "Voronoi\n"
     ]
    },
    {
     "name": "stderr",
     "output_type": "stream",
     "text": [
      "C:\\Users\\ibra1001\\Anaconda3\\envs\\qgis\\lib\\site-packages\\ipykernel_launcher.py:29: UserWarning: CRS mismatch between the CRS of left geometries and the CRS of right geometries.\n",
      "Use `to_crs()` to reproject one of the input geometries to match the CRS of the other.\n",
      "\n",
      "Left CRS: EPSG:4326\n",
      "Right CRS: None\n",
      "\n"
     ]
    },
    {
     "name": "stdout",
     "output_type": "stream",
     "text": [
      "(3292, 56)\n",
      "Region:  7110\n",
      "Spatial join\n",
      "K-means\n",
      "Voronoi\n"
     ]
    },
    {
     "name": "stderr",
     "output_type": "stream",
     "text": [
      "C:\\Users\\ibra1001\\Anaconda3\\envs\\qgis\\lib\\site-packages\\ipykernel_launcher.py:29: UserWarning: CRS mismatch between the CRS of left geometries and the CRS of right geometries.\n",
      "Use `to_crs()` to reproject one of the input geometries to match the CRS of the other.\n",
      "\n",
      "Left CRS: EPSG:4326\n",
      "Right CRS: None\n",
      "\n"
     ]
    },
    {
     "name": "stdout",
     "output_type": "stream",
     "text": [
      "(3300, 56)\n",
      "Region:  7201\n",
      "Spatial join\n",
      "K-means\n",
      "Voronoi\n"
     ]
    },
    {
     "name": "stderr",
     "output_type": "stream",
     "text": [
      "C:\\Users\\ibra1001\\Anaconda3\\envs\\qgis\\lib\\site-packages\\ipykernel_launcher.py:29: UserWarning: CRS mismatch between the CRS of left geometries and the CRS of right geometries.\n",
      "Use `to_crs()` to reproject one of the input geometries to match the CRS of the other.\n",
      "\n",
      "Left CRS: EPSG:4326\n",
      "Right CRS: None\n",
      "\n"
     ]
    },
    {
     "name": "stdout",
     "output_type": "stream",
     "text": [
      "(3362, 56)\n",
      "Region:  7202\n",
      "Spatial join\n",
      "K-means\n",
      "Voronoi\n"
     ]
    },
    {
     "name": "stderr",
     "output_type": "stream",
     "text": [
      "C:\\Users\\ibra1001\\Anaconda3\\envs\\qgis\\lib\\site-packages\\scipy\\cluster\\vq.py:575: UserWarning: One of the clusters is empty. Re-run kmeans with a different initialization.\n",
      "  warnings.warn(\"One of the clusters is empty. \"\n",
      "C:\\Users\\ibra1001\\Anaconda3\\envs\\qgis\\lib\\site-packages\\ipykernel_launcher.py:29: UserWarning: CRS mismatch between the CRS of left geometries and the CRS of right geometries.\n",
      "Use `to_crs()` to reproject one of the input geometries to match the CRS of the other.\n",
      "\n",
      "Left CRS: EPSG:4326\n",
      "Right CRS: None\n",
      "\n"
     ]
    },
    {
     "name": "stdout",
     "output_type": "stream",
     "text": [
      "(3378, 56)\n",
      "Region:  7203\n",
      "Spatial join\n",
      "K-means\n",
      "Voronoi\n"
     ]
    },
    {
     "name": "stderr",
     "output_type": "stream",
     "text": [
      "C:\\Users\\ibra1001\\Anaconda3\\envs\\qgis\\lib\\site-packages\\ipykernel_launcher.py:29: UserWarning: CRS mismatch between the CRS of left geometries and the CRS of right geometries.\n",
      "Use `to_crs()` to reproject one of the input geometries to match the CRS of the other.\n",
      "\n",
      "Left CRS: EPSG:4326\n",
      "Right CRS: None\n",
      "\n"
     ]
    },
    {
     "name": "stdout",
     "output_type": "stream",
     "text": [
      "(3389, 56)\n",
      "Region:  7301\n",
      "Spatial join\n",
      "K-means\n"
     ]
    },
    {
     "name": "stderr",
     "output_type": "stream",
     "text": [
      "C:\\Users\\ibra1001\\Anaconda3\\envs\\qgis\\lib\\site-packages\\scipy\\cluster\\vq.py:575: UserWarning: One of the clusters is empty. Re-run kmeans with a different initialization.\n",
      "  warnings.warn(\"One of the clusters is empty. \"\n"
     ]
    },
    {
     "name": "stdout",
     "output_type": "stream",
     "text": [
      "Voronoi\n"
     ]
    },
    {
     "name": "stderr",
     "output_type": "stream",
     "text": [
      "C:\\Users\\ibra1001\\Anaconda3\\envs\\qgis\\lib\\site-packages\\ipykernel_launcher.py:29: UserWarning: CRS mismatch between the CRS of left geometries and the CRS of right geometries.\n",
      "Use `to_crs()` to reproject one of the input geometries to match the CRS of the other.\n",
      "\n",
      "Left CRS: EPSG:4326\n",
      "Right CRS: None\n",
      "\n"
     ]
    },
    {
     "name": "stdout",
     "output_type": "stream",
     "text": [
      "(3440, 56)\n",
      "Region:  7302\n",
      "Spatial join\n",
      "K-means\n",
      "Voronoi\n"
     ]
    },
    {
     "name": "stderr",
     "output_type": "stream",
     "text": [
      "C:\\Users\\ibra1001\\Anaconda3\\envs\\qgis\\lib\\site-packages\\ipykernel_launcher.py:29: UserWarning: CRS mismatch between the CRS of left geometries and the CRS of right geometries.\n",
      "Use `to_crs()` to reproject one of the input geometries to match the CRS of the other.\n",
      "\n",
      "Left CRS: EPSG:4326\n",
      "Right CRS: None\n",
      "\n"
     ]
    },
    {
     "name": "stdout",
     "output_type": "stream",
     "text": [
      "(3458, 56)\n",
      "Region:  7303\n",
      "Spatial join\n",
      "K-means\n",
      "Voronoi\n"
     ]
    },
    {
     "name": "stderr",
     "output_type": "stream",
     "text": [
      "C:\\Users\\ibra1001\\Anaconda3\\envs\\qgis\\lib\\site-packages\\ipykernel_launcher.py:29: UserWarning: CRS mismatch between the CRS of left geometries and the CRS of right geometries.\n",
      "Use `to_crs()` to reproject one of the input geometries to match the CRS of the other.\n",
      "\n",
      "Left CRS: EPSG:4326\n",
      "Right CRS: None\n",
      "\n"
     ]
    },
    {
     "name": "stdout",
     "output_type": "stream",
     "text": [
      "(3466, 56)\n",
      "Region:  7304\n",
      "Spatial join\n",
      "K-means\n"
     ]
    },
    {
     "name": "stderr",
     "output_type": "stream",
     "text": [
      "C:\\Users\\ibra1001\\Anaconda3\\envs\\qgis\\lib\\site-packages\\scipy\\cluster\\vq.py:575: UserWarning: One of the clusters is empty. Re-run kmeans with a different initialization.\n",
      "  warnings.warn(\"One of the clusters is empty. \"\n"
     ]
    },
    {
     "name": "stdout",
     "output_type": "stream",
     "text": [
      "Voronoi\n"
     ]
    },
    {
     "name": "stderr",
     "output_type": "stream",
     "text": [
      "C:\\Users\\ibra1001\\Anaconda3\\envs\\qgis\\lib\\site-packages\\ipykernel_launcher.py:29: UserWarning: CRS mismatch between the CRS of left geometries and the CRS of right geometries.\n",
      "Use `to_crs()` to reproject one of the input geometries to match the CRS of the other.\n",
      "\n",
      "Left CRS: EPSG:4326\n",
      "Right CRS: None\n",
      "\n"
     ]
    },
    {
     "name": "stdout",
     "output_type": "stream",
     "text": [
      "(3500, 56)\n",
      "Region:  7305\n",
      "Spatial join\n",
      "K-means\n",
      "Voronoi\n"
     ]
    },
    {
     "name": "stderr",
     "output_type": "stream",
     "text": [
      "C:\\Users\\ibra1001\\Anaconda3\\envs\\qgis\\lib\\site-packages\\ipykernel_launcher.py:29: UserWarning: CRS mismatch between the CRS of left geometries and the CRS of right geometries.\n",
      "Use `to_crs()` to reproject one of the input geometries to match the CRS of the other.\n",
      "\n",
      "Left CRS: EPSG:4326\n",
      "Right CRS: None\n",
      "\n"
     ]
    },
    {
     "name": "stdout",
     "output_type": "stream",
     "text": [
      "(3509, 56)\n",
      "Region:  7306\n",
      "Spatial join\n",
      "K-means\n",
      "Voronoi\n"
     ]
    },
    {
     "name": "stderr",
     "output_type": "stream",
     "text": [
      "C:\\Users\\ibra1001\\Anaconda3\\envs\\qgis\\lib\\site-packages\\ipykernel_launcher.py:29: UserWarning: CRS mismatch between the CRS of left geometries and the CRS of right geometries.\n",
      "Use `to_crs()` to reproject one of the input geometries to match the CRS of the other.\n",
      "\n",
      "Left CRS: EPSG:4326\n",
      "Right CRS: None\n",
      "\n"
     ]
    },
    {
     "name": "stdout",
     "output_type": "stream",
     "text": [
      "(3526, 56)\n",
      "Region:  7307\n",
      "Spatial join\n",
      "K-means\n",
      "Voronoi\n"
     ]
    },
    {
     "name": "stderr",
     "output_type": "stream",
     "text": [
      "C:\\Users\\ibra1001\\Anaconda3\\envs\\qgis\\lib\\site-packages\\ipykernel_launcher.py:29: UserWarning: CRS mismatch between the CRS of left geometries and the CRS of right geometries.\n",
      "Use `to_crs()` to reproject one of the input geometries to match the CRS of the other.\n",
      "\n",
      "Left CRS: EPSG:4326\n",
      "Right CRS: None\n",
      "\n"
     ]
    },
    {
     "name": "stdout",
     "output_type": "stream",
     "text": [
      "(3543, 56)\n",
      "Region:  7308\n",
      "Spatial join\n",
      "K-means\n",
      "Voronoi\n"
     ]
    },
    {
     "name": "stderr",
     "output_type": "stream",
     "text": [
      "C:\\Users\\ibra1001\\Anaconda3\\envs\\qgis\\lib\\site-packages\\ipykernel_launcher.py:29: UserWarning: CRS mismatch between the CRS of left geometries and the CRS of right geometries.\n",
      "Use `to_crs()` to reproject one of the input geometries to match the CRS of the other.\n",
      "\n",
      "Left CRS: EPSG:4326\n",
      "Right CRS: None\n",
      "\n"
     ]
    },
    {
     "name": "stdout",
     "output_type": "stream",
     "text": [
      "(3558, 56)\n",
      "Region:  7309\n",
      "Spatial join\n",
      "K-means\n",
      "Voronoi\n"
     ]
    },
    {
     "name": "stderr",
     "output_type": "stream",
     "text": [
      "C:\\Users\\ibra1001\\Anaconda3\\envs\\qgis\\lib\\site-packages\\ipykernel_launcher.py:29: UserWarning: CRS mismatch between the CRS of left geometries and the CRS of right geometries.\n",
      "Use `to_crs()` to reproject one of the input geometries to match the CRS of the other.\n",
      "\n",
      "Left CRS: EPSG:4326\n",
      "Right CRS: None\n",
      "\n"
     ]
    },
    {
     "name": "stdout",
     "output_type": "stream",
     "text": [
      "(3570, 56)\n",
      "Region:  7401\n",
      "Spatial join\n",
      "K-means\n"
     ]
    },
    {
     "name": "stderr",
     "output_type": "stream",
     "text": [
      "C:\\Users\\ibra1001\\Anaconda3\\envs\\qgis\\lib\\site-packages\\scipy\\cluster\\vq.py:575: UserWarning: One of the clusters is empty. Re-run kmeans with a different initialization.\n",
      "  warnings.warn(\"One of the clusters is empty. \"\n"
     ]
    },
    {
     "name": "stdout",
     "output_type": "stream",
     "text": [
      "Voronoi\n"
     ]
    },
    {
     "name": "stderr",
     "output_type": "stream",
     "text": [
      "C:\\Users\\ibra1001\\Anaconda3\\envs\\qgis\\lib\\site-packages\\ipykernel_launcher.py:29: UserWarning: CRS mismatch between the CRS of left geometries and the CRS of right geometries.\n",
      "Use `to_crs()` to reproject one of the input geometries to match the CRS of the other.\n",
      "\n",
      "Left CRS: EPSG:4326\n",
      "Right CRS: None\n",
      "\n"
     ]
    },
    {
     "name": "stdout",
     "output_type": "stream",
     "text": [
      "(3613, 56)\n",
      "Region:  7402\n",
      "Spatial join\n",
      "K-means\n",
      "Voronoi\n"
     ]
    },
    {
     "name": "stderr",
     "output_type": "stream",
     "text": [
      "C:\\Users\\ibra1001\\Anaconda3\\envs\\qgis\\lib\\site-packages\\ipykernel_launcher.py:29: UserWarning: CRS mismatch between the CRS of left geometries and the CRS of right geometries.\n",
      "Use `to_crs()` to reproject one of the input geometries to match the CRS of the other.\n",
      "\n",
      "Left CRS: EPSG:4326\n",
      "Right CRS: None\n",
      "\n"
     ]
    },
    {
     "name": "stdout",
     "output_type": "stream",
     "text": [
      "(3659, 56)\n",
      "Region:  7403\n",
      "Spatial join\n",
      "K-means\n",
      "Voronoi\n"
     ]
    },
    {
     "name": "stderr",
     "output_type": "stream",
     "text": [
      "C:\\Users\\ibra1001\\Anaconda3\\envs\\qgis\\lib\\site-packages\\ipykernel_launcher.py:29: UserWarning: CRS mismatch between the CRS of left geometries and the CRS of right geometries.\n",
      "Use `to_crs()` to reproject one of the input geometries to match the CRS of the other.\n",
      "\n",
      "Left CRS: EPSG:4326\n",
      "Right CRS: None\n",
      "\n"
     ]
    },
    {
     "name": "stdout",
     "output_type": "stream",
     "text": [
      "(3696, 56)\n",
      "Region:  7404\n",
      "Spatial join\n",
      "K-means\n"
     ]
    },
    {
     "name": "stderr",
     "output_type": "stream",
     "text": [
      "C:\\Users\\ibra1001\\Anaconda3\\envs\\qgis\\lib\\site-packages\\scipy\\cluster\\vq.py:575: UserWarning: One of the clusters is empty. Re-run kmeans with a different initialization.\n",
      "  warnings.warn(\"One of the clusters is empty. \"\n"
     ]
    },
    {
     "name": "stdout",
     "output_type": "stream",
     "text": [
      "Voronoi\n"
     ]
    },
    {
     "name": "stderr",
     "output_type": "stream",
     "text": [
      "C:\\Users\\ibra1001\\Anaconda3\\envs\\qgis\\lib\\site-packages\\ipykernel_launcher.py:29: UserWarning: CRS mismatch between the CRS of left geometries and the CRS of right geometries.\n",
      "Use `to_crs()` to reproject one of the input geometries to match the CRS of the other.\n",
      "\n",
      "Left CRS: EPSG:4326\n",
      "Right CRS: None\n",
      "\n"
     ]
    },
    {
     "name": "stdout",
     "output_type": "stream",
     "text": [
      "(3738, 56)\n",
      "Region:  7405\n",
      "Spatial join\n",
      "K-means\n",
      "Voronoi\n"
     ]
    },
    {
     "name": "stderr",
     "output_type": "stream",
     "text": [
      "C:\\Users\\ibra1001\\Anaconda3\\envs\\qgis\\lib\\site-packages\\ipykernel_launcher.py:29: UserWarning: CRS mismatch between the CRS of left geometries and the CRS of right geometries.\n",
      "Use `to_crs()` to reproject one of the input geometries to match the CRS of the other.\n",
      "\n",
      "Left CRS: EPSG:4326\n",
      "Right CRS: None\n",
      "\n"
     ]
    },
    {
     "name": "stdout",
     "output_type": "stream",
     "text": [
      "(3762, 56)\n",
      "Region:  7406\n",
      "Spatial join\n",
      "K-means\n"
     ]
    },
    {
     "name": "stderr",
     "output_type": "stream",
     "text": [
      "C:\\Users\\ibra1001\\Anaconda3\\envs\\qgis\\lib\\site-packages\\scipy\\cluster\\vq.py:575: UserWarning: One of the clusters is empty. Re-run kmeans with a different initialization.\n",
      "  warnings.warn(\"One of the clusters is empty. \"\n"
     ]
    },
    {
     "name": "stdout",
     "output_type": "stream",
     "text": [
      "Voronoi\n"
     ]
    },
    {
     "name": "stderr",
     "output_type": "stream",
     "text": [
      "C:\\Users\\ibra1001\\Anaconda3\\envs\\qgis\\lib\\site-packages\\ipykernel_launcher.py:29: UserWarning: CRS mismatch between the CRS of left geometries and the CRS of right geometries.\n",
      "Use `to_crs()` to reproject one of the input geometries to match the CRS of the other.\n",
      "\n",
      "Left CRS: EPSG:4326\n",
      "Right CRS: None\n",
      "\n"
     ]
    },
    {
     "name": "stdout",
     "output_type": "stream",
     "text": [
      "(3803, 56)\n",
      "Region:  7407\n",
      "Spatial join\n",
      "K-means\n",
      "Voronoi\n"
     ]
    },
    {
     "name": "stderr",
     "output_type": "stream",
     "text": [
      "C:\\Users\\ibra1001\\Anaconda3\\envs\\qgis\\lib\\site-packages\\ipykernel_launcher.py:29: UserWarning: CRS mismatch between the CRS of left geometries and the CRS of right geometries.\n",
      "Use `to_crs()` to reproject one of the input geometries to match the CRS of the other.\n",
      "\n",
      "Left CRS: EPSG:4326\n",
      "Right CRS: None\n",
      "\n"
     ]
    },
    {
     "name": "stdout",
     "output_type": "stream",
     "text": [
      "(3810, 56)\n",
      "Region:  7408\n",
      "Spatial join\n",
      "K-means\n",
      "Voronoi\n"
     ]
    },
    {
     "name": "stderr",
     "output_type": "stream",
     "text": [
      "C:\\Users\\ibra1001\\Anaconda3\\envs\\qgis\\lib\\site-packages\\scipy\\cluster\\vq.py:575: UserWarning: One of the clusters is empty. Re-run kmeans with a different initialization.\n",
      "  warnings.warn(\"One of the clusters is empty. \"\n",
      "C:\\Users\\ibra1001\\Anaconda3\\envs\\qgis\\lib\\site-packages\\ipykernel_launcher.py:29: UserWarning: CRS mismatch between the CRS of left geometries and the CRS of right geometries.\n",
      "Use `to_crs()` to reproject one of the input geometries to match the CRS of the other.\n",
      "\n",
      "Left CRS: EPSG:4326\n",
      "Right CRS: None\n",
      "\n"
     ]
    },
    {
     "name": "stdout",
     "output_type": "stream",
     "text": [
      "(3819, 56)\n",
      "Region:  8101\n",
      "Spatial join\n",
      "K-means\n"
     ]
    },
    {
     "name": "stderr",
     "output_type": "stream",
     "text": [
      "C:\\Users\\ibra1001\\Anaconda3\\envs\\qgis\\lib\\site-packages\\scipy\\cluster\\vq.py:575: UserWarning: One of the clusters is empty. Re-run kmeans with a different initialization.\n",
      "  warnings.warn(\"One of the clusters is empty. \"\n"
     ]
    },
    {
     "name": "stdout",
     "output_type": "stream",
     "text": [
      "Voronoi\n"
     ]
    },
    {
     "name": "stderr",
     "output_type": "stream",
     "text": [
      "C:\\Users\\ibra1001\\Anaconda3\\envs\\qgis\\lib\\site-packages\\ipykernel_launcher.py:29: UserWarning: CRS mismatch between the CRS of left geometries and the CRS of right geometries.\n",
      "Use `to_crs()` to reproject one of the input geometries to match the CRS of the other.\n",
      "\n",
      "Left CRS: EPSG:4326\n",
      "Right CRS: None\n",
      "\n"
     ]
    },
    {
     "name": "stdout",
     "output_type": "stream",
     "text": [
      "(3858, 56)\n",
      "Region:  8102\n",
      "Spatial join\n",
      "K-means\n"
     ]
    },
    {
     "name": "stderr",
     "output_type": "stream",
     "text": [
      "C:\\Users\\ibra1001\\Anaconda3\\envs\\qgis\\lib\\site-packages\\scipy\\cluster\\vq.py:575: UserWarning: One of the clusters is empty. Re-run kmeans with a different initialization.\n",
      "  warnings.warn(\"One of the clusters is empty. \"\n"
     ]
    },
    {
     "name": "stdout",
     "output_type": "stream",
     "text": [
      "Voronoi\n"
     ]
    },
    {
     "name": "stderr",
     "output_type": "stream",
     "text": [
      "C:\\Users\\ibra1001\\Anaconda3\\envs\\qgis\\lib\\site-packages\\ipykernel_launcher.py:29: UserWarning: CRS mismatch between the CRS of left geometries and the CRS of right geometries.\n",
      "Use `to_crs()` to reproject one of the input geometries to match the CRS of the other.\n",
      "\n",
      "Left CRS: EPSG:4326\n",
      "Right CRS: None\n",
      "\n"
     ]
    },
    {
     "name": "stdout",
     "output_type": "stream",
     "text": [
      "(3885, 56)\n",
      "Region:  8103\n",
      "Spatial join\n",
      "K-means\n",
      "Voronoi\n"
     ]
    },
    {
     "name": "stderr",
     "output_type": "stream",
     "text": [
      "C:\\Users\\ibra1001\\Anaconda3\\envs\\qgis\\lib\\site-packages\\scipy\\cluster\\vq.py:575: UserWarning: One of the clusters is empty. Re-run kmeans with a different initialization.\n",
      "  warnings.warn(\"One of the clusters is empty. \"\n",
      "C:\\Users\\ibra1001\\Anaconda3\\envs\\qgis\\lib\\site-packages\\ipykernel_launcher.py:29: UserWarning: CRS mismatch between the CRS of left geometries and the CRS of right geometries.\n",
      "Use `to_crs()` to reproject one of the input geometries to match the CRS of the other.\n",
      "\n",
      "Left CRS: EPSG:4326\n",
      "Right CRS: None\n",
      "\n"
     ]
    },
    {
     "name": "stdout",
     "output_type": "stream",
     "text": [
      "(3901, 56)\n",
      "Region:  8104\n",
      "Spatial join\n",
      "K-means\n",
      "Voronoi\n"
     ]
    },
    {
     "name": "stderr",
     "output_type": "stream",
     "text": [
      "C:\\Users\\ibra1001\\Anaconda3\\envs\\qgis\\lib\\site-packages\\ipykernel_launcher.py:29: UserWarning: CRS mismatch between the CRS of left geometries and the CRS of right geometries.\n",
      "Use `to_crs()` to reproject one of the input geometries to match the CRS of the other.\n",
      "\n",
      "Left CRS: EPSG:4326\n",
      "Right CRS: None\n",
      "\n"
     ]
    },
    {
     "name": "stdout",
     "output_type": "stream",
     "text": [
      "(3919, 56)\n",
      "Region:  8105\n",
      "Spatial join\n",
      "K-means\n",
      "Voronoi\n"
     ]
    },
    {
     "name": "stderr",
     "output_type": "stream",
     "text": [
      "C:\\Users\\ibra1001\\Anaconda3\\envs\\qgis\\lib\\site-packages\\ipykernel_launcher.py:29: UserWarning: CRS mismatch between the CRS of left geometries and the CRS of right geometries.\n",
      "Use `to_crs()` to reproject one of the input geometries to match the CRS of the other.\n",
      "\n",
      "Left CRS: EPSG:4326\n",
      "Right CRS: None\n",
      "\n"
     ]
    },
    {
     "name": "stdout",
     "output_type": "stream",
     "text": [
      "(3937, 56)\n",
      "Region:  8106\n",
      "Spatial join\n",
      "K-means\n",
      "Voronoi\n"
     ]
    },
    {
     "name": "stderr",
     "output_type": "stream",
     "text": [
      "C:\\Users\\ibra1001\\Anaconda3\\envs\\qgis\\lib\\site-packages\\scipy\\cluster\\vq.py:575: UserWarning: One of the clusters is empty. Re-run kmeans with a different initialization.\n",
      "  warnings.warn(\"One of the clusters is empty. \"\n",
      "C:\\Users\\ibra1001\\Anaconda3\\envs\\qgis\\lib\\site-packages\\ipykernel_launcher.py:29: UserWarning: CRS mismatch between the CRS of left geometries and the CRS of right geometries.\n",
      "Use `to_crs()` to reproject one of the input geometries to match the CRS of the other.\n",
      "\n",
      "Left CRS: EPSG:4326\n",
      "Right CRS: None\n",
      "\n"
     ]
    },
    {
     "name": "stdout",
     "output_type": "stream",
     "text": [
      "(3948, 56)\n",
      "Region:  8107\n",
      "Spatial join\n",
      "K-means\n"
     ]
    },
    {
     "name": "stderr",
     "output_type": "stream",
     "text": [
      "C:\\Users\\ibra1001\\Anaconda3\\envs\\qgis\\lib\\site-packages\\scipy\\cluster\\vq.py:575: UserWarning: One of the clusters is empty. Re-run kmeans with a different initialization.\n",
      "  warnings.warn(\"One of the clusters is empty. \"\n"
     ]
    },
    {
     "name": "stdout",
     "output_type": "stream",
     "text": [
      "Voronoi\n"
     ]
    },
    {
     "name": "stderr",
     "output_type": "stream",
     "text": [
      "C:\\Users\\ibra1001\\Anaconda3\\envs\\qgis\\lib\\site-packages\\ipykernel_launcher.py:29: UserWarning: CRS mismatch between the CRS of left geometries and the CRS of right geometries.\n",
      "Use `to_crs()` to reproject one of the input geometries to match the CRS of the other.\n",
      "\n",
      "Left CRS: EPSG:4326\n",
      "Right CRS: None\n",
      "\n"
     ]
    },
    {
     "name": "stdout",
     "output_type": "stream",
     "text": [
      "(3959, 56)\n",
      "Region:  8108\n",
      "Spatial join\n",
      "K-means\n",
      "Voronoi\n"
     ]
    },
    {
     "name": "stderr",
     "output_type": "stream",
     "text": [
      "C:\\Users\\ibra1001\\Anaconda3\\envs\\qgis\\lib\\site-packages\\scipy\\cluster\\vq.py:575: UserWarning: One of the clusters is empty. Re-run kmeans with a different initialization.\n",
      "  warnings.warn(\"One of the clusters is empty. \"\n",
      "C:\\Users\\ibra1001\\Anaconda3\\envs\\qgis\\lib\\site-packages\\ipykernel_launcher.py:29: UserWarning: CRS mismatch between the CRS of left geometries and the CRS of right geometries.\n",
      "Use `to_crs()` to reproject one of the input geometries to match the CRS of the other.\n",
      "\n",
      "Left CRS: EPSG:4326\n",
      "Right CRS: None\n",
      "\n"
     ]
    },
    {
     "name": "stdout",
     "output_type": "stream",
     "text": [
      "(3981, 56)\n",
      "Region:  8109\n",
      "Spatial join\n",
      "K-means\n",
      "Voronoi\n"
     ]
    },
    {
     "name": "stderr",
     "output_type": "stream",
     "text": [
      "C:\\Users\\ibra1001\\Anaconda3\\envs\\qgis\\lib\\site-packages\\ipykernel_launcher.py:29: UserWarning: CRS mismatch between the CRS of left geometries and the CRS of right geometries.\n",
      "Use `to_crs()` to reproject one of the input geometries to match the CRS of the other.\n",
      "\n",
      "Left CRS: EPSG:4326\n",
      "Right CRS: None\n",
      "\n"
     ]
    },
    {
     "name": "stdout",
     "output_type": "stream",
     "text": [
      "(4004, 56)\n",
      "Region:  8110\n",
      "Spatial join\n",
      "K-means\n"
     ]
    },
    {
     "name": "stderr",
     "output_type": "stream",
     "text": [
      "C:\\Users\\ibra1001\\Anaconda3\\envs\\qgis\\lib\\site-packages\\scipy\\cluster\\vq.py:575: UserWarning: One of the clusters is empty. Re-run kmeans with a different initialization.\n",
      "  warnings.warn(\"One of the clusters is empty. \"\n"
     ]
    },
    {
     "name": "stdout",
     "output_type": "stream",
     "text": [
      "Voronoi\n"
     ]
    },
    {
     "name": "stderr",
     "output_type": "stream",
     "text": [
      "C:\\Users\\ibra1001\\Anaconda3\\envs\\qgis\\lib\\site-packages\\ipykernel_launcher.py:29: UserWarning: CRS mismatch between the CRS of left geometries and the CRS of right geometries.\n",
      "Use `to_crs()` to reproject one of the input geometries to match the CRS of the other.\n",
      "\n",
      "Left CRS: EPSG:4326\n",
      "Right CRS: None\n",
      "\n"
     ]
    },
    {
     "name": "stdout",
     "output_type": "stream",
     "text": [
      "(4034, 56)\n",
      "Region:  8111\n",
      "Spatial join\n",
      "K-means\n"
     ]
    },
    {
     "name": "stderr",
     "output_type": "stream",
     "text": [
      "C:\\Users\\ibra1001\\Anaconda3\\envs\\qgis\\lib\\site-packages\\scipy\\cluster\\vq.py:575: UserWarning: One of the clusters is empty. Re-run kmeans with a different initialization.\n",
      "  warnings.warn(\"One of the clusters is empty. \"\n"
     ]
    },
    {
     "name": "stdout",
     "output_type": "stream",
     "text": [
      "Voronoi\n"
     ]
    },
    {
     "name": "stderr",
     "output_type": "stream",
     "text": [
      "C:\\Users\\ibra1001\\Anaconda3\\envs\\qgis\\lib\\site-packages\\ipykernel_launcher.py:29: UserWarning: CRS mismatch between the CRS of left geometries and the CRS of right geometries.\n",
      "Use `to_crs()` to reproject one of the input geometries to match the CRS of the other.\n",
      "\n",
      "Left CRS: EPSG:4326\n",
      "Right CRS: None\n",
      "\n"
     ]
    },
    {
     "name": "stdout",
     "output_type": "stream",
     "text": [
      "(4056, 56)\n",
      "Region:  8112\n",
      "Spatial join\n",
      "K-means\n",
      "Voronoi\n"
     ]
    },
    {
     "name": "stderr",
     "output_type": "stream",
     "text": [
      "C:\\Users\\ibra1001\\Anaconda3\\envs\\qgis\\lib\\site-packages\\scipy\\cluster\\vq.py:575: UserWarning: One of the clusters is empty. Re-run kmeans with a different initialization.\n",
      "  warnings.warn(\"One of the clusters is empty. \"\n",
      "C:\\Users\\ibra1001\\Anaconda3\\envs\\qgis\\lib\\site-packages\\ipykernel_launcher.py:29: UserWarning: CRS mismatch between the CRS of left geometries and the CRS of right geometries.\n",
      "Use `to_crs()` to reproject one of the input geometries to match the CRS of the other.\n",
      "\n",
      "Left CRS: EPSG:4326\n",
      "Right CRS: None\n",
      "\n"
     ]
    },
    {
     "name": "stdout",
     "output_type": "stream",
     "text": [
      "(4072, 56)\n",
      "Region:  8201\n",
      "Spatial join\n",
      "K-means\n",
      "Voronoi\n"
     ]
    },
    {
     "name": "stderr",
     "output_type": "stream",
     "text": [
      "C:\\Users\\ibra1001\\Anaconda3\\envs\\qgis\\lib\\site-packages\\ipykernel_launcher.py:29: UserWarning: CRS mismatch between the CRS of left geometries and the CRS of right geometries.\n",
      "Use `to_crs()` to reproject one of the input geometries to match the CRS of the other.\n",
      "\n",
      "Left CRS: EPSG:4326\n",
      "Right CRS: None\n",
      "\n"
     ]
    },
    {
     "name": "stdout",
     "output_type": "stream",
     "text": [
      "(4089, 56)\n",
      "Region:  8202\n",
      "Spatial join\n",
      "K-means\n",
      "Voronoi\n"
     ]
    },
    {
     "name": "stderr",
     "output_type": "stream",
     "text": [
      "C:\\Users\\ibra1001\\Anaconda3\\envs\\qgis\\lib\\site-packages\\ipykernel_launcher.py:29: UserWarning: CRS mismatch between the CRS of left geometries and the CRS of right geometries.\n",
      "Use `to_crs()` to reproject one of the input geometries to match the CRS of the other.\n",
      "\n",
      "Left CRS: EPSG:4326\n",
      "Right CRS: None\n",
      "\n"
     ]
    },
    {
     "name": "stdout",
     "output_type": "stream",
     "text": [
      "(4121, 56)\n",
      "Region:  8203\n",
      "Spatial join\n",
      "K-means\n",
      "Voronoi\n"
     ]
    },
    {
     "name": "stderr",
     "output_type": "stream",
     "text": [
      "C:\\Users\\ibra1001\\Anaconda3\\envs\\qgis\\lib\\site-packages\\ipykernel_launcher.py:29: UserWarning: CRS mismatch between the CRS of left geometries and the CRS of right geometries.\n",
      "Use `to_crs()` to reproject one of the input geometries to match the CRS of the other.\n",
      "\n",
      "Left CRS: EPSG:4326\n",
      "Right CRS: None\n",
      "\n"
     ]
    },
    {
     "name": "stdout",
     "output_type": "stream",
     "text": [
      "(4154, 56)\n",
      "Region:  8204\n",
      "Spatial join\n",
      "K-means\n",
      "Voronoi\n"
     ]
    },
    {
     "name": "stderr",
     "output_type": "stream",
     "text": [
      "C:\\Users\\ibra1001\\Anaconda3\\envs\\qgis\\lib\\site-packages\\ipykernel_launcher.py:29: UserWarning: CRS mismatch between the CRS of left geometries and the CRS of right geometries.\n",
      "Use `to_crs()` to reproject one of the input geometries to match the CRS of the other.\n",
      "\n",
      "Left CRS: EPSG:4326\n",
      "Right CRS: None\n",
      "\n"
     ]
    },
    {
     "name": "stdout",
     "output_type": "stream",
     "text": [
      "(4171, 56)\n",
      "Region:  8205\n",
      "Spatial join\n",
      "K-means\n"
     ]
    },
    {
     "name": "stderr",
     "output_type": "stream",
     "text": [
      "C:\\Users\\ibra1001\\Anaconda3\\envs\\qgis\\lib\\site-packages\\scipy\\cluster\\vq.py:575: UserWarning: One of the clusters is empty. Re-run kmeans with a different initialization.\n",
      "  warnings.warn(\"One of the clusters is empty. \"\n"
     ]
    },
    {
     "name": "stdout",
     "output_type": "stream",
     "text": [
      "Voronoi\n"
     ]
    },
    {
     "name": "stderr",
     "output_type": "stream",
     "text": [
      "C:\\Users\\ibra1001\\Anaconda3\\envs\\qgis\\lib\\site-packages\\ipykernel_launcher.py:29: UserWarning: CRS mismatch between the CRS of left geometries and the CRS of right geometries.\n",
      "Use `to_crs()` to reproject one of the input geometries to match the CRS of the other.\n",
      "\n",
      "Left CRS: EPSG:4326\n",
      "Right CRS: None\n",
      "\n"
     ]
    },
    {
     "name": "stdout",
     "output_type": "stream",
     "text": [
      "(4204, 56)\n",
      "Region:  8206\n",
      "Spatial join\n",
      "K-means\n",
      "Voronoi\n"
     ]
    },
    {
     "name": "stderr",
     "output_type": "stream",
     "text": [
      "C:\\Users\\ibra1001\\Anaconda3\\envs\\qgis\\lib\\site-packages\\ipykernel_launcher.py:29: UserWarning: CRS mismatch between the CRS of left geometries and the CRS of right geometries.\n",
      "Use `to_crs()` to reproject one of the input geometries to match the CRS of the other.\n",
      "\n",
      "Left CRS: EPSG:4326\n",
      "Right CRS: None\n",
      "\n"
     ]
    },
    {
     "name": "stdout",
     "output_type": "stream",
     "text": [
      "(4224, 56)\n",
      "Region:  8207\n",
      "Spatial join\n",
      "K-means\n",
      "Voronoi\n"
     ]
    },
    {
     "name": "stderr",
     "output_type": "stream",
     "text": [
      "C:\\Users\\ibra1001\\Anaconda3\\envs\\qgis\\lib\\site-packages\\ipykernel_launcher.py:29: UserWarning: CRS mismatch between the CRS of left geometries and the CRS of right geometries.\n",
      "Use `to_crs()` to reproject one of the input geometries to match the CRS of the other.\n",
      "\n",
      "Left CRS: EPSG:4326\n",
      "Right CRS: None\n",
      "\n"
     ]
    },
    {
     "name": "stdout",
     "output_type": "stream",
     "text": [
      "(4242, 56)\n",
      "Region:  8301\n",
      "Spatial join\n",
      "K-means\n"
     ]
    },
    {
     "name": "stderr",
     "output_type": "stream",
     "text": [
      "C:\\Users\\ibra1001\\Anaconda3\\envs\\qgis\\lib\\site-packages\\scipy\\cluster\\vq.py:575: UserWarning: One of the clusters is empty. Re-run kmeans with a different initialization.\n",
      "  warnings.warn(\"One of the clusters is empty. \"\n"
     ]
    },
    {
     "name": "stdout",
     "output_type": "stream",
     "text": [
      "Voronoi\n"
     ]
    },
    {
     "name": "stderr",
     "output_type": "stream",
     "text": [
      "C:\\Users\\ibra1001\\Anaconda3\\envs\\qgis\\lib\\site-packages\\ipykernel_launcher.py:29: UserWarning: CRS mismatch between the CRS of left geometries and the CRS of right geometries.\n",
      "Use `to_crs()` to reproject one of the input geometries to match the CRS of the other.\n",
      "\n",
      "Left CRS: EPSG:4326\n",
      "Right CRS: None\n",
      "\n"
     ]
    },
    {
     "name": "stdout",
     "output_type": "stream",
     "text": [
      "(4325, 56)\n",
      "Region:  8302\n",
      "Spatial join\n",
      "K-means\n",
      "Voronoi\n"
     ]
    },
    {
     "name": "stderr",
     "output_type": "stream",
     "text": [
      "C:\\Users\\ibra1001\\Anaconda3\\envs\\qgis\\lib\\site-packages\\ipykernel_launcher.py:29: UserWarning: CRS mismatch between the CRS of left geometries and the CRS of right geometries.\n",
      "Use `to_crs()` to reproject one of the input geometries to match the CRS of the other.\n",
      "\n",
      "Left CRS: EPSG:4326\n",
      "Right CRS: None\n",
      "\n"
     ]
    },
    {
     "name": "stdout",
     "output_type": "stream",
     "text": [
      "(4345, 56)\n",
      "Region:  8303\n",
      "Spatial join\n",
      "K-means\n"
     ]
    },
    {
     "name": "stderr",
     "output_type": "stream",
     "text": [
      "C:\\Users\\ibra1001\\Anaconda3\\envs\\qgis\\lib\\site-packages\\scipy\\cluster\\vq.py:575: UserWarning: One of the clusters is empty. Re-run kmeans with a different initialization.\n",
      "  warnings.warn(\"One of the clusters is empty. \"\n"
     ]
    },
    {
     "name": "stdout",
     "output_type": "stream",
     "text": [
      "Voronoi\n"
     ]
    },
    {
     "name": "stderr",
     "output_type": "stream",
     "text": [
      "C:\\Users\\ibra1001\\Anaconda3\\envs\\qgis\\lib\\site-packages\\ipykernel_launcher.py:29: UserWarning: CRS mismatch between the CRS of left geometries and the CRS of right geometries.\n",
      "Use `to_crs()` to reproject one of the input geometries to match the CRS of the other.\n",
      "\n",
      "Left CRS: EPSG:4326\n",
      "Right CRS: None\n",
      "\n"
     ]
    },
    {
     "name": "stdout",
     "output_type": "stream",
     "text": [
      "(4367, 56)\n",
      "Region:  8304\n",
      "Spatial join\n",
      "K-means\n",
      "Voronoi\n"
     ]
    },
    {
     "name": "stderr",
     "output_type": "stream",
     "text": [
      "C:\\Users\\ibra1001\\Anaconda3\\envs\\qgis\\lib\\site-packages\\ipykernel_launcher.py:29: UserWarning: CRS mismatch between the CRS of left geometries and the CRS of right geometries.\n",
      "Use `to_crs()` to reproject one of the input geometries to match the CRS of the other.\n",
      "\n",
      "Left CRS: EPSG:4326\n",
      "Right CRS: None\n",
      "\n"
     ]
    },
    {
     "name": "stdout",
     "output_type": "stream",
     "text": [
      "(4380, 56)\n",
      "Region:  8305\n",
      "Spatial join\n",
      "K-means\n",
      "Voronoi\n"
     ]
    },
    {
     "name": "stderr",
     "output_type": "stream",
     "text": [
      "C:\\Users\\ibra1001\\Anaconda3\\envs\\qgis\\lib\\site-packages\\ipykernel_launcher.py:29: UserWarning: CRS mismatch between the CRS of left geometries and the CRS of right geometries.\n",
      "Use `to_crs()` to reproject one of the input geometries to match the CRS of the other.\n",
      "\n",
      "Left CRS: EPSG:4326\n",
      "Right CRS: None\n",
      "\n"
     ]
    },
    {
     "name": "stdout",
     "output_type": "stream",
     "text": [
      "(4431, 56)\n",
      "Region:  8306\n",
      "Spatial join\n",
      "K-means\n",
      "Voronoi\n"
     ]
    },
    {
     "name": "stderr",
     "output_type": "stream",
     "text": [
      "C:\\Users\\ibra1001\\Anaconda3\\envs\\qgis\\lib\\site-packages\\ipykernel_launcher.py:29: UserWarning: CRS mismatch between the CRS of left geometries and the CRS of right geometries.\n",
      "Use `to_crs()` to reproject one of the input geometries to match the CRS of the other.\n",
      "\n",
      "Left CRS: EPSG:4326\n",
      "Right CRS: None\n",
      "\n"
     ]
    },
    {
     "name": "stdout",
     "output_type": "stream",
     "text": [
      "(4460, 56)\n",
      "Region:  8307\n",
      "Spatial join\n",
      "K-means\n",
      "Voronoi\n"
     ]
    },
    {
     "name": "stderr",
     "output_type": "stream",
     "text": [
      "C:\\Users\\ibra1001\\Anaconda3\\envs\\qgis\\lib\\site-packages\\ipykernel_launcher.py:29: UserWarning: CRS mismatch between the CRS of left geometries and the CRS of right geometries.\n",
      "Use `to_crs()` to reproject one of the input geometries to match the CRS of the other.\n",
      "\n",
      "Left CRS: EPSG:4326\n",
      "Right CRS: None\n",
      "\n"
     ]
    },
    {
     "name": "stdout",
     "output_type": "stream",
     "text": [
      "(4466, 56)\n",
      "Region:  8308\n",
      "Spatial join\n",
      "K-means\n",
      "Voronoi\n"
     ]
    },
    {
     "name": "stderr",
     "output_type": "stream",
     "text": [
      "C:\\Users\\ibra1001\\Anaconda3\\envs\\qgis\\lib\\site-packages\\ipykernel_launcher.py:29: UserWarning: CRS mismatch between the CRS of left geometries and the CRS of right geometries.\n",
      "Use `to_crs()` to reproject one of the input geometries to match the CRS of the other.\n",
      "\n",
      "Left CRS: EPSG:4326\n",
      "Right CRS: None\n",
      "\n"
     ]
    },
    {
     "name": "stdout",
     "output_type": "stream",
     "text": [
      "(4486, 56)\n",
      "Region:  8309\n",
      "Spatial join\n",
      "K-means\n",
      "Voronoi\n"
     ]
    },
    {
     "name": "stderr",
     "output_type": "stream",
     "text": [
      "C:\\Users\\ibra1001\\Anaconda3\\envs\\qgis\\lib\\site-packages\\ipykernel_launcher.py:29: UserWarning: CRS mismatch between the CRS of left geometries and the CRS of right geometries.\n",
      "Use `to_crs()` to reproject one of the input geometries to match the CRS of the other.\n",
      "\n",
      "Left CRS: EPSG:4326\n",
      "Right CRS: None\n",
      "\n"
     ]
    },
    {
     "name": "stdout",
     "output_type": "stream",
     "text": [
      "(4511, 56)\n",
      "Region:  8310\n",
      "Spatial join\n",
      "K-means\n",
      "Voronoi\n"
     ]
    },
    {
     "name": "stderr",
     "output_type": "stream",
     "text": [
      "C:\\Users\\ibra1001\\Anaconda3\\envs\\qgis\\lib\\site-packages\\ipykernel_launcher.py:29: UserWarning: CRS mismatch between the CRS of left geometries and the CRS of right geometries.\n",
      "Use `to_crs()` to reproject one of the input geometries to match the CRS of the other.\n",
      "\n",
      "Left CRS: EPSG:4326\n",
      "Right CRS: None\n",
      "\n"
     ]
    },
    {
     "name": "stdout",
     "output_type": "stream",
     "text": [
      "(4516, 56)\n",
      "Region:  8311\n",
      "Spatial join\n",
      "K-means\n",
      "Voronoi\n"
     ]
    },
    {
     "name": "stderr",
     "output_type": "stream",
     "text": [
      "C:\\Users\\ibra1001\\Anaconda3\\envs\\qgis\\lib\\site-packages\\ipykernel_launcher.py:29: UserWarning: CRS mismatch between the CRS of left geometries and the CRS of right geometries.\n",
      "Use `to_crs()` to reproject one of the input geometries to match the CRS of the other.\n",
      "\n",
      "Left CRS: EPSG:4326\n",
      "Right CRS: None\n",
      "\n"
     ]
    },
    {
     "name": "stdout",
     "output_type": "stream",
     "text": [
      "(4543, 56)\n",
      "Region:  8312\n",
      "Spatial join\n",
      "K-means\n",
      "Voronoi\n"
     ]
    },
    {
     "name": "stderr",
     "output_type": "stream",
     "text": [
      "C:\\Users\\ibra1001\\Anaconda3\\envs\\qgis\\lib\\site-packages\\ipykernel_launcher.py:29: UserWarning: CRS mismatch between the CRS of left geometries and the CRS of right geometries.\n",
      "Use `to_crs()` to reproject one of the input geometries to match the CRS of the other.\n",
      "\n",
      "Left CRS: EPSG:4326\n",
      "Right CRS: None\n",
      "\n"
     ]
    },
    {
     "name": "stdout",
     "output_type": "stream",
     "text": [
      "(4564, 56)\n",
      "Region:  8313\n",
      "Spatial join\n",
      "K-means\n",
      "Voronoi\n"
     ]
    },
    {
     "name": "stderr",
     "output_type": "stream",
     "text": [
      "C:\\Users\\ibra1001\\Anaconda3\\envs\\qgis\\lib\\site-packages\\ipykernel_launcher.py:29: UserWarning: CRS mismatch between the CRS of left geometries and the CRS of right geometries.\n",
      "Use `to_crs()` to reproject one of the input geometries to match the CRS of the other.\n",
      "\n",
      "Left CRS: EPSG:4326\n",
      "Right CRS: None\n",
      "\n"
     ]
    },
    {
     "name": "stdout",
     "output_type": "stream",
     "text": [
      "(4587, 56)\n",
      "Region:  8314\n",
      "Spatial join\n",
      "K-means\n",
      "Voronoi\n"
     ]
    },
    {
     "name": "stderr",
     "output_type": "stream",
     "text": [
      "C:\\Users\\ibra1001\\Anaconda3\\envs\\qgis\\lib\\site-packages\\ipykernel_launcher.py:29: UserWarning: CRS mismatch between the CRS of left geometries and the CRS of right geometries.\n",
      "Use `to_crs()` to reproject one of the input geometries to match the CRS of the other.\n",
      "\n",
      "Left CRS: EPSG:4326\n",
      "Right CRS: None\n",
      "\n"
     ]
    },
    {
     "name": "stdout",
     "output_type": "stream",
     "text": [
      "(4623, 56)\n",
      "Region:  9101\n",
      "Spatial join\n",
      "K-means\n"
     ]
    },
    {
     "name": "stderr",
     "output_type": "stream",
     "text": [
      "C:\\Users\\ibra1001\\Anaconda3\\envs\\qgis\\lib\\site-packages\\scipy\\cluster\\vq.py:575: UserWarning: One of the clusters is empty. Re-run kmeans with a different initialization.\n",
      "  warnings.warn(\"One of the clusters is empty. \"\n"
     ]
    },
    {
     "name": "stdout",
     "output_type": "stream",
     "text": [
      "Voronoi\n"
     ]
    },
    {
     "name": "stderr",
     "output_type": "stream",
     "text": [
      "C:\\Users\\ibra1001\\Anaconda3\\envs\\qgis\\lib\\site-packages\\ipykernel_launcher.py:29: UserWarning: CRS mismatch between the CRS of left geometries and the CRS of right geometries.\n",
      "Use `to_crs()` to reproject one of the input geometries to match the CRS of the other.\n",
      "\n",
      "Left CRS: EPSG:4326\n",
      "Right CRS: None\n",
      "\n"
     ]
    },
    {
     "name": "stdout",
     "output_type": "stream",
     "text": [
      "(4681, 56)\n",
      "Region:  9102\n",
      "Spatial join\n",
      "K-means\n",
      "Voronoi\n"
     ]
    },
    {
     "name": "stderr",
     "output_type": "stream",
     "text": [
      "C:\\Users\\ibra1001\\Anaconda3\\envs\\qgis\\lib\\site-packages\\ipykernel_launcher.py:29: UserWarning: CRS mismatch between the CRS of left geometries and the CRS of right geometries.\n",
      "Use `to_crs()` to reproject one of the input geometries to match the CRS of the other.\n",
      "\n",
      "Left CRS: EPSG:4326\n",
      "Right CRS: None\n",
      "\n"
     ]
    },
    {
     "name": "stdout",
     "output_type": "stream",
     "text": [
      "(4721, 56)\n",
      "Region:  9103\n",
      "Spatial join\n",
      "K-means\n",
      "Voronoi\n"
     ]
    },
    {
     "name": "stderr",
     "output_type": "stream",
     "text": [
      "C:\\Users\\ibra1001\\Anaconda3\\envs\\qgis\\lib\\site-packages\\ipykernel_launcher.py:29: UserWarning: CRS mismatch between the CRS of left geometries and the CRS of right geometries.\n",
      "Use `to_crs()` to reproject one of the input geometries to match the CRS of the other.\n",
      "\n",
      "Left CRS: EPSG:4326\n",
      "Right CRS: None\n",
      "\n"
     ]
    },
    {
     "name": "stdout",
     "output_type": "stream",
     "text": [
      "(4763, 56)\n",
      "Region:  9104\n",
      "Spatial join\n",
      "K-means\n",
      "Voronoi\n"
     ]
    },
    {
     "name": "stderr",
     "output_type": "stream",
     "text": [
      "C:\\Users\\ibra1001\\Anaconda3\\envs\\qgis\\lib\\site-packages\\ipykernel_launcher.py:29: UserWarning: CRS mismatch between the CRS of left geometries and the CRS of right geometries.\n",
      "Use `to_crs()` to reproject one of the input geometries to match the CRS of the other.\n",
      "\n",
      "Left CRS: EPSG:4326\n",
      "Right CRS: None\n",
      "\n"
     ]
    },
    {
     "name": "stdout",
     "output_type": "stream",
     "text": [
      "(4778, 56)\n",
      "Region:  9105\n",
      "Spatial join\n",
      "K-means\n",
      "Voronoi\n"
     ]
    },
    {
     "name": "stderr",
     "output_type": "stream",
     "text": [
      "C:\\Users\\ibra1001\\Anaconda3\\envs\\qgis\\lib\\site-packages\\ipykernel_launcher.py:29: UserWarning: CRS mismatch between the CRS of left geometries and the CRS of right geometries.\n",
      "Use `to_crs()` to reproject one of the input geometries to match the CRS of the other.\n",
      "\n",
      "Left CRS: EPSG:4326\n",
      "Right CRS: None\n",
      "\n"
     ]
    },
    {
     "name": "stdout",
     "output_type": "stream",
     "text": [
      "(4805, 56)\n",
      "Region:  9106\n",
      "Spatial join\n",
      "K-means\n",
      "Voronoi\n"
     ]
    },
    {
     "name": "stderr",
     "output_type": "stream",
     "text": [
      "C:\\Users\\ibra1001\\Anaconda3\\envs\\qgis\\lib\\site-packages\\ipykernel_launcher.py:29: UserWarning: CRS mismatch between the CRS of left geometries and the CRS of right geometries.\n",
      "Use `to_crs()` to reproject one of the input geometries to match the CRS of the other.\n",
      "\n",
      "Left CRS: EPSG:4326\n",
      "Right CRS: None\n",
      "\n"
     ]
    },
    {
     "name": "stdout",
     "output_type": "stream",
     "text": [
      "(4823, 56)\n",
      "Region:  9107\n",
      "Spatial join\n",
      "K-means\n",
      "Voronoi\n"
     ]
    },
    {
     "name": "stderr",
     "output_type": "stream",
     "text": [
      "C:\\Users\\ibra1001\\Anaconda3\\envs\\qgis\\lib\\site-packages\\ipykernel_launcher.py:29: UserWarning: CRS mismatch between the CRS of left geometries and the CRS of right geometries.\n",
      "Use `to_crs()` to reproject one of the input geometries to match the CRS of the other.\n",
      "\n",
      "Left CRS: EPSG:4326\n",
      "Right CRS: None\n",
      "\n"
     ]
    },
    {
     "name": "stdout",
     "output_type": "stream",
     "text": [
      "(4845, 56)\n",
      "Region:  9108\n",
      "Spatial join\n",
      "K-means\n",
      "Voronoi\n"
     ]
    },
    {
     "name": "stderr",
     "output_type": "stream",
     "text": [
      "C:\\Users\\ibra1001\\Anaconda3\\envs\\qgis\\lib\\site-packages\\ipykernel_launcher.py:29: UserWarning: CRS mismatch between the CRS of left geometries and the CRS of right geometries.\n",
      "Use `to_crs()` to reproject one of the input geometries to match the CRS of the other.\n",
      "\n",
      "Left CRS: EPSG:4326\n",
      "Right CRS: None\n",
      "\n"
     ]
    },
    {
     "name": "stdout",
     "output_type": "stream",
     "text": [
      "(4874, 56)\n",
      "Region:  9109\n",
      "Spatial join\n",
      "K-means\n",
      "Voronoi\n"
     ]
    },
    {
     "name": "stderr",
     "output_type": "stream",
     "text": [
      "C:\\Users\\ibra1001\\Anaconda3\\envs\\qgis\\lib\\site-packages\\ipykernel_launcher.py:29: UserWarning: CRS mismatch between the CRS of left geometries and the CRS of right geometries.\n",
      "Use `to_crs()` to reproject one of the input geometries to match the CRS of the other.\n",
      "\n",
      "Left CRS: EPSG:4326\n",
      "Right CRS: None\n",
      "\n"
     ]
    },
    {
     "name": "stdout",
     "output_type": "stream",
     "text": [
      "(4905, 56)\n",
      "Region:  9110\n",
      "Spatial join\n",
      "K-means\n",
      "Voronoi\n"
     ]
    },
    {
     "name": "stderr",
     "output_type": "stream",
     "text": [
      "C:\\Users\\ibra1001\\Anaconda3\\envs\\qgis\\lib\\site-packages\\ipykernel_launcher.py:29: UserWarning: CRS mismatch between the CRS of left geometries and the CRS of right geometries.\n",
      "Use `to_crs()` to reproject one of the input geometries to match the CRS of the other.\n",
      "\n",
      "Left CRS: EPSG:4326\n",
      "Right CRS: None\n",
      "\n"
     ]
    },
    {
     "name": "stdout",
     "output_type": "stream",
     "text": [
      "(4917, 56)\n",
      "Region:  9111\n",
      "Spatial join\n",
      "K-means\n",
      "Voronoi\n"
     ]
    },
    {
     "name": "stderr",
     "output_type": "stream",
     "text": [
      "C:\\Users\\ibra1001\\Anaconda3\\envs\\qgis\\lib\\site-packages\\ipykernel_launcher.py:29: UserWarning: CRS mismatch between the CRS of left geometries and the CRS of right geometries.\n",
      "Use `to_crs()` to reproject one of the input geometries to match the CRS of the other.\n",
      "\n",
      "Left CRS: EPSG:4326\n",
      "Right CRS: None\n",
      "\n"
     ]
    },
    {
     "name": "stdout",
     "output_type": "stream",
     "text": [
      "(4942, 56)\n",
      "Region:  9112\n",
      "Spatial join\n",
      "K-means\n"
     ]
    },
    {
     "name": "stderr",
     "output_type": "stream",
     "text": [
      "C:\\Users\\ibra1001\\Anaconda3\\envs\\qgis\\lib\\site-packages\\scipy\\cluster\\vq.py:575: UserWarning: One of the clusters is empty. Re-run kmeans with a different initialization.\n",
      "  warnings.warn(\"One of the clusters is empty. \"\n"
     ]
    },
    {
     "name": "stdout",
     "output_type": "stream",
     "text": [
      "Voronoi\n"
     ]
    },
    {
     "name": "stderr",
     "output_type": "stream",
     "text": [
      "C:\\Users\\ibra1001\\Anaconda3\\envs\\qgis\\lib\\site-packages\\ipykernel_launcher.py:29: UserWarning: CRS mismatch between the CRS of left geometries and the CRS of right geometries.\n",
      "Use `to_crs()` to reproject one of the input geometries to match the CRS of the other.\n",
      "\n",
      "Left CRS: EPSG:4326\n",
      "Right CRS: None\n",
      "\n"
     ]
    },
    {
     "name": "stdout",
     "output_type": "stream",
     "text": [
      "(4967, 56)\n",
      "Region:  9113\n",
      "Spatial join\n",
      "K-means\n",
      "Voronoi\n"
     ]
    },
    {
     "name": "stderr",
     "output_type": "stream",
     "text": [
      "C:\\Users\\ibra1001\\Anaconda3\\envs\\qgis\\lib\\site-packages\\ipykernel_launcher.py:29: UserWarning: CRS mismatch between the CRS of left geometries and the CRS of right geometries.\n",
      "Use `to_crs()` to reproject one of the input geometries to match the CRS of the other.\n",
      "\n",
      "Left CRS: EPSG:4326\n",
      "Right CRS: None\n",
      "\n"
     ]
    },
    {
     "name": "stdout",
     "output_type": "stream",
     "text": [
      "(4977, 56)\n",
      "Region:  9114\n",
      "Spatial join\n",
      "K-means\n",
      "Voronoi\n"
     ]
    },
    {
     "name": "stderr",
     "output_type": "stream",
     "text": [
      "C:\\Users\\ibra1001\\Anaconda3\\envs\\qgis\\lib\\site-packages\\ipykernel_launcher.py:29: UserWarning: CRS mismatch between the CRS of left geometries and the CRS of right geometries.\n",
      "Use `to_crs()` to reproject one of the input geometries to match the CRS of the other.\n",
      "\n",
      "Left CRS: EPSG:4326\n",
      "Right CRS: None\n",
      "\n"
     ]
    },
    {
     "name": "stdout",
     "output_type": "stream",
     "text": [
      "(4996, 56)\n",
      "Region:  9115\n",
      "Spatial join\n",
      "K-means\n",
      "Voronoi\n"
     ]
    },
    {
     "name": "stderr",
     "output_type": "stream",
     "text": [
      "C:\\Users\\ibra1001\\Anaconda3\\envs\\qgis\\lib\\site-packages\\ipykernel_launcher.py:29: UserWarning: CRS mismatch between the CRS of left geometries and the CRS of right geometries.\n",
      "Use `to_crs()` to reproject one of the input geometries to match the CRS of the other.\n",
      "\n",
      "Left CRS: EPSG:4326\n",
      "Right CRS: None\n",
      "\n"
     ]
    },
    {
     "name": "stdout",
     "output_type": "stream",
     "text": [
      "(5021, 56)\n",
      "Region:  9116\n",
      "Spatial join\n",
      "K-means\n",
      "Voronoi\n"
     ]
    },
    {
     "name": "stderr",
     "output_type": "stream",
     "text": [
      "C:\\Users\\ibra1001\\Anaconda3\\envs\\qgis\\lib\\site-packages\\ipykernel_launcher.py:29: UserWarning: CRS mismatch between the CRS of left geometries and the CRS of right geometries.\n",
      "Use `to_crs()` to reproject one of the input geometries to match the CRS of the other.\n",
      "\n",
      "Left CRS: EPSG:4326\n",
      "Right CRS: None\n",
      "\n"
     ]
    },
    {
     "name": "stdout",
     "output_type": "stream",
     "text": [
      "(5032, 56)\n",
      "Region:  9117\n",
      "Spatial join\n",
      "K-means\n",
      "Voronoi\n"
     ]
    },
    {
     "name": "stderr",
     "output_type": "stream",
     "text": [
      "C:\\Users\\ibra1001\\Anaconda3\\envs\\qgis\\lib\\site-packages\\ipykernel_launcher.py:29: UserWarning: CRS mismatch between the CRS of left geometries and the CRS of right geometries.\n",
      "Use `to_crs()` to reproject one of the input geometries to match the CRS of the other.\n",
      "\n",
      "Left CRS: EPSG:4326\n",
      "Right CRS: None\n",
      "\n"
     ]
    },
    {
     "name": "stdout",
     "output_type": "stream",
     "text": [
      "(5053, 56)\n",
      "Region:  9118\n",
      "Spatial join\n",
      "K-means\n",
      "Voronoi\n"
     ]
    },
    {
     "name": "stderr",
     "output_type": "stream",
     "text": [
      "C:\\Users\\ibra1001\\Anaconda3\\envs\\qgis\\lib\\site-packages\\ipykernel_launcher.py:29: UserWarning: CRS mismatch between the CRS of left geometries and the CRS of right geometries.\n",
      "Use `to_crs()` to reproject one of the input geometries to match the CRS of the other.\n",
      "\n",
      "Left CRS: EPSG:4326\n",
      "Right CRS: None\n",
      "\n"
     ]
    },
    {
     "name": "stdout",
     "output_type": "stream",
     "text": [
      "(5077, 56)\n",
      "Region:  9119\n",
      "Spatial join\n",
      "K-means\n",
      "Voronoi\n"
     ]
    },
    {
     "name": "stderr",
     "output_type": "stream",
     "text": [
      "C:\\Users\\ibra1001\\Anaconda3\\envs\\qgis\\lib\\site-packages\\ipykernel_launcher.py:29: UserWarning: CRS mismatch between the CRS of left geometries and the CRS of right geometries.\n",
      "Use `to_crs()` to reproject one of the input geometries to match the CRS of the other.\n",
      "\n",
      "Left CRS: EPSG:4326\n",
      "Right CRS: None\n",
      "\n"
     ]
    },
    {
     "name": "stdout",
     "output_type": "stream",
     "text": [
      "(5117, 56)\n",
      "Region:  9120\n",
      "Spatial join\n",
      "K-means\n"
     ]
    },
    {
     "name": "stderr",
     "output_type": "stream",
     "text": [
      "C:\\Users\\ibra1001\\Anaconda3\\envs\\qgis\\lib\\site-packages\\scipy\\cluster\\vq.py:575: UserWarning: One of the clusters is empty. Re-run kmeans with a different initialization.\n",
      "  warnings.warn(\"One of the clusters is empty. \"\n"
     ]
    },
    {
     "name": "stdout",
     "output_type": "stream",
     "text": [
      "Voronoi\n"
     ]
    },
    {
     "name": "stderr",
     "output_type": "stream",
     "text": [
      "C:\\Users\\ibra1001\\Anaconda3\\envs\\qgis\\lib\\site-packages\\ipykernel_launcher.py:29: UserWarning: CRS mismatch between the CRS of left geometries and the CRS of right geometries.\n",
      "Use `to_crs()` to reproject one of the input geometries to match the CRS of the other.\n",
      "\n",
      "Left CRS: EPSG:4326\n",
      "Right CRS: None\n",
      "\n"
     ]
    },
    {
     "name": "stdout",
     "output_type": "stream",
     "text": [
      "(5155, 56)\n",
      "Region:  9121\n",
      "Spatial join\n",
      "K-means\n",
      "Voronoi\n"
     ]
    },
    {
     "name": "stderr",
     "output_type": "stream",
     "text": [
      "C:\\Users\\ibra1001\\Anaconda3\\envs\\qgis\\lib\\site-packages\\ipykernel_launcher.py:29: UserWarning: CRS mismatch between the CRS of left geometries and the CRS of right geometries.\n",
      "Use `to_crs()` to reproject one of the input geometries to match the CRS of the other.\n",
      "\n",
      "Left CRS: EPSG:4326\n",
      "Right CRS: None\n",
      "\n"
     ]
    },
    {
     "name": "stdout",
     "output_type": "stream",
     "text": [
      "(5169, 56)\n",
      "Region:  9201\n",
      "Spatial join\n",
      "K-means\n",
      "Voronoi\n"
     ]
    },
    {
     "name": "stderr",
     "output_type": "stream",
     "text": [
      "C:\\Users\\ibra1001\\Anaconda3\\envs\\qgis\\lib\\site-packages\\ipykernel_launcher.py:29: UserWarning: CRS mismatch between the CRS of left geometries and the CRS of right geometries.\n",
      "Use `to_crs()` to reproject one of the input geometries to match the CRS of the other.\n",
      "\n",
      "Left CRS: EPSG:4326\n",
      "Right CRS: None\n",
      "\n"
     ]
    },
    {
     "name": "stdout",
     "output_type": "stream",
     "text": [
      "(5210, 56)\n",
      "Region:  9202\n",
      "Spatial join\n",
      "K-means\n",
      "Voronoi\n"
     ]
    },
    {
     "name": "stderr",
     "output_type": "stream",
     "text": [
      "C:\\Users\\ibra1001\\Anaconda3\\envs\\qgis\\lib\\site-packages\\ipykernel_launcher.py:29: UserWarning: CRS mismatch between the CRS of left geometries and the CRS of right geometries.\n",
      "Use `to_crs()` to reproject one of the input geometries to match the CRS of the other.\n",
      "\n",
      "Left CRS: EPSG:4326\n",
      "Right CRS: None\n",
      "\n"
     ]
    },
    {
     "name": "stdout",
     "output_type": "stream",
     "text": [
      "(5244, 56)\n",
      "Region:  9203\n",
      "Spatial join\n",
      "K-means\n",
      "Voronoi\n"
     ]
    },
    {
     "name": "stderr",
     "output_type": "stream",
     "text": [
      "C:\\Users\\ibra1001\\Anaconda3\\envs\\qgis\\lib\\site-packages\\ipykernel_launcher.py:29: UserWarning: CRS mismatch between the CRS of left geometries and the CRS of right geometries.\n",
      "Use `to_crs()` to reproject one of the input geometries to match the CRS of the other.\n",
      "\n",
      "Left CRS: EPSG:4326\n",
      "Right CRS: None\n",
      "\n"
     ]
    },
    {
     "name": "stdout",
     "output_type": "stream",
     "text": [
      "(5283, 56)\n",
      "Region:  9204\n",
      "Spatial join\n",
      "K-means\n",
      "Voronoi\n"
     ]
    },
    {
     "name": "stderr",
     "output_type": "stream",
     "text": [
      "C:\\Users\\ibra1001\\Anaconda3\\envs\\qgis\\lib\\site-packages\\ipykernel_launcher.py:29: UserWarning: CRS mismatch between the CRS of left geometries and the CRS of right geometries.\n",
      "Use `to_crs()` to reproject one of the input geometries to match the CRS of the other.\n",
      "\n",
      "Left CRS: EPSG:4326\n",
      "Right CRS: None\n",
      "\n"
     ]
    },
    {
     "name": "stdout",
     "output_type": "stream",
     "text": [
      "(5297, 56)\n",
      "Region:  9205\n",
      "Spatial join\n",
      "K-means\n",
      "Voronoi\n"
     ]
    },
    {
     "name": "stderr",
     "output_type": "stream",
     "text": [
      "C:\\Users\\ibra1001\\Anaconda3\\envs\\qgis\\lib\\site-packages\\ipykernel_launcher.py:29: UserWarning: CRS mismatch between the CRS of left geometries and the CRS of right geometries.\n",
      "Use `to_crs()` to reproject one of the input geometries to match the CRS of the other.\n",
      "\n",
      "Left CRS: EPSG:4326\n",
      "Right CRS: None\n",
      "\n"
     ]
    },
    {
     "name": "stdout",
     "output_type": "stream",
     "text": [
      "(5343, 56)\n",
      "Region:  9206\n",
      "Spatial join\n",
      "K-means\n",
      "Voronoi\n"
     ]
    },
    {
     "name": "stderr",
     "output_type": "stream",
     "text": [
      "C:\\Users\\ibra1001\\Anaconda3\\envs\\qgis\\lib\\site-packages\\ipykernel_launcher.py:29: UserWarning: CRS mismatch between the CRS of left geometries and the CRS of right geometries.\n",
      "Use `to_crs()` to reproject one of the input geometries to match the CRS of the other.\n",
      "\n",
      "Left CRS: EPSG:4326\n",
      "Right CRS: None\n",
      "\n"
     ]
    },
    {
     "name": "stdout",
     "output_type": "stream",
     "text": [
      "(5365, 56)\n",
      "Region:  9207\n",
      "Spatial join\n",
      "K-means\n",
      "Voronoi\n"
     ]
    },
    {
     "name": "stderr",
     "output_type": "stream",
     "text": [
      "C:\\Users\\ibra1001\\Anaconda3\\envs\\qgis\\lib\\site-packages\\ipykernel_launcher.py:29: UserWarning: CRS mismatch between the CRS of left geometries and the CRS of right geometries.\n",
      "Use `to_crs()` to reproject one of the input geometries to match the CRS of the other.\n",
      "\n",
      "Left CRS: EPSG:4326\n",
      "Right CRS: None\n",
      "\n"
     ]
    },
    {
     "name": "stdout",
     "output_type": "stream",
     "text": [
      "(5396, 56)\n",
      "Region:  9208\n",
      "Spatial join\n",
      "K-means\n",
      "Voronoi\n"
     ]
    },
    {
     "name": "stderr",
     "output_type": "stream",
     "text": [
      "C:\\Users\\ibra1001\\Anaconda3\\envs\\qgis\\lib\\site-packages\\ipykernel_launcher.py:29: UserWarning: CRS mismatch between the CRS of left geometries and the CRS of right geometries.\n",
      "Use `to_crs()` to reproject one of the input geometries to match the CRS of the other.\n",
      "\n",
      "Left CRS: EPSG:4326\n",
      "Right CRS: None\n",
      "\n"
     ]
    },
    {
     "name": "stdout",
     "output_type": "stream",
     "text": [
      "(5411, 56)\n",
      "Region:  9209\n",
      "Spatial join\n",
      "K-means\n",
      "Voronoi\n"
     ]
    },
    {
     "name": "stderr",
     "output_type": "stream",
     "text": [
      "C:\\Users\\ibra1001\\Anaconda3\\envs\\qgis\\lib\\site-packages\\ipykernel_launcher.py:29: UserWarning: CRS mismatch between the CRS of left geometries and the CRS of right geometries.\n",
      "Use `to_crs()` to reproject one of the input geometries to match the CRS of the other.\n",
      "\n",
      "Left CRS: EPSG:4326\n",
      "Right CRS: None\n",
      "\n"
     ]
    },
    {
     "name": "stdout",
     "output_type": "stream",
     "text": [
      "(5420, 56)\n",
      "Region:  9210\n",
      "Spatial join\n",
      "K-means\n",
      "Voronoi\n"
     ]
    },
    {
     "name": "stderr",
     "output_type": "stream",
     "text": [
      "C:\\Users\\ibra1001\\Anaconda3\\envs\\qgis\\lib\\site-packages\\ipykernel_launcher.py:29: UserWarning: CRS mismatch between the CRS of left geometries and the CRS of right geometries.\n",
      "Use `to_crs()` to reproject one of the input geometries to match the CRS of the other.\n",
      "\n",
      "Left CRS: EPSG:4326\n",
      "Right CRS: None\n",
      "\n"
     ]
    },
    {
     "name": "stdout",
     "output_type": "stream",
     "text": [
      "(5448, 56)\n",
      "Region:  9211\n",
      "Spatial join\n",
      "K-means\n",
      "Voronoi\n"
     ]
    },
    {
     "name": "stderr",
     "output_type": "stream",
     "text": [
      "C:\\Users\\ibra1001\\Anaconda3\\envs\\qgis\\lib\\site-packages\\ipykernel_launcher.py:29: UserWarning: CRS mismatch between the CRS of left geometries and the CRS of right geometries.\n",
      "Use `to_crs()` to reproject one of the input geometries to match the CRS of the other.\n",
      "\n",
      "Left CRS: EPSG:4326\n",
      "Right CRS: None\n",
      "\n"
     ]
    },
    {
     "name": "stdout",
     "output_type": "stream",
     "text": [
      "(5488, 56)\n",
      "Region:  10101\n",
      "Spatial join\n",
      "K-means\n"
     ]
    },
    {
     "name": "stderr",
     "output_type": "stream",
     "text": [
      "C:\\Users\\ibra1001\\Anaconda3\\envs\\qgis\\lib\\site-packages\\scipy\\cluster\\vq.py:575: UserWarning: One of the clusters is empty. Re-run kmeans with a different initialization.\n",
      "  warnings.warn(\"One of the clusters is empty. \"\n"
     ]
    },
    {
     "name": "stdout",
     "output_type": "stream",
     "text": [
      "Voronoi\n"
     ]
    },
    {
     "name": "stderr",
     "output_type": "stream",
     "text": [
      "C:\\Users\\ibra1001\\Anaconda3\\envs\\qgis\\lib\\site-packages\\ipykernel_launcher.py:29: UserWarning: CRS mismatch between the CRS of left geometries and the CRS of right geometries.\n",
      "Use `to_crs()` to reproject one of the input geometries to match the CRS of the other.\n",
      "\n",
      "Left CRS: EPSG:4326\n",
      "Right CRS: None\n",
      "\n"
     ]
    },
    {
     "name": "stdout",
     "output_type": "stream",
     "text": [
      "(5558, 56)\n",
      "Region:  10102\n",
      "Spatial join\n",
      "K-means\n",
      "Voronoi\n"
     ]
    },
    {
     "name": "stderr",
     "output_type": "stream",
     "text": [
      "C:\\Users\\ibra1001\\Anaconda3\\envs\\qgis\\lib\\site-packages\\ipykernel_launcher.py:29: UserWarning: CRS mismatch between the CRS of left geometries and the CRS of right geometries.\n",
      "Use `to_crs()` to reproject one of the input geometries to match the CRS of the other.\n",
      "\n",
      "Left CRS: EPSG:4326\n",
      "Right CRS: None\n",
      "\n"
     ]
    },
    {
     "name": "stdout",
     "output_type": "stream",
     "text": [
      "(5575, 56)\n",
      "Region:  10103\n",
      "Spatial join\n",
      "K-means\n",
      "Voronoi\n"
     ]
    },
    {
     "name": "stderr",
     "output_type": "stream",
     "text": [
      "C:\\Users\\ibra1001\\Anaconda3\\envs\\qgis\\lib\\site-packages\\ipykernel_launcher.py:29: UserWarning: CRS mismatch between the CRS of left geometries and the CRS of right geometries.\n",
      "Use `to_crs()` to reproject one of the input geometries to match the CRS of the other.\n",
      "\n",
      "Left CRS: EPSG:4326\n",
      "Right CRS: None\n",
      "\n"
     ]
    },
    {
     "name": "stdout",
     "output_type": "stream",
     "text": [
      "(5606, 56)\n",
      "Region:  10104\n",
      "Spatial join\n",
      "K-means\n",
      "Voronoi\n"
     ]
    },
    {
     "name": "stderr",
     "output_type": "stream",
     "text": [
      "C:\\Users\\ibra1001\\Anaconda3\\envs\\qgis\\lib\\site-packages\\ipykernel_launcher.py:29: UserWarning: CRS mismatch between the CRS of left geometries and the CRS of right geometries.\n",
      "Use `to_crs()` to reproject one of the input geometries to match the CRS of the other.\n",
      "\n",
      "Left CRS: EPSG:4326\n",
      "Right CRS: None\n",
      "\n"
     ]
    },
    {
     "name": "stdout",
     "output_type": "stream",
     "text": [
      "(5646, 56)\n",
      "Region:  10105\n",
      "Spatial join\n",
      "K-means\n",
      "Voronoi\n"
     ]
    },
    {
     "name": "stderr",
     "output_type": "stream",
     "text": [
      "C:\\Users\\ibra1001\\Anaconda3\\envs\\qgis\\lib\\site-packages\\ipykernel_launcher.py:29: UserWarning: CRS mismatch between the CRS of left geometries and the CRS of right geometries.\n",
      "Use `to_crs()` to reproject one of the input geometries to match the CRS of the other.\n",
      "\n",
      "Left CRS: EPSG:4326\n",
      "Right CRS: None\n",
      "\n"
     ]
    },
    {
     "name": "stdout",
     "output_type": "stream",
     "text": [
      "(5668, 56)\n",
      "Region:  10106\n",
      "Spatial join\n",
      "K-means\n",
      "Voronoi\n"
     ]
    },
    {
     "name": "stderr",
     "output_type": "stream",
     "text": [
      "C:\\Users\\ibra1001\\Anaconda3\\envs\\qgis\\lib\\site-packages\\ipykernel_launcher.py:29: UserWarning: CRS mismatch between the CRS of left geometries and the CRS of right geometries.\n",
      "Use `to_crs()` to reproject one of the input geometries to match the CRS of the other.\n",
      "\n",
      "Left CRS: EPSG:4326\n",
      "Right CRS: None\n",
      "\n"
     ]
    },
    {
     "name": "stdout",
     "output_type": "stream",
     "text": [
      "(5707, 56)\n",
      "Region:  10107\n",
      "Spatial join\n",
      "K-means\n",
      "Voronoi\n"
     ]
    },
    {
     "name": "stderr",
     "output_type": "stream",
     "text": [
      "C:\\Users\\ibra1001\\Anaconda3\\envs\\qgis\\lib\\site-packages\\ipykernel_launcher.py:29: UserWarning: CRS mismatch between the CRS of left geometries and the CRS of right geometries.\n",
      "Use `to_crs()` to reproject one of the input geometries to match the CRS of the other.\n",
      "\n",
      "Left CRS: EPSG:4326\n",
      "Right CRS: None\n",
      "\n"
     ]
    },
    {
     "name": "stdout",
     "output_type": "stream",
     "text": [
      "(5721, 56)\n",
      "Region:  10108\n",
      "Spatial join\n",
      "K-means\n",
      "Voronoi\n"
     ]
    },
    {
     "name": "stderr",
     "output_type": "stream",
     "text": [
      "C:\\Users\\ibra1001\\Anaconda3\\envs\\qgis\\lib\\site-packages\\ipykernel_launcher.py:29: UserWarning: CRS mismatch between the CRS of left geometries and the CRS of right geometries.\n",
      "Use `to_crs()` to reproject one of the input geometries to match the CRS of the other.\n",
      "\n",
      "Left CRS: EPSG:4326\n",
      "Right CRS: None\n",
      "\n"
     ]
    },
    {
     "name": "stdout",
     "output_type": "stream",
     "text": [
      "(5745, 56)\n",
      "Region:  10109\n",
      "Spatial join\n",
      "K-means\n",
      "Voronoi\n"
     ]
    },
    {
     "name": "stderr",
     "output_type": "stream",
     "text": [
      "C:\\Users\\ibra1001\\Anaconda3\\envs\\qgis\\lib\\site-packages\\ipykernel_launcher.py:29: UserWarning: CRS mismatch between the CRS of left geometries and the CRS of right geometries.\n",
      "Use `to_crs()` to reproject one of the input geometries to match the CRS of the other.\n",
      "\n",
      "Left CRS: EPSG:4326\n",
      "Right CRS: None\n",
      "\n"
     ]
    },
    {
     "name": "stdout",
     "output_type": "stream",
     "text": [
      "(5780, 56)\n",
      "Region:  10201\n",
      "Spatial join\n",
      "K-means\n"
     ]
    },
    {
     "name": "stderr",
     "output_type": "stream",
     "text": [
      "C:\\Users\\ibra1001\\Anaconda3\\envs\\qgis\\lib\\site-packages\\scipy\\cluster\\vq.py:575: UserWarning: One of the clusters is empty. Re-run kmeans with a different initialization.\n",
      "  warnings.warn(\"One of the clusters is empty. \"\n"
     ]
    },
    {
     "name": "stdout",
     "output_type": "stream",
     "text": [
      "Voronoi\n"
     ]
    },
    {
     "name": "stderr",
     "output_type": "stream",
     "text": [
      "C:\\Users\\ibra1001\\Anaconda3\\envs\\qgis\\lib\\site-packages\\ipykernel_launcher.py:29: UserWarning: CRS mismatch between the CRS of left geometries and the CRS of right geometries.\n",
      "Use `to_crs()` to reproject one of the input geometries to match the CRS of the other.\n",
      "\n",
      "Left CRS: EPSG:4326\n",
      "Right CRS: None\n",
      "\n"
     ]
    },
    {
     "name": "stdout",
     "output_type": "stream",
     "text": [
      "(5797, 56)\n",
      "Region:  10202\n",
      "Spatial join\n",
      "K-means\n"
     ]
    },
    {
     "name": "stderr",
     "output_type": "stream",
     "text": [
      "C:\\Users\\ibra1001\\Anaconda3\\envs\\qgis\\lib\\site-packages\\scipy\\cluster\\vq.py:575: UserWarning: One of the clusters is empty. Re-run kmeans with a different initialization.\n",
      "  warnings.warn(\"One of the clusters is empty. \"\n"
     ]
    },
    {
     "name": "stdout",
     "output_type": "stream",
     "text": [
      "Voronoi\n"
     ]
    },
    {
     "name": "stderr",
     "output_type": "stream",
     "text": [
      "C:\\Users\\ibra1001\\Anaconda3\\envs\\qgis\\lib\\site-packages\\ipykernel_launcher.py:29: UserWarning: CRS mismatch between the CRS of left geometries and the CRS of right geometries.\n",
      "Use `to_crs()` to reproject one of the input geometries to match the CRS of the other.\n",
      "\n",
      "Left CRS: EPSG:4326\n",
      "Right CRS: None\n",
      "\n"
     ]
    },
    {
     "name": "stdout",
     "output_type": "stream",
     "text": [
      "(5855, 56)\n",
      "Region:  10203\n",
      "Spatial join\n",
      "K-means\n",
      "Voronoi\n"
     ]
    },
    {
     "name": "stderr",
     "output_type": "stream",
     "text": [
      "C:\\Users\\ibra1001\\Anaconda3\\envs\\qgis\\lib\\site-packages\\ipykernel_launcher.py:29: UserWarning: CRS mismatch between the CRS of left geometries and the CRS of right geometries.\n",
      "Use `to_crs()` to reproject one of the input geometries to match the CRS of the other.\n",
      "\n",
      "Left CRS: EPSG:4326\n",
      "Right CRS: None\n",
      "\n"
     ]
    },
    {
     "name": "stdout",
     "output_type": "stream",
     "text": [
      "(5891, 56)\n",
      "Region:  10204\n",
      "Spatial join\n",
      "K-means\n",
      "Voronoi\n"
     ]
    },
    {
     "name": "stderr",
     "output_type": "stream",
     "text": [
      "C:\\Users\\ibra1001\\Anaconda3\\envs\\qgis\\lib\\site-packages\\ipykernel_launcher.py:29: UserWarning: CRS mismatch between the CRS of left geometries and the CRS of right geometries.\n",
      "Use `to_crs()` to reproject one of the input geometries to match the CRS of the other.\n",
      "\n",
      "Left CRS: EPSG:4326\n",
      "Right CRS: None\n",
      "\n"
     ]
    },
    {
     "name": "stdout",
     "output_type": "stream",
     "text": [
      "(5896, 56)\n",
      "Region:  10205\n",
      "Spatial join\n",
      "K-means\n",
      "Voronoi\n"
     ]
    },
    {
     "name": "stderr",
     "output_type": "stream",
     "text": [
      "C:\\Users\\ibra1001\\Anaconda3\\envs\\qgis\\lib\\site-packages\\ipykernel_launcher.py:29: UserWarning: CRS mismatch between the CRS of left geometries and the CRS of right geometries.\n",
      "Use `to_crs()` to reproject one of the input geometries to match the CRS of the other.\n",
      "\n",
      "Left CRS: EPSG:4326\n",
      "Right CRS: None\n",
      "\n"
     ]
    },
    {
     "name": "stdout",
     "output_type": "stream",
     "text": [
      "(5927, 56)\n",
      "Region:  10206\n",
      "Spatial join\n",
      "K-means\n",
      "Voronoi\n"
     ]
    },
    {
     "name": "stderr",
     "output_type": "stream",
     "text": [
      "C:\\Users\\ibra1001\\Anaconda3\\envs\\qgis\\lib\\site-packages\\ipykernel_launcher.py:29: UserWarning: CRS mismatch between the CRS of left geometries and the CRS of right geometries.\n",
      "Use `to_crs()` to reproject one of the input geometries to match the CRS of the other.\n",
      "\n",
      "Left CRS: EPSG:4326\n",
      "Right CRS: None\n",
      "\n"
     ]
    },
    {
     "name": "stdout",
     "output_type": "stream",
     "text": [
      "(5932, 56)\n",
      "Region:  10207\n",
      "Spatial join\n",
      "K-means\n",
      "Voronoi\n"
     ]
    },
    {
     "name": "stderr",
     "output_type": "stream",
     "text": [
      "C:\\Users\\ibra1001\\Anaconda3\\envs\\qgis\\lib\\site-packages\\ipykernel_launcher.py:29: UserWarning: CRS mismatch between the CRS of left geometries and the CRS of right geometries.\n",
      "Use `to_crs()` to reproject one of the input geometries to match the CRS of the other.\n",
      "\n",
      "Left CRS: EPSG:4326\n",
      "Right CRS: None\n",
      "\n"
     ]
    },
    {
     "name": "stdout",
     "output_type": "stream",
     "text": [
      "(5942, 56)\n",
      "Region:  10208\n",
      "Spatial join\n",
      "K-means\n",
      "Voronoi\n"
     ]
    },
    {
     "name": "stderr",
     "output_type": "stream",
     "text": [
      "C:\\Users\\ibra1001\\Anaconda3\\envs\\qgis\\lib\\site-packages\\ipykernel_launcher.py:29: UserWarning: CRS mismatch between the CRS of left geometries and the CRS of right geometries.\n",
      "Use `to_crs()` to reproject one of the input geometries to match the CRS of the other.\n",
      "\n",
      "Left CRS: EPSG:4326\n",
      "Right CRS: None\n",
      "\n"
     ]
    },
    {
     "name": "stdout",
     "output_type": "stream",
     "text": [
      "(6042, 56)\n",
      "Region:  10209\n",
      "Spatial join\n",
      "K-means\n",
      "Voronoi\n"
     ]
    },
    {
     "name": "stderr",
     "output_type": "stream",
     "text": [
      "C:\\Users\\ibra1001\\Anaconda3\\envs\\qgis\\lib\\site-packages\\ipykernel_launcher.py:29: UserWarning: CRS mismatch between the CRS of left geometries and the CRS of right geometries.\n",
      "Use `to_crs()` to reproject one of the input geometries to match the CRS of the other.\n",
      "\n",
      "Left CRS: EPSG:4326\n",
      "Right CRS: None\n",
      "\n"
     ]
    },
    {
     "name": "stdout",
     "output_type": "stream",
     "text": [
      "(6053, 56)\n",
      "Region:  10210\n",
      "Spatial join\n",
      "K-means\n",
      "Voronoi\n"
     ]
    },
    {
     "name": "stderr",
     "output_type": "stream",
     "text": [
      "C:\\Users\\ibra1001\\Anaconda3\\envs\\qgis\\lib\\site-packages\\ipykernel_launcher.py:29: UserWarning: CRS mismatch between the CRS of left geometries and the CRS of right geometries.\n",
      "Use `to_crs()` to reproject one of the input geometries to match the CRS of the other.\n",
      "\n",
      "Left CRS: EPSG:4326\n",
      "Right CRS: None\n",
      "\n"
     ]
    },
    {
     "name": "stdout",
     "output_type": "stream",
     "text": [
      "(6053, 56)\n",
      "Region:  10301\n",
      "Spatial join\n",
      "K-means\n"
     ]
    },
    {
     "name": "stderr",
     "output_type": "stream",
     "text": [
      "C:\\Users\\ibra1001\\Anaconda3\\envs\\qgis\\lib\\site-packages\\scipy\\cluster\\vq.py:575: UserWarning: One of the clusters is empty. Re-run kmeans with a different initialization.\n",
      "  warnings.warn(\"One of the clusters is empty. \"\n"
     ]
    },
    {
     "name": "stdout",
     "output_type": "stream",
     "text": [
      "Voronoi\n"
     ]
    },
    {
     "name": "stderr",
     "output_type": "stream",
     "text": [
      "C:\\Users\\ibra1001\\Anaconda3\\envs\\qgis\\lib\\site-packages\\ipykernel_launcher.py:29: UserWarning: CRS mismatch between the CRS of left geometries and the CRS of right geometries.\n",
      "Use `to_crs()` to reproject one of the input geometries to match the CRS of the other.\n",
      "\n",
      "Left CRS: EPSG:4326\n",
      "Right CRS: None\n",
      "\n"
     ]
    },
    {
     "name": "stdout",
     "output_type": "stream",
     "text": [
      "(6109, 56)\n",
      "Region:  10302\n",
      "Spatial join\n",
      "K-means\n",
      "Voronoi\n"
     ]
    },
    {
     "name": "stderr",
     "output_type": "stream",
     "text": [
      "C:\\Users\\ibra1001\\Anaconda3\\envs\\qgis\\lib\\site-packages\\ipykernel_launcher.py:29: UserWarning: CRS mismatch between the CRS of left geometries and the CRS of right geometries.\n",
      "Use `to_crs()` to reproject one of the input geometries to match the CRS of the other.\n",
      "\n",
      "Left CRS: EPSG:4326\n",
      "Right CRS: None\n",
      "\n"
     ]
    },
    {
     "name": "stdout",
     "output_type": "stream",
     "text": [
      "(6145, 56)\n",
      "Region:  10303\n",
      "Spatial join\n",
      "K-means\n"
     ]
    },
    {
     "name": "stderr",
     "output_type": "stream",
     "text": [
      "C:\\Users\\ibra1001\\Anaconda3\\envs\\qgis\\lib\\site-packages\\scipy\\cluster\\vq.py:575: UserWarning: One of the clusters is empty. Re-run kmeans with a different initialization.\n",
      "  warnings.warn(\"One of the clusters is empty. \"\n"
     ]
    },
    {
     "name": "stdout",
     "output_type": "stream",
     "text": [
      "Voronoi\n"
     ]
    },
    {
     "name": "stderr",
     "output_type": "stream",
     "text": [
      "C:\\Users\\ibra1001\\Anaconda3\\envs\\qgis\\lib\\site-packages\\ipykernel_launcher.py:29: UserWarning: CRS mismatch between the CRS of left geometries and the CRS of right geometries.\n",
      "Use `to_crs()` to reproject one of the input geometries to match the CRS of the other.\n",
      "\n",
      "Left CRS: EPSG:4326\n",
      "Right CRS: None\n",
      "\n"
     ]
    },
    {
     "name": "stdout",
     "output_type": "stream",
     "text": [
      "(6185, 56)\n",
      "Region:  10304\n",
      "Spatial join\n",
      "K-means\n",
      "Voronoi\n"
     ]
    },
    {
     "name": "stderr",
     "output_type": "stream",
     "text": [
      "C:\\Users\\ibra1001\\Anaconda3\\envs\\qgis\\lib\\site-packages\\ipykernel_launcher.py:29: UserWarning: CRS mismatch between the CRS of left geometries and the CRS of right geometries.\n",
      "Use `to_crs()` to reproject one of the input geometries to match the CRS of the other.\n",
      "\n",
      "Left CRS: EPSG:4326\n",
      "Right CRS: None\n",
      "\n"
     ]
    },
    {
     "name": "stdout",
     "output_type": "stream",
     "text": [
      "(6210, 56)\n",
      "Region:  10305\n",
      "Spatial join\n",
      "K-means\n",
      "Voronoi\n"
     ]
    },
    {
     "name": "stderr",
     "output_type": "stream",
     "text": [
      "C:\\Users\\ibra1001\\Anaconda3\\envs\\qgis\\lib\\site-packages\\ipykernel_launcher.py:29: UserWarning: CRS mismatch between the CRS of left geometries and the CRS of right geometries.\n",
      "Use `to_crs()` to reproject one of the input geometries to match the CRS of the other.\n",
      "\n",
      "Left CRS: EPSG:4326\n",
      "Right CRS: None\n",
      "\n"
     ]
    },
    {
     "name": "stdout",
     "output_type": "stream",
     "text": [
      "(6247, 56)\n",
      "Region:  10306\n",
      "Spatial join\n",
      "K-means\n",
      "Voronoi\n"
     ]
    },
    {
     "name": "stderr",
     "output_type": "stream",
     "text": [
      "C:\\Users\\ibra1001\\Anaconda3\\envs\\qgis\\lib\\site-packages\\ipykernel_launcher.py:29: UserWarning: CRS mismatch between the CRS of left geometries and the CRS of right geometries.\n",
      "Use `to_crs()` to reproject one of the input geometries to match the CRS of the other.\n",
      "\n",
      "Left CRS: EPSG:4326\n",
      "Right CRS: None\n",
      "\n"
     ]
    },
    {
     "name": "stdout",
     "output_type": "stream",
     "text": [
      "(6289, 56)\n",
      "Region:  10307\n",
      "Spatial join\n",
      "K-means\n",
      "Voronoi\n"
     ]
    },
    {
     "name": "stderr",
     "output_type": "stream",
     "text": [
      "C:\\Users\\ibra1001\\Anaconda3\\envs\\qgis\\lib\\site-packages\\ipykernel_launcher.py:29: UserWarning: CRS mismatch between the CRS of left geometries and the CRS of right geometries.\n",
      "Use `to_crs()` to reproject one of the input geometries to match the CRS of the other.\n",
      "\n",
      "Left CRS: EPSG:4326\n",
      "Right CRS: None\n",
      "\n"
     ]
    },
    {
     "name": "stdout",
     "output_type": "stream",
     "text": [
      "(6309, 56)\n",
      "Region:  10401\n",
      "Spatial join\n",
      "K-means\n",
      "Voronoi\n"
     ]
    },
    {
     "name": "stderr",
     "output_type": "stream",
     "text": [
      "C:\\Users\\ibra1001\\Anaconda3\\envs\\qgis\\lib\\site-packages\\ipykernel_launcher.py:29: UserWarning: CRS mismatch between the CRS of left geometries and the CRS of right geometries.\n",
      "Use `to_crs()` to reproject one of the input geometries to match the CRS of the other.\n",
      "\n",
      "Left CRS: EPSG:4326\n",
      "Right CRS: None\n",
      "\n"
     ]
    },
    {
     "name": "stdout",
     "output_type": "stream",
     "text": [
      "(6328, 56)\n",
      "Region:  10402\n",
      "Spatial join\n",
      "K-means\n",
      "Voronoi\n"
     ]
    },
    {
     "name": "stderr",
     "output_type": "stream",
     "text": [
      "C:\\Users\\ibra1001\\Anaconda3\\envs\\qgis\\lib\\site-packages\\ipykernel_launcher.py:29: UserWarning: CRS mismatch between the CRS of left geometries and the CRS of right geometries.\n",
      "Use `to_crs()` to reproject one of the input geometries to match the CRS of the other.\n",
      "\n",
      "Left CRS: EPSG:4326\n",
      "Right CRS: None\n",
      "\n"
     ]
    },
    {
     "name": "stdout",
     "output_type": "stream",
     "text": [
      "(6333, 56)\n",
      "Region:  10403\n",
      "Spatial join\n",
      "K-means\n",
      "Voronoi\n"
     ]
    },
    {
     "name": "stderr",
     "output_type": "stream",
     "text": [
      "C:\\Users\\ibra1001\\Anaconda3\\envs\\qgis\\lib\\site-packages\\ipykernel_launcher.py:29: UserWarning: CRS mismatch between the CRS of left geometries and the CRS of right geometries.\n",
      "Use `to_crs()` to reproject one of the input geometries to match the CRS of the other.\n",
      "\n",
      "Left CRS: EPSG:4326\n",
      "Right CRS: None\n",
      "\n"
     ]
    },
    {
     "name": "stdout",
     "output_type": "stream",
     "text": [
      "(6349, 56)\n",
      "Region:  10404\n",
      "Spatial join\n",
      "K-means\n",
      "Voronoi\n"
     ]
    },
    {
     "name": "stderr",
     "output_type": "stream",
     "text": [
      "C:\\Users\\ibra1001\\Anaconda3\\envs\\qgis\\lib\\site-packages\\ipykernel_launcher.py:29: UserWarning: CRS mismatch between the CRS of left geometries and the CRS of right geometries.\n",
      "Use `to_crs()` to reproject one of the input geometries to match the CRS of the other.\n",
      "\n",
      "Left CRS: EPSG:4326\n",
      "Right CRS: None\n",
      "\n"
     ]
    },
    {
     "name": "stdout",
     "output_type": "stream",
     "text": [
      "(6357, 56)\n",
      "Region:  11101\n",
      "Spatial join\n",
      "K-means\n"
     ]
    },
    {
     "name": "stderr",
     "output_type": "stream",
     "text": [
      "C:\\Users\\ibra1001\\Anaconda3\\envs\\qgis\\lib\\site-packages\\scipy\\cluster\\vq.py:575: UserWarning: One of the clusters is empty. Re-run kmeans with a different initialization.\n",
      "  warnings.warn(\"One of the clusters is empty. \"\n"
     ]
    },
    {
     "name": "stdout",
     "output_type": "stream",
     "text": [
      "Voronoi\n"
     ]
    },
    {
     "name": "stderr",
     "output_type": "stream",
     "text": [
      "C:\\Users\\ibra1001\\Anaconda3\\envs\\qgis\\lib\\site-packages\\ipykernel_launcher.py:29: UserWarning: CRS mismatch between the CRS of left geometries and the CRS of right geometries.\n",
      "Use `to_crs()` to reproject one of the input geometries to match the CRS of the other.\n",
      "\n",
      "Left CRS: EPSG:4326\n",
      "Right CRS: None\n",
      "\n"
     ]
    },
    {
     "name": "stdout",
     "output_type": "stream",
     "text": [
      "(6399, 56)\n",
      "Region:  11102\n",
      "Spatial join\n",
      "K-means\n",
      "Voronoi\n"
     ]
    },
    {
     "name": "stderr",
     "output_type": "stream",
     "text": [
      "C:\\Users\\ibra1001\\Anaconda3\\envs\\qgis\\lib\\site-packages\\ipykernel_launcher.py:29: UserWarning: CRS mismatch between the CRS of left geometries and the CRS of right geometries.\n",
      "Use `to_crs()` to reproject one of the input geometries to match the CRS of the other.\n",
      "\n",
      "Left CRS: EPSG:4326\n",
      "Right CRS: None\n",
      "\n"
     ]
    },
    {
     "name": "stdout",
     "output_type": "stream",
     "text": [
      "(6406, 56)\n",
      "Region:  11201\n",
      "Spatial join\n",
      "K-means\n",
      "Voronoi\n"
     ]
    },
    {
     "name": "stderr",
     "output_type": "stream",
     "text": [
      "C:\\Users\\ibra1001\\Anaconda3\\envs\\qgis\\lib\\site-packages\\ipykernel_launcher.py:29: UserWarning: CRS mismatch between the CRS of left geometries and the CRS of right geometries.\n",
      "Use `to_crs()` to reproject one of the input geometries to match the CRS of the other.\n",
      "\n",
      "Left CRS: EPSG:4326\n",
      "Right CRS: None\n",
      "\n"
     ]
    },
    {
     "name": "stdout",
     "output_type": "stream",
     "text": [
      "(6444, 56)\n",
      "Region:  11202\n",
      "Spatial join\n",
      "K-means\n",
      "Voronoi\n"
     ]
    },
    {
     "name": "stderr",
     "output_type": "stream",
     "text": [
      "C:\\Users\\ibra1001\\Anaconda3\\envs\\qgis\\lib\\site-packages\\ipykernel_launcher.py:29: UserWarning: CRS mismatch between the CRS of left geometries and the CRS of right geometries.\n",
      "Use `to_crs()` to reproject one of the input geometries to match the CRS of the other.\n",
      "\n",
      "Left CRS: EPSG:4326\n",
      "Right CRS: None\n",
      "\n"
     ]
    },
    {
     "name": "stdout",
     "output_type": "stream",
     "text": [
      "(6456, 56)\n",
      "Region:  11203\n",
      "Spatial join\n",
      "K-means\n",
      "Voronoi\n"
     ]
    },
    {
     "name": "stderr",
     "output_type": "stream",
     "text": [
      "C:\\Users\\ibra1001\\Anaconda3\\envs\\qgis\\lib\\site-packages\\ipykernel_launcher.py:29: UserWarning: CRS mismatch between the CRS of left geometries and the CRS of right geometries.\n",
      "Use `to_crs()` to reproject one of the input geometries to match the CRS of the other.\n",
      "\n",
      "Left CRS: EPSG:4326\n",
      "Right CRS: None\n",
      "\n"
     ]
    },
    {
     "name": "stdout",
     "output_type": "stream",
     "text": [
      "(6456, 56)\n",
      "Region:  11301\n",
      "Spatial join\n",
      "K-means\n",
      "Voronoi\n"
     ]
    },
    {
     "name": "stderr",
     "output_type": "stream",
     "text": [
      "C:\\Users\\ibra1001\\Anaconda3\\envs\\qgis\\lib\\site-packages\\ipykernel_launcher.py:29: UserWarning: CRS mismatch between the CRS of left geometries and the CRS of right geometries.\n",
      "Use `to_crs()` to reproject one of the input geometries to match the CRS of the other.\n",
      "\n",
      "Left CRS: EPSG:4326\n",
      "Right CRS: None\n",
      "\n"
     ]
    },
    {
     "name": "stdout",
     "output_type": "stream",
     "text": [
      "(6468, 56)\n",
      "Region:  11302\n",
      "Spatial join\n",
      "K-means\n",
      "Voronoi\n"
     ]
    },
    {
     "name": "stderr",
     "output_type": "stream",
     "text": [
      "C:\\Users\\ibra1001\\Anaconda3\\envs\\qgis\\lib\\site-packages\\ipykernel_launcher.py:29: UserWarning: CRS mismatch between the CRS of left geometries and the CRS of right geometries.\n",
      "Use `to_crs()` to reproject one of the input geometries to match the CRS of the other.\n",
      "\n",
      "Left CRS: EPSG:4326\n",
      "Right CRS: None\n",
      "\n"
     ]
    },
    {
     "name": "stdout",
     "output_type": "stream",
     "text": [
      "(6478, 56)\n",
      "Region:  11303\n",
      "Spatial join\n",
      "K-means\n",
      "Voronoi\n"
     ]
    },
    {
     "name": "stderr",
     "output_type": "stream",
     "text": [
      "C:\\Users\\ibra1001\\Anaconda3\\envs\\qgis\\lib\\site-packages\\ipykernel_launcher.py:29: UserWarning: CRS mismatch between the CRS of left geometries and the CRS of right geometries.\n",
      "Use `to_crs()` to reproject one of the input geometries to match the CRS of the other.\n",
      "\n",
      "Left CRS: EPSG:4326\n",
      "Right CRS: None\n",
      "\n"
     ]
    },
    {
     "name": "stdout",
     "output_type": "stream",
     "text": [
      "(6482, 56)\n",
      "Region:  11401\n",
      "Spatial join\n",
      "K-means\n",
      "Voronoi\n"
     ]
    },
    {
     "name": "stderr",
     "output_type": "stream",
     "text": [
      "C:\\Users\\ibra1001\\Anaconda3\\envs\\qgis\\lib\\site-packages\\ipykernel_launcher.py:29: UserWarning: CRS mismatch between the CRS of left geometries and the CRS of right geometries.\n",
      "Use `to_crs()` to reproject one of the input geometries to match the CRS of the other.\n",
      "\n",
      "Left CRS: EPSG:4326\n",
      "Right CRS: None\n",
      "\n"
     ]
    },
    {
     "name": "stdout",
     "output_type": "stream",
     "text": [
      "(6489, 56)\n",
      "Region:  11402\n",
      "Spatial join\n",
      "K-means\n",
      "Voronoi\n"
     ]
    },
    {
     "name": "stderr",
     "output_type": "stream",
     "text": [
      "C:\\Users\\ibra1001\\Anaconda3\\envs\\qgis\\lib\\site-packages\\ipykernel_launcher.py:29: UserWarning: CRS mismatch between the CRS of left geometries and the CRS of right geometries.\n",
      "Use `to_crs()` to reproject one of the input geometries to match the CRS of the other.\n",
      "\n",
      "Left CRS: EPSG:4326\n",
      "Right CRS: None\n",
      "\n"
     ]
    },
    {
     "name": "stdout",
     "output_type": "stream",
     "text": [
      "(6502, 56)\n",
      "Region:  12101\n",
      "Spatial join\n",
      "K-means\n"
     ]
    },
    {
     "name": "stderr",
     "output_type": "stream",
     "text": [
      "C:\\Users\\ibra1001\\Anaconda3\\envs\\qgis\\lib\\site-packages\\scipy\\cluster\\vq.py:575: UserWarning: One of the clusters is empty. Re-run kmeans with a different initialization.\n",
      "  warnings.warn(\"One of the clusters is empty. \"\n"
     ]
    },
    {
     "name": "stdout",
     "output_type": "stream",
     "text": [
      "Voronoi\n"
     ]
    },
    {
     "name": "stderr",
     "output_type": "stream",
     "text": [
      "C:\\Users\\ibra1001\\Anaconda3\\envs\\qgis\\lib\\site-packages\\ipykernel_launcher.py:29: UserWarning: CRS mismatch between the CRS of left geometries and the CRS of right geometries.\n",
      "Use `to_crs()` to reproject one of the input geometries to match the CRS of the other.\n",
      "\n",
      "Left CRS: EPSG:4326\n",
      "Right CRS: None\n",
      "\n"
     ]
    },
    {
     "name": "stdout",
     "output_type": "stream",
     "text": [
      "(6538, 56)\n",
      "Region:  12102\n",
      "Spatial join\n",
      "K-means\n",
      "Voronoi\n"
     ]
    },
    {
     "name": "stderr",
     "output_type": "stream",
     "text": [
      "C:\\Users\\ibra1001\\Anaconda3\\envs\\qgis\\lib\\site-packages\\ipykernel_launcher.py:29: UserWarning: CRS mismatch between the CRS of left geometries and the CRS of right geometries.\n",
      "Use `to_crs()` to reproject one of the input geometries to match the CRS of the other.\n",
      "\n",
      "Left CRS: EPSG:4326\n",
      "Right CRS: None\n",
      "\n"
     ]
    },
    {
     "name": "stdout",
     "output_type": "stream",
     "text": [
      "(6543, 56)\n",
      "Region:  12103\n",
      "Spatial join\n",
      "K-means\n",
      "Voronoi\n"
     ]
    },
    {
     "name": "stderr",
     "output_type": "stream",
     "text": [
      "C:\\Users\\ibra1001\\Anaconda3\\envs\\qgis\\lib\\site-packages\\ipykernel_launcher.py:29: UserWarning: CRS mismatch between the CRS of left geometries and the CRS of right geometries.\n",
      "Use `to_crs()` to reproject one of the input geometries to match the CRS of the other.\n",
      "\n",
      "Left CRS: EPSG:4326\n",
      "Right CRS: None\n",
      "\n"
     ]
    },
    {
     "name": "stdout",
     "output_type": "stream",
     "text": [
      "(6555, 56)\n",
      "Region:  12104\n",
      "Spatial join\n",
      "K-means\n",
      "Voronoi\n"
     ]
    },
    {
     "name": "stderr",
     "output_type": "stream",
     "text": [
      "C:\\Users\\ibra1001\\Anaconda3\\envs\\qgis\\lib\\site-packages\\ipykernel_launcher.py:29: UserWarning: CRS mismatch between the CRS of left geometries and the CRS of right geometries.\n",
      "Use `to_crs()` to reproject one of the input geometries to match the CRS of the other.\n",
      "\n",
      "Left CRS: EPSG:4326\n",
      "Right CRS: None\n",
      "\n"
     ]
    },
    {
     "name": "stdout",
     "output_type": "stream",
     "text": [
      "(6560, 56)\n",
      "Region:  12201\n",
      "Spatial join\n",
      "K-means\n",
      "Voronoi\n"
     ]
    },
    {
     "name": "stderr",
     "output_type": "stream",
     "text": [
      "C:\\Users\\ibra1001\\Anaconda3\\envs\\qgis\\lib\\site-packages\\ipykernel_launcher.py:29: UserWarning: CRS mismatch between the CRS of left geometries and the CRS of right geometries.\n",
      "Use `to_crs()` to reproject one of the input geometries to match the CRS of the other.\n",
      "\n",
      "Left CRS: EPSG:4326\n",
      "Right CRS: None\n",
      "\n"
     ]
    },
    {
     "name": "stdout",
     "output_type": "stream",
     "text": [
      "(6567, 56)\n",
      "Region:  12301\n",
      "Spatial join\n",
      "K-means\n",
      "Voronoi\n"
     ]
    },
    {
     "name": "stderr",
     "output_type": "stream",
     "text": [
      "C:\\Users\\ibra1001\\Anaconda3\\envs\\qgis\\lib\\site-packages\\ipykernel_launcher.py:29: UserWarning: CRS mismatch between the CRS of left geometries and the CRS of right geometries.\n",
      "Use `to_crs()` to reproject one of the input geometries to match the CRS of the other.\n",
      "\n",
      "Left CRS: EPSG:4326\n",
      "Right CRS: None\n",
      "\n"
     ]
    },
    {
     "name": "stdout",
     "output_type": "stream",
     "text": [
      "(6598, 56)\n",
      "Region:  12302\n",
      "Spatial join\n",
      "K-means\n",
      "Voronoi\n"
     ]
    },
    {
     "name": "stderr",
     "output_type": "stream",
     "text": [
      "C:\\Users\\ibra1001\\Anaconda3\\envs\\qgis\\lib\\site-packages\\ipykernel_launcher.py:29: UserWarning: CRS mismatch between the CRS of left geometries and the CRS of right geometries.\n",
      "Use `to_crs()` to reproject one of the input geometries to match the CRS of the other.\n",
      "\n",
      "Left CRS: EPSG:4326\n",
      "Right CRS: None\n",
      "\n"
     ]
    },
    {
     "name": "stdout",
     "output_type": "stream",
     "text": [
      "(6603, 56)\n",
      "Region:  12303\n",
      "Spatial join\n",
      "K-means\n",
      "Voronoi\n"
     ]
    },
    {
     "name": "stderr",
     "output_type": "stream",
     "text": [
      "C:\\Users\\ibra1001\\Anaconda3\\envs\\qgis\\lib\\site-packages\\ipykernel_launcher.py:29: UserWarning: CRS mismatch between the CRS of left geometries and the CRS of right geometries.\n",
      "Use `to_crs()` to reproject one of the input geometries to match the CRS of the other.\n",
      "\n",
      "Left CRS: EPSG:4326\n",
      "Right CRS: None\n",
      "\n"
     ]
    },
    {
     "name": "stdout",
     "output_type": "stream",
     "text": [
      "(6608, 56)\n",
      "Region:  12401\n",
      "Spatial join\n",
      "K-means\n",
      "Voronoi\n"
     ]
    },
    {
     "name": "stderr",
     "output_type": "stream",
     "text": [
      "C:\\Users\\ibra1001\\Anaconda3\\envs\\qgis\\lib\\site-packages\\ipykernel_launcher.py:29: UserWarning: CRS mismatch between the CRS of left geometries and the CRS of right geometries.\n",
      "Use `to_crs()` to reproject one of the input geometries to match the CRS of the other.\n",
      "\n",
      "Left CRS: EPSG:4326\n",
      "Right CRS: None\n",
      "\n"
     ]
    },
    {
     "name": "stdout",
     "output_type": "stream",
     "text": [
      "(6673, 56)\n",
      "Region:  12402\n",
      "Spatial join\n",
      "K-means\n",
      "Voronoi\n"
     ]
    },
    {
     "name": "stderr",
     "output_type": "stream",
     "text": [
      "C:\\Users\\ibra1001\\Anaconda3\\envs\\qgis\\lib\\site-packages\\ipykernel_launcher.py:29: UserWarning: CRS mismatch between the CRS of left geometries and the CRS of right geometries.\n",
      "Use `to_crs()` to reproject one of the input geometries to match the CRS of the other.\n",
      "\n",
      "Left CRS: EPSG:4326\n",
      "Right CRS: None\n",
      "\n"
     ]
    },
    {
     "name": "stdout",
     "output_type": "stream",
     "text": [
      "(6684, 56)\n",
      "Region:  13101\n",
      "Spatial join\n",
      "K-means\n"
     ]
    },
    {
     "name": "stderr",
     "output_type": "stream",
     "text": [
      "C:\\Users\\ibra1001\\Anaconda3\\envs\\qgis\\lib\\site-packages\\scipy\\cluster\\vq.py:575: UserWarning: One of the clusters is empty. Re-run kmeans with a different initialization.\n",
      "  warnings.warn(\"One of the clusters is empty. \"\n"
     ]
    },
    {
     "name": "stdout",
     "output_type": "stream",
     "text": [
      "Voronoi\n"
     ]
    },
    {
     "name": "stderr",
     "output_type": "stream",
     "text": [
      "C:\\Users\\ibra1001\\Anaconda3\\envs\\qgis\\lib\\site-packages\\ipykernel_launcher.py:29: UserWarning: CRS mismatch between the CRS of left geometries and the CRS of right geometries.\n",
      "Use `to_crs()` to reproject one of the input geometries to match the CRS of the other.\n",
      "\n",
      "Left CRS: EPSG:4326\n",
      "Right CRS: None\n",
      "\n"
     ]
    },
    {
     "name": "stdout",
     "output_type": "stream",
     "text": [
      "(6716, 56)\n",
      "Region:  13102\n",
      "Spatial join\n",
      "K-means\n",
      "Voronoi\n"
     ]
    },
    {
     "name": "stderr",
     "output_type": "stream",
     "text": [
      "C:\\Users\\ibra1001\\Anaconda3\\envs\\qgis\\lib\\site-packages\\scipy\\cluster\\vq.py:575: UserWarning: One of the clusters is empty. Re-run kmeans with a different initialization.\n",
      "  warnings.warn(\"One of the clusters is empty. \"\n",
      "C:\\Users\\ibra1001\\Anaconda3\\envs\\qgis\\lib\\site-packages\\ipykernel_launcher.py:29: UserWarning: CRS mismatch between the CRS of left geometries and the CRS of right geometries.\n",
      "Use `to_crs()` to reproject one of the input geometries to match the CRS of the other.\n",
      "\n",
      "Left CRS: EPSG:4326\n",
      "Right CRS: None\n",
      "\n"
     ]
    },
    {
     "name": "stdout",
     "output_type": "stream",
     "text": [
      "(6726, 56)\n",
      "Region:  13103\n",
      "Spatial join\n",
      "K-means\n",
      "Voronoi\n"
     ]
    },
    {
     "name": "stderr",
     "output_type": "stream",
     "text": [
      "C:\\Users\\ibra1001\\Anaconda3\\envs\\qgis\\lib\\site-packages\\scipy\\cluster\\vq.py:575: UserWarning: One of the clusters is empty. Re-run kmeans with a different initialization.\n",
      "  warnings.warn(\"One of the clusters is empty. \"\n",
      "C:\\Users\\ibra1001\\Anaconda3\\envs\\qgis\\lib\\site-packages\\ipykernel_launcher.py:29: UserWarning: CRS mismatch between the CRS of left geometries and the CRS of right geometries.\n",
      "Use `to_crs()` to reproject one of the input geometries to match the CRS of the other.\n",
      "\n",
      "Left CRS: EPSG:4326\n",
      "Right CRS: None\n",
      "\n"
     ]
    },
    {
     "name": "stdout",
     "output_type": "stream",
     "text": [
      "(6737, 56)\n",
      "Region:  13104\n",
      "Spatial join\n",
      "K-means\n",
      "Voronoi\n"
     ]
    },
    {
     "name": "stderr",
     "output_type": "stream",
     "text": [
      "C:\\Users\\ibra1001\\Anaconda3\\envs\\qgis\\lib\\site-packages\\scipy\\cluster\\vq.py:575: UserWarning: One of the clusters is empty. Re-run kmeans with a different initialization.\n",
      "  warnings.warn(\"One of the clusters is empty. \"\n",
      "C:\\Users\\ibra1001\\Anaconda3\\envs\\qgis\\lib\\site-packages\\ipykernel_launcher.py:29: UserWarning: CRS mismatch between the CRS of left geometries and the CRS of right geometries.\n",
      "Use `to_crs()` to reproject one of the input geometries to match the CRS of the other.\n",
      "\n",
      "Left CRS: EPSG:4326\n",
      "Right CRS: None\n",
      "\n"
     ]
    },
    {
     "name": "stdout",
     "output_type": "stream",
     "text": [
      "(6750, 56)\n",
      "Region:  13105\n",
      "Spatial join\n",
      "K-means\n",
      "Voronoi\n"
     ]
    },
    {
     "name": "stderr",
     "output_type": "stream",
     "text": [
      "C:\\Users\\ibra1001\\Anaconda3\\envs\\qgis\\lib\\site-packages\\scipy\\cluster\\vq.py:575: UserWarning: One of the clusters is empty. Re-run kmeans with a different initialization.\n",
      "  warnings.warn(\"One of the clusters is empty. \"\n",
      "C:\\Users\\ibra1001\\Anaconda3\\envs\\qgis\\lib\\site-packages\\ipykernel_launcher.py:29: UserWarning: CRS mismatch between the CRS of left geometries and the CRS of right geometries.\n",
      "Use `to_crs()` to reproject one of the input geometries to match the CRS of the other.\n",
      "\n",
      "Left CRS: EPSG:4326\n",
      "Right CRS: None\n",
      "\n"
     ]
    },
    {
     "name": "stdout",
     "output_type": "stream",
     "text": [
      "(6769, 56)\n",
      "Region:  13106\n",
      "Spatial join\n",
      "K-means\n"
     ]
    },
    {
     "name": "stderr",
     "output_type": "stream",
     "text": [
      "C:\\Users\\ibra1001\\Anaconda3\\envs\\qgis\\lib\\site-packages\\scipy\\cluster\\vq.py:575: UserWarning: One of the clusters is empty. Re-run kmeans with a different initialization.\n",
      "  warnings.warn(\"One of the clusters is empty. \"\n"
     ]
    },
    {
     "name": "stdout",
     "output_type": "stream",
     "text": [
      "Voronoi\n"
     ]
    },
    {
     "name": "stderr",
     "output_type": "stream",
     "text": [
      "C:\\Users\\ibra1001\\Anaconda3\\envs\\qgis\\lib\\site-packages\\ipykernel_launcher.py:29: UserWarning: CRS mismatch between the CRS of left geometries and the CRS of right geometries.\n",
      "Use `to_crs()` to reproject one of the input geometries to match the CRS of the other.\n",
      "\n",
      "Left CRS: EPSG:4326\n",
      "Right CRS: None\n",
      "\n"
     ]
    },
    {
     "name": "stdout",
     "output_type": "stream",
     "text": [
      "(6789, 56)\n",
      "Region:  13107\n",
      "Spatial join\n",
      "K-means\n",
      "Voronoi\n"
     ]
    },
    {
     "name": "stderr",
     "output_type": "stream",
     "text": [
      "C:\\Users\\ibra1001\\Anaconda3\\envs\\qgis\\lib\\site-packages\\scipy\\cluster\\vq.py:575: UserWarning: One of the clusters is empty. Re-run kmeans with a different initialization.\n",
      "  warnings.warn(\"One of the clusters is empty. \"\n",
      "C:\\Users\\ibra1001\\Anaconda3\\envs\\qgis\\lib\\site-packages\\ipykernel_launcher.py:29: UserWarning: CRS mismatch between the CRS of left geometries and the CRS of right geometries.\n",
      "Use `to_crs()` to reproject one of the input geometries to match the CRS of the other.\n",
      "\n",
      "Left CRS: EPSG:4326\n",
      "Right CRS: None\n",
      "\n"
     ]
    },
    {
     "name": "stdout",
     "output_type": "stream",
     "text": [
      "(6806, 56)\n",
      "Region:  13108\n",
      "Spatial join\n",
      "K-means\n",
      "Voronoi\n"
     ]
    },
    {
     "name": "stderr",
     "output_type": "stream",
     "text": [
      "C:\\Users\\ibra1001\\Anaconda3\\envs\\qgis\\lib\\site-packages\\scipy\\cluster\\vq.py:575: UserWarning: One of the clusters is empty. Re-run kmeans with a different initialization.\n",
      "  warnings.warn(\"One of the clusters is empty. \"\n",
      "C:\\Users\\ibra1001\\Anaconda3\\envs\\qgis\\lib\\site-packages\\ipykernel_launcher.py:29: UserWarning: CRS mismatch between the CRS of left geometries and the CRS of right geometries.\n",
      "Use `to_crs()` to reproject one of the input geometries to match the CRS of the other.\n",
      "\n",
      "Left CRS: EPSG:4326\n",
      "Right CRS: None\n",
      "\n"
     ]
    },
    {
     "name": "stdout",
     "output_type": "stream",
     "text": [
      "(6817, 56)\n",
      "Region:  13109\n",
      "Spatial join\n",
      "K-means\n"
     ]
    },
    {
     "name": "stderr",
     "output_type": "stream",
     "text": [
      "C:\\Users\\ibra1001\\Anaconda3\\envs\\qgis\\lib\\site-packages\\scipy\\cluster\\vq.py:575: UserWarning: One of the clusters is empty. Re-run kmeans with a different initialization.\n",
      "  warnings.warn(\"One of the clusters is empty. \"\n"
     ]
    },
    {
     "name": "stdout",
     "output_type": "stream",
     "text": [
      "Voronoi\n"
     ]
    },
    {
     "name": "stderr",
     "output_type": "stream",
     "text": [
      "C:\\Users\\ibra1001\\Anaconda3\\envs\\qgis\\lib\\site-packages\\ipykernel_launcher.py:29: UserWarning: CRS mismatch between the CRS of left geometries and the CRS of right geometries.\n",
      "Use `to_crs()` to reproject one of the input geometries to match the CRS of the other.\n",
      "\n",
      "Left CRS: EPSG:4326\n",
      "Right CRS: None\n",
      "\n"
     ]
    },
    {
     "name": "stdout",
     "output_type": "stream",
     "text": [
      "(6831, 56)\n",
      "Region:  13110\n",
      "Spatial join\n",
      "K-means\n"
     ]
    },
    {
     "name": "stderr",
     "output_type": "stream",
     "text": [
      "C:\\Users\\ibra1001\\Anaconda3\\envs\\qgis\\lib\\site-packages\\scipy\\cluster\\vq.py:575: UserWarning: One of the clusters is empty. Re-run kmeans with a different initialization.\n",
      "  warnings.warn(\"One of the clusters is empty. \"\n"
     ]
    },
    {
     "name": "stdout",
     "output_type": "stream",
     "text": [
      "Voronoi\n"
     ]
    },
    {
     "name": "stderr",
     "output_type": "stream",
     "text": [
      "C:\\Users\\ibra1001\\Anaconda3\\envs\\qgis\\lib\\site-packages\\ipykernel_launcher.py:29: UserWarning: CRS mismatch between the CRS of left geometries and the CRS of right geometries.\n",
      "Use `to_crs()` to reproject one of the input geometries to match the CRS of the other.\n",
      "\n",
      "Left CRS: EPSG:4326\n",
      "Right CRS: None\n",
      "\n"
     ]
    },
    {
     "name": "stdout",
     "output_type": "stream",
     "text": [
      "(6874, 56)\n",
      "Region:  13111\n",
      "Spatial join\n",
      "K-means\n",
      "Voronoi\n"
     ]
    },
    {
     "name": "stderr",
     "output_type": "stream",
     "text": [
      "C:\\Users\\ibra1001\\Anaconda3\\envs\\qgis\\lib\\site-packages\\scipy\\cluster\\vq.py:575: UserWarning: One of the clusters is empty. Re-run kmeans with a different initialization.\n",
      "  warnings.warn(\"One of the clusters is empty. \"\n",
      "C:\\Users\\ibra1001\\Anaconda3\\envs\\qgis\\lib\\site-packages\\ipykernel_launcher.py:29: UserWarning: CRS mismatch between the CRS of left geometries and the CRS of right geometries.\n",
      "Use `to_crs()` to reproject one of the input geometries to match the CRS of the other.\n",
      "\n",
      "Left CRS: EPSG:4326\n",
      "Right CRS: None\n",
      "\n"
     ]
    },
    {
     "name": "stdout",
     "output_type": "stream",
     "text": [
      "(6887, 56)\n",
      "Region:  13112\n",
      "Spatial join\n",
      "K-means\n",
      "Voronoi\n"
     ]
    },
    {
     "name": "stderr",
     "output_type": "stream",
     "text": [
      "C:\\Users\\ibra1001\\Anaconda3\\envs\\qgis\\lib\\site-packages\\scipy\\cluster\\vq.py:575: UserWarning: One of the clusters is empty. Re-run kmeans with a different initialization.\n",
      "  warnings.warn(\"One of the clusters is empty. \"\n",
      "C:\\Users\\ibra1001\\Anaconda3\\envs\\qgis\\lib\\site-packages\\ipykernel_launcher.py:29: UserWarning: CRS mismatch between the CRS of left geometries and the CRS of right geometries.\n",
      "Use `to_crs()` to reproject one of the input geometries to match the CRS of the other.\n",
      "\n",
      "Left CRS: EPSG:4326\n",
      "Right CRS: None\n",
      "\n"
     ]
    },
    {
     "name": "stdout",
     "output_type": "stream",
     "text": [
      "(6906, 56)\n",
      "Region:  13113\n",
      "Spatial join\n",
      "K-means\n",
      "Voronoi\n"
     ]
    },
    {
     "name": "stderr",
     "output_type": "stream",
     "text": [
      "C:\\Users\\ibra1001\\Anaconda3\\envs\\qgis\\lib\\site-packages\\scipy\\cluster\\vq.py:575: UserWarning: One of the clusters is empty. Re-run kmeans with a different initialization.\n",
      "  warnings.warn(\"One of the clusters is empty. \"\n",
      "C:\\Users\\ibra1001\\Anaconda3\\envs\\qgis\\lib\\site-packages\\ipykernel_launcher.py:29: UserWarning: CRS mismatch between the CRS of left geometries and the CRS of right geometries.\n",
      "Use `to_crs()` to reproject one of the input geometries to match the CRS of the other.\n",
      "\n",
      "Left CRS: EPSG:4326\n",
      "Right CRS: None\n",
      "\n"
     ]
    },
    {
     "name": "stdout",
     "output_type": "stream",
     "text": [
      "(6920, 56)\n",
      "Region:  13114\n",
      "Spatial join\n",
      "K-means\n"
     ]
    },
    {
     "name": "stderr",
     "output_type": "stream",
     "text": [
      "C:\\Users\\ibra1001\\Anaconda3\\envs\\qgis\\lib\\site-packages\\scipy\\cluster\\vq.py:575: UserWarning: One of the clusters is empty. Re-run kmeans with a different initialization.\n",
      "  warnings.warn(\"One of the clusters is empty. \"\n"
     ]
    },
    {
     "name": "stdout",
     "output_type": "stream",
     "text": [
      "Voronoi\n"
     ]
    },
    {
     "name": "stderr",
     "output_type": "stream",
     "text": [
      "C:\\Users\\ibra1001\\Anaconda3\\envs\\qgis\\lib\\site-packages\\ipykernel_launcher.py:29: UserWarning: CRS mismatch between the CRS of left geometries and the CRS of right geometries.\n",
      "Use `to_crs()` to reproject one of the input geometries to match the CRS of the other.\n",
      "\n",
      "Left CRS: EPSG:4326\n",
      "Right CRS: None\n",
      "\n"
     ]
    },
    {
     "name": "stdout",
     "output_type": "stream",
     "text": [
      "(6964, 56)\n",
      "Region:  13115\n",
      "Spatial join\n",
      "K-means\n"
     ]
    },
    {
     "name": "stderr",
     "output_type": "stream",
     "text": [
      "C:\\Users\\ibra1001\\Anaconda3\\envs\\qgis\\lib\\site-packages\\scipy\\cluster\\vq.py:575: UserWarning: One of the clusters is empty. Re-run kmeans with a different initialization.\n",
      "  warnings.warn(\"One of the clusters is empty. \"\n"
     ]
    },
    {
     "name": "stdout",
     "output_type": "stream",
     "text": [
      "Voronoi\n"
     ]
    },
    {
     "name": "stderr",
     "output_type": "stream",
     "text": [
      "C:\\Users\\ibra1001\\Anaconda3\\envs\\qgis\\lib\\site-packages\\ipykernel_launcher.py:29: UserWarning: CRS mismatch between the CRS of left geometries and the CRS of right geometries.\n",
      "Use `to_crs()` to reproject one of the input geometries to match the CRS of the other.\n",
      "\n",
      "Left CRS: EPSG:4326\n",
      "Right CRS: None\n",
      "\n"
     ]
    },
    {
     "name": "stdout",
     "output_type": "stream",
     "text": [
      "(7006, 56)\n",
      "Region:  13116\n",
      "Spatial join\n",
      "K-means\n",
      "Voronoi\n"
     ]
    },
    {
     "name": "stderr",
     "output_type": "stream",
     "text": [
      "C:\\Users\\ibra1001\\Anaconda3\\envs\\qgis\\lib\\site-packages\\scipy\\cluster\\vq.py:575: UserWarning: One of the clusters is empty. Re-run kmeans with a different initialization.\n",
      "  warnings.warn(\"One of the clusters is empty. \"\n",
      "C:\\Users\\ibra1001\\Anaconda3\\envs\\qgis\\lib\\site-packages\\ipykernel_launcher.py:29: UserWarning: CRS mismatch between the CRS of left geometries and the CRS of right geometries.\n",
      "Use `to_crs()` to reproject one of the input geometries to match the CRS of the other.\n",
      "\n",
      "Left CRS: EPSG:4326\n",
      "Right CRS: None\n",
      "\n"
     ]
    },
    {
     "name": "stdout",
     "output_type": "stream",
     "text": [
      "(7016, 56)\n",
      "Region:  13117\n",
      "Spatial join\n",
      "K-means\n"
     ]
    },
    {
     "name": "stderr",
     "output_type": "stream",
     "text": [
      "C:\\Users\\ibra1001\\Anaconda3\\envs\\qgis\\lib\\site-packages\\scipy\\cluster\\vq.py:575: UserWarning: One of the clusters is empty. Re-run kmeans with a different initialization.\n",
      "  warnings.warn(\"One of the clusters is empty. \"\n"
     ]
    },
    {
     "name": "stdout",
     "output_type": "stream",
     "text": [
      "Voronoi\n"
     ]
    },
    {
     "name": "stderr",
     "output_type": "stream",
     "text": [
      "C:\\Users\\ibra1001\\Anaconda3\\envs\\qgis\\lib\\site-packages\\ipykernel_launcher.py:29: UserWarning: CRS mismatch between the CRS of left geometries and the CRS of right geometries.\n",
      "Use `to_crs()` to reproject one of the input geometries to match the CRS of the other.\n",
      "\n",
      "Left CRS: EPSG:4326\n",
      "Right CRS: None\n",
      "\n"
     ]
    },
    {
     "name": "stdout",
     "output_type": "stream",
     "text": [
      "(7026, 56)\n",
      "Region:  13118\n",
      "Spatial join\n",
      "K-means\n",
      "Voronoi\n"
     ]
    },
    {
     "name": "stderr",
     "output_type": "stream",
     "text": [
      "C:\\Users\\ibra1001\\Anaconda3\\envs\\qgis\\lib\\site-packages\\scipy\\cluster\\vq.py:575: UserWarning: One of the clusters is empty. Re-run kmeans with a different initialization.\n",
      "  warnings.warn(\"One of the clusters is empty. \"\n",
      "C:\\Users\\ibra1001\\Anaconda3\\envs\\qgis\\lib\\site-packages\\ipykernel_launcher.py:29: UserWarning: CRS mismatch between the CRS of left geometries and the CRS of right geometries.\n",
      "Use `to_crs()` to reproject one of the input geometries to match the CRS of the other.\n",
      "\n",
      "Left CRS: EPSG:4326\n",
      "Right CRS: None\n",
      "\n"
     ]
    },
    {
     "name": "stdout",
     "output_type": "stream",
     "text": [
      "(7042, 56)\n",
      "Region:  13119\n",
      "Spatial join\n",
      "K-means\n"
     ]
    },
    {
     "name": "stderr",
     "output_type": "stream",
     "text": [
      "C:\\Users\\ibra1001\\Anaconda3\\envs\\qgis\\lib\\site-packages\\scipy\\cluster\\vq.py:575: UserWarning: One of the clusters is empty. Re-run kmeans with a different initialization.\n",
      "  warnings.warn(\"One of the clusters is empty. \"\n"
     ]
    },
    {
     "name": "stdout",
     "output_type": "stream",
     "text": [
      "Voronoi\n"
     ]
    },
    {
     "name": "stderr",
     "output_type": "stream",
     "text": [
      "C:\\Users\\ibra1001\\Anaconda3\\envs\\qgis\\lib\\site-packages\\ipykernel_launcher.py:29: UserWarning: CRS mismatch between the CRS of left geometries and the CRS of right geometries.\n",
      "Use `to_crs()` to reproject one of the input geometries to match the CRS of the other.\n",
      "\n",
      "Left CRS: EPSG:4326\n",
      "Right CRS: None\n",
      "\n"
     ]
    },
    {
     "name": "stdout",
     "output_type": "stream",
     "text": [
      "(7107, 56)\n",
      "Region:  13120\n",
      "Spatial join\n",
      "K-means\n"
     ]
    },
    {
     "name": "stderr",
     "output_type": "stream",
     "text": [
      "C:\\Users\\ibra1001\\Anaconda3\\envs\\qgis\\lib\\site-packages\\scipy\\cluster\\vq.py:575: UserWarning: One of the clusters is empty. Re-run kmeans with a different initialization.\n",
      "  warnings.warn(\"One of the clusters is empty. \"\n"
     ]
    },
    {
     "name": "stdout",
     "output_type": "stream",
     "text": [
      "Voronoi\n"
     ]
    },
    {
     "name": "stderr",
     "output_type": "stream",
     "text": [
      "C:\\Users\\ibra1001\\Anaconda3\\envs\\qgis\\lib\\site-packages\\ipykernel_launcher.py:29: UserWarning: CRS mismatch between the CRS of left geometries and the CRS of right geometries.\n",
      "Use `to_crs()` to reproject one of the input geometries to match the CRS of the other.\n",
      "\n",
      "Left CRS: EPSG:4326\n",
      "Right CRS: None\n",
      "\n"
     ]
    },
    {
     "name": "stdout",
     "output_type": "stream",
     "text": [
      "(7127, 56)\n",
      "Region:  13121\n",
      "Spatial join\n",
      "K-means\n",
      "Voronoi\n"
     ]
    },
    {
     "name": "stderr",
     "output_type": "stream",
     "text": [
      "C:\\Users\\ibra1001\\Anaconda3\\envs\\qgis\\lib\\site-packages\\scipy\\cluster\\vq.py:575: UserWarning: One of the clusters is empty. Re-run kmeans with a different initialization.\n",
      "  warnings.warn(\"One of the clusters is empty. \"\n",
      "C:\\Users\\ibra1001\\Anaconda3\\envs\\qgis\\lib\\site-packages\\ipykernel_launcher.py:29: UserWarning: CRS mismatch between the CRS of left geometries and the CRS of right geometries.\n",
      "Use `to_crs()` to reproject one of the input geometries to match the CRS of the other.\n",
      "\n",
      "Left CRS: EPSG:4326\n",
      "Right CRS: None\n",
      "\n"
     ]
    },
    {
     "name": "stdout",
     "output_type": "stream",
     "text": [
      "(7140, 56)\n",
      "Region:  13122\n",
      "Spatial join\n",
      "K-means\n"
     ]
    },
    {
     "name": "stderr",
     "output_type": "stream",
     "text": [
      "C:\\Users\\ibra1001\\Anaconda3\\envs\\qgis\\lib\\site-packages\\scipy\\cluster\\vq.py:575: UserWarning: One of the clusters is empty. Re-run kmeans with a different initialization.\n",
      "  warnings.warn(\"One of the clusters is empty. \"\n"
     ]
    },
    {
     "name": "stdout",
     "output_type": "stream",
     "text": [
      "Voronoi\n"
     ]
    },
    {
     "name": "stderr",
     "output_type": "stream",
     "text": [
      "C:\\Users\\ibra1001\\Anaconda3\\envs\\qgis\\lib\\site-packages\\ipykernel_launcher.py:29: UserWarning: CRS mismatch between the CRS of left geometries and the CRS of right geometries.\n",
      "Use `to_crs()` to reproject one of the input geometries to match the CRS of the other.\n",
      "\n",
      "Left CRS: EPSG:4326\n",
      "Right CRS: None\n",
      "\n"
     ]
    },
    {
     "name": "stdout",
     "output_type": "stream",
     "text": [
      "(7168, 56)\n",
      "Region:  13123\n",
      "Spatial join\n",
      "K-means\n"
     ]
    },
    {
     "name": "stderr",
     "output_type": "stream",
     "text": [
      "C:\\Users\\ibra1001\\Anaconda3\\envs\\qgis\\lib\\site-packages\\scipy\\cluster\\vq.py:575: UserWarning: One of the clusters is empty. Re-run kmeans with a different initialization.\n",
      "  warnings.warn(\"One of the clusters is empty. \"\n"
     ]
    },
    {
     "name": "stdout",
     "output_type": "stream",
     "text": [
      "Voronoi\n"
     ]
    },
    {
     "name": "stderr",
     "output_type": "stream",
     "text": [
      "C:\\Users\\ibra1001\\Anaconda3\\envs\\qgis\\lib\\site-packages\\ipykernel_launcher.py:29: UserWarning: CRS mismatch between the CRS of left geometries and the CRS of right geometries.\n",
      "Use `to_crs()` to reproject one of the input geometries to match the CRS of the other.\n",
      "\n",
      "Left CRS: EPSG:4326\n",
      "Right CRS: None\n",
      "\n"
     ]
    },
    {
     "name": "stdout",
     "output_type": "stream",
     "text": [
      "(7186, 56)\n",
      "Region:  13124\n",
      "Spatial join\n",
      "K-means\n"
     ]
    },
    {
     "name": "stderr",
     "output_type": "stream",
     "text": [
      "C:\\Users\\ibra1001\\Anaconda3\\envs\\qgis\\lib\\site-packages\\scipy\\cluster\\vq.py:575: UserWarning: One of the clusters is empty. Re-run kmeans with a different initialization.\n",
      "  warnings.warn(\"One of the clusters is empty. \"\n"
     ]
    },
    {
     "name": "stdout",
     "output_type": "stream",
     "text": [
      "Voronoi\n"
     ]
    },
    {
     "name": "stderr",
     "output_type": "stream",
     "text": [
      "C:\\Users\\ibra1001\\Anaconda3\\envs\\qgis\\lib\\site-packages\\ipykernel_launcher.py:29: UserWarning: CRS mismatch between the CRS of left geometries and the CRS of right geometries.\n",
      "Use `to_crs()` to reproject one of the input geometries to match the CRS of the other.\n",
      "\n",
      "Left CRS: EPSG:4326\n",
      "Right CRS: None\n",
      "\n"
     ]
    },
    {
     "name": "stdout",
     "output_type": "stream",
     "text": [
      "(7211, 56)\n",
      "Region:  13125\n",
      "Spatial join\n",
      "K-means\n"
     ]
    },
    {
     "name": "stderr",
     "output_type": "stream",
     "text": [
      "C:\\Users\\ibra1001\\Anaconda3\\envs\\qgis\\lib\\site-packages\\scipy\\cluster\\vq.py:575: UserWarning: One of the clusters is empty. Re-run kmeans with a different initialization.\n",
      "  warnings.warn(\"One of the clusters is empty. \"\n"
     ]
    },
    {
     "name": "stdout",
     "output_type": "stream",
     "text": [
      "Voronoi\n"
     ]
    },
    {
     "name": "stderr",
     "output_type": "stream",
     "text": [
      "C:\\Users\\ibra1001\\Anaconda3\\envs\\qgis\\lib\\site-packages\\ipykernel_launcher.py:29: UserWarning: CRS mismatch between the CRS of left geometries and the CRS of right geometries.\n",
      "Use `to_crs()` to reproject one of the input geometries to match the CRS of the other.\n",
      "\n",
      "Left CRS: EPSG:4326\n",
      "Right CRS: None\n",
      "\n"
     ]
    },
    {
     "name": "stdout",
     "output_type": "stream",
     "text": [
      "(7239, 56)\n",
      "Region:  13126\n",
      "Spatial join\n",
      "K-means\n",
      "Voronoi\n"
     ]
    },
    {
     "name": "stderr",
     "output_type": "stream",
     "text": [
      "C:\\Users\\ibra1001\\Anaconda3\\envs\\qgis\\lib\\site-packages\\scipy\\cluster\\vq.py:575: UserWarning: One of the clusters is empty. Re-run kmeans with a different initialization.\n",
      "  warnings.warn(\"One of the clusters is empty. \"\n",
      "C:\\Users\\ibra1001\\Anaconda3\\envs\\qgis\\lib\\site-packages\\ipykernel_launcher.py:29: UserWarning: CRS mismatch between the CRS of left geometries and the CRS of right geometries.\n",
      "Use `to_crs()` to reproject one of the input geometries to match the CRS of the other.\n",
      "\n",
      "Left CRS: EPSG:4326\n",
      "Right CRS: None\n",
      "\n"
     ]
    },
    {
     "name": "stdout",
     "output_type": "stream",
     "text": [
      "(7253, 56)\n",
      "Region:  13127\n",
      "Spatial join\n",
      "K-means\n"
     ]
    },
    {
     "name": "stderr",
     "output_type": "stream",
     "text": [
      "C:\\Users\\ibra1001\\Anaconda3\\envs\\qgis\\lib\\site-packages\\scipy\\cluster\\vq.py:575: UserWarning: One of the clusters is empty. Re-run kmeans with a different initialization.\n",
      "  warnings.warn(\"One of the clusters is empty. \"\n"
     ]
    },
    {
     "name": "stdout",
     "output_type": "stream",
     "text": [
      "Voronoi\n"
     ]
    },
    {
     "name": "stderr",
     "output_type": "stream",
     "text": [
      "C:\\Users\\ibra1001\\Anaconda3\\envs\\qgis\\lib\\site-packages\\ipykernel_launcher.py:29: UserWarning: CRS mismatch between the CRS of left geometries and the CRS of right geometries.\n",
      "Use `to_crs()` to reproject one of the input geometries to match the CRS of the other.\n",
      "\n",
      "Left CRS: EPSG:4326\n",
      "Right CRS: None\n",
      "\n"
     ]
    },
    {
     "name": "stdout",
     "output_type": "stream",
     "text": [
      "(7273, 56)\n",
      "Region:  13128\n",
      "Spatial join\n",
      "K-means\n"
     ]
    },
    {
     "name": "stderr",
     "output_type": "stream",
     "text": [
      "C:\\Users\\ibra1001\\Anaconda3\\envs\\qgis\\lib\\site-packages\\scipy\\cluster\\vq.py:575: UserWarning: One of the clusters is empty. Re-run kmeans with a different initialization.\n",
      "  warnings.warn(\"One of the clusters is empty. \"\n"
     ]
    },
    {
     "name": "stdout",
     "output_type": "stream",
     "text": [
      "Voronoi\n"
     ]
    },
    {
     "name": "stderr",
     "output_type": "stream",
     "text": [
      "C:\\Users\\ibra1001\\Anaconda3\\envs\\qgis\\lib\\site-packages\\ipykernel_launcher.py:29: UserWarning: CRS mismatch between the CRS of left geometries and the CRS of right geometries.\n",
      "Use `to_crs()` to reproject one of the input geometries to match the CRS of the other.\n",
      "\n",
      "Left CRS: EPSG:4326\n",
      "Right CRS: None\n",
      "\n"
     ]
    },
    {
     "name": "stdout",
     "output_type": "stream",
     "text": [
      "(7292, 56)\n",
      "Region:  13129\n",
      "Spatial join\n",
      "K-means\n",
      "Voronoi\n"
     ]
    },
    {
     "name": "stderr",
     "output_type": "stream",
     "text": [
      "C:\\Users\\ibra1001\\Anaconda3\\envs\\qgis\\lib\\site-packages\\scipy\\cluster\\vq.py:575: UserWarning: One of the clusters is empty. Re-run kmeans with a different initialization.\n",
      "  warnings.warn(\"One of the clusters is empty. \"\n",
      "C:\\Users\\ibra1001\\Anaconda3\\envs\\qgis\\lib\\site-packages\\ipykernel_launcher.py:29: UserWarning: CRS mismatch between the CRS of left geometries and the CRS of right geometries.\n",
      "Use `to_crs()` to reproject one of the input geometries to match the CRS of the other.\n",
      "\n",
      "Left CRS: EPSG:4326\n",
      "Right CRS: None\n",
      "\n"
     ]
    },
    {
     "name": "stdout",
     "output_type": "stream",
     "text": [
      "(7303, 56)\n",
      "Region:  13130\n",
      "Spatial join\n",
      "K-means\n",
      "Voronoi\n"
     ]
    },
    {
     "name": "stderr",
     "output_type": "stream",
     "text": [
      "C:\\Users\\ibra1001\\Anaconda3\\envs\\qgis\\lib\\site-packages\\scipy\\cluster\\vq.py:575: UserWarning: One of the clusters is empty. Re-run kmeans with a different initialization.\n",
      "  warnings.warn(\"One of the clusters is empty. \"\n",
      "C:\\Users\\ibra1001\\Anaconda3\\envs\\qgis\\lib\\site-packages\\ipykernel_launcher.py:29: UserWarning: CRS mismatch between the CRS of left geometries and the CRS of right geometries.\n",
      "Use `to_crs()` to reproject one of the input geometries to match the CRS of the other.\n",
      "\n",
      "Left CRS: EPSG:4326\n",
      "Right CRS: None\n",
      "\n"
     ]
    },
    {
     "name": "stdout",
     "output_type": "stream",
     "text": [
      "(7316, 56)\n",
      "Region:  13131\n",
      "Spatial join\n",
      "K-means\n",
      "Voronoi\n"
     ]
    },
    {
     "name": "stderr",
     "output_type": "stream",
     "text": [
      "C:\\Users\\ibra1001\\Anaconda3\\envs\\qgis\\lib\\site-packages\\scipy\\cluster\\vq.py:575: UserWarning: One of the clusters is empty. Re-run kmeans with a different initialization.\n",
      "  warnings.warn(\"One of the clusters is empty. \"\n",
      "C:\\Users\\ibra1001\\Anaconda3\\envs\\qgis\\lib\\site-packages\\ipykernel_launcher.py:29: UserWarning: CRS mismatch between the CRS of left geometries and the CRS of right geometries.\n",
      "Use `to_crs()` to reproject one of the input geometries to match the CRS of the other.\n",
      "\n",
      "Left CRS: EPSG:4326\n",
      "Right CRS: None\n",
      "\n"
     ]
    },
    {
     "name": "stdout",
     "output_type": "stream",
     "text": [
      "(7325, 56)\n",
      "Region:  13132\n",
      "Spatial join\n",
      "K-means\n",
      "Voronoi\n"
     ]
    },
    {
     "name": "stderr",
     "output_type": "stream",
     "text": [
      "C:\\Users\\ibra1001\\Anaconda3\\envs\\qgis\\lib\\site-packages\\scipy\\cluster\\vq.py:575: UserWarning: One of the clusters is empty. Re-run kmeans with a different initialization.\n",
      "  warnings.warn(\"One of the clusters is empty. \"\n",
      "C:\\Users\\ibra1001\\Anaconda3\\envs\\qgis\\lib\\site-packages\\ipykernel_launcher.py:29: UserWarning: CRS mismatch between the CRS of left geometries and the CRS of right geometries.\n",
      "Use `to_crs()` to reproject one of the input geometries to match the CRS of the other.\n",
      "\n",
      "Left CRS: EPSG:4326\n",
      "Right CRS: None\n",
      "\n"
     ]
    },
    {
     "name": "stdout",
     "output_type": "stream",
     "text": [
      "(7340, 56)\n",
      "Region:  13201\n",
      "Spatial join\n",
      "K-means\n"
     ]
    },
    {
     "name": "stderr",
     "output_type": "stream",
     "text": [
      "C:\\Users\\ibra1001\\Anaconda3\\envs\\qgis\\lib\\site-packages\\scipy\\cluster\\vq.py:575: UserWarning: One of the clusters is empty. Re-run kmeans with a different initialization.\n",
      "  warnings.warn(\"One of the clusters is empty. \"\n"
     ]
    },
    {
     "name": "stdout",
     "output_type": "stream",
     "text": [
      "Voronoi\n"
     ]
    },
    {
     "name": "stderr",
     "output_type": "stream",
     "text": [
      "C:\\Users\\ibra1001\\Anaconda3\\envs\\qgis\\lib\\site-packages\\ipykernel_launcher.py:29: UserWarning: CRS mismatch between the CRS of left geometries and the CRS of right geometries.\n",
      "Use `to_crs()` to reproject one of the input geometries to match the CRS of the other.\n",
      "\n",
      "Left CRS: EPSG:4326\n",
      "Right CRS: None\n",
      "\n"
     ]
    },
    {
     "name": "stdout",
     "output_type": "stream",
     "text": [
      "(7400, 56)\n",
      "Region:  13202\n",
      "Spatial join\n",
      "K-means\n",
      "Voronoi\n"
     ]
    },
    {
     "name": "stderr",
     "output_type": "stream",
     "text": [
      "C:\\Users\\ibra1001\\Anaconda3\\envs\\qgis\\lib\\site-packages\\ipykernel_launcher.py:29: UserWarning: CRS mismatch between the CRS of left geometries and the CRS of right geometries.\n",
      "Use `to_crs()` to reproject one of the input geometries to match the CRS of the other.\n",
      "\n",
      "Left CRS: EPSG:4326\n",
      "Right CRS: None\n",
      "\n"
     ]
    },
    {
     "name": "stdout",
     "output_type": "stream",
     "text": [
      "(7413, 56)\n",
      "Region:  13203\n",
      "Spatial join\n",
      "K-means\n",
      "Voronoi\n"
     ]
    },
    {
     "name": "stderr",
     "output_type": "stream",
     "text": [
      "C:\\Users\\ibra1001\\Anaconda3\\envs\\qgis\\lib\\site-packages\\ipykernel_launcher.py:29: UserWarning: CRS mismatch between the CRS of left geometries and the CRS of right geometries.\n",
      "Use `to_crs()` to reproject one of the input geometries to match the CRS of the other.\n",
      "\n",
      "Left CRS: EPSG:4326\n",
      "Right CRS: None\n",
      "\n"
     ]
    },
    {
     "name": "stdout",
     "output_type": "stream",
     "text": [
      "(7482, 56)\n",
      "Region:  13301\n",
      "Spatial join\n",
      "K-means\n"
     ]
    },
    {
     "name": "stderr",
     "output_type": "stream",
     "text": [
      "C:\\Users\\ibra1001\\Anaconda3\\envs\\qgis\\lib\\site-packages\\scipy\\cluster\\vq.py:575: UserWarning: One of the clusters is empty. Re-run kmeans with a different initialization.\n",
      "  warnings.warn(\"One of the clusters is empty. \"\n"
     ]
    },
    {
     "name": "stdout",
     "output_type": "stream",
     "text": [
      "Voronoi\n"
     ]
    },
    {
     "name": "stderr",
     "output_type": "stream",
     "text": [
      "C:\\Users\\ibra1001\\Anaconda3\\envs\\qgis\\lib\\site-packages\\ipykernel_launcher.py:29: UserWarning: CRS mismatch between the CRS of left geometries and the CRS of right geometries.\n",
      "Use `to_crs()` to reproject one of the input geometries to match the CRS of the other.\n",
      "\n",
      "Left CRS: EPSG:4326\n",
      "Right CRS: None\n",
      "\n"
     ]
    },
    {
     "name": "stdout",
     "output_type": "stream",
     "text": [
      "(7530, 56)\n",
      "Region:  13302\n",
      "Spatial join\n",
      "K-means\n"
     ]
    },
    {
     "name": "stderr",
     "output_type": "stream",
     "text": [
      "C:\\Users\\ibra1001\\Anaconda3\\envs\\qgis\\lib\\site-packages\\scipy\\cluster\\vq.py:575: UserWarning: One of the clusters is empty. Re-run kmeans with a different initialization.\n",
      "  warnings.warn(\"One of the clusters is empty. \"\n"
     ]
    },
    {
     "name": "stdout",
     "output_type": "stream",
     "text": [
      "Voronoi\n"
     ]
    },
    {
     "name": "stderr",
     "output_type": "stream",
     "text": [
      "C:\\Users\\ibra1001\\Anaconda3\\envs\\qgis\\lib\\site-packages\\ipykernel_launcher.py:29: UserWarning: CRS mismatch between the CRS of left geometries and the CRS of right geometries.\n",
      "Use `to_crs()` to reproject one of the input geometries to match the CRS of the other.\n",
      "\n",
      "Left CRS: EPSG:4326\n",
      "Right CRS: None\n",
      "\n"
     ]
    },
    {
     "name": "stdout",
     "output_type": "stream",
     "text": [
      "(7559, 56)\n",
      "Region:  13303\n",
      "Spatial join\n",
      "K-means\n",
      "Voronoi\n"
     ]
    },
    {
     "name": "stderr",
     "output_type": "stream",
     "text": [
      "C:\\Users\\ibra1001\\Anaconda3\\envs\\qgis\\lib\\site-packages\\ipykernel_launcher.py:29: UserWarning: CRS mismatch between the CRS of left geometries and the CRS of right geometries.\n",
      "Use `to_crs()` to reproject one of the input geometries to match the CRS of the other.\n",
      "\n",
      "Left CRS: EPSG:4326\n",
      "Right CRS: None\n",
      "\n"
     ]
    },
    {
     "name": "stdout",
     "output_type": "stream",
     "text": [
      "(7578, 56)\n",
      "Region:  13401\n",
      "Spatial join\n",
      "K-means\n"
     ]
    },
    {
     "name": "stderr",
     "output_type": "stream",
     "text": [
      "C:\\Users\\ibra1001\\Anaconda3\\envs\\qgis\\lib\\site-packages\\scipy\\cluster\\vq.py:575: UserWarning: One of the clusters is empty. Re-run kmeans with a different initialization.\n",
      "  warnings.warn(\"One of the clusters is empty. \"\n"
     ]
    },
    {
     "name": "stdout",
     "output_type": "stream",
     "text": [
      "Voronoi\n"
     ]
    },
    {
     "name": "stderr",
     "output_type": "stream",
     "text": [
      "C:\\Users\\ibra1001\\Anaconda3\\envs\\qgis\\lib\\site-packages\\ipykernel_launcher.py:29: UserWarning: CRS mismatch between the CRS of left geometries and the CRS of right geometries.\n",
      "Use `to_crs()` to reproject one of the input geometries to match the CRS of the other.\n",
      "\n",
      "Left CRS: EPSG:4326\n",
      "Right CRS: None\n",
      "\n"
     ]
    },
    {
     "name": "stdout",
     "output_type": "stream",
     "text": [
      "(7626, 56)\n",
      "Region:  13402\n",
      "Spatial join\n",
      "K-means\n"
     ]
    },
    {
     "name": "stderr",
     "output_type": "stream",
     "text": [
      "C:\\Users\\ibra1001\\Anaconda3\\envs\\qgis\\lib\\site-packages\\scipy\\cluster\\vq.py:575: UserWarning: One of the clusters is empty. Re-run kmeans with a different initialization.\n",
      "  warnings.warn(\"One of the clusters is empty. \"\n"
     ]
    },
    {
     "name": "stdout",
     "output_type": "stream",
     "text": [
      "Voronoi\n"
     ]
    },
    {
     "name": "stderr",
     "output_type": "stream",
     "text": [
      "C:\\Users\\ibra1001\\Anaconda3\\envs\\qgis\\lib\\site-packages\\ipykernel_launcher.py:29: UserWarning: CRS mismatch between the CRS of left geometries and the CRS of right geometries.\n",
      "Use `to_crs()` to reproject one of the input geometries to match the CRS of the other.\n",
      "\n",
      "Left CRS: EPSG:4326\n",
      "Right CRS: None\n",
      "\n"
     ]
    },
    {
     "name": "stdout",
     "output_type": "stream",
     "text": [
      "(7646, 56)\n",
      "Region:  13403\n",
      "Spatial join\n",
      "K-means\n",
      "Voronoi\n"
     ]
    },
    {
     "name": "stderr",
     "output_type": "stream",
     "text": [
      "C:\\Users\\ibra1001\\Anaconda3\\envs\\qgis\\lib\\site-packages\\scipy\\cluster\\vq.py:575: UserWarning: One of the clusters is empty. Re-run kmeans with a different initialization.\n",
      "  warnings.warn(\"One of the clusters is empty. \"\n",
      "C:\\Users\\ibra1001\\Anaconda3\\envs\\qgis\\lib\\site-packages\\ipykernel_launcher.py:29: UserWarning: CRS mismatch between the CRS of left geometries and the CRS of right geometries.\n",
      "Use `to_crs()` to reproject one of the input geometries to match the CRS of the other.\n",
      "\n",
      "Left CRS: EPSG:4326\n",
      "Right CRS: None\n",
      "\n"
     ]
    },
    {
     "name": "stdout",
     "output_type": "stream",
     "text": [
      "(7651, 56)\n",
      "Region:  13404\n",
      "Spatial join\n",
      "K-means\n"
     ]
    },
    {
     "name": "stderr",
     "output_type": "stream",
     "text": [
      "C:\\Users\\ibra1001\\Anaconda3\\envs\\qgis\\lib\\site-packages\\scipy\\cluster\\vq.py:575: UserWarning: One of the clusters is empty. Re-run kmeans with a different initialization.\n",
      "  warnings.warn(\"One of the clusters is empty. \"\n"
     ]
    },
    {
     "name": "stdout",
     "output_type": "stream",
     "text": [
      "Voronoi\n"
     ]
    },
    {
     "name": "stderr",
     "output_type": "stream",
     "text": [
      "C:\\Users\\ibra1001\\Anaconda3\\envs\\qgis\\lib\\site-packages\\ipykernel_launcher.py:29: UserWarning: CRS mismatch between the CRS of left geometries and the CRS of right geometries.\n",
      "Use `to_crs()` to reproject one of the input geometries to match the CRS of the other.\n",
      "\n",
      "Left CRS: EPSG:4326\n",
      "Right CRS: None\n",
      "\n"
     ]
    },
    {
     "name": "stdout",
     "output_type": "stream",
     "text": [
      "(7679, 56)\n",
      "Region:  13501\n",
      "Spatial join\n",
      "K-means\n"
     ]
    },
    {
     "name": "stderr",
     "output_type": "stream",
     "text": [
      "C:\\Users\\ibra1001\\Anaconda3\\envs\\qgis\\lib\\site-packages\\scipy\\cluster\\vq.py:575: UserWarning: One of the clusters is empty. Re-run kmeans with a different initialization.\n",
      "  warnings.warn(\"One of the clusters is empty. \"\n"
     ]
    },
    {
     "name": "stdout",
     "output_type": "stream",
     "text": [
      "Voronoi\n"
     ]
    },
    {
     "name": "stderr",
     "output_type": "stream",
     "text": [
      "C:\\Users\\ibra1001\\Anaconda3\\envs\\qgis\\lib\\site-packages\\ipykernel_launcher.py:29: UserWarning: CRS mismatch between the CRS of left geometries and the CRS of right geometries.\n",
      "Use `to_crs()` to reproject one of the input geometries to match the CRS of the other.\n",
      "\n",
      "Left CRS: EPSG:4326\n",
      "Right CRS: None\n",
      "\n"
     ]
    },
    {
     "name": "stdout",
     "output_type": "stream",
     "text": [
      "(7734, 56)\n",
      "Region:  13502\n",
      "Spatial join\n",
      "K-means\n",
      "Voronoi\n"
     ]
    },
    {
     "name": "stderr",
     "output_type": "stream",
     "text": [
      "C:\\Users\\ibra1001\\Anaconda3\\envs\\qgis\\lib\\site-packages\\ipykernel_launcher.py:29: UserWarning: CRS mismatch between the CRS of left geometries and the CRS of right geometries.\n",
      "Use `to_crs()` to reproject one of the input geometries to match the CRS of the other.\n",
      "\n",
      "Left CRS: EPSG:4326\n",
      "Right CRS: None\n",
      "\n"
     ]
    },
    {
     "name": "stdout",
     "output_type": "stream",
     "text": [
      "(7744, 56)\n",
      "Region:  13503\n",
      "Spatial join\n",
      "K-means\n"
     ]
    },
    {
     "name": "stderr",
     "output_type": "stream",
     "text": [
      "C:\\Users\\ibra1001\\Anaconda3\\envs\\qgis\\lib\\site-packages\\scipy\\cluster\\vq.py:575: UserWarning: One of the clusters is empty. Re-run kmeans with a different initialization.\n",
      "  warnings.warn(\"One of the clusters is empty. \"\n"
     ]
    },
    {
     "name": "stdout",
     "output_type": "stream",
     "text": [
      "Voronoi\n"
     ]
    },
    {
     "name": "stderr",
     "output_type": "stream",
     "text": [
      "C:\\Users\\ibra1001\\Anaconda3\\envs\\qgis\\lib\\site-packages\\ipykernel_launcher.py:29: UserWarning: CRS mismatch between the CRS of left geometries and the CRS of right geometries.\n",
      "Use `to_crs()` to reproject one of the input geometries to match the CRS of the other.\n",
      "\n",
      "Left CRS: EPSG:4326\n",
      "Right CRS: None\n",
      "\n"
     ]
    },
    {
     "name": "stdout",
     "output_type": "stream",
     "text": [
      "(7765, 56)\n",
      "Region:  13504\n",
      "Spatial join\n",
      "K-means\n",
      "Voronoi\n"
     ]
    },
    {
     "name": "stderr",
     "output_type": "stream",
     "text": [
      "C:\\Users\\ibra1001\\Anaconda3\\envs\\qgis\\lib\\site-packages\\ipykernel_launcher.py:29: UserWarning: CRS mismatch between the CRS of left geometries and the CRS of right geometries.\n",
      "Use `to_crs()` to reproject one of the input geometries to match the CRS of the other.\n",
      "\n",
      "Left CRS: EPSG:4326\n",
      "Right CRS: None\n",
      "\n"
     ]
    },
    {
     "name": "stdout",
     "output_type": "stream",
     "text": [
      "(7776, 56)\n",
      "Region:  13505\n",
      "Spatial join\n",
      "K-means\n",
      "Voronoi\n"
     ]
    },
    {
     "name": "stderr",
     "output_type": "stream",
     "text": [
      "C:\\Users\\ibra1001\\Anaconda3\\envs\\qgis\\lib\\site-packages\\ipykernel_launcher.py:29: UserWarning: CRS mismatch between the CRS of left geometries and the CRS of right geometries.\n",
      "Use `to_crs()` to reproject one of the input geometries to match the CRS of the other.\n",
      "\n",
      "Left CRS: EPSG:4326\n",
      "Right CRS: None\n",
      "\n"
     ]
    },
    {
     "name": "stdout",
     "output_type": "stream",
     "text": [
      "(7798, 56)\n",
      "Region:  13601\n",
      "Spatial join\n",
      "K-means\n"
     ]
    },
    {
     "name": "stderr",
     "output_type": "stream",
     "text": [
      "C:\\Users\\ibra1001\\Anaconda3\\envs\\qgis\\lib\\site-packages\\scipy\\cluster\\vq.py:575: UserWarning: One of the clusters is empty. Re-run kmeans with a different initialization.\n",
      "  warnings.warn(\"One of the clusters is empty. \"\n"
     ]
    },
    {
     "name": "stdout",
     "output_type": "stream",
     "text": [
      "Voronoi\n"
     ]
    },
    {
     "name": "stderr",
     "output_type": "stream",
     "text": [
      "C:\\Users\\ibra1001\\Anaconda3\\envs\\qgis\\lib\\site-packages\\ipykernel_launcher.py:29: UserWarning: CRS mismatch between the CRS of left geometries and the CRS of right geometries.\n",
      "Use `to_crs()` to reproject one of the input geometries to match the CRS of the other.\n",
      "\n",
      "Left CRS: EPSG:4326\n",
      "Right CRS: None\n",
      "\n"
     ]
    },
    {
     "name": "stdout",
     "output_type": "stream",
     "text": [
      "(7815, 56)\n",
      "Region:  13602\n",
      "Spatial join\n",
      "K-means\n",
      "Voronoi\n"
     ]
    },
    {
     "name": "stderr",
     "output_type": "stream",
     "text": [
      "C:\\Users\\ibra1001\\Anaconda3\\envs\\qgis\\lib\\site-packages\\scipy\\cluster\\vq.py:575: UserWarning: One of the clusters is empty. Re-run kmeans with a different initialization.\n",
      "  warnings.warn(\"One of the clusters is empty. \"\n",
      "C:\\Users\\ibra1001\\Anaconda3\\envs\\qgis\\lib\\site-packages\\ipykernel_launcher.py:29: UserWarning: CRS mismatch between the CRS of left geometries and the CRS of right geometries.\n",
      "Use `to_crs()` to reproject one of the input geometries to match the CRS of the other.\n",
      "\n",
      "Left CRS: EPSG:4326\n",
      "Right CRS: None\n",
      "\n"
     ]
    },
    {
     "name": "stdout",
     "output_type": "stream",
     "text": [
      "(7824, 56)\n",
      "Region:  13603\n",
      "Spatial join\n",
      "K-means\n",
      "Voronoi\n"
     ]
    },
    {
     "name": "stderr",
     "output_type": "stream",
     "text": [
      "C:\\Users\\ibra1001\\Anaconda3\\envs\\qgis\\lib\\site-packages\\scipy\\cluster\\vq.py:575: UserWarning: One of the clusters is empty. Re-run kmeans with a different initialization.\n",
      "  warnings.warn(\"One of the clusters is empty. \"\n",
      "C:\\Users\\ibra1001\\Anaconda3\\envs\\qgis\\lib\\site-packages\\ipykernel_launcher.py:29: UserWarning: CRS mismatch between the CRS of left geometries and the CRS of right geometries.\n",
      "Use `to_crs()` to reproject one of the input geometries to match the CRS of the other.\n",
      "\n",
      "Left CRS: EPSG:4326\n",
      "Right CRS: None\n",
      "\n"
     ]
    },
    {
     "name": "stdout",
     "output_type": "stream",
     "text": [
      "(7834, 56)\n",
      "Region:  13604\n",
      "Spatial join\n",
      "K-means\n"
     ]
    },
    {
     "name": "stderr",
     "output_type": "stream",
     "text": [
      "C:\\Users\\ibra1001\\Anaconda3\\envs\\qgis\\lib\\site-packages\\scipy\\cluster\\vq.py:575: UserWarning: One of the clusters is empty. Re-run kmeans with a different initialization.\n",
      "  warnings.warn(\"One of the clusters is empty. \"\n"
     ]
    },
    {
     "name": "stdout",
     "output_type": "stream",
     "text": [
      "Voronoi\n"
     ]
    },
    {
     "name": "stderr",
     "output_type": "stream",
     "text": [
      "C:\\Users\\ibra1001\\Anaconda3\\envs\\qgis\\lib\\site-packages\\ipykernel_launcher.py:29: UserWarning: CRS mismatch between the CRS of left geometries and the CRS of right geometries.\n",
      "Use `to_crs()` to reproject one of the input geometries to match the CRS of the other.\n",
      "\n",
      "Left CRS: EPSG:4326\n",
      "Right CRS: None\n",
      "\n"
     ]
    },
    {
     "name": "stdout",
     "output_type": "stream",
     "text": [
      "(7843, 56)\n",
      "Region:  13605\n",
      "Spatial join\n",
      "K-means\n",
      "Voronoi\n"
     ]
    },
    {
     "name": "stderr",
     "output_type": "stream",
     "text": [
      "C:\\Users\\ibra1001\\Anaconda3\\envs\\qgis\\lib\\site-packages\\scipy\\cluster\\vq.py:575: UserWarning: One of the clusters is empty. Re-run kmeans with a different initialization.\n",
      "  warnings.warn(\"One of the clusters is empty. \"\n",
      "C:\\Users\\ibra1001\\Anaconda3\\envs\\qgis\\lib\\site-packages\\ipykernel_launcher.py:29: UserWarning: CRS mismatch between the CRS of left geometries and the CRS of right geometries.\n",
      "Use `to_crs()` to reproject one of the input geometries to match the CRS of the other.\n",
      "\n",
      "Left CRS: EPSG:4326\n",
      "Right CRS: None\n",
      "\n"
     ]
    },
    {
     "name": "stdout",
     "output_type": "stream",
     "text": [
      "(7860, 56)\n",
      "Region:  14101\n",
      "Spatial join\n",
      "K-means\n"
     ]
    },
    {
     "name": "stderr",
     "output_type": "stream",
     "text": [
      "C:\\Users\\ibra1001\\Anaconda3\\envs\\qgis\\lib\\site-packages\\scipy\\cluster\\vq.py:575: UserWarning: One of the clusters is empty. Re-run kmeans with a different initialization.\n",
      "  warnings.warn(\"One of the clusters is empty. \"\n"
     ]
    },
    {
     "name": "stdout",
     "output_type": "stream",
     "text": [
      "Voronoi\n"
     ]
    },
    {
     "name": "stderr",
     "output_type": "stream",
     "text": [
      "C:\\Users\\ibra1001\\Anaconda3\\envs\\qgis\\lib\\site-packages\\ipykernel_launcher.py:29: UserWarning: CRS mismatch between the CRS of left geometries and the CRS of right geometries.\n",
      "Use `to_crs()` to reproject one of the input geometries to match the CRS of the other.\n",
      "\n",
      "Left CRS: EPSG:4326\n",
      "Right CRS: None\n",
      "\n"
     ]
    },
    {
     "name": "stdout",
     "output_type": "stream",
     "text": [
      "(7916, 56)\n",
      "Region:  14102\n",
      "Spatial join\n",
      "K-means\n",
      "Voronoi\n"
     ]
    },
    {
     "name": "stderr",
     "output_type": "stream",
     "text": [
      "C:\\Users\\ibra1001\\Anaconda3\\envs\\qgis\\lib\\site-packages\\ipykernel_launcher.py:29: UserWarning: CRS mismatch between the CRS of left geometries and the CRS of right geometries.\n",
      "Use `to_crs()` to reproject one of the input geometries to match the CRS of the other.\n",
      "\n",
      "Left CRS: EPSG:4326\n",
      "Right CRS: None\n",
      "\n"
     ]
    },
    {
     "name": "stdout",
     "output_type": "stream",
     "text": [
      "(7932, 56)\n",
      "Region:  14103\n",
      "Spatial join\n",
      "K-means\n",
      "Voronoi\n"
     ]
    },
    {
     "name": "stderr",
     "output_type": "stream",
     "text": [
      "C:\\Users\\ibra1001\\Anaconda3\\envs\\qgis\\lib\\site-packages\\ipykernel_launcher.py:29: UserWarning: CRS mismatch between the CRS of left geometries and the CRS of right geometries.\n",
      "Use `to_crs()` to reproject one of the input geometries to match the CRS of the other.\n",
      "\n",
      "Left CRS: EPSG:4326\n",
      "Right CRS: None\n",
      "\n"
     ]
    },
    {
     "name": "stdout",
     "output_type": "stream",
     "text": [
      "(7949, 56)\n",
      "Region:  14104\n",
      "Spatial join\n",
      "K-means\n",
      "Voronoi\n"
     ]
    },
    {
     "name": "stderr",
     "output_type": "stream",
     "text": [
      "C:\\Users\\ibra1001\\Anaconda3\\envs\\qgis\\lib\\site-packages\\ipykernel_launcher.py:29: UserWarning: CRS mismatch between the CRS of left geometries and the CRS of right geometries.\n",
      "Use `to_crs()` to reproject one of the input geometries to match the CRS of the other.\n",
      "\n",
      "Left CRS: EPSG:4326\n",
      "Right CRS: None\n",
      "\n"
     ]
    },
    {
     "name": "stdout",
     "output_type": "stream",
     "text": [
      "(7997, 56)\n",
      "Region:  14105\n",
      "Spatial join\n",
      "K-means\n",
      "Voronoi\n"
     ]
    },
    {
     "name": "stderr",
     "output_type": "stream",
     "text": [
      "C:\\Users\\ibra1001\\Anaconda3\\envs\\qgis\\lib\\site-packages\\ipykernel_launcher.py:29: UserWarning: CRS mismatch between the CRS of left geometries and the CRS of right geometries.\n",
      "Use `to_crs()` to reproject one of the input geometries to match the CRS of the other.\n",
      "\n",
      "Left CRS: EPSG:4326\n",
      "Right CRS: None\n",
      "\n"
     ]
    },
    {
     "name": "stdout",
     "output_type": "stream",
     "text": [
      "(8015, 56)\n",
      "Region:  14106\n",
      "Spatial join\n",
      "K-means\n",
      "Voronoi\n"
     ]
    },
    {
     "name": "stderr",
     "output_type": "stream",
     "text": [
      "C:\\Users\\ibra1001\\Anaconda3\\envs\\qgis\\lib\\site-packages\\ipykernel_launcher.py:29: UserWarning: CRS mismatch between the CRS of left geometries and the CRS of right geometries.\n",
      "Use `to_crs()` to reproject one of the input geometries to match the CRS of the other.\n",
      "\n",
      "Left CRS: EPSG:4326\n",
      "Right CRS: None\n",
      "\n"
     ]
    },
    {
     "name": "stdout",
     "output_type": "stream",
     "text": [
      "(8053, 56)\n",
      "Region:  14107\n",
      "Spatial join\n",
      "K-means\n",
      "Voronoi\n"
     ]
    },
    {
     "name": "stderr",
     "output_type": "stream",
     "text": [
      "C:\\Users\\ibra1001\\Anaconda3\\envs\\qgis\\lib\\site-packages\\ipykernel_launcher.py:29: UserWarning: CRS mismatch between the CRS of left geometries and the CRS of right geometries.\n",
      "Use `to_crs()` to reproject one of the input geometries to match the CRS of the other.\n",
      "\n",
      "Left CRS: EPSG:4326\n",
      "Right CRS: None\n",
      "\n"
     ]
    },
    {
     "name": "stdout",
     "output_type": "stream",
     "text": [
      "(8082, 56)\n",
      "Region:  14108\n",
      "Spatial join\n",
      "K-means\n",
      "Voronoi\n"
     ]
    },
    {
     "name": "stderr",
     "output_type": "stream",
     "text": [
      "C:\\Users\\ibra1001\\Anaconda3\\envs\\qgis\\lib\\site-packages\\ipykernel_launcher.py:29: UserWarning: CRS mismatch between the CRS of left geometries and the CRS of right geometries.\n",
      "Use `to_crs()` to reproject one of the input geometries to match the CRS of the other.\n",
      "\n",
      "Left CRS: EPSG:4326\n",
      "Right CRS: None\n",
      "\n"
     ]
    },
    {
     "name": "stdout",
     "output_type": "stream",
     "text": [
      "(8152, 56)\n",
      "Region:  14201\n",
      "Spatial join\n",
      "K-means\n",
      "Voronoi\n"
     ]
    },
    {
     "name": "stderr",
     "output_type": "stream",
     "text": [
      "C:\\Users\\ibra1001\\Anaconda3\\envs\\qgis\\lib\\site-packages\\ipykernel_launcher.py:29: UserWarning: CRS mismatch between the CRS of left geometries and the CRS of right geometries.\n",
      "Use `to_crs()` to reproject one of the input geometries to match the CRS of the other.\n",
      "\n",
      "Left CRS: EPSG:4326\n",
      "Right CRS: None\n",
      "\n"
     ]
    },
    {
     "name": "stdout",
     "output_type": "stream",
     "text": [
      "(8219, 56)\n",
      "Region:  14202\n",
      "Spatial join\n",
      "K-means\n"
     ]
    },
    {
     "name": "stderr",
     "output_type": "stream",
     "text": [
      "C:\\Users\\ibra1001\\Anaconda3\\envs\\qgis\\lib\\site-packages\\scipy\\cluster\\vq.py:575: UserWarning: One of the clusters is empty. Re-run kmeans with a different initialization.\n",
      "  warnings.warn(\"One of the clusters is empty. \"\n"
     ]
    },
    {
     "name": "stdout",
     "output_type": "stream",
     "text": [
      "Voronoi\n"
     ]
    },
    {
     "name": "stderr",
     "output_type": "stream",
     "text": [
      "C:\\Users\\ibra1001\\Anaconda3\\envs\\qgis\\lib\\site-packages\\ipykernel_launcher.py:29: UserWarning: CRS mismatch between the CRS of left geometries and the CRS of right geometries.\n",
      "Use `to_crs()` to reproject one of the input geometries to match the CRS of the other.\n",
      "\n",
      "Left CRS: EPSG:4326\n",
      "Right CRS: None\n",
      "\n"
     ]
    },
    {
     "name": "stdout",
     "output_type": "stream",
     "text": [
      "(8270, 56)\n",
      "Region:  14203\n",
      "Spatial join\n",
      "K-means\n",
      "Voronoi\n"
     ]
    },
    {
     "name": "stderr",
     "output_type": "stream",
     "text": [
      "C:\\Users\\ibra1001\\Anaconda3\\envs\\qgis\\lib\\site-packages\\ipykernel_launcher.py:29: UserWarning: CRS mismatch between the CRS of left geometries and the CRS of right geometries.\n",
      "Use `to_crs()` to reproject one of the input geometries to match the CRS of the other.\n",
      "\n",
      "Left CRS: EPSG:4326\n",
      "Right CRS: None\n",
      "\n"
     ]
    },
    {
     "name": "stdout",
     "output_type": "stream",
     "text": [
      "(8304, 56)\n",
      "Region:  14204\n",
      "Spatial join\n",
      "K-means\n",
      "Voronoi\n"
     ]
    },
    {
     "name": "stderr",
     "output_type": "stream",
     "text": [
      "C:\\Users\\ibra1001\\Anaconda3\\envs\\qgis\\lib\\site-packages\\ipykernel_launcher.py:29: UserWarning: CRS mismatch between the CRS of left geometries and the CRS of right geometries.\n",
      "Use `to_crs()` to reproject one of the input geometries to match the CRS of the other.\n",
      "\n",
      "Left CRS: EPSG:4326\n",
      "Right CRS: None\n",
      "\n"
     ]
    },
    {
     "name": "stdout",
     "output_type": "stream",
     "text": [
      "(8363, 56)\n",
      "Region:  15101\n",
      "Spatial join\n",
      "K-means\n"
     ]
    },
    {
     "name": "stderr",
     "output_type": "stream",
     "text": [
      "C:\\Users\\ibra1001\\Anaconda3\\envs\\qgis\\lib\\site-packages\\scipy\\cluster\\vq.py:575: UserWarning: One of the clusters is empty. Re-run kmeans with a different initialization.\n",
      "  warnings.warn(\"One of the clusters is empty. \"\n"
     ]
    },
    {
     "name": "stdout",
     "output_type": "stream",
     "text": [
      "Voronoi\n"
     ]
    },
    {
     "name": "stderr",
     "output_type": "stream",
     "text": [
      "C:\\Users\\ibra1001\\Anaconda3\\envs\\qgis\\lib\\site-packages\\ipykernel_launcher.py:29: UserWarning: CRS mismatch between the CRS of left geometries and the CRS of right geometries.\n",
      "Use `to_crs()` to reproject one of the input geometries to match the CRS of the other.\n",
      "\n",
      "Left CRS: EPSG:4326\n",
      "Right CRS: None\n",
      "\n"
     ]
    },
    {
     "name": "stdout",
     "output_type": "stream",
     "text": [
      "(8416, 56)\n",
      "Region:  15102\n",
      "Spatial join\n",
      "K-means\n",
      "Voronoi\n"
     ]
    },
    {
     "name": "stderr",
     "output_type": "stream",
     "text": [
      "C:\\Users\\ibra1001\\Anaconda3\\envs\\qgis\\lib\\site-packages\\ipykernel_launcher.py:29: UserWarning: CRS mismatch between the CRS of left geometries and the CRS of right geometries.\n",
      "Use `to_crs()` to reproject one of the input geometries to match the CRS of the other.\n",
      "\n",
      "Left CRS: EPSG:4326\n",
      "Right CRS: None\n",
      "\n"
     ]
    },
    {
     "name": "stdout",
     "output_type": "stream",
     "text": [
      "(8422, 56)\n",
      "Region:  15201\n",
      "Spatial join\n",
      "K-means\n",
      "Voronoi\n"
     ]
    },
    {
     "name": "stderr",
     "output_type": "stream",
     "text": [
      "C:\\Users\\ibra1001\\Anaconda3\\envs\\qgis\\lib\\site-packages\\ipykernel_launcher.py:29: UserWarning: CRS mismatch between the CRS of left geometries and the CRS of right geometries.\n",
      "Use `to_crs()` to reproject one of the input geometries to match the CRS of the other.\n",
      "\n",
      "Left CRS: EPSG:4326\n",
      "Right CRS: None\n",
      "\n"
     ]
    },
    {
     "name": "stdout",
     "output_type": "stream",
     "text": [
      "(8429, 56)\n",
      "Region:  15202\n",
      "Spatial join\n",
      "K-means\n",
      "Voronoi\n"
     ]
    },
    {
     "name": "stderr",
     "output_type": "stream",
     "text": [
      "C:\\Users\\ibra1001\\Anaconda3\\envs\\qgis\\lib\\site-packages\\ipykernel_launcher.py:29: UserWarning: CRS mismatch between the CRS of left geometries and the CRS of right geometries.\n",
      "Use `to_crs()` to reproject one of the input geometries to match the CRS of the other.\n",
      "\n",
      "Left CRS: EPSG:4326\n",
      "Right CRS: None\n",
      "\n"
     ]
    },
    {
     "name": "stdout",
     "output_type": "stream",
     "text": [
      "(8434, 56)\n",
      "Region:  16101\n",
      "Spatial join\n",
      "K-means\n"
     ]
    },
    {
     "name": "stderr",
     "output_type": "stream",
     "text": [
      "C:\\Users\\ibra1001\\Anaconda3\\envs\\qgis\\lib\\site-packages\\scipy\\cluster\\vq.py:575: UserWarning: One of the clusters is empty. Re-run kmeans with a different initialization.\n",
      "  warnings.warn(\"One of the clusters is empty. \"\n"
     ]
    },
    {
     "name": "stdout",
     "output_type": "stream",
     "text": [
      "Voronoi\n"
     ]
    },
    {
     "name": "stderr",
     "output_type": "stream",
     "text": [
      "C:\\Users\\ibra1001\\Anaconda3\\envs\\qgis\\lib\\site-packages\\ipykernel_launcher.py:29: UserWarning: CRS mismatch between the CRS of left geometries and the CRS of right geometries.\n",
      "Use `to_crs()` to reproject one of the input geometries to match the CRS of the other.\n",
      "\n",
      "Left CRS: EPSG:4326\n",
      "Right CRS: None\n",
      "\n"
     ]
    },
    {
     "name": "stdout",
     "output_type": "stream",
     "text": [
      "(8473, 56)\n",
      "Region:  16102\n",
      "Spatial join\n",
      "K-means\n",
      "Voronoi\n"
     ]
    },
    {
     "name": "stderr",
     "output_type": "stream",
     "text": [
      "C:\\Users\\ibra1001\\Anaconda3\\envs\\qgis\\lib\\site-packages\\scipy\\cluster\\vq.py:575: UserWarning: One of the clusters is empty. Re-run kmeans with a different initialization.\n",
      "  warnings.warn(\"One of the clusters is empty. \"\n",
      "C:\\Users\\ibra1001\\Anaconda3\\envs\\qgis\\lib\\site-packages\\ipykernel_launcher.py:29: UserWarning: CRS mismatch between the CRS of left geometries and the CRS of right geometries.\n",
      "Use `to_crs()` to reproject one of the input geometries to match the CRS of the other.\n",
      "\n",
      "Left CRS: EPSG:4326\n",
      "Right CRS: None\n",
      "\n"
     ]
    },
    {
     "name": "stdout",
     "output_type": "stream",
     "text": [
      "(8488, 56)\n",
      "Region:  16103\n",
      "Spatial join\n",
      "K-means\n",
      "Voronoi\n"
     ]
    },
    {
     "name": "stderr",
     "output_type": "stream",
     "text": [
      "C:\\Users\\ibra1001\\Anaconda3\\envs\\qgis\\lib\\site-packages\\scipy\\cluster\\vq.py:575: UserWarning: One of the clusters is empty. Re-run kmeans with a different initialization.\n",
      "  warnings.warn(\"One of the clusters is empty. \"\n",
      "C:\\Users\\ibra1001\\Anaconda3\\envs\\qgis\\lib\\site-packages\\ipykernel_launcher.py:29: UserWarning: CRS mismatch between the CRS of left geometries and the CRS of right geometries.\n",
      "Use `to_crs()` to reproject one of the input geometries to match the CRS of the other.\n",
      "\n",
      "Left CRS: EPSG:4326\n",
      "Right CRS: None\n",
      "\n"
     ]
    },
    {
     "name": "stdout",
     "output_type": "stream",
     "text": [
      "(8501, 56)\n",
      "Region:  16104\n",
      "Spatial join\n",
      "K-means\n",
      "Voronoi\n"
     ]
    },
    {
     "name": "stderr",
     "output_type": "stream",
     "text": [
      "C:\\Users\\ibra1001\\Anaconda3\\envs\\qgis\\lib\\site-packages\\ipykernel_launcher.py:29: UserWarning: CRS mismatch between the CRS of left geometries and the CRS of right geometries.\n",
      "Use `to_crs()` to reproject one of the input geometries to match the CRS of the other.\n",
      "\n",
      "Left CRS: EPSG:4326\n",
      "Right CRS: None\n",
      "\n"
     ]
    },
    {
     "name": "stdout",
     "output_type": "stream",
     "text": [
      "(8520, 56)\n",
      "Region:  16105\n",
      "Spatial join\n",
      "K-means\n"
     ]
    },
    {
     "name": "stderr",
     "output_type": "stream",
     "text": [
      "C:\\Users\\ibra1001\\Anaconda3\\envs\\qgis\\lib\\site-packages\\scipy\\cluster\\vq.py:575: UserWarning: One of the clusters is empty. Re-run kmeans with a different initialization.\n",
      "  warnings.warn(\"One of the clusters is empty. \"\n"
     ]
    },
    {
     "name": "stdout",
     "output_type": "stream",
     "text": [
      "Voronoi\n"
     ]
    },
    {
     "name": "stderr",
     "output_type": "stream",
     "text": [
      "C:\\Users\\ibra1001\\Anaconda3\\envs\\qgis\\lib\\site-packages\\ipykernel_launcher.py:29: UserWarning: CRS mismatch between the CRS of left geometries and the CRS of right geometries.\n",
      "Use `to_crs()` to reproject one of the input geometries to match the CRS of the other.\n",
      "\n",
      "Left CRS: EPSG:4326\n",
      "Right CRS: None\n",
      "\n"
     ]
    },
    {
     "name": "stdout",
     "output_type": "stream",
     "text": [
      "(8536, 56)\n",
      "Region:  16106\n",
      "Spatial join\n",
      "K-means\n",
      "Voronoi\n"
     ]
    },
    {
     "name": "stderr",
     "output_type": "stream",
     "text": [
      "C:\\Users\\ibra1001\\Anaconda3\\envs\\qgis\\lib\\site-packages\\ipykernel_launcher.py:29: UserWarning: CRS mismatch between the CRS of left geometries and the CRS of right geometries.\n",
      "Use `to_crs()` to reproject one of the input geometries to match the CRS of the other.\n",
      "\n",
      "Left CRS: EPSG:4326\n",
      "Right CRS: None\n",
      "\n"
     ]
    },
    {
     "name": "stdout",
     "output_type": "stream",
     "text": [
      "(8553, 56)\n",
      "Region:  16107\n",
      "Spatial join\n",
      "K-means\n",
      "Voronoi\n"
     ]
    },
    {
     "name": "stderr",
     "output_type": "stream",
     "text": [
      "C:\\Users\\ibra1001\\Anaconda3\\envs\\qgis\\lib\\site-packages\\ipykernel_launcher.py:29: UserWarning: CRS mismatch between the CRS of left geometries and the CRS of right geometries.\n",
      "Use `to_crs()` to reproject one of the input geometries to match the CRS of the other.\n",
      "\n",
      "Left CRS: EPSG:4326\n",
      "Right CRS: None\n",
      "\n"
     ]
    },
    {
     "name": "stdout",
     "output_type": "stream",
     "text": [
      "(8567, 56)\n",
      "Region:  16108\n",
      "Spatial join\n",
      "K-means\n",
      "Voronoi\n"
     ]
    },
    {
     "name": "stderr",
     "output_type": "stream",
     "text": [
      "C:\\Users\\ibra1001\\Anaconda3\\envs\\qgis\\lib\\site-packages\\scipy\\cluster\\vq.py:575: UserWarning: One of the clusters is empty. Re-run kmeans with a different initialization.\n",
      "  warnings.warn(\"One of the clusters is empty. \"\n",
      "C:\\Users\\ibra1001\\Anaconda3\\envs\\qgis\\lib\\site-packages\\ipykernel_launcher.py:29: UserWarning: CRS mismatch between the CRS of left geometries and the CRS of right geometries.\n",
      "Use `to_crs()` to reproject one of the input geometries to match the CRS of the other.\n",
      "\n",
      "Left CRS: EPSG:4326\n",
      "Right CRS: None\n",
      "\n"
     ]
    },
    {
     "name": "stdout",
     "output_type": "stream",
     "text": [
      "(8579, 56)\n",
      "Region:  16109\n",
      "Spatial join\n",
      "K-means\n",
      "Voronoi\n"
     ]
    },
    {
     "name": "stderr",
     "output_type": "stream",
     "text": [
      "C:\\Users\\ibra1001\\Anaconda3\\envs\\qgis\\lib\\site-packages\\ipykernel_launcher.py:29: UserWarning: CRS mismatch between the CRS of left geometries and the CRS of right geometries.\n",
      "Use `to_crs()` to reproject one of the input geometries to match the CRS of the other.\n",
      "\n",
      "Left CRS: EPSG:4326\n",
      "Right CRS: None\n",
      "\n"
     ]
    },
    {
     "name": "stdout",
     "output_type": "stream",
     "text": [
      "(8602, 56)\n",
      "Region:  16201\n",
      "Spatial join\n",
      "K-means\n",
      "Voronoi\n"
     ]
    },
    {
     "name": "stderr",
     "output_type": "stream",
     "text": [
      "C:\\Users\\ibra1001\\Anaconda3\\envs\\qgis\\lib\\site-packages\\ipykernel_launcher.py:29: UserWarning: CRS mismatch between the CRS of left geometries and the CRS of right geometries.\n",
      "Use `to_crs()` to reproject one of the input geometries to match the CRS of the other.\n",
      "\n",
      "Left CRS: EPSG:4326\n",
      "Right CRS: None\n",
      "\n"
     ]
    },
    {
     "name": "stdout",
     "output_type": "stream",
     "text": [
      "(8620, 56)\n",
      "Region:  16202\n",
      "Spatial join\n",
      "K-means\n",
      "Voronoi\n"
     ]
    },
    {
     "name": "stderr",
     "output_type": "stream",
     "text": [
      "C:\\Users\\ibra1001\\Anaconda3\\envs\\qgis\\lib\\site-packages\\ipykernel_launcher.py:29: UserWarning: CRS mismatch between the CRS of left geometries and the CRS of right geometries.\n",
      "Use `to_crs()` to reproject one of the input geometries to match the CRS of the other.\n",
      "\n",
      "Left CRS: EPSG:4326\n",
      "Right CRS: None\n",
      "\n"
     ]
    },
    {
     "name": "stdout",
     "output_type": "stream",
     "text": [
      "(8634, 56)\n",
      "Region:  16203\n",
      "Spatial join\n",
      "K-means\n",
      "Voronoi\n"
     ]
    },
    {
     "name": "stderr",
     "output_type": "stream",
     "text": [
      "C:\\Users\\ibra1001\\Anaconda3\\envs\\qgis\\lib\\site-packages\\ipykernel_launcher.py:29: UserWarning: CRS mismatch between the CRS of left geometries and the CRS of right geometries.\n",
      "Use `to_crs()` to reproject one of the input geometries to match the CRS of the other.\n",
      "\n",
      "Left CRS: EPSG:4326\n",
      "Right CRS: None\n",
      "\n"
     ]
    },
    {
     "name": "stdout",
     "output_type": "stream",
     "text": [
      "(8646, 56)\n",
      "Region:  16204\n",
      "Spatial join\n",
      "K-means\n",
      "Voronoi\n"
     ]
    },
    {
     "name": "stderr",
     "output_type": "stream",
     "text": [
      "C:\\Users\\ibra1001\\Anaconda3\\envs\\qgis\\lib\\site-packages\\ipykernel_launcher.py:29: UserWarning: CRS mismatch between the CRS of left geometries and the CRS of right geometries.\n",
      "Use `to_crs()` to reproject one of the input geometries to match the CRS of the other.\n",
      "\n",
      "Left CRS: EPSG:4326\n",
      "Right CRS: None\n",
      "\n"
     ]
    },
    {
     "name": "stdout",
     "output_type": "stream",
     "text": [
      "(8658, 56)\n",
      "Region:  16205\n",
      "Spatial join\n",
      "K-means\n",
      "Voronoi\n"
     ]
    },
    {
     "name": "stderr",
     "output_type": "stream",
     "text": [
      "C:\\Users\\ibra1001\\Anaconda3\\envs\\qgis\\lib\\site-packages\\ipykernel_launcher.py:29: UserWarning: CRS mismatch between the CRS of left geometries and the CRS of right geometries.\n",
      "Use `to_crs()` to reproject one of the input geometries to match the CRS of the other.\n",
      "\n",
      "Left CRS: EPSG:4326\n",
      "Right CRS: None\n",
      "\n"
     ]
    },
    {
     "name": "stdout",
     "output_type": "stream",
     "text": [
      "(8667, 56)\n",
      "Region:  16206\n",
      "Spatial join\n",
      "K-means\n",
      "Voronoi\n"
     ]
    },
    {
     "name": "stderr",
     "output_type": "stream",
     "text": [
      "C:\\Users\\ibra1001\\Anaconda3\\envs\\qgis\\lib\\site-packages\\ipykernel_launcher.py:29: UserWarning: CRS mismatch between the CRS of left geometries and the CRS of right geometries.\n",
      "Use `to_crs()` to reproject one of the input geometries to match the CRS of the other.\n",
      "\n",
      "Left CRS: EPSG:4326\n",
      "Right CRS: None\n",
      "\n"
     ]
    },
    {
     "name": "stdout",
     "output_type": "stream",
     "text": [
      "(8675, 56)\n",
      "Region:  16207\n",
      "Spatial join\n",
      "K-means\n",
      "Voronoi\n"
     ]
    },
    {
     "name": "stderr",
     "output_type": "stream",
     "text": [
      "C:\\Users\\ibra1001\\Anaconda3\\envs\\qgis\\lib\\site-packages\\ipykernel_launcher.py:29: UserWarning: CRS mismatch between the CRS of left geometries and the CRS of right geometries.\n",
      "Use `to_crs()` to reproject one of the input geometries to match the CRS of the other.\n",
      "\n",
      "Left CRS: EPSG:4326\n",
      "Right CRS: None\n",
      "\n"
     ]
    },
    {
     "name": "stdout",
     "output_type": "stream",
     "text": [
      "(8684, 56)\n",
      "Region:  16301\n",
      "Spatial join\n",
      "K-means\n"
     ]
    },
    {
     "name": "stderr",
     "output_type": "stream",
     "text": [
      "C:\\Users\\ibra1001\\Anaconda3\\envs\\qgis\\lib\\site-packages\\scipy\\cluster\\vq.py:575: UserWarning: One of the clusters is empty. Re-run kmeans with a different initialization.\n",
      "  warnings.warn(\"One of the clusters is empty. \"\n"
     ]
    },
    {
     "name": "stdout",
     "output_type": "stream",
     "text": [
      "Voronoi\n"
     ]
    },
    {
     "name": "stderr",
     "output_type": "stream",
     "text": [
      "C:\\Users\\ibra1001\\Anaconda3\\envs\\qgis\\lib\\site-packages\\ipykernel_launcher.py:29: UserWarning: CRS mismatch between the CRS of left geometries and the CRS of right geometries.\n",
      "Use `to_crs()` to reproject one of the input geometries to match the CRS of the other.\n",
      "\n",
      "Left CRS: EPSG:4326\n",
      "Right CRS: None\n",
      "\n"
     ]
    },
    {
     "name": "stdout",
     "output_type": "stream",
     "text": [
      "(8716, 56)\n",
      "Region:  16302\n",
      "Spatial join\n",
      "K-means\n",
      "Voronoi\n"
     ]
    },
    {
     "name": "stderr",
     "output_type": "stream",
     "text": [
      "C:\\Users\\ibra1001\\Anaconda3\\envs\\qgis\\lib\\site-packages\\ipykernel_launcher.py:29: UserWarning: CRS mismatch between the CRS of left geometries and the CRS of right geometries.\n",
      "Use `to_crs()` to reproject one of the input geometries to match the CRS of the other.\n",
      "\n",
      "Left CRS: EPSG:4326\n",
      "Right CRS: None\n",
      "\n"
     ]
    },
    {
     "name": "stdout",
     "output_type": "stream",
     "text": [
      "(8760, 56)\n",
      "Region:  16303\n",
      "Spatial join\n",
      "K-means\n",
      "Voronoi\n"
     ]
    },
    {
     "name": "stderr",
     "output_type": "stream",
     "text": [
      "C:\\Users\\ibra1001\\Anaconda3\\envs\\qgis\\lib\\site-packages\\ipykernel_launcher.py:29: UserWarning: CRS mismatch between the CRS of left geometries and the CRS of right geometries.\n",
      "Use `to_crs()` to reproject one of the input geometries to match the CRS of the other.\n",
      "\n",
      "Left CRS: EPSG:4326\n",
      "Right CRS: None\n",
      "\n"
     ]
    },
    {
     "name": "stdout",
     "output_type": "stream",
     "text": [
      "(8775, 56)\n",
      "Region:  16304\n",
      "Spatial join\n",
      "K-means\n",
      "Voronoi\n"
     ]
    },
    {
     "name": "stderr",
     "output_type": "stream",
     "text": [
      "C:\\Users\\ibra1001\\Anaconda3\\envs\\qgis\\lib\\site-packages\\ipykernel_launcher.py:29: UserWarning: CRS mismatch between the CRS of left geometries and the CRS of right geometries.\n",
      "Use `to_crs()` to reproject one of the input geometries to match the CRS of the other.\n",
      "\n",
      "Left CRS: EPSG:4326\n",
      "Right CRS: None\n",
      "\n"
     ]
    },
    {
     "name": "stdout",
     "output_type": "stream",
     "text": [
      "(8794, 56)\n",
      "Region:  16305\n",
      "Spatial join\n",
      "K-means\n",
      "Voronoi\n",
      "(8811, 56)\n"
     ]
    },
    {
     "name": "stderr",
     "output_type": "stream",
     "text": [
      "C:\\Users\\ibra1001\\Anaconda3\\envs\\qgis\\lib\\site-packages\\ipykernel_launcher.py:29: UserWarning: CRS mismatch between the CRS of left geometries and the CRS of right geometries.\n",
      "Use `to_crs()` to reproject one of the input geometries to match the CRS of the other.\n",
      "\n",
      "Left CRS: EPSG:4326\n",
      "Right CRS: None\n",
      "\n"
     ]
    }
   ],
   "source": [
    "allpoints = gpd.GeoDataFrame(exploded, geometry='geometry')\n",
    "j=0\n",
    "for i in boundaries['ADMINCODE'].unique().tolist():\n",
    "    print('Region: ',i)    \n",
    "    region = boundaries[boundaries['ADMINCODE']==i]\n",
    "    print('Spatial join')\n",
    "    subset = gpd.sjoin(allpoints, region, how='inner', op='within')\n",
    "    subset.to_file('subset.shp')\n",
    "    single = boundaries.explode\n",
    "    n_clusters = round(subset['VALUE'].count()/50,0)\n",
    "    if n_clusters < 5:\n",
    "        n_clusters=5\n",
    "    coordinates = np.array(list(subset['geometry'].apply(lambda x: list(x.coords[0]))))\n",
    "    print('K-means')\n",
    "    x, y = kmeans2(whiten(coordinates), int(n_clusters) , iter = 100, minit = 'points')\n",
    "    subset['cluster']=y\n",
    "    subset['duplicated']=subset.duplicated(subset=['geometry','cluster'], keep='first')\n",
    "    subset2 = subset[subset['duplicated']==False].drop(columns=['index_right'])\n",
    "    subset2 =subset2.sort_values(['cluster','VALUE'])\n",
    "    subset3 = subset2.groupby(['cluster']).agg(demo_dict)\n",
    "    boundary = region.to_crs(epsg=3395)\n",
    "    subset5 = subset3.set_crs(boundaries.crs)\n",
    "    subset4 = subset5.to_crs(epsg=3395)\n",
    "    boundary_shape = cascaded_union(boundary.geometry)\n",
    "    coords = points_to_coords(subset4.geometry)\n",
    "    print('Voronoi')\n",
    "    poly_shapes, pts = voronoi_regions_from_coords(coords, boundary_shape)\n",
    "    voronoi = gpd.GeoDataFrame(crs='epsg:3395', geometry=list(poly_shapes.values())).to_crs(epsg=4326)\n",
    "    voronoi2 = gpd.sjoin(voronoi, subset3, how='inner', op='intersects')\n",
    "    total = voronoi2['VALUE'].sum()\n",
    "\n",
    "    voronoi2['coeff']=voronoi2['VALUE']/total\n",
    "    voronoi2['P_T']=voronoi2['coeff']*voronoi2['P_T']\n",
    "    voronoi2['P_PRM']=voronoi2['coeff']*voronoi2['P_PRM']\n",
    "    voronoi2['HH_T']=voronoi2['coeff']*voronoi2['HH_T']\n",
    "    voronoi2['HH_SIZE']=voronoi2['HH_SIZE']\n",
    "    voronoi2['MALE']=voronoi2['coeff']*voronoi2['MALE']\n",
    "    voronoi2['FEMALE']=voronoi2['coeff']*voronoi2['FEMALE']\n",
    "    voronoi2['AGE_T0004']=voronoi2['coeff']*voronoi2['AGE_T0004']\n",
    "    voronoi2[ 'AGE_M0004']=voronoi2['coeff']*voronoi2[ 'AGE_M0004']\n",
    "    voronoi2['AGE_F0004']=voronoi2['coeff']*voronoi2['AGE_F0004']\n",
    "    voronoi2['AGE_T0509']=voronoi2['coeff']* voronoi2['AGE_T0509']\n",
    "    voronoi2['AGE_M0509']=voronoi2['coeff']* voronoi2['AGE_M0509']\n",
    "    voronoi2['AGE_F0509']=voronoi2['coeff']*voronoi2['AGE_F0509']\n",
    "    voronoi2['AGE_T1014']=voronoi2['coeff']*voronoi2['AGE_T1014']\n",
    "    voronoi2['AGE_M1014']=voronoi2['coeff']* voronoi2['AGE_M1014']\n",
    "    voronoi2['AGE_F1014']=voronoi2['coeff']*voronoi2['AGE_F1014']\n",
    "    voronoi2['AGE_T1519']=voronoi2['coeff']*voronoi2['AGE_T1519']\n",
    "    voronoi2['AGE_M1519']=voronoi2['coeff']* voronoi2['AGE_M1519']\n",
    "    voronoi2['AGE_F1519']=voronoi2['coeff']*voronoi2['AGE_F1519']\n",
    "    voronoi2['AGE_T2024']=voronoi2['coeff']*voronoi2['AGE_T2024']\n",
    "    voronoi2['AGE_M2024']=voronoi2['coeff']*voronoi2['AGE_M2024']\n",
    "    voronoi2[ 'AGE_F2024']=voronoi2['coeff']*  voronoi2[ 'AGE_F2024']\n",
    "    voronoi2['AGE_T2529']=voronoi2['coeff']*  voronoi2['AGE_T2529']\n",
    "    voronoi2['AGE_M2529']=voronoi2['coeff']* voronoi2['AGE_M2529']\n",
    "    voronoi2['AGE_F2529']=voronoi2['coeff']*voronoi2['AGE_F2529']\n",
    "    voronoi2['AGE_T3034']=voronoi2['coeff']* voronoi2['AGE_T3034']\n",
    "    voronoi2['AGE_M3034']=voronoi2['coeff']*voronoi2['AGE_M3034']\n",
    "    voronoi2['AGE_F3034']=voronoi2['coeff']*voronoi2['AGE_F3034']\n",
    "    voronoi2['AGE_T3539']=voronoi2['coeff']*voronoi2['AGE_T3539']\n",
    "    voronoi2['AGE_M3539']=voronoi2['coeff']*voronoi2['AGE_M3539']\n",
    "    voronoi2['AGE_F3539']=voronoi2['coeff']* voronoi2['AGE_F3539']\n",
    "    voronoi2['AGE_T4044']=voronoi2['coeff']*voronoi2['AGE_T4044']\n",
    "    voronoi2['AGE_M4044']=voronoi2['coeff']*voronoi2['AGE_M4044']\n",
    "    voronoi2['AGE_F4044']=voronoi2['coeff']*voronoi2['AGE_F4044']\n",
    "    voronoi2['AGE_T4549']=voronoi2['coeff']*voronoi2['AGE_T4549']\n",
    "    voronoi2['AGE_M4549']=voronoi2['coeff']* voronoi2['AGE_M4549']\n",
    "    voronoi2['AGE_F4549']=voronoi2['coeff']*voronoi2['AGE_F4549']\n",
    "    voronoi2['AGE_T5054']=voronoi2['coeff']*voronoi2['AGE_T5054']\n",
    "    voronoi2['AGE_M5054']=voronoi2['coeff']* voronoi2['AGE_M5054']\n",
    "    voronoi2['AGE_F5054']=voronoi2['coeff']* voronoi2['AGE_F5054']\n",
    "    voronoi2['AGE_T5559']=voronoi2['coeff']* voronoi2['AGE_T5559']\n",
    "    voronoi2['AGE_M5559']=voronoi2['coeff']* voronoi2['AGE_M5559']\n",
    "    voronoi2['AGE_F5559']=voronoi2['coeff']* voronoi2['AGE_F5559']\n",
    "    voronoi2['AGE_T6064']=voronoi2['coeff']* voronoi2['AGE_T6064']\n",
    "    voronoi2['AGE_M6064']=voronoi2['coeff']*voronoi2['AGE_M6064']\n",
    "    voronoi2['AGE_F6064']=voronoi2['coeff']*voronoi2['AGE_F6064']\n",
    "    voronoi2['AGE_T6569']=voronoi2['coeff']* voronoi2['AGE_T6569']\n",
    "    voronoi2['AGE_M6569']=voronoi2['coeff']* voronoi2['AGE_M6569']\n",
    "    voronoi2['AGE_F6569']=voronoi2['coeff']* voronoi2['AGE_F6569']\n",
    "    voronoi2['AGE_T7074']=voronoi2['coeff']*voronoi2['AGE_T7074']\n",
    "    voronoi2['AGE_M7074']=voronoi2['coeff']* voronoi2['AGE_M7074']\n",
    "    voronoi2['AGE_F7074']=voronoi2['coeff']*voronoi2['AGE_F7074']\n",
    "    voronoi2['AGE_T75PL']=voronoi2['coeff']*voronoi2['AGE_T75PL']\n",
    "    voronoi2['AGE_M75PL']=voronoi2['coeff']* voronoi2['AGE_M75PL']\n",
    "    voronoi2['AGE_F75PL']=voronoi2['coeff']*voronoi2['AGE_F75PL']\n",
    "   \n",
    "    voronoi2= voronoi2.drop(columns=['index_right', 'VALUE','coeff'])\n",
    "    if j==0:\n",
    "        new_geo_key = voronoi2\n",
    "    else:\n",
    "        new_geo_key = gpd.GeoDataFrame( pd.concat( [new_geo_key,voronoi2], ignore_index=True) )\n",
    "        print(new_geo_key.shape)\n",
    "    j=j+1"
   ]
  },
  {
   "cell_type": "code",
   "execution_count": 32,
   "id": "d25bea1d",
   "metadata": {},
   "outputs": [],
   "source": [
    "new_geo_key.to_file('new_geo_key_partial.shp')"
   ]
  },
  {
   "cell_type": "markdown",
   "id": "9ee39336",
   "metadata": {},
   "source": [
    "### 6.- Check unmatched parts and include them as new geo_keys"
   ]
  },
  {
   "cell_type": "code",
   "execution_count": 33,
   "id": "6605f773",
   "metadata": {},
   "outputs": [],
   "source": [
    "boundaries2 = boundaries.explode().reset_index()\n",
    "boundaries2.to_file('explode.shp')"
   ]
  },
  {
   "cell_type": "code",
   "execution_count": 34,
   "id": "7ef5f8cc",
   "metadata": {},
   "outputs": [],
   "source": [
    "diference =gpd.overlay(boundaries2, new_geo_key, how='difference')"
   ]
  },
  {
   "cell_type": "code",
   "execution_count": 35,
   "id": "a7cac51d",
   "metadata": {},
   "outputs": [],
   "source": [
    "diference = diference[diference.geom_type == 'Polygon']"
   ]
  },
  {
   "cell_type": "code",
   "execution_count": 36,
   "id": "7324cfc2",
   "metadata": {},
   "outputs": [],
   "source": [
    "diference = diference.drop(columns=['level_0','level_1','NAME','CTRYCODE'])\n",
    "diference['P_T']=0\n",
    "diference['P_PRM']=0\n",
    "diference['HH_T']=0\n",
    "diference['HH_SIZE']=0\n",
    "diference['MALE']=0\n",
    "diference['FEMALE']=0\n",
    "diference['AGE_T0004']=0\n",
    "diference[ 'AGE_M0004']=0\n",
    "diference['AGE_F0004']=0\n",
    "diference['AGE_T0509']=0\n",
    "diference['AGE_M0509']=0\n",
    "diference['AGE_F0509']=0\n",
    "diference['AGE_T1014']=0\n",
    "diference['AGE_M1014']=0\n",
    "diference['AGE_F1014']=0\n",
    "diference['AGE_T1519']=0\n",
    "diference['AGE_M1519']=0\n",
    "diference['AGE_F1519']=0\n",
    "diference['AGE_T2024']=0\n",
    "diference['AGE_M2024']=0\n",
    "diference[ 'AGE_F2024']=0\n",
    "diference['AGE_T2529']=0\n",
    "diference['AGE_M2529']=0\n",
    "diference['AGE_F2529']=0\n",
    "diference['AGE_T3034']=0\n",
    "diference['AGE_M3034']=0\n",
    "diference['AGE_F3034']=0\n",
    "diference['AGE_T3539']=0\n",
    "diference['AGE_M3539']=0\n",
    "diference['AGE_F3539']=0\n",
    "diference['AGE_T4044']=0\n",
    "diference['AGE_M4044']=0\n",
    "diference['AGE_F4044']=0\n",
    "diference['AGE_T4549']=0\n",
    "diference['AGE_M4549']=0\n",
    "diference['AGE_F4549']=0\n",
    "diference['AGE_T5054']=0\n",
    "diference['AGE_M5054']=0\n",
    "diference['AGE_F5054']=0\n",
    "diference['AGE_T5559']=0\n",
    "diference['AGE_M5559']=0\n",
    "diference['AGE_F5559']=0\n",
    "diference['AGE_T6064']=0\n",
    "diference['AGE_M6064']=0\n",
    "diference['AGE_F6064']=0\n",
    "diference['AGE_T6569']=0\n",
    "diference['AGE_M6569']=0\n",
    "diference['AGE_F6569']=0\n",
    "diference['AGE_T7074']=0\n",
    "diference['AGE_M7074']=0\n",
    "diference['AGE_F7074']=0\n",
    "diference['AGE_T75PL']=0\n",
    "diference['AGE_M75PL']=0\n",
    "diference['AGE_F75PL']=0\n"
   ]
  },
  {
   "cell_type": "code",
   "execution_count": 37,
   "id": "10425307",
   "metadata": {},
   "outputs": [
    {
     "data": {
      "text/html": [
       "<div>\n",
       "<style scoped>\n",
       "    .dataframe tbody tr th:only-of-type {\n",
       "        vertical-align: middle;\n",
       "    }\n",
       "\n",
       "    .dataframe tbody tr th {\n",
       "        vertical-align: top;\n",
       "    }\n",
       "\n",
       "    .dataframe thead th {\n",
       "        text-align: right;\n",
       "    }\n",
       "</style>\n",
       "<table border=\"1\" class=\"dataframe\">\n",
       "  <thead>\n",
       "    <tr style=\"text-align: right;\">\n",
       "      <th></th>\n",
       "      <th>ADMINCODE</th>\n",
       "      <th>P_T</th>\n",
       "      <th>P_PRM</th>\n",
       "      <th>HH_T</th>\n",
       "      <th>HH_SIZE</th>\n",
       "      <th>MALE</th>\n",
       "      <th>FEMALE</th>\n",
       "      <th>AGE_T0004</th>\n",
       "      <th>AGE_M0004</th>\n",
       "      <th>AGE_F0004</th>\n",
       "      <th>...</th>\n",
       "      <th>AGE_T6569</th>\n",
       "      <th>AGE_M6569</th>\n",
       "      <th>AGE_F6569</th>\n",
       "      <th>AGE_T7074</th>\n",
       "      <th>AGE_M7074</th>\n",
       "      <th>AGE_F7074</th>\n",
       "      <th>AGE_T75PL</th>\n",
       "      <th>AGE_M75PL</th>\n",
       "      <th>AGE_F75PL</th>\n",
       "      <th>geometry</th>\n",
       "    </tr>\n",
       "  </thead>\n",
       "  <tbody>\n",
       "    <tr>\n",
       "      <th>0</th>\n",
       "      <td>1101</td>\n",
       "      <td>0</td>\n",
       "      <td>0</td>\n",
       "      <td>0</td>\n",
       "      <td>0</td>\n",
       "      <td>0</td>\n",
       "      <td>0</td>\n",
       "      <td>0</td>\n",
       "      <td>0</td>\n",
       "      <td>0</td>\n",
       "      <td>...</td>\n",
       "      <td>0</td>\n",
       "      <td>0</td>\n",
       "      <td>0</td>\n",
       "      <td>0</td>\n",
       "      <td>0</td>\n",
       "      <td>0</td>\n",
       "      <td>0</td>\n",
       "      <td>0</td>\n",
       "      <td>0</td>\n",
       "      <td>POLYGON ((-70.12958 -20.29565, -70.12961 -20.2...</td>\n",
       "    </tr>\n",
       "    <tr>\n",
       "      <th>6</th>\n",
       "      <td>1404</td>\n",
       "      <td>0</td>\n",
       "      <td>0</td>\n",
       "      <td>0</td>\n",
       "      <td>0</td>\n",
       "      <td>0</td>\n",
       "      <td>0</td>\n",
       "      <td>0</td>\n",
       "      <td>0</td>\n",
       "      <td>0</td>\n",
       "      <td>...</td>\n",
       "      <td>0</td>\n",
       "      <td>0</td>\n",
       "      <td>0</td>\n",
       "      <td>0</td>\n",
       "      <td>0</td>\n",
       "      <td>0</td>\n",
       "      <td>0</td>\n",
       "      <td>0</td>\n",
       "      <td>0</td>\n",
       "      <td>POLYGON ((-70.15065 -19.84843, -70.15077 -19.8...</td>\n",
       "    </tr>\n",
       "    <tr>\n",
       "      <th>7</th>\n",
       "      <td>1404</td>\n",
       "      <td>0</td>\n",
       "      <td>0</td>\n",
       "      <td>0</td>\n",
       "      <td>0</td>\n",
       "      <td>0</td>\n",
       "      <td>0</td>\n",
       "      <td>0</td>\n",
       "      <td>0</td>\n",
       "      <td>0</td>\n",
       "      <td>...</td>\n",
       "      <td>0</td>\n",
       "      <td>0</td>\n",
       "      <td>0</td>\n",
       "      <td>0</td>\n",
       "      <td>0</td>\n",
       "      <td>0</td>\n",
       "      <td>0</td>\n",
       "      <td>0</td>\n",
       "      <td>0</td>\n",
       "      <td>POLYGON ((-70.15073 -19.84765, -70.15083 -19.8...</td>\n",
       "    </tr>\n",
       "    <tr>\n",
       "      <th>8</th>\n",
       "      <td>1404</td>\n",
       "      <td>0</td>\n",
       "      <td>0</td>\n",
       "      <td>0</td>\n",
       "      <td>0</td>\n",
       "      <td>0</td>\n",
       "      <td>0</td>\n",
       "      <td>0</td>\n",
       "      <td>0</td>\n",
       "      <td>0</td>\n",
       "      <td>...</td>\n",
       "      <td>0</td>\n",
       "      <td>0</td>\n",
       "      <td>0</td>\n",
       "      <td>0</td>\n",
       "      <td>0</td>\n",
       "      <td>0</td>\n",
       "      <td>0</td>\n",
       "      <td>0</td>\n",
       "      <td>0</td>\n",
       "      <td>POLYGON ((-70.17172 -19.83159, -70.17177 -19.8...</td>\n",
       "    </tr>\n",
       "    <tr>\n",
       "      <th>9</th>\n",
       "      <td>1404</td>\n",
       "      <td>0</td>\n",
       "      <td>0</td>\n",
       "      <td>0</td>\n",
       "      <td>0</td>\n",
       "      <td>0</td>\n",
       "      <td>0</td>\n",
       "      <td>0</td>\n",
       "      <td>0</td>\n",
       "      <td>0</td>\n",
       "      <td>...</td>\n",
       "      <td>0</td>\n",
       "      <td>0</td>\n",
       "      <td>0</td>\n",
       "      <td>0</td>\n",
       "      <td>0</td>\n",
       "      <td>0</td>\n",
       "      <td>0</td>\n",
       "      <td>0</td>\n",
       "      <td>0</td>\n",
       "      <td>POLYGON ((-70.17055 -19.83145, -70.17064 -19.8...</td>\n",
       "    </tr>\n",
       "    <tr>\n",
       "      <th>...</th>\n",
       "      <td>...</td>\n",
       "      <td>...</td>\n",
       "      <td>...</td>\n",
       "      <td>...</td>\n",
       "      <td>...</td>\n",
       "      <td>...</td>\n",
       "      <td>...</td>\n",
       "      <td>...</td>\n",
       "      <td>...</td>\n",
       "      <td>...</td>\n",
       "      <td>...</td>\n",
       "      <td>...</td>\n",
       "      <td>...</td>\n",
       "      <td>...</td>\n",
       "      <td>...</td>\n",
       "      <td>...</td>\n",
       "      <td>...</td>\n",
       "      <td>...</td>\n",
       "      <td>...</td>\n",
       "      <td>...</td>\n",
       "      <td>...</td>\n",
       "    </tr>\n",
       "    <tr>\n",
       "      <th>41599</th>\n",
       "      <td>14106</td>\n",
       "      <td>0</td>\n",
       "      <td>0</td>\n",
       "      <td>0</td>\n",
       "      <td>0</td>\n",
       "      <td>0</td>\n",
       "      <td>0</td>\n",
       "      <td>0</td>\n",
       "      <td>0</td>\n",
       "      <td>0</td>\n",
       "      <td>...</td>\n",
       "      <td>0</td>\n",
       "      <td>0</td>\n",
       "      <td>0</td>\n",
       "      <td>0</td>\n",
       "      <td>0</td>\n",
       "      <td>0</td>\n",
       "      <td>0</td>\n",
       "      <td>0</td>\n",
       "      <td>0</td>\n",
       "      <td>POLYGON ((-73.10423 -39.68650, -73.10386 -39.6...</td>\n",
       "    </tr>\n",
       "    <tr>\n",
       "      <th>41600</th>\n",
       "      <td>14106</td>\n",
       "      <td>0</td>\n",
       "      <td>0</td>\n",
       "      <td>0</td>\n",
       "      <td>0</td>\n",
       "      <td>0</td>\n",
       "      <td>0</td>\n",
       "      <td>0</td>\n",
       "      <td>0</td>\n",
       "      <td>0</td>\n",
       "      <td>...</td>\n",
       "      <td>0</td>\n",
       "      <td>0</td>\n",
       "      <td>0</td>\n",
       "      <td>0</td>\n",
       "      <td>0</td>\n",
       "      <td>0</td>\n",
       "      <td>0</td>\n",
       "      <td>0</td>\n",
       "      <td>0</td>\n",
       "      <td>POLYGON ((-73.20966 -39.44717, -73.20991 -39.4...</td>\n",
       "    </tr>\n",
       "    <tr>\n",
       "      <th>41622</th>\n",
       "      <td>16202</td>\n",
       "      <td>0</td>\n",
       "      <td>0</td>\n",
       "      <td>0</td>\n",
       "      <td>0</td>\n",
       "      <td>0</td>\n",
       "      <td>0</td>\n",
       "      <td>0</td>\n",
       "      <td>0</td>\n",
       "      <td>0</td>\n",
       "      <td>...</td>\n",
       "      <td>0</td>\n",
       "      <td>0</td>\n",
       "      <td>0</td>\n",
       "      <td>0</td>\n",
       "      <td>0</td>\n",
       "      <td>0</td>\n",
       "      <td>0</td>\n",
       "      <td>0</td>\n",
       "      <td>0</td>\n",
       "      <td>POLYGON ((-72.80853 -36.13209, -72.80863 -36.1...</td>\n",
       "    </tr>\n",
       "    <tr>\n",
       "      <th>41623</th>\n",
       "      <td>16202</td>\n",
       "      <td>0</td>\n",
       "      <td>0</td>\n",
       "      <td>0</td>\n",
       "      <td>0</td>\n",
       "      <td>0</td>\n",
       "      <td>0</td>\n",
       "      <td>0</td>\n",
       "      <td>0</td>\n",
       "      <td>0</td>\n",
       "      <td>...</td>\n",
       "      <td>0</td>\n",
       "      <td>0</td>\n",
       "      <td>0</td>\n",
       "      <td>0</td>\n",
       "      <td>0</td>\n",
       "      <td>0</td>\n",
       "      <td>0</td>\n",
       "      <td>0</td>\n",
       "      <td>0</td>\n",
       "      <td>POLYGON ((-72.80846 -36.13159, -72.80854 -36.1...</td>\n",
       "    </tr>\n",
       "    <tr>\n",
       "      <th>41624</th>\n",
       "      <td>16202</td>\n",
       "      <td>0</td>\n",
       "      <td>0</td>\n",
       "      <td>0</td>\n",
       "      <td>0</td>\n",
       "      <td>0</td>\n",
       "      <td>0</td>\n",
       "      <td>0</td>\n",
       "      <td>0</td>\n",
       "      <td>0</td>\n",
       "      <td>...</td>\n",
       "      <td>0</td>\n",
       "      <td>0</td>\n",
       "      <td>0</td>\n",
       "      <td>0</td>\n",
       "      <td>0</td>\n",
       "      <td>0</td>\n",
       "      <td>0</td>\n",
       "      <td>0</td>\n",
       "      <td>0</td>\n",
       "      <td>POLYGON ((-72.80765 -36.13148, -72.80775 -36.1...</td>\n",
       "    </tr>\n",
       "  </tbody>\n",
       "</table>\n",
       "<p>41281 rows × 56 columns</p>\n",
       "</div>"
      ],
      "text/plain": [
       "       ADMINCODE  P_T  P_PRM  HH_T  HH_SIZE  MALE  FEMALE  AGE_T0004  \\\n",
       "0           1101    0      0     0        0     0       0          0   \n",
       "6           1404    0      0     0        0     0       0          0   \n",
       "7           1404    0      0     0        0     0       0          0   \n",
       "8           1404    0      0     0        0     0       0          0   \n",
       "9           1404    0      0     0        0     0       0          0   \n",
       "...          ...  ...    ...   ...      ...   ...     ...        ...   \n",
       "41599      14106    0      0     0        0     0       0          0   \n",
       "41600      14106    0      0     0        0     0       0          0   \n",
       "41622      16202    0      0     0        0     0       0          0   \n",
       "41623      16202    0      0     0        0     0       0          0   \n",
       "41624      16202    0      0     0        0     0       0          0   \n",
       "\n",
       "       AGE_M0004  AGE_F0004  ...  AGE_T6569  AGE_M6569  AGE_F6569  AGE_T7074  \\\n",
       "0              0          0  ...          0          0          0          0   \n",
       "6              0          0  ...          0          0          0          0   \n",
       "7              0          0  ...          0          0          0          0   \n",
       "8              0          0  ...          0          0          0          0   \n",
       "9              0          0  ...          0          0          0          0   \n",
       "...          ...        ...  ...        ...        ...        ...        ...   \n",
       "41599          0          0  ...          0          0          0          0   \n",
       "41600          0          0  ...          0          0          0          0   \n",
       "41622          0          0  ...          0          0          0          0   \n",
       "41623          0          0  ...          0          0          0          0   \n",
       "41624          0          0  ...          0          0          0          0   \n",
       "\n",
       "       AGE_M7074  AGE_F7074  AGE_T75PL  AGE_M75PL  AGE_F75PL  \\\n",
       "0              0          0          0          0          0   \n",
       "6              0          0          0          0          0   \n",
       "7              0          0          0          0          0   \n",
       "8              0          0          0          0          0   \n",
       "9              0          0          0          0          0   \n",
       "...          ...        ...        ...        ...        ...   \n",
       "41599          0          0          0          0          0   \n",
       "41600          0          0          0          0          0   \n",
       "41622          0          0          0          0          0   \n",
       "41623          0          0          0          0          0   \n",
       "41624          0          0          0          0          0   \n",
       "\n",
       "                                                geometry  \n",
       "0      POLYGON ((-70.12958 -20.29565, -70.12961 -20.2...  \n",
       "6      POLYGON ((-70.15065 -19.84843, -70.15077 -19.8...  \n",
       "7      POLYGON ((-70.15073 -19.84765, -70.15083 -19.8...  \n",
       "8      POLYGON ((-70.17172 -19.83159, -70.17177 -19.8...  \n",
       "9      POLYGON ((-70.17055 -19.83145, -70.17064 -19.8...  \n",
       "...                                                  ...  \n",
       "41599  POLYGON ((-73.10423 -39.68650, -73.10386 -39.6...  \n",
       "41600  POLYGON ((-73.20966 -39.44717, -73.20991 -39.4...  \n",
       "41622  POLYGON ((-72.80853 -36.13209, -72.80863 -36.1...  \n",
       "41623  POLYGON ((-72.80846 -36.13159, -72.80854 -36.1...  \n",
       "41624  POLYGON ((-72.80765 -36.13148, -72.80775 -36.1...  \n",
       "\n",
       "[41281 rows x 56 columns]"
      ]
     },
     "execution_count": 37,
     "metadata": {},
     "output_type": "execute_result"
    }
   ],
   "source": [
    "diference"
   ]
  },
  {
   "cell_type": "code",
   "execution_count": 38,
   "id": "a854a179",
   "metadata": {},
   "outputs": [
    {
     "data": {
      "text/html": [
       "<div>\n",
       "<style scoped>\n",
       "    .dataframe tbody tr th:only-of-type {\n",
       "        vertical-align: middle;\n",
       "    }\n",
       "\n",
       "    .dataframe tbody tr th {\n",
       "        vertical-align: top;\n",
       "    }\n",
       "\n",
       "    .dataframe thead th {\n",
       "        text-align: right;\n",
       "    }\n",
       "</style>\n",
       "<table border=\"1\" class=\"dataframe\">\n",
       "  <thead>\n",
       "    <tr style=\"text-align: right;\">\n",
       "      <th></th>\n",
       "      <th>geometry</th>\n",
       "      <th>ADMINCODE</th>\n",
       "      <th>P_T</th>\n",
       "      <th>P_PRM</th>\n",
       "      <th>HH_T</th>\n",
       "      <th>HH_SIZE</th>\n",
       "      <th>MALE</th>\n",
       "      <th>FEMALE</th>\n",
       "      <th>AGE_T0004</th>\n",
       "      <th>AGE_M0004</th>\n",
       "      <th>...</th>\n",
       "      <th>AGE_F6064</th>\n",
       "      <th>AGE_T6569</th>\n",
       "      <th>AGE_M6569</th>\n",
       "      <th>AGE_F6569</th>\n",
       "      <th>AGE_T7074</th>\n",
       "      <th>AGE_M7074</th>\n",
       "      <th>AGE_F7074</th>\n",
       "      <th>AGE_T75PL</th>\n",
       "      <th>AGE_M75PL</th>\n",
       "      <th>AGE_F75PL</th>\n",
       "    </tr>\n",
       "  </thead>\n",
       "  <tbody>\n",
       "    <tr>\n",
       "      <th>0</th>\n",
       "      <td>POLYGON ((-69.89595 -20.99568, -69.81985 -21.1...</td>\n",
       "      <td>1101</td>\n",
       "      <td>2.840161</td>\n",
       "      <td>0.000155</td>\n",
       "      <td>0.893332</td>\n",
       "      <td>3.179291</td>\n",
       "      <td>1.419148</td>\n",
       "      <td>1.421013</td>\n",
       "      <td>0.189235</td>\n",
       "      <td>0.098068</td>\n",
       "      <td>...</td>\n",
       "      <td>0.072972</td>\n",
       "      <td>0.108410</td>\n",
       "      <td>0.051946</td>\n",
       "      <td>0.056464</td>\n",
       "      <td>0.069243</td>\n",
       "      <td>0.033710</td>\n",
       "      <td>0.035533</td>\n",
       "      <td>0.104028</td>\n",
       "      <td>0.040256</td>\n",
       "      <td>0.063772</td>\n",
       "    </tr>\n",
       "    <tr>\n",
       "      <th>1</th>\n",
       "      <td>POLYGON ((-70.08369 -21.24789, -70.04504 -21.2...</td>\n",
       "      <td>1101</td>\n",
       "      <td>4.260241</td>\n",
       "      <td>0.000233</td>\n",
       "      <td>1.339997</td>\n",
       "      <td>3.179291</td>\n",
       "      <td>2.128722</td>\n",
       "      <td>2.131519</td>\n",
       "      <td>0.283853</td>\n",
       "      <td>0.147101</td>\n",
       "      <td>...</td>\n",
       "      <td>0.109458</td>\n",
       "      <td>0.162616</td>\n",
       "      <td>0.077919</td>\n",
       "      <td>0.084697</td>\n",
       "      <td>0.103865</td>\n",
       "      <td>0.050565</td>\n",
       "      <td>0.053300</td>\n",
       "      <td>0.156042</td>\n",
       "      <td>0.060384</td>\n",
       "      <td>0.095659</td>\n",
       "    </tr>\n",
       "    <tr>\n",
       "      <th>2</th>\n",
       "      <td>POLYGON ((-70.01983 -20.77622, -70.13922 -20.8...</td>\n",
       "      <td>1101</td>\n",
       "      <td>4.260241</td>\n",
       "      <td>0.000233</td>\n",
       "      <td>1.339997</td>\n",
       "      <td>3.179291</td>\n",
       "      <td>2.128722</td>\n",
       "      <td>2.131519</td>\n",
       "      <td>0.283853</td>\n",
       "      <td>0.147101</td>\n",
       "      <td>...</td>\n",
       "      <td>0.109458</td>\n",
       "      <td>0.162616</td>\n",
       "      <td>0.077919</td>\n",
       "      <td>0.084697</td>\n",
       "      <td>0.103865</td>\n",
       "      <td>0.050565</td>\n",
       "      <td>0.053300</td>\n",
       "      <td>0.156042</td>\n",
       "      <td>0.060384</td>\n",
       "      <td>0.095659</td>\n",
       "    </tr>\n",
       "    <tr>\n",
       "      <th>3</th>\n",
       "      <td>POLYGON ((-69.89595 -20.99568, -69.90727 -21.0...</td>\n",
       "      <td>1101</td>\n",
       "      <td>4.260241</td>\n",
       "      <td>0.000233</td>\n",
       "      <td>1.339997</td>\n",
       "      <td>3.179291</td>\n",
       "      <td>2.128722</td>\n",
       "      <td>2.131519</td>\n",
       "      <td>0.283853</td>\n",
       "      <td>0.147101</td>\n",
       "      <td>...</td>\n",
       "      <td>0.109458</td>\n",
       "      <td>0.162616</td>\n",
       "      <td>0.077919</td>\n",
       "      <td>0.084697</td>\n",
       "      <td>0.103865</td>\n",
       "      <td>0.050565</td>\n",
       "      <td>0.053300</td>\n",
       "      <td>0.156042</td>\n",
       "      <td>0.060384</td>\n",
       "      <td>0.095659</td>\n",
       "    </tr>\n",
       "    <tr>\n",
       "      <th>4</th>\n",
       "      <td>POLYGON ((-70.14372 -20.96345, -69.90727 -21.0...</td>\n",
       "      <td>1101</td>\n",
       "      <td>58.223292</td>\n",
       "      <td>0.003178</td>\n",
       "      <td>18.313296</td>\n",
       "      <td>3.179291</td>\n",
       "      <td>29.092535</td>\n",
       "      <td>29.130757</td>\n",
       "      <td>3.879321</td>\n",
       "      <td>2.010384</td>\n",
       "      <td>...</td>\n",
       "      <td>1.495931</td>\n",
       "      <td>2.222414</td>\n",
       "      <td>1.064895</td>\n",
       "      <td>1.157519</td>\n",
       "      <td>1.419488</td>\n",
       "      <td>0.691052</td>\n",
       "      <td>0.728436</td>\n",
       "      <td>2.132580</td>\n",
       "      <td>0.825245</td>\n",
       "      <td>1.307335</td>\n",
       "    </tr>\n",
       "    <tr>\n",
       "      <th>...</th>\n",
       "      <td>...</td>\n",
       "      <td>...</td>\n",
       "      <td>...</td>\n",
       "      <td>...</td>\n",
       "      <td>...</td>\n",
       "      <td>...</td>\n",
       "      <td>...</td>\n",
       "      <td>...</td>\n",
       "      <td>...</td>\n",
       "      <td>...</td>\n",
       "      <td>...</td>\n",
       "      <td>...</td>\n",
       "      <td>...</td>\n",
       "      <td>...</td>\n",
       "      <td>...</td>\n",
       "      <td>...</td>\n",
       "      <td>...</td>\n",
       "      <td>...</td>\n",
       "      <td>...</td>\n",
       "      <td>...</td>\n",
       "      <td>...</td>\n",
       "    </tr>\n",
       "    <tr>\n",
       "      <th>8806</th>\n",
       "      <td>POLYGON ((-72.28750 -36.54041, -72.24761 -36.5...</td>\n",
       "      <td>16305</td>\n",
       "      <td>391.777469</td>\n",
       "      <td>0.021386</td>\n",
       "      <td>134.653686</td>\n",
       "      <td>2.909519</td>\n",
       "      <td>197.240612</td>\n",
       "      <td>194.536857</td>\n",
       "      <td>18.959666</td>\n",
       "      <td>9.045897</td>\n",
       "      <td>...</td>\n",
       "      <td>12.250348</td>\n",
       "      <td>22.164117</td>\n",
       "      <td>11.148818</td>\n",
       "      <td>11.015299</td>\n",
       "      <td>15.988873</td>\n",
       "      <td>8.178025</td>\n",
       "      <td>7.810848</td>\n",
       "      <td>22.798331</td>\n",
       "      <td>10.280946</td>\n",
       "      <td>12.517385</td>\n",
       "    </tr>\n",
       "    <tr>\n",
       "      <th>8807</th>\n",
       "      <td>POLYGON ((-72.19383 -36.55524, -72.19400 -36.5...</td>\n",
       "      <td>16305</td>\n",
       "      <td>35.912935</td>\n",
       "      <td>0.001960</td>\n",
       "      <td>12.343255</td>\n",
       "      <td>2.909519</td>\n",
       "      <td>18.080389</td>\n",
       "      <td>17.832545</td>\n",
       "      <td>1.737969</td>\n",
       "      <td>0.829207</td>\n",
       "      <td>...</td>\n",
       "      <td>1.122949</td>\n",
       "      <td>2.031711</td>\n",
       "      <td>1.021975</td>\n",
       "      <td>1.009736</td>\n",
       "      <td>1.465647</td>\n",
       "      <td>0.749652</td>\n",
       "      <td>0.715994</td>\n",
       "      <td>2.089847</td>\n",
       "      <td>0.942420</td>\n",
       "      <td>1.147427</td>\n",
       "    </tr>\n",
       "    <tr>\n",
       "      <th>8808</th>\n",
       "      <td>POLYGON ((-72.27720 -36.59707, -72.28197 -36.5...</td>\n",
       "      <td>16305</td>\n",
       "      <td>499.516273</td>\n",
       "      <td>0.027267</td>\n",
       "      <td>171.683449</td>\n",
       "      <td>2.909519</td>\n",
       "      <td>251.481780</td>\n",
       "      <td>248.034492</td>\n",
       "      <td>24.173574</td>\n",
       "      <td>11.533519</td>\n",
       "      <td>...</td>\n",
       "      <td>15.619193</td>\n",
       "      <td>28.259249</td>\n",
       "      <td>14.214743</td>\n",
       "      <td>14.044506</td>\n",
       "      <td>20.385814</td>\n",
       "      <td>10.426982</td>\n",
       "      <td>9.958832</td>\n",
       "      <td>29.067872</td>\n",
       "      <td>13.108206</td>\n",
       "      <td>15.959666</td>\n",
       "    </tr>\n",
       "    <tr>\n",
       "      <th>8809</th>\n",
       "      <td>POLYGON ((-72.28750 -36.54041, -72.28750 -36.5...</td>\n",
       "      <td>16305</td>\n",
       "      <td>199.153547</td>\n",
       "      <td>0.010871</td>\n",
       "      <td>68.448957</td>\n",
       "      <td>2.909519</td>\n",
       "      <td>100.263978</td>\n",
       "      <td>98.889569</td>\n",
       "      <td>9.637830</td>\n",
       "      <td>4.598331</td>\n",
       "      <td>...</td>\n",
       "      <td>6.227260</td>\n",
       "      <td>11.266759</td>\n",
       "      <td>5.667316</td>\n",
       "      <td>5.599444</td>\n",
       "      <td>8.127677</td>\n",
       "      <td>4.157163</td>\n",
       "      <td>3.970515</td>\n",
       "      <td>11.589152</td>\n",
       "      <td>5.226147</td>\n",
       "      <td>6.363004</td>\n",
       "    </tr>\n",
       "    <tr>\n",
       "      <th>8810</th>\n",
       "      <td>POLYGON ((-72.28750 -36.54041, -72.28750 -36.5...</td>\n",
       "      <td>16305</td>\n",
       "      <td>52.236996</td>\n",
       "      <td>0.002851</td>\n",
       "      <td>17.953825</td>\n",
       "      <td>2.909519</td>\n",
       "      <td>26.298748</td>\n",
       "      <td>25.938248</td>\n",
       "      <td>2.527955</td>\n",
       "      <td>1.206120</td>\n",
       "      <td>...</td>\n",
       "      <td>1.633380</td>\n",
       "      <td>2.955216</td>\n",
       "      <td>1.486509</td>\n",
       "      <td>1.468707</td>\n",
       "      <td>2.131850</td>\n",
       "      <td>1.090403</td>\n",
       "      <td>1.041446</td>\n",
       "      <td>3.039777</td>\n",
       "      <td>1.370793</td>\n",
       "      <td>1.668985</td>\n",
       "    </tr>\n",
       "  </tbody>\n",
       "</table>\n",
       "<p>8811 rows × 56 columns</p>\n",
       "</div>"
      ],
      "text/plain": [
       "                                               geometry  ADMINCODE  \\\n",
       "0     POLYGON ((-69.89595 -20.99568, -69.81985 -21.1...       1101   \n",
       "1     POLYGON ((-70.08369 -21.24789, -70.04504 -21.2...       1101   \n",
       "2     POLYGON ((-70.01983 -20.77622, -70.13922 -20.8...       1101   \n",
       "3     POLYGON ((-69.89595 -20.99568, -69.90727 -21.0...       1101   \n",
       "4     POLYGON ((-70.14372 -20.96345, -69.90727 -21.0...       1101   \n",
       "...                                                 ...        ...   \n",
       "8806  POLYGON ((-72.28750 -36.54041, -72.24761 -36.5...      16305   \n",
       "8807  POLYGON ((-72.19383 -36.55524, -72.19400 -36.5...      16305   \n",
       "8808  POLYGON ((-72.27720 -36.59707, -72.28197 -36.5...      16305   \n",
       "8809  POLYGON ((-72.28750 -36.54041, -72.28750 -36.5...      16305   \n",
       "8810  POLYGON ((-72.28750 -36.54041, -72.28750 -36.5...      16305   \n",
       "\n",
       "             P_T     P_PRM        HH_T   HH_SIZE        MALE      FEMALE  \\\n",
       "0       2.840161  0.000155    0.893332  3.179291    1.419148    1.421013   \n",
       "1       4.260241  0.000233    1.339997  3.179291    2.128722    2.131519   \n",
       "2       4.260241  0.000233    1.339997  3.179291    2.128722    2.131519   \n",
       "3       4.260241  0.000233    1.339997  3.179291    2.128722    2.131519   \n",
       "4      58.223292  0.003178   18.313296  3.179291   29.092535   29.130757   \n",
       "...          ...       ...         ...       ...         ...         ...   \n",
       "8806  391.777469  0.021386  134.653686  2.909519  197.240612  194.536857   \n",
       "8807   35.912935  0.001960   12.343255  2.909519   18.080389   17.832545   \n",
       "8808  499.516273  0.027267  171.683449  2.909519  251.481780  248.034492   \n",
       "8809  199.153547  0.010871   68.448957  2.909519  100.263978   98.889569   \n",
       "8810   52.236996  0.002851   17.953825  2.909519   26.298748   25.938248   \n",
       "\n",
       "      AGE_T0004  AGE_M0004  ...  AGE_F6064  AGE_T6569  AGE_M6569  AGE_F6569  \\\n",
       "0      0.189235   0.098068  ...   0.072972   0.108410   0.051946   0.056464   \n",
       "1      0.283853   0.147101  ...   0.109458   0.162616   0.077919   0.084697   \n",
       "2      0.283853   0.147101  ...   0.109458   0.162616   0.077919   0.084697   \n",
       "3      0.283853   0.147101  ...   0.109458   0.162616   0.077919   0.084697   \n",
       "4      3.879321   2.010384  ...   1.495931   2.222414   1.064895   1.157519   \n",
       "...         ...        ...  ...        ...        ...        ...        ...   \n",
       "8806  18.959666   9.045897  ...  12.250348  22.164117  11.148818  11.015299   \n",
       "8807   1.737969   0.829207  ...   1.122949   2.031711   1.021975   1.009736   \n",
       "8808  24.173574  11.533519  ...  15.619193  28.259249  14.214743  14.044506   \n",
       "8809   9.637830   4.598331  ...   6.227260  11.266759   5.667316   5.599444   \n",
       "8810   2.527955   1.206120  ...   1.633380   2.955216   1.486509   1.468707   \n",
       "\n",
       "      AGE_T7074  AGE_M7074  AGE_F7074  AGE_T75PL  AGE_M75PL  AGE_F75PL  \n",
       "0      0.069243   0.033710   0.035533   0.104028   0.040256   0.063772  \n",
       "1      0.103865   0.050565   0.053300   0.156042   0.060384   0.095659  \n",
       "2      0.103865   0.050565   0.053300   0.156042   0.060384   0.095659  \n",
       "3      0.103865   0.050565   0.053300   0.156042   0.060384   0.095659  \n",
       "4      1.419488   0.691052   0.728436   2.132580   0.825245   1.307335  \n",
       "...         ...        ...        ...        ...        ...        ...  \n",
       "8806  15.988873   8.178025   7.810848  22.798331  10.280946  12.517385  \n",
       "8807   1.465647   0.749652   0.715994   2.089847   0.942420   1.147427  \n",
       "8808  20.385814  10.426982   9.958832  29.067872  13.108206  15.959666  \n",
       "8809   8.127677   4.157163   3.970515  11.589152   5.226147   6.363004  \n",
       "8810   2.131850   1.090403   1.041446   3.039777   1.370793   1.668985  \n",
       "\n",
       "[8811 rows x 56 columns]"
      ]
     },
     "execution_count": 38,
     "metadata": {},
     "output_type": "execute_result"
    }
   ],
   "source": [
    "new_geo_key"
   ]
  },
  {
   "cell_type": "code",
   "execution_count": 39,
   "id": "679c814b",
   "metadata": {},
   "outputs": [],
   "source": [
    "new_geo_key = pd.concat([new_geo_key,diference])"
   ]
  },
  {
   "cell_type": "code",
   "execution_count": 40,
   "id": "18603249",
   "metadata": {},
   "outputs": [],
   "source": [
    "new_geo_key.to_file('new_geo_key2.shp')"
   ]
  },
  {
   "cell_type": "markdown",
   "id": "7eb1b81f",
   "metadata": {},
   "source": [
    "Check manually on GIS software to look for unmatched areas"
   ]
  },
  {
   "cell_type": "code",
   "execution_count": 41,
   "id": "8deeca00",
   "metadata": {},
   "outputs": [],
   "source": [
    "extra=gpd.read_file('extra.shp')"
   ]
  },
  {
   "cell_type": "code",
   "execution_count": 45,
   "id": "5c2273bc",
   "metadata": {},
   "outputs": [
    {
     "data": {
      "text/html": [
       "<div>\n",
       "<style scoped>\n",
       "    .dataframe tbody tr th:only-of-type {\n",
       "        vertical-align: middle;\n",
       "    }\n",
       "\n",
       "    .dataframe tbody tr th {\n",
       "        vertical-align: top;\n",
       "    }\n",
       "\n",
       "    .dataframe thead th {\n",
       "        text-align: right;\n",
       "    }\n",
       "</style>\n",
       "<table border=\"1\" class=\"dataframe\">\n",
       "  <thead>\n",
       "    <tr style=\"text-align: right;\">\n",
       "      <th></th>\n",
       "      <th>geometry</th>\n",
       "      <th>ADMINCODE</th>\n",
       "      <th>P_T</th>\n",
       "      <th>P_PRM</th>\n",
       "      <th>HH_T</th>\n",
       "      <th>HH_SIZE</th>\n",
       "      <th>MALE</th>\n",
       "      <th>FEMALE</th>\n",
       "      <th>AGE_T0004</th>\n",
       "      <th>AGE_M0004</th>\n",
       "      <th>...</th>\n",
       "      <th>AGE_F6064</th>\n",
       "      <th>AGE_T6569</th>\n",
       "      <th>AGE_M6569</th>\n",
       "      <th>AGE_F6569</th>\n",
       "      <th>AGE_T7074</th>\n",
       "      <th>AGE_M7074</th>\n",
       "      <th>AGE_F7074</th>\n",
       "      <th>AGE_T75PL</th>\n",
       "      <th>AGE_M75PL</th>\n",
       "      <th>AGE_F75PL</th>\n",
       "    </tr>\n",
       "  </thead>\n",
       "  <tbody>\n",
       "    <tr>\n",
       "      <th>0</th>\n",
       "      <td>POLYGON ((-69.89595 -20.99568, -69.81985 -21.1...</td>\n",
       "      <td>1101</td>\n",
       "      <td>2.840161</td>\n",
       "      <td>0.000155</td>\n",
       "      <td>0.893332</td>\n",
       "      <td>3.179291</td>\n",
       "      <td>1.419148</td>\n",
       "      <td>1.421013</td>\n",
       "      <td>0.189235</td>\n",
       "      <td>0.098068</td>\n",
       "      <td>...</td>\n",
       "      <td>0.072972</td>\n",
       "      <td>0.108410</td>\n",
       "      <td>0.051946</td>\n",
       "      <td>0.056464</td>\n",
       "      <td>0.069243</td>\n",
       "      <td>0.033710</td>\n",
       "      <td>0.035533</td>\n",
       "      <td>0.104028</td>\n",
       "      <td>0.040256</td>\n",
       "      <td>0.063772</td>\n",
       "    </tr>\n",
       "    <tr>\n",
       "      <th>1</th>\n",
       "      <td>POLYGON ((-70.08369 -21.24789, -70.04504 -21.2...</td>\n",
       "      <td>1101</td>\n",
       "      <td>4.260241</td>\n",
       "      <td>0.000233</td>\n",
       "      <td>1.339997</td>\n",
       "      <td>3.179291</td>\n",
       "      <td>2.128722</td>\n",
       "      <td>2.131519</td>\n",
       "      <td>0.283853</td>\n",
       "      <td>0.147101</td>\n",
       "      <td>...</td>\n",
       "      <td>0.109458</td>\n",
       "      <td>0.162616</td>\n",
       "      <td>0.077919</td>\n",
       "      <td>0.084697</td>\n",
       "      <td>0.103865</td>\n",
       "      <td>0.050565</td>\n",
       "      <td>0.053300</td>\n",
       "      <td>0.156042</td>\n",
       "      <td>0.060384</td>\n",
       "      <td>0.095659</td>\n",
       "    </tr>\n",
       "    <tr>\n",
       "      <th>2</th>\n",
       "      <td>POLYGON ((-70.01983 -20.77622, -70.13922 -20.8...</td>\n",
       "      <td>1101</td>\n",
       "      <td>4.260241</td>\n",
       "      <td>0.000233</td>\n",
       "      <td>1.339997</td>\n",
       "      <td>3.179291</td>\n",
       "      <td>2.128722</td>\n",
       "      <td>2.131519</td>\n",
       "      <td>0.283853</td>\n",
       "      <td>0.147101</td>\n",
       "      <td>...</td>\n",
       "      <td>0.109458</td>\n",
       "      <td>0.162616</td>\n",
       "      <td>0.077919</td>\n",
       "      <td>0.084697</td>\n",
       "      <td>0.103865</td>\n",
       "      <td>0.050565</td>\n",
       "      <td>0.053300</td>\n",
       "      <td>0.156042</td>\n",
       "      <td>0.060384</td>\n",
       "      <td>0.095659</td>\n",
       "    </tr>\n",
       "    <tr>\n",
       "      <th>3</th>\n",
       "      <td>POLYGON ((-69.89595 -20.99568, -69.90727 -21.0...</td>\n",
       "      <td>1101</td>\n",
       "      <td>4.260241</td>\n",
       "      <td>0.000233</td>\n",
       "      <td>1.339997</td>\n",
       "      <td>3.179291</td>\n",
       "      <td>2.128722</td>\n",
       "      <td>2.131519</td>\n",
       "      <td>0.283853</td>\n",
       "      <td>0.147101</td>\n",
       "      <td>...</td>\n",
       "      <td>0.109458</td>\n",
       "      <td>0.162616</td>\n",
       "      <td>0.077919</td>\n",
       "      <td>0.084697</td>\n",
       "      <td>0.103865</td>\n",
       "      <td>0.050565</td>\n",
       "      <td>0.053300</td>\n",
       "      <td>0.156042</td>\n",
       "      <td>0.060384</td>\n",
       "      <td>0.095659</td>\n",
       "    </tr>\n",
       "    <tr>\n",
       "      <th>4</th>\n",
       "      <td>POLYGON ((-70.14372 -20.96345, -69.90727 -21.0...</td>\n",
       "      <td>1101</td>\n",
       "      <td>58.223292</td>\n",
       "      <td>0.003178</td>\n",
       "      <td>18.313296</td>\n",
       "      <td>3.179291</td>\n",
       "      <td>29.092535</td>\n",
       "      <td>29.130757</td>\n",
       "      <td>3.879321</td>\n",
       "      <td>2.010384</td>\n",
       "      <td>...</td>\n",
       "      <td>1.495931</td>\n",
       "      <td>2.222414</td>\n",
       "      <td>1.064895</td>\n",
       "      <td>1.157519</td>\n",
       "      <td>1.419488</td>\n",
       "      <td>0.691052</td>\n",
       "      <td>0.728436</td>\n",
       "      <td>2.132580</td>\n",
       "      <td>0.825245</td>\n",
       "      <td>1.307335</td>\n",
       "    </tr>\n",
       "    <tr>\n",
       "      <th>...</th>\n",
       "      <td>...</td>\n",
       "      <td>...</td>\n",
       "      <td>...</td>\n",
       "      <td>...</td>\n",
       "      <td>...</td>\n",
       "      <td>...</td>\n",
       "      <td>...</td>\n",
       "      <td>...</td>\n",
       "      <td>...</td>\n",
       "      <td>...</td>\n",
       "      <td>...</td>\n",
       "      <td>...</td>\n",
       "      <td>...</td>\n",
       "      <td>...</td>\n",
       "      <td>...</td>\n",
       "      <td>...</td>\n",
       "      <td>...</td>\n",
       "      <td>...</td>\n",
       "      <td>...</td>\n",
       "      <td>...</td>\n",
       "      <td>...</td>\n",
       "    </tr>\n",
       "    <tr>\n",
       "      <th>41599</th>\n",
       "      <td>POLYGON ((-73.10423 -39.68650, -73.10386 -39.6...</td>\n",
       "      <td>14106</td>\n",
       "      <td>0.000000</td>\n",
       "      <td>0.000000</td>\n",
       "      <td>0.000000</td>\n",
       "      <td>0.000000</td>\n",
       "      <td>0.000000</td>\n",
       "      <td>0.000000</td>\n",
       "      <td>0.000000</td>\n",
       "      <td>0.000000</td>\n",
       "      <td>...</td>\n",
       "      <td>0.000000</td>\n",
       "      <td>0.000000</td>\n",
       "      <td>0.000000</td>\n",
       "      <td>0.000000</td>\n",
       "      <td>0.000000</td>\n",
       "      <td>0.000000</td>\n",
       "      <td>0.000000</td>\n",
       "      <td>0.000000</td>\n",
       "      <td>0.000000</td>\n",
       "      <td>0.000000</td>\n",
       "    </tr>\n",
       "    <tr>\n",
       "      <th>41600</th>\n",
       "      <td>POLYGON ((-73.20966 -39.44717, -73.20991 -39.4...</td>\n",
       "      <td>14106</td>\n",
       "      <td>0.000000</td>\n",
       "      <td>0.000000</td>\n",
       "      <td>0.000000</td>\n",
       "      <td>0.000000</td>\n",
       "      <td>0.000000</td>\n",
       "      <td>0.000000</td>\n",
       "      <td>0.000000</td>\n",
       "      <td>0.000000</td>\n",
       "      <td>...</td>\n",
       "      <td>0.000000</td>\n",
       "      <td>0.000000</td>\n",
       "      <td>0.000000</td>\n",
       "      <td>0.000000</td>\n",
       "      <td>0.000000</td>\n",
       "      <td>0.000000</td>\n",
       "      <td>0.000000</td>\n",
       "      <td>0.000000</td>\n",
       "      <td>0.000000</td>\n",
       "      <td>0.000000</td>\n",
       "    </tr>\n",
       "    <tr>\n",
       "      <th>41622</th>\n",
       "      <td>POLYGON ((-72.80853 -36.13209, -72.80863 -36.1...</td>\n",
       "      <td>16202</td>\n",
       "      <td>0.000000</td>\n",
       "      <td>0.000000</td>\n",
       "      <td>0.000000</td>\n",
       "      <td>0.000000</td>\n",
       "      <td>0.000000</td>\n",
       "      <td>0.000000</td>\n",
       "      <td>0.000000</td>\n",
       "      <td>0.000000</td>\n",
       "      <td>...</td>\n",
       "      <td>0.000000</td>\n",
       "      <td>0.000000</td>\n",
       "      <td>0.000000</td>\n",
       "      <td>0.000000</td>\n",
       "      <td>0.000000</td>\n",
       "      <td>0.000000</td>\n",
       "      <td>0.000000</td>\n",
       "      <td>0.000000</td>\n",
       "      <td>0.000000</td>\n",
       "      <td>0.000000</td>\n",
       "    </tr>\n",
       "    <tr>\n",
       "      <th>41623</th>\n",
       "      <td>POLYGON ((-72.80846 -36.13159, -72.80854 -36.1...</td>\n",
       "      <td>16202</td>\n",
       "      <td>0.000000</td>\n",
       "      <td>0.000000</td>\n",
       "      <td>0.000000</td>\n",
       "      <td>0.000000</td>\n",
       "      <td>0.000000</td>\n",
       "      <td>0.000000</td>\n",
       "      <td>0.000000</td>\n",
       "      <td>0.000000</td>\n",
       "      <td>...</td>\n",
       "      <td>0.000000</td>\n",
       "      <td>0.000000</td>\n",
       "      <td>0.000000</td>\n",
       "      <td>0.000000</td>\n",
       "      <td>0.000000</td>\n",
       "      <td>0.000000</td>\n",
       "      <td>0.000000</td>\n",
       "      <td>0.000000</td>\n",
       "      <td>0.000000</td>\n",
       "      <td>0.000000</td>\n",
       "    </tr>\n",
       "    <tr>\n",
       "      <th>41624</th>\n",
       "      <td>POLYGON ((-72.80765 -36.13148, -72.80775 -36.1...</td>\n",
       "      <td>16202</td>\n",
       "      <td>0.000000</td>\n",
       "      <td>0.000000</td>\n",
       "      <td>0.000000</td>\n",
       "      <td>0.000000</td>\n",
       "      <td>0.000000</td>\n",
       "      <td>0.000000</td>\n",
       "      <td>0.000000</td>\n",
       "      <td>0.000000</td>\n",
       "      <td>...</td>\n",
       "      <td>0.000000</td>\n",
       "      <td>0.000000</td>\n",
       "      <td>0.000000</td>\n",
       "      <td>0.000000</td>\n",
       "      <td>0.000000</td>\n",
       "      <td>0.000000</td>\n",
       "      <td>0.000000</td>\n",
       "      <td>0.000000</td>\n",
       "      <td>0.000000</td>\n",
       "      <td>0.000000</td>\n",
       "    </tr>\n",
       "  </tbody>\n",
       "</table>\n",
       "<p>50092 rows × 56 columns</p>\n",
       "</div>"
      ],
      "text/plain": [
       "                                                geometry  ADMINCODE  \\\n",
       "0      POLYGON ((-69.89595 -20.99568, -69.81985 -21.1...       1101   \n",
       "1      POLYGON ((-70.08369 -21.24789, -70.04504 -21.2...       1101   \n",
       "2      POLYGON ((-70.01983 -20.77622, -70.13922 -20.8...       1101   \n",
       "3      POLYGON ((-69.89595 -20.99568, -69.90727 -21.0...       1101   \n",
       "4      POLYGON ((-70.14372 -20.96345, -69.90727 -21.0...       1101   \n",
       "...                                                  ...        ...   \n",
       "41599  POLYGON ((-73.10423 -39.68650, -73.10386 -39.6...      14106   \n",
       "41600  POLYGON ((-73.20966 -39.44717, -73.20991 -39.4...      14106   \n",
       "41622  POLYGON ((-72.80853 -36.13209, -72.80863 -36.1...      16202   \n",
       "41623  POLYGON ((-72.80846 -36.13159, -72.80854 -36.1...      16202   \n",
       "41624  POLYGON ((-72.80765 -36.13148, -72.80775 -36.1...      16202   \n",
       "\n",
       "             P_T     P_PRM       HH_T   HH_SIZE       MALE     FEMALE  \\\n",
       "0       2.840161  0.000155   0.893332  3.179291   1.419148   1.421013   \n",
       "1       4.260241  0.000233   1.339997  3.179291   2.128722   2.131519   \n",
       "2       4.260241  0.000233   1.339997  3.179291   2.128722   2.131519   \n",
       "3       4.260241  0.000233   1.339997  3.179291   2.128722   2.131519   \n",
       "4      58.223292  0.003178  18.313296  3.179291  29.092535  29.130757   \n",
       "...          ...       ...        ...       ...        ...        ...   \n",
       "41599   0.000000  0.000000   0.000000  0.000000   0.000000   0.000000   \n",
       "41600   0.000000  0.000000   0.000000  0.000000   0.000000   0.000000   \n",
       "41622   0.000000  0.000000   0.000000  0.000000   0.000000   0.000000   \n",
       "41623   0.000000  0.000000   0.000000  0.000000   0.000000   0.000000   \n",
       "41624   0.000000  0.000000   0.000000  0.000000   0.000000   0.000000   \n",
       "\n",
       "       AGE_T0004  AGE_M0004  ...  AGE_F6064  AGE_T6569  AGE_M6569  AGE_F6569  \\\n",
       "0       0.189235   0.098068  ...   0.072972   0.108410   0.051946   0.056464   \n",
       "1       0.283853   0.147101  ...   0.109458   0.162616   0.077919   0.084697   \n",
       "2       0.283853   0.147101  ...   0.109458   0.162616   0.077919   0.084697   \n",
       "3       0.283853   0.147101  ...   0.109458   0.162616   0.077919   0.084697   \n",
       "4       3.879321   2.010384  ...   1.495931   2.222414   1.064895   1.157519   \n",
       "...          ...        ...  ...        ...        ...        ...        ...   \n",
       "41599   0.000000   0.000000  ...   0.000000   0.000000   0.000000   0.000000   \n",
       "41600   0.000000   0.000000  ...   0.000000   0.000000   0.000000   0.000000   \n",
       "41622   0.000000   0.000000  ...   0.000000   0.000000   0.000000   0.000000   \n",
       "41623   0.000000   0.000000  ...   0.000000   0.000000   0.000000   0.000000   \n",
       "41624   0.000000   0.000000  ...   0.000000   0.000000   0.000000   0.000000   \n",
       "\n",
       "       AGE_T7074  AGE_M7074  AGE_F7074  AGE_T75PL  AGE_M75PL  AGE_F75PL  \n",
       "0       0.069243   0.033710   0.035533   0.104028   0.040256   0.063772  \n",
       "1       0.103865   0.050565   0.053300   0.156042   0.060384   0.095659  \n",
       "2       0.103865   0.050565   0.053300   0.156042   0.060384   0.095659  \n",
       "3       0.103865   0.050565   0.053300   0.156042   0.060384   0.095659  \n",
       "4       1.419488   0.691052   0.728436   2.132580   0.825245   1.307335  \n",
       "...          ...        ...        ...        ...        ...        ...  \n",
       "41599   0.000000   0.000000   0.000000   0.000000   0.000000   0.000000  \n",
       "41600   0.000000   0.000000   0.000000   0.000000   0.000000   0.000000  \n",
       "41622   0.000000   0.000000   0.000000   0.000000   0.000000   0.000000  \n",
       "41623   0.000000   0.000000   0.000000   0.000000   0.000000   0.000000  \n",
       "41624   0.000000   0.000000   0.000000   0.000000   0.000000   0.000000  \n",
       "\n",
       "[50092 rows x 56 columns]"
      ]
     },
     "execution_count": 45,
     "metadata": {},
     "output_type": "execute_result"
    }
   ],
   "source": [
    "new_geo_key"
   ]
  },
  {
   "cell_type": "code",
   "execution_count": 44,
   "id": "f4880d8a",
   "metadata": {},
   "outputs": [],
   "source": [
    "extra = extra.drop(columns=['NAME','CTRYCODE'])\n",
    "extra['P_T']=0\n",
    "extra['P_PRM']=0\n",
    "extra['HH_T']=0\n",
    "extra['HH_SIZE']=0\n",
    "extra['MALE']=0\n",
    "extra['FEMALE']=0\n",
    "extra['AGE_T0004']=0\n",
    "extra[ 'AGE_M0004']=0\n",
    "extra['AGE_F0004']=0\n",
    "extra['AGE_T0509']=0\n",
    "extra['AGE_M0509']=0\n",
    "extra['AGE_F0509']=0\n",
    "extra['AGE_T1014']=0\n",
    "extra['AGE_M1014']=0\n",
    "extra['AGE_F1014']=0\n",
    "extra['AGE_T1519']=0\n",
    "extra['AGE_M1519']=0\n",
    "extra['AGE_F1519']=0\n",
    "extra['AGE_T2024']=0\n",
    "extra['AGE_M2024']=0\n",
    "extra[ 'AGE_F2024']=0\n",
    "extra['AGE_T2529']=0\n",
    "extra['AGE_M2529']=0\n",
    "extra['AGE_F2529']=0\n",
    "extra['AGE_T3034']=0\n",
    "extra['AGE_M3034']=0\n",
    "extra['AGE_F3034']=0\n",
    "extra['AGE_T3539']=0\n",
    "extra['AGE_M3539']=0\n",
    "extra['AGE_F3539']=0\n",
    "extra['AGE_T4044']=0\n",
    "extra['AGE_M4044']=0\n",
    "extra['AGE_F4044']=0\n",
    "extra['AGE_T4549']=0\n",
    "extra['AGE_M4549']=0\n",
    "extra['AGE_F4549']=0\n",
    "extra['AGE_T5054']=0\n",
    "extra['AGE_M5054']=0\n",
    "extra['AGE_F5054']=0\n",
    "extra['AGE_T5559']=0\n",
    "extra['AGE_M5559']=0\n",
    "extra['AGE_F5559']=0\n",
    "extra['AGE_T6064']=0\n",
    "extra['AGE_M6064']=0\n",
    "extra['AGE_F6064']=0\n",
    "extra['AGE_T6569']=0\n",
    "extra['AGE_M6569']=0\n",
    "extra['AGE_F6569']=0\n",
    "extra['AGE_T7074']=0\n",
    "extra['AGE_M7074']=0\n",
    "extra['AGE_F7074']=0\n",
    "extra['AGE_T75PL']=0\n",
    "extra['AGE_M75PL']=0\n",
    "extra['AGE_F75PL']=0"
   ]
  },
  {
   "cell_type": "code",
   "execution_count": 46,
   "id": "fb7dbe94",
   "metadata": {},
   "outputs": [],
   "source": [
    "new_geo_key = pd.concat([new_geo_key,extra])"
   ]
  },
  {
   "cell_type": "code",
   "execution_count": 47,
   "id": "c9d33a79",
   "metadata": {},
   "outputs": [],
   "source": [
    "new_geo_key = new_geo_key.rename(columns={\"ADMINCODE\": \"partition_by\"})"
   ]
  },
  {
   "cell_type": "code",
   "execution_count": 48,
   "id": "ec3028b5",
   "metadata": {},
   "outputs": [],
   "source": [
    "new_geo_key['geo_key']=range(10000, 10000 + len(new_geo_key))"
   ]
  },
  {
   "cell_type": "code",
   "execution_count": 49,
   "id": "0abe807e",
   "metadata": {},
   "outputs": [],
   "source": [
    "new_geo_key.to_file('new_geo_key.shp')"
   ]
  },
  {
   "cell_type": "markdown",
   "id": "92319eb2",
   "metadata": {},
   "source": [
    "### 7.- Create boundaries and demographics .parquet"
   ]
  },
  {
   "cell_type": "code",
   "execution_count": 50,
   "id": "bd325e7f",
   "metadata": {},
   "outputs": [
    {
     "data": {
      "text/html": [
       "<div>\n",
       "<style scoped>\n",
       "    .dataframe tbody tr th:only-of-type {\n",
       "        vertical-align: middle;\n",
       "    }\n",
       "\n",
       "    .dataframe tbody tr th {\n",
       "        vertical-align: top;\n",
       "    }\n",
       "\n",
       "    .dataframe thead th {\n",
       "        text-align: right;\n",
       "    }\n",
       "</style>\n",
       "<table border=\"1\" class=\"dataframe\">\n",
       "  <thead>\n",
       "    <tr style=\"text-align: right;\">\n",
       "      <th></th>\n",
       "      <th>geometry</th>\n",
       "      <th>partition_by</th>\n",
       "      <th>P_T</th>\n",
       "      <th>P_PRM</th>\n",
       "      <th>HH_T</th>\n",
       "      <th>HH_SIZE</th>\n",
       "      <th>MALE</th>\n",
       "      <th>FEMALE</th>\n",
       "      <th>AGE_T0004</th>\n",
       "      <th>AGE_M0004</th>\n",
       "      <th>...</th>\n",
       "      <th>AGE_T6569</th>\n",
       "      <th>AGE_M6569</th>\n",
       "      <th>AGE_F6569</th>\n",
       "      <th>AGE_T7074</th>\n",
       "      <th>AGE_M7074</th>\n",
       "      <th>AGE_F7074</th>\n",
       "      <th>AGE_T75PL</th>\n",
       "      <th>AGE_M75PL</th>\n",
       "      <th>AGE_F75PL</th>\n",
       "      <th>geo_key</th>\n",
       "    </tr>\n",
       "  </thead>\n",
       "  <tbody>\n",
       "    <tr>\n",
       "      <th>0</th>\n",
       "      <td>POLYGON ((-69.89595 -20.99568, -69.81985 -21.1...</td>\n",
       "      <td>1101</td>\n",
       "      <td>2.840161</td>\n",
       "      <td>0.000155</td>\n",
       "      <td>0.893332</td>\n",
       "      <td>3.179291</td>\n",
       "      <td>1.419148</td>\n",
       "      <td>1.421013</td>\n",
       "      <td>0.189235</td>\n",
       "      <td>0.098068</td>\n",
       "      <td>...</td>\n",
       "      <td>0.108410</td>\n",
       "      <td>0.051946</td>\n",
       "      <td>0.056464</td>\n",
       "      <td>0.069243</td>\n",
       "      <td>0.033710</td>\n",
       "      <td>0.035533</td>\n",
       "      <td>0.104028</td>\n",
       "      <td>0.040256</td>\n",
       "      <td>0.063772</td>\n",
       "      <td>10000</td>\n",
       "    </tr>\n",
       "    <tr>\n",
       "      <th>1</th>\n",
       "      <td>POLYGON ((-70.08369 -21.24789, -70.04504 -21.2...</td>\n",
       "      <td>1101</td>\n",
       "      <td>4.260241</td>\n",
       "      <td>0.000233</td>\n",
       "      <td>1.339997</td>\n",
       "      <td>3.179291</td>\n",
       "      <td>2.128722</td>\n",
       "      <td>2.131519</td>\n",
       "      <td>0.283853</td>\n",
       "      <td>0.147101</td>\n",
       "      <td>...</td>\n",
       "      <td>0.162616</td>\n",
       "      <td>0.077919</td>\n",
       "      <td>0.084697</td>\n",
       "      <td>0.103865</td>\n",
       "      <td>0.050565</td>\n",
       "      <td>0.053300</td>\n",
       "      <td>0.156042</td>\n",
       "      <td>0.060384</td>\n",
       "      <td>0.095659</td>\n",
       "      <td>10001</td>\n",
       "    </tr>\n",
       "    <tr>\n",
       "      <th>2</th>\n",
       "      <td>POLYGON ((-70.01983 -20.77622, -70.13922 -20.8...</td>\n",
       "      <td>1101</td>\n",
       "      <td>4.260241</td>\n",
       "      <td>0.000233</td>\n",
       "      <td>1.339997</td>\n",
       "      <td>3.179291</td>\n",
       "      <td>2.128722</td>\n",
       "      <td>2.131519</td>\n",
       "      <td>0.283853</td>\n",
       "      <td>0.147101</td>\n",
       "      <td>...</td>\n",
       "      <td>0.162616</td>\n",
       "      <td>0.077919</td>\n",
       "      <td>0.084697</td>\n",
       "      <td>0.103865</td>\n",
       "      <td>0.050565</td>\n",
       "      <td>0.053300</td>\n",
       "      <td>0.156042</td>\n",
       "      <td>0.060384</td>\n",
       "      <td>0.095659</td>\n",
       "      <td>10002</td>\n",
       "    </tr>\n",
       "    <tr>\n",
       "      <th>3</th>\n",
       "      <td>POLYGON ((-69.89595 -20.99568, -69.90727 -21.0...</td>\n",
       "      <td>1101</td>\n",
       "      <td>4.260241</td>\n",
       "      <td>0.000233</td>\n",
       "      <td>1.339997</td>\n",
       "      <td>3.179291</td>\n",
       "      <td>2.128722</td>\n",
       "      <td>2.131519</td>\n",
       "      <td>0.283853</td>\n",
       "      <td>0.147101</td>\n",
       "      <td>...</td>\n",
       "      <td>0.162616</td>\n",
       "      <td>0.077919</td>\n",
       "      <td>0.084697</td>\n",
       "      <td>0.103865</td>\n",
       "      <td>0.050565</td>\n",
       "      <td>0.053300</td>\n",
       "      <td>0.156042</td>\n",
       "      <td>0.060384</td>\n",
       "      <td>0.095659</td>\n",
       "      <td>10003</td>\n",
       "    </tr>\n",
       "    <tr>\n",
       "      <th>4</th>\n",
       "      <td>POLYGON ((-70.14372 -20.96345, -69.90727 -21.0...</td>\n",
       "      <td>1101</td>\n",
       "      <td>58.223292</td>\n",
       "      <td>0.003178</td>\n",
       "      <td>18.313296</td>\n",
       "      <td>3.179291</td>\n",
       "      <td>29.092535</td>\n",
       "      <td>29.130757</td>\n",
       "      <td>3.879321</td>\n",
       "      <td>2.010384</td>\n",
       "      <td>...</td>\n",
       "      <td>2.222414</td>\n",
       "      <td>1.064895</td>\n",
       "      <td>1.157519</td>\n",
       "      <td>1.419488</td>\n",
       "      <td>0.691052</td>\n",
       "      <td>0.728436</td>\n",
       "      <td>2.132580</td>\n",
       "      <td>0.825245</td>\n",
       "      <td>1.307335</td>\n",
       "      <td>10004</td>\n",
       "    </tr>\n",
       "    <tr>\n",
       "      <th>...</th>\n",
       "      <td>...</td>\n",
       "      <td>...</td>\n",
       "      <td>...</td>\n",
       "      <td>...</td>\n",
       "      <td>...</td>\n",
       "      <td>...</td>\n",
       "      <td>...</td>\n",
       "      <td>...</td>\n",
       "      <td>...</td>\n",
       "      <td>...</td>\n",
       "      <td>...</td>\n",
       "      <td>...</td>\n",
       "      <td>...</td>\n",
       "      <td>...</td>\n",
       "      <td>...</td>\n",
       "      <td>...</td>\n",
       "      <td>...</td>\n",
       "      <td>...</td>\n",
       "      <td>...</td>\n",
       "      <td>...</td>\n",
       "      <td>...</td>\n",
       "    </tr>\n",
       "    <tr>\n",
       "      <th>41600</th>\n",
       "      <td>POLYGON ((-73.20966 -39.44717, -73.20991 -39.4...</td>\n",
       "      <td>14106</td>\n",
       "      <td>0.000000</td>\n",
       "      <td>0.000000</td>\n",
       "      <td>0.000000</td>\n",
       "      <td>0.000000</td>\n",
       "      <td>0.000000</td>\n",
       "      <td>0.000000</td>\n",
       "      <td>0.000000</td>\n",
       "      <td>0.000000</td>\n",
       "      <td>...</td>\n",
       "      <td>0.000000</td>\n",
       "      <td>0.000000</td>\n",
       "      <td>0.000000</td>\n",
       "      <td>0.000000</td>\n",
       "      <td>0.000000</td>\n",
       "      <td>0.000000</td>\n",
       "      <td>0.000000</td>\n",
       "      <td>0.000000</td>\n",
       "      <td>0.000000</td>\n",
       "      <td>60088</td>\n",
       "    </tr>\n",
       "    <tr>\n",
       "      <th>41622</th>\n",
       "      <td>POLYGON ((-72.80853 -36.13209, -72.80863 -36.1...</td>\n",
       "      <td>16202</td>\n",
       "      <td>0.000000</td>\n",
       "      <td>0.000000</td>\n",
       "      <td>0.000000</td>\n",
       "      <td>0.000000</td>\n",
       "      <td>0.000000</td>\n",
       "      <td>0.000000</td>\n",
       "      <td>0.000000</td>\n",
       "      <td>0.000000</td>\n",
       "      <td>...</td>\n",
       "      <td>0.000000</td>\n",
       "      <td>0.000000</td>\n",
       "      <td>0.000000</td>\n",
       "      <td>0.000000</td>\n",
       "      <td>0.000000</td>\n",
       "      <td>0.000000</td>\n",
       "      <td>0.000000</td>\n",
       "      <td>0.000000</td>\n",
       "      <td>0.000000</td>\n",
       "      <td>60089</td>\n",
       "    </tr>\n",
       "    <tr>\n",
       "      <th>41623</th>\n",
       "      <td>POLYGON ((-72.80846 -36.13159, -72.80854 -36.1...</td>\n",
       "      <td>16202</td>\n",
       "      <td>0.000000</td>\n",
       "      <td>0.000000</td>\n",
       "      <td>0.000000</td>\n",
       "      <td>0.000000</td>\n",
       "      <td>0.000000</td>\n",
       "      <td>0.000000</td>\n",
       "      <td>0.000000</td>\n",
       "      <td>0.000000</td>\n",
       "      <td>...</td>\n",
       "      <td>0.000000</td>\n",
       "      <td>0.000000</td>\n",
       "      <td>0.000000</td>\n",
       "      <td>0.000000</td>\n",
       "      <td>0.000000</td>\n",
       "      <td>0.000000</td>\n",
       "      <td>0.000000</td>\n",
       "      <td>0.000000</td>\n",
       "      <td>0.000000</td>\n",
       "      <td>60090</td>\n",
       "    </tr>\n",
       "    <tr>\n",
       "      <th>41624</th>\n",
       "      <td>POLYGON ((-72.80765 -36.13148, -72.80775 -36.1...</td>\n",
       "      <td>16202</td>\n",
       "      <td>0.000000</td>\n",
       "      <td>0.000000</td>\n",
       "      <td>0.000000</td>\n",
       "      <td>0.000000</td>\n",
       "      <td>0.000000</td>\n",
       "      <td>0.000000</td>\n",
       "      <td>0.000000</td>\n",
       "      <td>0.000000</td>\n",
       "      <td>...</td>\n",
       "      <td>0.000000</td>\n",
       "      <td>0.000000</td>\n",
       "      <td>0.000000</td>\n",
       "      <td>0.000000</td>\n",
       "      <td>0.000000</td>\n",
       "      <td>0.000000</td>\n",
       "      <td>0.000000</td>\n",
       "      <td>0.000000</td>\n",
       "      <td>0.000000</td>\n",
       "      <td>60091</td>\n",
       "    </tr>\n",
       "    <tr>\n",
       "      <th>0</th>\n",
       "      <td>POLYGON ((-73.41315 -41.50404, -73.41298 -41.5...</td>\n",
       "      <td>10108</td>\n",
       "      <td>0.000000</td>\n",
       "      <td>0.000000</td>\n",
       "      <td>0.000000</td>\n",
       "      <td>0.000000</td>\n",
       "      <td>0.000000</td>\n",
       "      <td>0.000000</td>\n",
       "      <td>0.000000</td>\n",
       "      <td>0.000000</td>\n",
       "      <td>...</td>\n",
       "      <td>0.000000</td>\n",
       "      <td>0.000000</td>\n",
       "      <td>0.000000</td>\n",
       "      <td>0.000000</td>\n",
       "      <td>0.000000</td>\n",
       "      <td>0.000000</td>\n",
       "      <td>0.000000</td>\n",
       "      <td>0.000000</td>\n",
       "      <td>0.000000</td>\n",
       "      <td>60092</td>\n",
       "    </tr>\n",
       "  </tbody>\n",
       "</table>\n",
       "<p>50093 rows × 57 columns</p>\n",
       "</div>"
      ],
      "text/plain": [
       "                                                geometry  partition_by  \\\n",
       "0      POLYGON ((-69.89595 -20.99568, -69.81985 -21.1...          1101   \n",
       "1      POLYGON ((-70.08369 -21.24789, -70.04504 -21.2...          1101   \n",
       "2      POLYGON ((-70.01983 -20.77622, -70.13922 -20.8...          1101   \n",
       "3      POLYGON ((-69.89595 -20.99568, -69.90727 -21.0...          1101   \n",
       "4      POLYGON ((-70.14372 -20.96345, -69.90727 -21.0...          1101   \n",
       "...                                                  ...           ...   \n",
       "41600  POLYGON ((-73.20966 -39.44717, -73.20991 -39.4...         14106   \n",
       "41622  POLYGON ((-72.80853 -36.13209, -72.80863 -36.1...         16202   \n",
       "41623  POLYGON ((-72.80846 -36.13159, -72.80854 -36.1...         16202   \n",
       "41624  POLYGON ((-72.80765 -36.13148, -72.80775 -36.1...         16202   \n",
       "0      POLYGON ((-73.41315 -41.50404, -73.41298 -41.5...         10108   \n",
       "\n",
       "             P_T     P_PRM       HH_T   HH_SIZE       MALE     FEMALE  \\\n",
       "0       2.840161  0.000155   0.893332  3.179291   1.419148   1.421013   \n",
       "1       4.260241  0.000233   1.339997  3.179291   2.128722   2.131519   \n",
       "2       4.260241  0.000233   1.339997  3.179291   2.128722   2.131519   \n",
       "3       4.260241  0.000233   1.339997  3.179291   2.128722   2.131519   \n",
       "4      58.223292  0.003178  18.313296  3.179291  29.092535  29.130757   \n",
       "...          ...       ...        ...       ...        ...        ...   \n",
       "41600   0.000000  0.000000   0.000000  0.000000   0.000000   0.000000   \n",
       "41622   0.000000  0.000000   0.000000  0.000000   0.000000   0.000000   \n",
       "41623   0.000000  0.000000   0.000000  0.000000   0.000000   0.000000   \n",
       "41624   0.000000  0.000000   0.000000  0.000000   0.000000   0.000000   \n",
       "0       0.000000  0.000000   0.000000  0.000000   0.000000   0.000000   \n",
       "\n",
       "       AGE_T0004  AGE_M0004  ...  AGE_T6569  AGE_M6569  AGE_F6569  AGE_T7074  \\\n",
       "0       0.189235   0.098068  ...   0.108410   0.051946   0.056464   0.069243   \n",
       "1       0.283853   0.147101  ...   0.162616   0.077919   0.084697   0.103865   \n",
       "2       0.283853   0.147101  ...   0.162616   0.077919   0.084697   0.103865   \n",
       "3       0.283853   0.147101  ...   0.162616   0.077919   0.084697   0.103865   \n",
       "4       3.879321   2.010384  ...   2.222414   1.064895   1.157519   1.419488   \n",
       "...          ...        ...  ...        ...        ...        ...        ...   \n",
       "41600   0.000000   0.000000  ...   0.000000   0.000000   0.000000   0.000000   \n",
       "41622   0.000000   0.000000  ...   0.000000   0.000000   0.000000   0.000000   \n",
       "41623   0.000000   0.000000  ...   0.000000   0.000000   0.000000   0.000000   \n",
       "41624   0.000000   0.000000  ...   0.000000   0.000000   0.000000   0.000000   \n",
       "0       0.000000   0.000000  ...   0.000000   0.000000   0.000000   0.000000   \n",
       "\n",
       "       AGE_M7074  AGE_F7074  AGE_T75PL  AGE_M75PL  AGE_F75PL  geo_key  \n",
       "0       0.033710   0.035533   0.104028   0.040256   0.063772    10000  \n",
       "1       0.050565   0.053300   0.156042   0.060384   0.095659    10001  \n",
       "2       0.050565   0.053300   0.156042   0.060384   0.095659    10002  \n",
       "3       0.050565   0.053300   0.156042   0.060384   0.095659    10003  \n",
       "4       0.691052   0.728436   2.132580   0.825245   1.307335    10004  \n",
       "...          ...        ...        ...        ...        ...      ...  \n",
       "41600   0.000000   0.000000   0.000000   0.000000   0.000000    60088  \n",
       "41622   0.000000   0.000000   0.000000   0.000000   0.000000    60089  \n",
       "41623   0.000000   0.000000   0.000000   0.000000   0.000000    60090  \n",
       "41624   0.000000   0.000000   0.000000   0.000000   0.000000    60091  \n",
       "0       0.000000   0.000000   0.000000   0.000000   0.000000    60092  \n",
       "\n",
       "[50093 rows x 57 columns]"
      ]
     },
     "execution_count": 50,
     "metadata": {},
     "output_type": "execute_result"
    }
   ],
   "source": [
    "new_geo_key"
   ]
  },
  {
   "cell_type": "code",
   "execution_count": 51,
   "id": "09da4dfb",
   "metadata": {},
   "outputs": [
    {
     "name": "stderr",
     "output_type": "stream",
     "text": [
      "C:\\Users\\ibra1001\\Anaconda3\\envs\\qgis\\lib\\site-packages\\ipykernel_launcher.py:1: UserWarning: this is an initial implementation of Parquet/Feather file support and associated metadata.  This is tracking version 0.1.0 of the metadata specification at https://github.com/geopandas/geo-arrow-spec\n",
      "\n",
      "This metadata specification does not yet make stability promises.  We do not yet recommend using this in a production setting unless you are able to rewrite your Parquet/Feather files.\n",
      "\n",
      "To further ignore this warning, you can do: \n",
      "import warnings; warnings.filterwarnings('ignore', message='.*initial implementation of Parquet.*')\n",
      "  \"\"\"Entry point for launching an IPython kernel.\n"
     ]
    }
   ],
   "source": [
    "new_geo_key[['geo_key','partition_by','geometry']].to_parquet('boundaries.parquet')"
   ]
  },
  {
   "cell_type": "code",
   "execution_count": 52,
   "id": "1d4691df",
   "metadata": {},
   "outputs": [
    {
     "name": "stderr",
     "output_type": "stream",
     "text": [
      "C:\\Users\\ibra1001\\Anaconda3\\envs\\qgis\\lib\\site-packages\\ipykernel_launcher.py:1: UserWarning: Geometry is in a geographic CRS. Results from 'centroid' are likely incorrect. Use 'GeoSeries.to_crs()' to re-project geometries to a projected CRS before this operation.\n",
      "\n",
      "  \"\"\"Entry point for launching an IPython kernel.\n"
     ]
    }
   ],
   "source": [
    "centroids = new_geo_key.centroid\n",
    "new_geo_key['c_x']=centroids.x\n",
    "new_geo_key['c_y']=centroids.y\n",
    "new_geo_key = new_geo_key.drop(columns = ['geometry'])"
   ]
  },
  {
   "cell_type": "code",
   "execution_count": 53,
   "id": "9bb326b4",
   "metadata": {},
   "outputs": [
    {
     "name": "stderr",
     "output_type": "stream",
     "text": [
      "C:\\Users\\ibra1001\\Anaconda3\\envs\\qgis\\lib\\site-packages\\ipykernel_launcher.py:1: UserWarning: this is an initial implementation of Parquet/Feather file support and associated metadata.  This is tracking version 0.1.0 of the metadata specification at https://github.com/geopandas/geo-arrow-spec\n",
      "\n",
      "This metadata specification does not yet make stability promises.  We do not yet recommend using this in a production setting unless you are able to rewrite your Parquet/Feather files.\n",
      "\n",
      "To further ignore this warning, you can do: \n",
      "import warnings; warnings.filterwarnings('ignore', message='.*initial implementation of Parquet.*')\n",
      "  \"\"\"Entry point for launching an IPython kernel.\n"
     ]
    }
   ],
   "source": [
    "new_geo_key.to_parquet('demographics.parquet')"
   ]
  },
  {
   "cell_type": "code",
   "execution_count": 29,
   "id": "f0455ebd",
   "metadata": {},
   "outputs": [],
   "source": [
    "demo_dict = {\n",
    "'geometry' : 'last',\n",
    "'ADMINCODE':'last',\n",
    "'VALUE':'last',\n",
    "'P_T': 'last',\n",
    "'P_PRM': 'last',\n",
    "'HH_T': 'last',\n",
    "'HH_SIZE': 'mean',\n",
    "'MALE': 'last',\n",
    "'FEMALE': 'last',\n",
    "'AGE_T0004': 'last',\n",
    "'AGE_M0004': 'last',\n",
    "'AGE_F0004': 'last',\n",
    "'AGE_T0509': 'last',\n",
    "'AGE_M0509': 'last',\n",
    "'AGE_F0509': 'last',\n",
    "'AGE_T1014': 'last',\n",
    "'AGE_M1014': 'last',\n",
    "'AGE_F1014': 'last',\n",
    "'AGE_T1519': 'last',\n",
    "'AGE_M1519': 'last',\n",
    "'AGE_F1519': 'last',\n",
    "'AGE_T2024': 'last',\n",
    "'AGE_M2024': 'last',\n",
    "'AGE_F2024': 'last',\n",
    "'AGE_T2529': 'last',\n",
    "'AGE_M2529': 'last',\n",
    "'AGE_F2529': 'last',\n",
    "'AGE_T3034': 'last',\n",
    "'AGE_M3034': 'last',\n",
    "'AGE_F3034': 'last',\n",
    "'AGE_T3539': 'last',\n",
    "'AGE_M3539': 'last',\n",
    "'AGE_F3539': 'last',\n",
    "'AGE_T4044': 'last',\n",
    "'AGE_M4044': 'last',\n",
    "'AGE_F4044': 'last',\n",
    "'AGE_T4549': 'last',\n",
    "'AGE_M4549': 'last',\n",
    "'AGE_F4549': 'last',\n",
    "'AGE_T5054': 'last',\n",
    "'AGE_M5054': 'last',\n",
    "'AGE_F5054': 'last',\n",
    "'AGE_T5559': 'last',\n",
    "'AGE_M5559': 'last',\n",
    "'AGE_F5559': 'last',\n",
    "'AGE_T6064': 'last',\n",
    "'AGE_M6064': 'last',\n",
    "'AGE_F6064': 'last',\n",
    "'AGE_T6569': 'last',\n",
    "'AGE_M6569': 'last',\n",
    "'AGE_F6569': 'last',\n",
    "'AGE_T7074': 'last',\n",
    "'AGE_M7074': 'last',\n",
    "'AGE_F7074': 'last',\n",
    "'AGE_T75PL': 'last',\n",
    "'AGE_M75PL': 'last',\n",
    "'AGE_F75PL': 'last',\n",
    "\n",
    "}"
   ]
  },
  {
   "cell_type": "code",
   "execution_count": null,
   "id": "445d4a5a",
   "metadata": {},
   "outputs": [],
   "source": []
  }
 ],
 "metadata": {
  "kernelspec": {
   "display_name": "Python 3",
   "language": "python",
   "name": "python3"
  },
  "language_info": {
   "codemirror_mode": {
    "name": "ipython",
    "version": 3
   },
   "file_extension": ".py",
   "mimetype": "text/x-python",
   "name": "python",
   "nbconvert_exporter": "python",
   "pygments_lexer": "ipython3",
   "version": "3.8.6"
  }
 },
 "nbformat": 4,
 "nbformat_minor": 5
}
