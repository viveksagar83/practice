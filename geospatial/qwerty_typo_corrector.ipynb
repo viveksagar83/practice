{
 "cells": [
  {
   "cell_type": "markdown",
   "id": "thousand-watson",
   "metadata": {},
   "source": [
    "# Keyboard Typo Corrector"
   ]
  },
  {
   "cell_type": "markdown",
   "id": "missing-scheme",
   "metadata": {},
   "source": [
    "**Reference**\n",
    "- Dijkstras algorithm for Shortest path: https://likegeeks.com/python-dijkstras-algorithm/\n",
    "- Keyboard layout: https://www.typingpal.com/en/news/what-is-the-difference-between-QWERTY-QWERTZ-and-AZERTY-keyboards\n",
    "\n",
    "**Finding shortest path**\n",
    "- Dijkstra’s algorithm\n",
    "- Bellman-Ford algorithm\n",
    "- Floyd-Warshall algorithm\n",
    "- Johnson’s algorithm"
   ]
  },
  {
   "cell_type": "markdown",
   "id": "micro-corpus",
   "metadata": {},
   "source": [
    "---"
   ]
  },
  {
   "cell_type": "markdown",
   "id": "painted-spectacular",
   "metadata": {},
   "source": [
    "## Import modules"
   ]
  },
  {
   "cell_type": "code",
   "execution_count": 1,
   "id": "verified-facial",
   "metadata": {},
   "outputs": [],
   "source": [
    "# Module for collection manipulation\n",
    "from collections import defaultdict"
   ]
  },
  {
   "cell_type": "markdown",
   "id": "transparent-junction",
   "metadata": {},
   "source": [
    "## Convert data into graph representation"
   ]
  },
  {
   "cell_type": "code",
   "execution_count": 2,
   "id": "effective-fairy",
   "metadata": {},
   "outputs": [],
   "source": [
    "# Dictionary for QWERTY keyboard\n",
    "dict_qwerty = {\n",
    "    'Q': [['Q', 'W'], ['Q', 'S'], ['Q', 'A']],\n",
    "    'A': [['A', 'W'], ['A', 'Q'], ['Q', 'S'], ['A', 'Z'], ['A', 'X']],\n",
    "    'Z': [['Z', 'A'], ['Z', 'S'], ['Z', 'X']],\n",
    "    'W': [['W', 'Q'], ['W', 'A'], ['W', 'S'], ['W', 'D'], ['W', 'E']],\n",
    "    'S': [['S', 'Q'], ['S', 'W'], ['S', 'E'], ['S', 'A'], ['S', 'D'], ['S', 'Z'], ['S', 'X'], ['S', 'C']],\n",
    "    'X': [['X', 'Z'], ['X', 'A'], ['X', 'S'], ['X', 'D'], ['X', 'C']],\n",
    "    'E': [['E', 'W'], ['E', 'S'], ['E', 'D'], ['E', 'F'], ['E', 'R']],\n",
    "    'D': [['D', 'W'], ['D', 'E'], ['D', 'R'], ['D', 'S'], ['D', 'F'], ['D', 'X'], ['D', 'C'], ['D', 'V']],\n",
    "    'R': [['R', 'E'], ['R', 'D'], ['R', 'F'], ['R', 'G'], ['R', 'T']],\n",
    "    'F': [['F', 'E'], ['F', 'R'], ['F', 'T'], ['F', 'D'], ['F', 'G'], ['F', 'C'], ['F', 'V'], ['F', 'B']],\n",
    "    'V': [['V', 'D'], ['V', 'F'], ['V', 'G'], ['V', 'C'], ['V', 'B']],\n",
    "    'T': [['T', 'R'], ['T', 'Y'], ['T', 'F'], ['T', 'G'], ['T', 'H']],\n",
    "    'G': [['G', 'R'], ['G', 'T'], ['G', 'Y'], ['G', 'F'], ['G', 'H'], ['G', 'V'], ['G', 'B'], ['G', 'N']],\n",
    "    'B': [['B', 'F'], ['B', 'G'], ['B', 'H'], ['B', 'V'], ['B', 'N']],\n",
    "    'Y': [['Y', 'T'], ['Y', 'U'], ['Y', 'G'], ['Y', 'H'], ['Y', 'J']],\n",
    "    'H': [['H', 'T'], ['H', 'Y'], ['H', 'U'], ['H', 'G'], ['H', 'J'], ['H', 'B'], ['H', 'N'], ['H', 'M']],\n",
    "    'N': [['N', 'G'], ['N', 'H'], ['N', 'J'], ['N', 'B'], ['N', 'M']],\n",
    "    'U': [['U', 'Y'], ['U', 'I'], ['U', 'H'], ['U', 'J'], ['U', 'K']],\n",
    "    'J': [['J', 'Y'], ['J', 'U'], ['J', 'I'], ['J', 'H'], ['J', 'K'], ['J', 'N'], ['J', 'M']],\n",
    "    'M': [['M', 'H'], ['M', 'J'], ['M', 'K'], ['M', 'N']],\n",
    "    'I': [['I', 'U'], ['I', 'O'], ['I', 'J'], ['I', 'K'], ['I', 'L']],\n",
    "    'K': [['K', 'U'], ['K', 'I'], ['K', 'O'], ['K', 'J'], ['K', 'L'], ['K', 'M']],\n",
    "    'O': [['O', 'I'], ['O', 'P'], ['O', 'K'], ['O', 'L']],\n",
    "    'L': [['L', 'I'], ['L', 'O'], ['L', 'P'], ['L', 'K']],\n",
    "    'P': [['P', 'O'], ['P', 'L']]\n",
    "}"
   ]
  },
  {
   "cell_type": "code",
   "execution_count": 3,
   "id": "significant-request",
   "metadata": {},
   "outputs": [],
   "source": [
    "# Get all values from dictionary without distance\n",
    "edges_without_distance = []\n",
    "for key in dict_qwerty.keys():\n",
    "    for elem in dict_qwerty[key]:\n",
    "        edges_without_distance.append(elem)"
   ]
  },
  {
   "cell_type": "code",
   "execution_count": 4,
   "id": "municipal-surge",
   "metadata": {
    "scrolled": true
   },
   "outputs": [
    {
     "data": {
      "text/plain": [
       "133"
      ]
     },
     "execution_count": 4,
     "metadata": {},
     "output_type": "execute_result"
    }
   ],
   "source": [
    "len(edges_without_distance)"
   ]
  },
  {
   "cell_type": "code",
   "execution_count": 5,
   "id": "caring-strain",
   "metadata": {},
   "outputs": [
    {
     "data": {
      "text/plain": [
       "[['Q', 'W'],\n",
       " ['Q', 'S'],\n",
       " ['Q', 'A'],\n",
       " ['A', 'W'],\n",
       " ['A', 'Q'],\n",
       " ['Q', 'S'],\n",
       " ['A', 'Z'],\n",
       " ['A', 'X'],\n",
       " ['Z', 'A'],\n",
       " ['Z', 'S'],\n",
       " ['Z', 'X'],\n",
       " ['W', 'Q'],\n",
       " ['W', 'A'],\n",
       " ['W', 'S'],\n",
       " ['W', 'D'],\n",
       " ['W', 'E'],\n",
       " ['S', 'Q'],\n",
       " ['S', 'W'],\n",
       " ['S', 'E'],\n",
       " ['S', 'A'],\n",
       " ['S', 'D'],\n",
       " ['S', 'Z'],\n",
       " ['S', 'X'],\n",
       " ['S', 'C'],\n",
       " ['X', 'Z'],\n",
       " ['X', 'A'],\n",
       " ['X', 'S'],\n",
       " ['X', 'D'],\n",
       " ['X', 'C'],\n",
       " ['E', 'W'],\n",
       " ['E', 'S'],\n",
       " ['E', 'D'],\n",
       " ['E', 'F'],\n",
       " ['E', 'R'],\n",
       " ['D', 'W'],\n",
       " ['D', 'E'],\n",
       " ['D', 'R'],\n",
       " ['D', 'S'],\n",
       " ['D', 'F'],\n",
       " ['D', 'X'],\n",
       " ['D', 'C'],\n",
       " ['D', 'V'],\n",
       " ['R', 'E'],\n",
       " ['R', 'D'],\n",
       " ['R', 'F'],\n",
       " ['R', 'G'],\n",
       " ['R', 'T'],\n",
       " ['F', 'E'],\n",
       " ['F', 'R'],\n",
       " ['F', 'T'],\n",
       " ['F', 'D'],\n",
       " ['F', 'G'],\n",
       " ['F', 'C'],\n",
       " ['F', 'V'],\n",
       " ['F', 'B'],\n",
       " ['V', 'D'],\n",
       " ['V', 'F'],\n",
       " ['V', 'G'],\n",
       " ['V', 'C'],\n",
       " ['V', 'B'],\n",
       " ['T', 'R'],\n",
       " ['T', 'Y'],\n",
       " ['T', 'F'],\n",
       " ['T', 'G'],\n",
       " ['T', 'H'],\n",
       " ['G', 'R'],\n",
       " ['G', 'T'],\n",
       " ['G', 'Y'],\n",
       " ['G', 'F'],\n",
       " ['G', 'H'],\n",
       " ['G', 'V'],\n",
       " ['G', 'B'],\n",
       " ['G', 'N'],\n",
       " ['B', 'F'],\n",
       " ['B', 'G'],\n",
       " ['B', 'H'],\n",
       " ['B', 'V'],\n",
       " ['B', 'N'],\n",
       " ['Y', 'T'],\n",
       " ['Y', 'U'],\n",
       " ['Y', 'G'],\n",
       " ['Y', 'H'],\n",
       " ['Y', 'J'],\n",
       " ['H', 'T'],\n",
       " ['H', 'Y'],\n",
       " ['H', 'U'],\n",
       " ['H', 'G'],\n",
       " ['H', 'J'],\n",
       " ['H', 'B'],\n",
       " ['H', 'N'],\n",
       " ['H', 'M'],\n",
       " ['N', 'G'],\n",
       " ['N', 'H'],\n",
       " ['N', 'J'],\n",
       " ['N', 'B'],\n",
       " ['N', 'M'],\n",
       " ['U', 'Y'],\n",
       " ['U', 'I'],\n",
       " ['U', 'H'],\n",
       " ['U', 'J'],\n",
       " ['U', 'K'],\n",
       " ['J', 'Y'],\n",
       " ['J', 'U'],\n",
       " ['J', 'I'],\n",
       " ['J', 'H'],\n",
       " ['J', 'K'],\n",
       " ['J', 'N'],\n",
       " ['J', 'M'],\n",
       " ['M', 'H'],\n",
       " ['M', 'J'],\n",
       " ['M', 'K'],\n",
       " ['M', 'N'],\n",
       " ['I', 'U'],\n",
       " ['I', 'O'],\n",
       " ['I', 'J'],\n",
       " ['I', 'K'],\n",
       " ['I', 'L'],\n",
       " ['K', 'U'],\n",
       " ['K', 'I'],\n",
       " ['K', 'O'],\n",
       " ['K', 'J'],\n",
       " ['K', 'L'],\n",
       " ['K', 'M'],\n",
       " ['O', 'I'],\n",
       " ['O', 'P'],\n",
       " ['O', 'K'],\n",
       " ['O', 'L'],\n",
       " ['L', 'I'],\n",
       " ['L', 'O'],\n",
       " ['L', 'P'],\n",
       " ['L', 'K'],\n",
       " ['P', 'O'],\n",
       " ['P', 'L']]"
      ]
     },
     "execution_count": 5,
     "metadata": {},
     "output_type": "execute_result"
    }
   ],
   "source": [
    "edges_without_distance"
   ]
  },
  {
   "cell_type": "code",
   "execution_count": 6,
   "id": "declared-aberdeen",
   "metadata": {},
   "outputs": [],
   "source": [
    "# Get all values from dictionary with distance\n",
    "edges_with_distance = []\n",
    "for key in dict_qwerty.keys():\n",
    "    for elem in dict_qwerty[key]:\n",
    "        new_elem = elem + [1]\n",
    "        edges_with_distance.append(new_elem)"
   ]
  },
  {
   "cell_type": "code",
   "execution_count": 7,
   "id": "impressed-ballet",
   "metadata": {},
   "outputs": [
    {
     "data": {
      "text/plain": [
       "[['Q', 'W', 1],\n",
       " ['Q', 'S', 1],\n",
       " ['Q', 'A', 1],\n",
       " ['A', 'W', 1],\n",
       " ['A', 'Q', 1],\n",
       " ['Q', 'S', 1],\n",
       " ['A', 'Z', 1],\n",
       " ['A', 'X', 1],\n",
       " ['Z', 'A', 1],\n",
       " ['Z', 'S', 1],\n",
       " ['Z', 'X', 1],\n",
       " ['W', 'Q', 1],\n",
       " ['W', 'A', 1],\n",
       " ['W', 'S', 1],\n",
       " ['W', 'D', 1],\n",
       " ['W', 'E', 1],\n",
       " ['S', 'Q', 1],\n",
       " ['S', 'W', 1],\n",
       " ['S', 'E', 1],\n",
       " ['S', 'A', 1],\n",
       " ['S', 'D', 1],\n",
       " ['S', 'Z', 1],\n",
       " ['S', 'X', 1],\n",
       " ['S', 'C', 1],\n",
       " ['X', 'Z', 1],\n",
       " ['X', 'A', 1],\n",
       " ['X', 'S', 1],\n",
       " ['X', 'D', 1],\n",
       " ['X', 'C', 1],\n",
       " ['E', 'W', 1],\n",
       " ['E', 'S', 1],\n",
       " ['E', 'D', 1],\n",
       " ['E', 'F', 1],\n",
       " ['E', 'R', 1],\n",
       " ['D', 'W', 1],\n",
       " ['D', 'E', 1],\n",
       " ['D', 'R', 1],\n",
       " ['D', 'S', 1],\n",
       " ['D', 'F', 1],\n",
       " ['D', 'X', 1],\n",
       " ['D', 'C', 1],\n",
       " ['D', 'V', 1],\n",
       " ['R', 'E', 1],\n",
       " ['R', 'D', 1],\n",
       " ['R', 'F', 1],\n",
       " ['R', 'G', 1],\n",
       " ['R', 'T', 1],\n",
       " ['F', 'E', 1],\n",
       " ['F', 'R', 1],\n",
       " ['F', 'T', 1],\n",
       " ['F', 'D', 1],\n",
       " ['F', 'G', 1],\n",
       " ['F', 'C', 1],\n",
       " ['F', 'V', 1],\n",
       " ['F', 'B', 1],\n",
       " ['V', 'D', 1],\n",
       " ['V', 'F', 1],\n",
       " ['V', 'G', 1],\n",
       " ['V', 'C', 1],\n",
       " ['V', 'B', 1],\n",
       " ['T', 'R', 1],\n",
       " ['T', 'Y', 1],\n",
       " ['T', 'F', 1],\n",
       " ['T', 'G', 1],\n",
       " ['T', 'H', 1],\n",
       " ['G', 'R', 1],\n",
       " ['G', 'T', 1],\n",
       " ['G', 'Y', 1],\n",
       " ['G', 'F', 1],\n",
       " ['G', 'H', 1],\n",
       " ['G', 'V', 1],\n",
       " ['G', 'B', 1],\n",
       " ['G', 'N', 1],\n",
       " ['B', 'F', 1],\n",
       " ['B', 'G', 1],\n",
       " ['B', 'H', 1],\n",
       " ['B', 'V', 1],\n",
       " ['B', 'N', 1],\n",
       " ['Y', 'T', 1],\n",
       " ['Y', 'U', 1],\n",
       " ['Y', 'G', 1],\n",
       " ['Y', 'H', 1],\n",
       " ['Y', 'J', 1],\n",
       " ['H', 'T', 1],\n",
       " ['H', 'Y', 1],\n",
       " ['H', 'U', 1],\n",
       " ['H', 'G', 1],\n",
       " ['H', 'J', 1],\n",
       " ['H', 'B', 1],\n",
       " ['H', 'N', 1],\n",
       " ['H', 'M', 1],\n",
       " ['N', 'G', 1],\n",
       " ['N', 'H', 1],\n",
       " ['N', 'J', 1],\n",
       " ['N', 'B', 1],\n",
       " ['N', 'M', 1],\n",
       " ['U', 'Y', 1],\n",
       " ['U', 'I', 1],\n",
       " ['U', 'H', 1],\n",
       " ['U', 'J', 1],\n",
       " ['U', 'K', 1],\n",
       " ['J', 'Y', 1],\n",
       " ['J', 'U', 1],\n",
       " ['J', 'I', 1],\n",
       " ['J', 'H', 1],\n",
       " ['J', 'K', 1],\n",
       " ['J', 'N', 1],\n",
       " ['J', 'M', 1],\n",
       " ['M', 'H', 1],\n",
       " ['M', 'J', 1],\n",
       " ['M', 'K', 1],\n",
       " ['M', 'N', 1],\n",
       " ['I', 'U', 1],\n",
       " ['I', 'O', 1],\n",
       " ['I', 'J', 1],\n",
       " ['I', 'K', 1],\n",
       " ['I', 'L', 1],\n",
       " ['K', 'U', 1],\n",
       " ['K', 'I', 1],\n",
       " ['K', 'O', 1],\n",
       " ['K', 'J', 1],\n",
       " ['K', 'L', 1],\n",
       " ['K', 'M', 1],\n",
       " ['O', 'I', 1],\n",
       " ['O', 'P', 1],\n",
       " ['O', 'K', 1],\n",
       " ['O', 'L', 1],\n",
       " ['L', 'I', 1],\n",
       " ['L', 'O', 1],\n",
       " ['L', 'P', 1],\n",
       " ['L', 'K', 1],\n",
       " ['P', 'O', 1],\n",
       " ['P', 'L', 1]]"
      ]
     },
     "execution_count": 7,
     "metadata": {},
     "output_type": "execute_result"
    }
   ],
   "source": [
    "edges_with_distance"
   ]
  },
  {
   "cell_type": "markdown",
   "id": "outside-container",
   "metadata": {},
   "source": [
    "## Function for shortest pathfinding"
   ]
  },
  {
   "cell_type": "markdown",
   "id": "spoken-process",
   "metadata": {},
   "source": [
    "**Input**\n",
    "- Edges\n",
    "- Starting point\n",
    "- Destination point\n",
    "\n",
    "**Output**\n",
    "- Shortest path\n",
    "- Distance\n",
    "\n",
    "**Source**\n",
    "- https://gist.github.com/dingran/b827b65a252000e25d818ba3520242e1"
   ]
  },
  {
   "cell_type": "markdown",
   "id": "assumed-distribution",
   "metadata": {},
   "source": [
    "**Functions**"
   ]
  },
  {
   "cell_type": "code",
   "execution_count": 8,
   "id": "finished-craps",
   "metadata": {},
   "outputs": [],
   "source": [
    "# Build the graph\n",
    "def build_graph(edge_list):\n",
    "    graph = defaultdict(list)\n",
    "    seen_edges = defaultdict(int)\n",
    "    for src, dst, weight in edge_list:\n",
    "        seen_edges[(src, dst, weight)] += 1\n",
    "        if seen_edges[(src, dst, weight)] > 1:\n",
    "            continue\n",
    "        graph[src].append((dst, weight))\n",
    "        graph[dst].append((src, weight))\n",
    "    return graph\n",
    "\n",
    "# Dijkstra algorithm\n",
    "def dijkstra(graph, src, dst = None):\n",
    "    nodes = []\n",
    "    for n in graph:\n",
    "        nodes.append(n)\n",
    "        nodes += [x[0] for x in graph[n]]\n",
    "\n",
    "    q = set(nodes)\n",
    "    nodes = list(q)\n",
    "    dist = dict()\n",
    "    prev = dict()\n",
    "    for n in nodes:\n",
    "        dist[n] = float('inf')\n",
    "        prev[n] = None\n",
    "\n",
    "    dist[src] = 0\n",
    "\n",
    "    while q:\n",
    "        u = min(q, key=dist.get)\n",
    "        q.remove(u)\n",
    "\n",
    "        if dst is not None and u == dst:\n",
    "            return dist[dst], prev\n",
    "\n",
    "        for v, w in graph.get(u, ()):\n",
    "            alt = dist[u] + w\n",
    "            if alt < dist[v]:\n",
    "                dist[v] = alt\n",
    "                prev[v] = u\n",
    "\n",
    "    return dist, prev\n",
    "\n",
    "# Find shortest path\n",
    "def find_path(pr, node):\n",
    "    p = []\n",
    "    while node is not None:\n",
    "        p.append(node)\n",
    "        node = pr[node]\n",
    "    return p[::-1]"
   ]
  },
  {
   "cell_type": "markdown",
   "id": "toxic-capability",
   "metadata": {},
   "source": [
    "**Theoretical implementation**"
   ]
  },
  {
   "cell_type": "code",
   "execution_count": 9,
   "id": "included-gambling",
   "metadata": {
    "scrolled": true
   },
   "outputs": [],
   "source": [
    "# List of edges\n",
    "edges = [\n",
    "    ('A', 'B', 7),\n",
    "    ('A', 'D', 5),\n",
    "    ('B', 'C', 8),\n",
    "    ('B', 'D', 9),\n",
    "    ('B', 'E', 7),\n",
    "    ('C', 'E', 5),\n",
    "    ('D', 'E', 15),\n",
    "    ('D', 'F', 6),\n",
    "    ('E', 'F', 8),\n",
    "    ('E', 'G', 9),\n",
    "    ('F', 'G', 11)\n",
    "]\n",
    "\n",
    "# Create a graph\n",
    "g = build_graph(edges)"
   ]
  },
  {
   "cell_type": "code",
   "execution_count": 10,
   "id": "rural-behalf",
   "metadata": {},
   "outputs": [
    {
     "name": "stdout",
     "output_type": "stream",
     "text": [
      "--- Single source, single destination ---\n",
      "A -> E: distance = 14, path = ['A', 'B', 'E']\n",
      "F -> G: distance = 11, path = ['F', 'G']\n"
     ]
    }
   ],
   "source": [
    "# Single source, single destination\n",
    "print('--- Single source, single destination ---')\n",
    "d, prev = dijkstra(g, 'A', 'E')\n",
    "path = find_path(prev, 'E')\n",
    "print('A -> E: distance = {}, path = {}'.format(d, path))\n",
    "\n",
    "d, prev = dijkstra(g, 'F', 'G')\n",
    "path = find_path(prev, 'G')\n",
    "print('F -> G: distance = {}, path = {}'.format(d, path))"
   ]
  },
  {
   "cell_type": "code",
   "execution_count": 11,
   "id": "embedded-radius",
   "metadata": {},
   "outputs": [
    {
     "name": "stdout",
     "output_type": "stream",
     "text": [
      "--- Single source, all destinations ---\n",
      "A -> E: distance = 14, path = ['A', 'B', 'E']\n",
      "A -> F: distance = 11, path = ['A', 'D', 'F']\n",
      "A -> A: distance = 0, path = ['A']\n",
      "A -> B: distance = 7, path = ['A', 'B']\n",
      "A -> D: distance = 5, path = ['A', 'D']\n",
      "A -> G: distance = 22, path = ['A', 'D', 'F', 'G']\n",
      "A -> C: distance = 15, path = ['A', 'B', 'C']\n"
     ]
    }
   ],
   "source": [
    "# Single source, all destinations\n",
    "print('--- Single source, all destinations ---')\n",
    "ds, prev = dijkstra(g, 'A')\n",
    "for k in ds:\n",
    "    path = find_path(prev, k)\n",
    "    print('A -> {}: distance = {}, path = {}'.format(k, ds[k], path))"
   ]
  },
  {
   "cell_type": "markdown",
   "id": "rational-lingerie",
   "metadata": {},
   "source": [
    "**Real implementation on keyboard**"
   ]
  },
  {
   "cell_type": "code",
   "execution_count": 12,
   "id": "sensitive-cooperation",
   "metadata": {},
   "outputs": [
    {
     "data": {
      "text/plain": [
       "defaultdict(list,\n",
       "            {'Q': [('W', 1), ('S', 1), ('A', 1), ('A', 1), ('W', 1), ('S', 1)],\n",
       "             'W': [('Q', 1),\n",
       "              ('A', 1),\n",
       "              ('Q', 1),\n",
       "              ('A', 1),\n",
       "              ('S', 1),\n",
       "              ('D', 1),\n",
       "              ('E', 1),\n",
       "              ('S', 1),\n",
       "              ('E', 1),\n",
       "              ('D', 1)],\n",
       "             'S': [('Q', 1),\n",
       "              ('Z', 1),\n",
       "              ('W', 1),\n",
       "              ('Q', 1),\n",
       "              ('W', 1),\n",
       "              ('E', 1),\n",
       "              ('A', 1),\n",
       "              ('D', 1),\n",
       "              ('Z', 1),\n",
       "              ('X', 1),\n",
       "              ('C', 1),\n",
       "              ('X', 1),\n",
       "              ('E', 1),\n",
       "              ('D', 1)],\n",
       "             'A': [('Q', 1),\n",
       "              ('W', 1),\n",
       "              ('Q', 1),\n",
       "              ('Z', 1),\n",
       "              ('X', 1),\n",
       "              ('Z', 1),\n",
       "              ('W', 1),\n",
       "              ('S', 1),\n",
       "              ('X', 1)],\n",
       "             'Z': [('A', 1), ('A', 1), ('S', 1), ('X', 1), ('S', 1), ('X', 1)],\n",
       "             'X': [('A', 1),\n",
       "              ('Z', 1),\n",
       "              ('S', 1),\n",
       "              ('Z', 1),\n",
       "              ('A', 1),\n",
       "              ('S', 1),\n",
       "              ('D', 1),\n",
       "              ('C', 1),\n",
       "              ('D', 1)],\n",
       "             'D': [('W', 1),\n",
       "              ('S', 1),\n",
       "              ('X', 1),\n",
       "              ('E', 1),\n",
       "              ('W', 1),\n",
       "              ('E', 1),\n",
       "              ('R', 1),\n",
       "              ('S', 1),\n",
       "              ('F', 1),\n",
       "              ('X', 1),\n",
       "              ('C', 1),\n",
       "              ('V', 1),\n",
       "              ('R', 1),\n",
       "              ('F', 1),\n",
       "              ('V', 1)],\n",
       "             'E': [('W', 1),\n",
       "              ('S', 1),\n",
       "              ('W', 1),\n",
       "              ('S', 1),\n",
       "              ('D', 1),\n",
       "              ('F', 1),\n",
       "              ('R', 1),\n",
       "              ('D', 1),\n",
       "              ('R', 1),\n",
       "              ('F', 1)],\n",
       "             'C': [('S', 1), ('X', 1), ('D', 1), ('F', 1), ('V', 1)],\n",
       "             'F': [('E', 1),\n",
       "              ('D', 1),\n",
       "              ('R', 1),\n",
       "              ('E', 1),\n",
       "              ('R', 1),\n",
       "              ('T', 1),\n",
       "              ('D', 1),\n",
       "              ('G', 1),\n",
       "              ('C', 1),\n",
       "              ('V', 1),\n",
       "              ('B', 1),\n",
       "              ('V', 1),\n",
       "              ('T', 1),\n",
       "              ('G', 1),\n",
       "              ('B', 1)],\n",
       "             'R': [('E', 1),\n",
       "              ('D', 1),\n",
       "              ('E', 1),\n",
       "              ('D', 1),\n",
       "              ('F', 1),\n",
       "              ('G', 1),\n",
       "              ('T', 1),\n",
       "              ('F', 1),\n",
       "              ('T', 1),\n",
       "              ('G', 1)],\n",
       "             'V': [('D', 1),\n",
       "              ('F', 1),\n",
       "              ('D', 1),\n",
       "              ('F', 1),\n",
       "              ('G', 1),\n",
       "              ('C', 1),\n",
       "              ('B', 1),\n",
       "              ('G', 1),\n",
       "              ('B', 1)],\n",
       "             'G': [('R', 1),\n",
       "              ('F', 1),\n",
       "              ('V', 1),\n",
       "              ('T', 1),\n",
       "              ('R', 1),\n",
       "              ('T', 1),\n",
       "              ('Y', 1),\n",
       "              ('F', 1),\n",
       "              ('H', 1),\n",
       "              ('V', 1),\n",
       "              ('B', 1),\n",
       "              ('N', 1),\n",
       "              ('B', 1),\n",
       "              ('Y', 1),\n",
       "              ('H', 1),\n",
       "              ('N', 1)],\n",
       "             'T': [('R', 1),\n",
       "              ('F', 1),\n",
       "              ('R', 1),\n",
       "              ('Y', 1),\n",
       "              ('F', 1),\n",
       "              ('G', 1),\n",
       "              ('H', 1),\n",
       "              ('G', 1),\n",
       "              ('Y', 1),\n",
       "              ('H', 1)],\n",
       "             'B': [('F', 1),\n",
       "              ('V', 1),\n",
       "              ('G', 1),\n",
       "              ('F', 1),\n",
       "              ('G', 1),\n",
       "              ('H', 1),\n",
       "              ('V', 1),\n",
       "              ('N', 1),\n",
       "              ('H', 1),\n",
       "              ('N', 1)],\n",
       "             'Y': [('T', 1),\n",
       "              ('G', 1),\n",
       "              ('T', 1),\n",
       "              ('U', 1),\n",
       "              ('G', 1),\n",
       "              ('H', 1),\n",
       "              ('J', 1),\n",
       "              ('H', 1),\n",
       "              ('U', 1),\n",
       "              ('J', 1)],\n",
       "             'H': [('T', 1),\n",
       "              ('G', 1),\n",
       "              ('B', 1),\n",
       "              ('Y', 1),\n",
       "              ('T', 1),\n",
       "              ('Y', 1),\n",
       "              ('U', 1),\n",
       "              ('G', 1),\n",
       "              ('J', 1),\n",
       "              ('B', 1),\n",
       "              ('N', 1),\n",
       "              ('M', 1),\n",
       "              ('N', 1),\n",
       "              ('U', 1),\n",
       "              ('J', 1),\n",
       "              ('M', 1)],\n",
       "             'N': [('G', 1),\n",
       "              ('B', 1),\n",
       "              ('H', 1),\n",
       "              ('G', 1),\n",
       "              ('H', 1),\n",
       "              ('J', 1),\n",
       "              ('B', 1),\n",
       "              ('M', 1),\n",
       "              ('J', 1),\n",
       "              ('M', 1)],\n",
       "             'U': [('Y', 1),\n",
       "              ('H', 1),\n",
       "              ('Y', 1),\n",
       "              ('I', 1),\n",
       "              ('H', 1),\n",
       "              ('J', 1),\n",
       "              ('K', 1),\n",
       "              ('J', 1),\n",
       "              ('I', 1),\n",
       "              ('K', 1)],\n",
       "             'J': [('Y', 1),\n",
       "              ('H', 1),\n",
       "              ('N', 1),\n",
       "              ('U', 1),\n",
       "              ('Y', 1),\n",
       "              ('U', 1),\n",
       "              ('I', 1),\n",
       "              ('H', 1),\n",
       "              ('K', 1),\n",
       "              ('N', 1),\n",
       "              ('M', 1),\n",
       "              ('M', 1),\n",
       "              ('I', 1),\n",
       "              ('K', 1)],\n",
       "             'M': [('H', 1),\n",
       "              ('N', 1),\n",
       "              ('J', 1),\n",
       "              ('H', 1),\n",
       "              ('J', 1),\n",
       "              ('K', 1),\n",
       "              ('N', 1),\n",
       "              ('K', 1)],\n",
       "             'I': [('U', 1),\n",
       "              ('J', 1),\n",
       "              ('U', 1),\n",
       "              ('O', 1),\n",
       "              ('J', 1),\n",
       "              ('K', 1),\n",
       "              ('L', 1),\n",
       "              ('K', 1),\n",
       "              ('O', 1),\n",
       "              ('L', 1)],\n",
       "             'K': [('U', 1),\n",
       "              ('J', 1),\n",
       "              ('M', 1),\n",
       "              ('I', 1),\n",
       "              ('U', 1),\n",
       "              ('I', 1),\n",
       "              ('O', 1),\n",
       "              ('J', 1),\n",
       "              ('L', 1),\n",
       "              ('M', 1),\n",
       "              ('O', 1),\n",
       "              ('L', 1)],\n",
       "             'O': [('I', 1),\n",
       "              ('K', 1),\n",
       "              ('I', 1),\n",
       "              ('P', 1),\n",
       "              ('K', 1),\n",
       "              ('L', 1),\n",
       "              ('L', 1),\n",
       "              ('P', 1)],\n",
       "             'L': [('I', 1),\n",
       "              ('K', 1),\n",
       "              ('O', 1),\n",
       "              ('I', 1),\n",
       "              ('O', 1),\n",
       "              ('P', 1),\n",
       "              ('K', 1),\n",
       "              ('P', 1)],\n",
       "             'P': [('O', 1), ('L', 1), ('O', 1), ('L', 1)]})"
      ]
     },
     "execution_count": 12,
     "metadata": {},
     "output_type": "execute_result"
    }
   ],
   "source": [
    "graph = build_graph(edges_with_distance)\n",
    "graph"
   ]
  },
  {
   "cell_type": "code",
   "execution_count": 13,
   "id": "rising-matthew",
   "metadata": {},
   "outputs": [
    {
     "name": "stdout",
     "output_type": "stream",
     "text": [
      "A -> E: distance = 2, path = ['A', 'S', 'E']\n"
     ]
    }
   ],
   "source": [
    "d, prev = dijkstra(graph, 'A', 'E')\n",
    "path = find_path(prev, 'E')\n",
    "print('A -> E: distance = {}, path = {}'.format(d, path))"
   ]
  },
  {
   "cell_type": "markdown",
   "id": "medical-stupid",
   "metadata": {},
   "source": [
    "## Function for string comparison"
   ]
  },
  {
   "cell_type": "markdown",
   "id": "representative-princess",
   "metadata": {},
   "source": [
    "**Input**\n",
    "- First string\n",
    "- Second string\n",
    "\n",
    "**Output**\n",
    "- List of position"
   ]
  },
  {
   "cell_type": "code",
   "execution_count": 14,
   "id": "leading-blake",
   "metadata": {},
   "outputs": [
    {
     "data": {
      "text/plain": [
       "[1]"
      ]
     },
     "execution_count": 14,
     "metadata": {},
     "output_type": "execute_result"
    }
   ],
   "source": [
    "s1 = 'WATCH'\n",
    "s2 = 'WITCH'\n",
    "[i for i in range(len(s1)) if s1[i] != s2[i]]"
   ]
  },
  {
   "cell_type": "markdown",
   "id": "objective-angel",
   "metadata": {},
   "source": [
    "## Core functions"
   ]
  },
  {
   "cell_type": "markdown",
   "id": "prepared-signature",
   "metadata": {},
   "source": [
    "**Input**\n",
    "- Typo string\n",
    "- List of candidate strings\n",
    "\n",
    "**Output**\n",
    "- Dictionary that contains string and distance"
   ]
  },
  {
   "cell_type": "code",
   "execution_count": 15,
   "id": "qualified-petite",
   "metadata": {},
   "outputs": [],
   "source": [
    "def keyboard_corrector(graph, typo, strings):\n",
    "    # Dictionary of distance\n",
    "    dic_dist = {i:0 for i in strings}\n",
    "    # Calculate the distance\n",
    "    for string in strings:\n",
    "        try:\n",
    "            index = [i for i in range(len(typo)) if typo[i] != string[i]]\n",
    "            distance = 0\n",
    "            for i in index:\n",
    "                d, prev = dijkstra(graph = graph, src = typo[i], dst = string[i])\n",
    "                distance += d\n",
    "            dic_dist.update({string: distance})\n",
    "        except:\n",
    "            pass\n",
    "    return dic_dist"
   ]
  },
  {
   "cell_type": "code",
   "execution_count": 16,
   "id": "knowing-awareness",
   "metadata": {
    "scrolled": true
   },
   "outputs": [
    {
     "data": {
      "text/plain": [
       "{'WATCH': 2, 'WITCH': 5}"
      ]
     },
     "execution_count": 16,
     "metadata": {},
     "output_type": "execute_result"
    }
   ],
   "source": [
    "keyboard_corrector(graph = graph, typo = 'WETCH', strings = ['WATCH', 'WITCH'])"
   ]
  },
  {
   "cell_type": "markdown",
   "id": "returning-supplier",
   "metadata": {},
   "source": [
    "---"
   ]
  },
  {
   "cell_type": "markdown",
   "id": "double-raleigh",
   "metadata": {},
   "source": [
    "## Graph representation"
   ]
  },
  {
   "cell_type": "code",
   "execution_count": 17,
   "id": "several-humidity",
   "metadata": {},
   "outputs": [],
   "source": [
    "# Module for network analysis\n",
    "import networkx as nx\n",
    "# Module for data viz\n",
    "import matplotlib.pyplot as plt"
   ]
  },
  {
   "cell_type": "code",
   "execution_count": 18,
   "id": "illegal-binary",
   "metadata": {},
   "outputs": [],
   "source": [
    "# Dictionary for QWERTY keyboard\n",
    "dict_sample = {\n",
    "    'A': [['A', 'B', 2], ['A', 'C', 3], ['A', 'D', 1]],\n",
    "    'B': [['B', 'C', 2], ['B', 'E', 3]],\n",
    "    'C': [['C', 'E', 1]],\n",
    "    'D': [['D', 'E', 5]]\n",
    "}"
   ]
  },
  {
   "cell_type": "code",
   "execution_count": 19,
   "id": "vocal-skill",
   "metadata": {},
   "outputs": [],
   "source": [
    "# Get all values from dictionary without distance\n",
    "edges_sample = []\n",
    "for key in dict_sample.keys():\n",
    "    for elem in dict_sample[key]:\n",
    "        edges_sample.append(elem)"
   ]
  },
  {
   "cell_type": "code",
   "execution_count": 20,
   "id": "sufficient-woman",
   "metadata": {},
   "outputs": [],
   "source": [
    "# Represent it to graph\n",
    "graph_with_distance = defaultdict(dict)\n",
    "for row in edges_sample:\n",
    "    graph_with_distance[row[0]][row[1]] = row[2]\n",
    "    graph_with_distance[row[1]][row[0]] = row[2]"
   ]
  },
  {
   "cell_type": "code",
   "execution_count": 21,
   "id": "reliable-circuit",
   "metadata": {},
   "outputs": [
    {
     "data": {
      "text/plain": [
       "defaultdict(dict,\n",
       "            {'A': {'B': 2, 'C': 3, 'D': 1},\n",
       "             'B': {'A': 2, 'C': 2, 'E': 3},\n",
       "             'C': {'A': 3, 'B': 2, 'E': 1},\n",
       "             'D': {'A': 1, 'E': 5},\n",
       "             'E': {'B': 3, 'C': 1, 'D': 5}})"
      ]
     },
     "execution_count": 21,
     "metadata": {},
     "output_type": "execute_result"
    }
   ],
   "source": [
    "graph_with_distance"
   ]
  },
  {
   "cell_type": "code",
   "execution_count": 22,
   "id": "located-nature",
   "metadata": {},
   "outputs": [
    {
     "data": {
      "image/png": "[encoded data removed]",
      "text/plain": [
       "<Figure size 432x432 with 1 Axes>"
      ]
     },
     "metadata": {},
     "output_type": "display_data"
    }
   ],
   "source": [
    "plt.figure(figsize = (6, 6))\n",
    "# 1. Create the graph\n",
    "g = nx.from_dict_of_lists(graph_with_distance)\n",
    "# 2. Create a layout for our nodes \n",
    "layout = nx.spring_layout(g, iterations = 50)\n",
    "nx.draw(g)"
   ]
  }
 ],
 "metadata": {
  "kernelspec": {
   "display_name": "Python 3",
   "language": "python",
   "name": "python3"
  },
  "language_info": {
   "codemirror_mode": {
    "name": "ipython",
    "version": 3
   },
   "file_extension": ".py",
   "mimetype": "text/x-python",
   "name": "python",
   "nbconvert_exporter": "python",
   "pygments_lexer": "ipython3",
   "version": "3.8.3"
  }
 },
 "nbformat": 4,
 "nbformat_minor": 5
}
