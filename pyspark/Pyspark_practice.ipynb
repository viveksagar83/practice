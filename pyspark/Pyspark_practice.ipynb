{
 "cells": [
  {
   "cell_type": "code",
   "execution_count": 1,
   "metadata": {},
   "outputs": [],
   "source": [
    "from pyspark.sql import SparkSession"
   ]
  },
  {
   "cell_type": "code",
   "execution_count": 2,
   "metadata": {},
   "outputs": [],
   "source": [
    "import os"
   ]
  },
  {
   "cell_type": "code",
   "execution_count": 3,
   "metadata": {},
   "outputs": [],
   "source": [
    "cwd = os.getcwd()"
   ]
  },
  {
   "cell_type": "code",
   "execution_count": 4,
   "metadata": {},
   "outputs": [],
   "source": [
    "spark = SparkSession.builder.appName(\"how to read csv file\").getOrCreate()\n",
    "\n",
    "cases = spark.read.load(cwd+'/Case.csv', format='csv', sep=',',\n",
    "                       inferSchema=\"true\", header=\"true\")"
   ]
  },
  {
   "cell_type": "code",
   "execution_count": 5,
   "metadata": {},
   "outputs": [
    {
     "name": "stdout",
     "output_type": "stream",
     "text": [
      "+--------+--------+---------------+-----+--------------------+---------+---------+----------+\n",
      "| case_id|province|           city|group|      infection_case|confirmed| latitude| longitude|\n",
      "+--------+--------+---------------+-----+--------------------+---------+---------+----------+\n",
      "| 1000001|   Seoul|     Yongsan-gu| true|       Itaewon Clubs|      139|37.538621|126.992652|\n",
      "| 1000002|   Seoul|      Gwanak-gu| true|             Richway|      119| 37.48208|126.901384|\n",
      "| 1000003|   Seoul|        Guro-gu| true| Guro-gu Call Center|       95|37.508163|126.884387|\n",
      "| 1000004|   Seoul|   Yangcheon-gu| true|Yangcheon Table T...|       43|37.546061|126.874209|\n",
      "| 1000005|   Seoul|      Dobong-gu| true|     Day Care Center|       43|37.679422|127.044374|\n",
      "| 1000006|   Seoul|        Guro-gu| true|Manmin Central Ch...|       41|37.481059|126.894343|\n",
      "| 1000007|   Seoul|from other city| true|SMR Newly Planted...|       36|        -|         -|\n",
      "| 1000008|   Seoul|  Dongdaemun-gu| true|       Dongan Church|       17|37.592888|127.056766|\n",
      "| 1000009|   Seoul|from other city| true|Coupang Logistics...|       25|        -|         -|\n",
      "| 1000010|   Seoul|      Gwanak-gu| true|     Wangsung Church|       30|37.481735|126.930121|\n",
      "+--------+--------+---------------+-----+--------------------+---------+---------+----------+\n",
      "only showing top 10 rows\n",
      "\n"
     ]
    }
   ],
   "source": [
    "cases.show(10)"
   ]
  },
  {
   "cell_type": "code",
   "execution_count": 6,
   "metadata": {},
   "outputs": [],
   "source": [
    "cases= cases.drop('group','latitude')"
   ]
  },
  {
   "cell_type": "code",
   "execution_count": 7,
   "metadata": {},
   "outputs": [
    {
     "data": {
      "text/html": [
       "<div>\n",
       "<style scoped>\n",
       "    .dataframe tbody tr th:only-of-type {\n",
       "        vertical-align: middle;\n",
       "    }\n",
       "\n",
       "    .dataframe tbody tr th {\n",
       "        vertical-align: top;\n",
       "    }\n",
       "\n",
       "    .dataframe thead th {\n",
       "        text-align: right;\n",
       "    }\n",
       "</style>\n",
       "<table border=\"1\" class=\"dataframe\">\n",
       "  <thead>\n",
       "    <tr style=\"text-align: right;\">\n",
       "      <th></th>\n",
       "      <th>case_id</th>\n",
       "      <th>province</th>\n",
       "      <th>city</th>\n",
       "      <th>infection_case</th>\n",
       "      <th>confirmed</th>\n",
       "      <th>longitude</th>\n",
       "    </tr>\n",
       "  </thead>\n",
       "  <tbody>\n",
       "    <tr>\n",
       "      <th>0</th>\n",
       "      <td>1000001</td>\n",
       "      <td>Seoul</td>\n",
       "      <td>Yongsan-gu</td>\n",
       "      <td>Itaewon Clubs</td>\n",
       "      <td>139</td>\n",
       "      <td>126.992652</td>\n",
       "    </tr>\n",
       "    <tr>\n",
       "      <th>1</th>\n",
       "      <td>1000002</td>\n",
       "      <td>Seoul</td>\n",
       "      <td>Gwanak-gu</td>\n",
       "      <td>Richway</td>\n",
       "      <td>119</td>\n",
       "      <td>126.901384</td>\n",
       "    </tr>\n",
       "    <tr>\n",
       "      <th>2</th>\n",
       "      <td>1000003</td>\n",
       "      <td>Seoul</td>\n",
       "      <td>Guro-gu</td>\n",
       "      <td>Guro-gu Call Center</td>\n",
       "      <td>95</td>\n",
       "      <td>126.884387</td>\n",
       "    </tr>\n",
       "    <tr>\n",
       "      <th>3</th>\n",
       "      <td>1000004</td>\n",
       "      <td>Seoul</td>\n",
       "      <td>Yangcheon-gu</td>\n",
       "      <td>Yangcheon Table Tennis Club</td>\n",
       "      <td>43</td>\n",
       "      <td>126.874209</td>\n",
       "    </tr>\n",
       "    <tr>\n",
       "      <th>4</th>\n",
       "      <td>1000005</td>\n",
       "      <td>Seoul</td>\n",
       "      <td>Dobong-gu</td>\n",
       "      <td>Day Care Center</td>\n",
       "      <td>43</td>\n",
       "      <td>127.044374</td>\n",
       "    </tr>\n",
       "    <tr>\n",
       "      <th>5</th>\n",
       "      <td>1000006</td>\n",
       "      <td>Seoul</td>\n",
       "      <td>Guro-gu</td>\n",
       "      <td>Manmin Central Church</td>\n",
       "      <td>41</td>\n",
       "      <td>126.894343</td>\n",
       "    </tr>\n",
       "    <tr>\n",
       "      <th>6</th>\n",
       "      <td>1000007</td>\n",
       "      <td>Seoul</td>\n",
       "      <td>from other city</td>\n",
       "      <td>SMR Newly Planted Churches Group</td>\n",
       "      <td>36</td>\n",
       "      <td>-</td>\n",
       "    </tr>\n",
       "    <tr>\n",
       "      <th>7</th>\n",
       "      <td>1000008</td>\n",
       "      <td>Seoul</td>\n",
       "      <td>Dongdaemun-gu</td>\n",
       "      <td>Dongan Church</td>\n",
       "      <td>17</td>\n",
       "      <td>127.056766</td>\n",
       "    </tr>\n",
       "    <tr>\n",
       "      <th>8</th>\n",
       "      <td>1000009</td>\n",
       "      <td>Seoul</td>\n",
       "      <td>from other city</td>\n",
       "      <td>Coupang Logistics Center</td>\n",
       "      <td>25</td>\n",
       "      <td>-</td>\n",
       "    </tr>\n",
       "    <tr>\n",
       "      <th>9</th>\n",
       "      <td>1000010</td>\n",
       "      <td>Seoul</td>\n",
       "      <td>Gwanak-gu</td>\n",
       "      <td>Wangsung Church</td>\n",
       "      <td>30</td>\n",
       "      <td>126.930121</td>\n",
       "    </tr>\n",
       "  </tbody>\n",
       "</table>\n",
       "</div>"
      ],
      "text/plain": [
       "    case_id province             city                    infection_case  \\\n",
       "0   1000001    Seoul       Yongsan-gu                     Itaewon Clubs   \n",
       "1   1000002    Seoul        Gwanak-gu                           Richway   \n",
       "2   1000003    Seoul          Guro-gu               Guro-gu Call Center   \n",
       "3   1000004    Seoul     Yangcheon-gu       Yangcheon Table Tennis Club   \n",
       "4   1000005    Seoul        Dobong-gu                   Day Care Center   \n",
       "5   1000006    Seoul          Guro-gu             Manmin Central Church   \n",
       "6   1000007    Seoul  from other city  SMR Newly Planted Churches Group   \n",
       "7   1000008    Seoul    Dongdaemun-gu                     Dongan Church   \n",
       "8   1000009    Seoul  from other city          Coupang Logistics Center   \n",
       "9   1000010    Seoul        Gwanak-gu                   Wangsung Church   \n",
       "\n",
       "   confirmed   longitude  \n",
       "0        139  126.992652  \n",
       "1        119  126.901384  \n",
       "2         95  126.884387  \n",
       "3         43  126.874209  \n",
       "4         43  127.044374  \n",
       "5         41  126.894343  \n",
       "6         36           -  \n",
       "7         17  127.056766  \n",
       "8         25           -  \n",
       "9         30  126.930121  "
      ]
     },
     "execution_count": 7,
     "metadata": {},
     "output_type": "execute_result"
    }
   ],
   "source": [
    "cases.limit(10).toPandas()"
   ]
  },
  {
   "cell_type": "code",
   "execution_count": 8,
   "metadata": {},
   "outputs": [],
   "source": [
    "cases1 = cases.withColumnRenamed(\"infection_case\",\"infection_source\")"
   ]
  },
  {
   "cell_type": "code",
   "execution_count": 9,
   "metadata": {},
   "outputs": [],
   "source": [
    "from pyspark.sql import functions as f\n",
    "from pyspark.sql.types import DoubleType, IntegerType, StringType\n"
   ]
  },
  {
   "cell_type": "code",
   "execution_count": 10,
   "metadata": {},
   "outputs": [],
   "source": [
    "cases1 = cases1.select([f.col(col).alias(col.replace(' ', '')) for col in cases1.columns])"
   ]
  },
  {
   "cell_type": "code",
   "execution_count": 11,
   "metadata": {},
   "outputs": [
    {
     "data": {
      "text/plain": [
       "['case_id', 'province', 'city', 'infection_source', 'confirmed', 'longitude']"
      ]
     },
     "execution_count": 11,
     "metadata": {},
     "output_type": "execute_result"
    }
   ],
   "source": [
    "cases1.columns"
   ]
  },
  {
   "cell_type": "code",
   "execution_count": 12,
   "metadata": {},
   "outputs": [],
   "source": [
    "cases1 = cases1.withColumn('confirmed',f.col('confirmed').cast(IntegerType()))\n",
    "cases1 = cases1.withColumn('case_id',f.col('case_id').cast(IntegerType()))"
   ]
  },
  {
   "cell_type": "code",
   "execution_count": 13,
   "metadata": {},
   "outputs": [
    {
     "data": {
      "text/plain": [
       "[('case_id', 'int'),\n",
       " ('province', 'string'),\n",
       " ('city', 'string'),\n",
       " ('infection_source', 'string'),\n",
       " ('confirmed', 'int'),\n",
       " ('longitude', 'string')]"
      ]
     },
     "execution_count": 13,
     "metadata": {},
     "output_type": "execute_result"
    }
   ],
   "source": [
    "cases1.dtypes"
   ]
  },
  {
   "cell_type": "markdown",
   "metadata": {},
   "source": [
    "# adding zero infront of an int"
   ]
  },
  {
   "cell_type": "code",
   "execution_count": 14,
   "metadata": {},
   "outputs": [
    {
     "name": "stdout",
     "output_type": "stream",
     "text": [
      "+-------+--------+------------+--------------------+---------+----------+\n",
      "|case_id|province|        city|    infection_source|confirmed| longitude|\n",
      "+-------+--------+------------+--------------------+---------+----------+\n",
      "|1000001|   Seoul|  Yongsan-gu|       Itaewon Clubs|      139|126.992652|\n",
      "|1000002|   Seoul|   Gwanak-gu|             Richway|      119|126.901384|\n",
      "|1000003|   Seoul|     Guro-gu| Guro-gu Call Center|       95|126.884387|\n",
      "|1000004|   Seoul|Yangcheon-gu|Yangcheon Table T...|       43|126.874209|\n",
      "|1000005|   Seoul|   Dobong-gu|     Day Care Center|       43|127.044374|\n",
      "+-------+--------+------------+--------------------+---------+----------+\n",
      "only showing top 5 rows\n",
      "\n"
     ]
    }
   ],
   "source": [
    "cases1.show(5)"
   ]
  },
  {
   "cell_type": "code",
   "execution_count": 15,
   "metadata": {},
   "outputs": [],
   "source": [
    "# cases1 = cases1.withColumn('confirmed1', f.col('confirmed').cast(StringType()))"
   ]
  },
  {
   "cell_type": "code",
   "execution_count": 16,
   "metadata": {},
   "outputs": [],
   "source": [
    "def change_type_geokey(sdf):\n",
    "    sdf = sdf.withColumn('confirmed',f.col('confirmed').cast(StringType()))\n",
    "    return sdf"
   ]
  },
  {
   "cell_type": "code",
   "execution_count": 17,
   "metadata": {},
   "outputs": [],
   "source": [
    "@f.udf(returnType=StringType())\n",
    "def get_string_to_length(text):\n",
    "    nulls_to_fill = 4 - len(text)\n",
    "    return '0' * nulls_to_fill+text\n",
    "\n",
    "# cases2 = cases1.withColumn('confirmed', get_string_to_length(f.col('confirmed')))"
   ]
  },
  {
   "cell_type": "code",
   "execution_count": 18,
   "metadata": {},
   "outputs": [],
   "source": [
    "cases2 = change_type_geokey(cases1).withColumn('confirmed', get_string_to_length(f.col('confirmed')))"
   ]
  },
  {
   "cell_type": "code",
   "execution_count": 19,
   "metadata": {},
   "outputs": [
    {
     "data": {
      "text/plain": [
       "[('case_id', 'int'),\n",
       " ('province', 'string'),\n",
       " ('city', 'string'),\n",
       " ('infection_source', 'string'),\n",
       " ('confirmed', 'string'),\n",
       " ('longitude', 'string')]"
      ]
     },
     "execution_count": 19,
     "metadata": {},
     "output_type": "execute_result"
    }
   ],
   "source": [
    "cases2.dtypes"
   ]
  },
  {
   "cell_type": "code",
   "execution_count": 20,
   "metadata": {},
   "outputs": [],
   "source": [
    "cases2 = cases2.withColumn('confirmed', get_string_to_length(f.col('confirmed')))"
   ]
  },
  {
   "cell_type": "code",
   "execution_count": 21,
   "metadata": {},
   "outputs": [
    {
     "name": "stdout",
     "output_type": "stream",
     "text": [
      "+-------+--------+---------------+--------------------+---------+----------+\n",
      "|case_id|province|           city|    infection_source|confirmed| longitude|\n",
      "+-------+--------+---------------+--------------------+---------+----------+\n",
      "|1000001|   Seoul|     Yongsan-gu|       Itaewon Clubs|     0139|126.992652|\n",
      "|1000002|   Seoul|      Gwanak-gu|             Richway|     0119|126.901384|\n",
      "|1000003|   Seoul|        Guro-gu| Guro-gu Call Center|     0095|126.884387|\n",
      "|1000004|   Seoul|   Yangcheon-gu|Yangcheon Table T...|     0043|126.874209|\n",
      "|1000005|   Seoul|      Dobong-gu|     Day Care Center|     0043|127.044374|\n",
      "|1000006|   Seoul|        Guro-gu|Manmin Central Ch...|     0041|126.894343|\n",
      "|1000007|   Seoul|from other city|SMR Newly Planted...|     0036|         -|\n",
      "|1000008|   Seoul|  Dongdaemun-gu|       Dongan Church|     0017|127.056766|\n",
      "|1000009|   Seoul|from other city|Coupang Logistics...|     0025|         -|\n",
      "|1000010|   Seoul|      Gwanak-gu|     Wangsung Church|     0030|126.930121|\n",
      "|1000011|   Seoul|   Eunpyeong-gu|Eunpyeong St. Mar...|     0014|  126.9165|\n",
      "|1000012|   Seoul|   Seongdong-gu|    Seongdong-gu APT|     0013|  127.0403|\n",
      "|1000013|   Seoul|      Jongno-gu|Jongno Community ...|     0010|   127.006|\n",
      "|1000014|   Seoul|     Gangnam-gu|Samsung Medical C...|     0007| 127.08559|\n",
      "|1000015|   Seoul|        Jung-gu|Jung-gu Fashion C...|     0007|126.984377|\n",
      "|1000016|   Seoul|   Seodaemun-gu|  Yeonana News Class|     0005|126.943799|\n",
      "|1000017|   Seoul|      Jongno-gu|Korea Campus Crus...|     0007|126.968022|\n",
      "|1000018|   Seoul|     Gangnam-gu|Gangnam Yeoksam-d...|     0006|         -|\n",
      "|1000019|   Seoul|from other city|Daejeon door-to-d...|     0001|         -|\n",
      "|1000020|   Seoul|   Geumcheon-gu|Geumcheon-gu rice...|     0006|         -|\n",
      "+-------+--------+---------------+--------------------+---------+----------+\n",
      "only showing top 20 rows\n",
      "\n"
     ]
    }
   ],
   "source": [
    "cases2.show()"
   ]
  },
  {
   "cell_type": "code",
   "execution_count": 22,
   "metadata": {
    "scrolled": true
   },
   "outputs": [
    {
     "name": "stdout",
     "output_type": "stream",
     "text": [
      "+-------+--------+------------+--------------------+---------+----------+---------+\n",
      "|case_id|province|        city|    infection_source|confirmed| longitude|case_id_1|\n",
      "+-------+--------+------------+--------------------+---------+----------+---------+\n",
      "|1000001|   Seoul|  Yongsan-gu|       Itaewon Clubs|      139|126.992652| 14900001|\n",
      "|1000002|   Seoul|   Gwanak-gu|             Richway|      119|126.901384| 12900002|\n",
      "|1000003|   Seoul|     Guro-gu| Guro-gu Call Center|       95|126.884387| 10500003|\n",
      "|1000004|   Seoul|Yangcheon-gu|Yangcheon Table T...|       43|126.874209|  5300004|\n",
      "|1000005|   Seoul|   Dobong-gu|     Day Care Center|       43|127.044374|  5300005|\n",
      "+-------+--------+------------+--------------------+---------+----------+---------+\n",
      "only showing top 5 rows\n",
      "\n"
     ]
    }
   ],
   "source": [
    "cases1.withColumn('case_id_1',f.col('confirmed')*100000+f.col('case_id')).show(5)"
   ]
  },
  {
   "cell_type": "code",
   "execution_count": 23,
   "metadata": {},
   "outputs": [
    {
     "name": "stdout",
     "output_type": "stream",
     "text": [
      "+-------+--------+------------+--------------------+---------+----------+\n",
      "|case_id|province|        city|    infection_source|confirmed| longitude|\n",
      "+-------+--------+------------+--------------------+---------+----------+\n",
      "|1000001|   Seoul|  Yongsan-gu|       Itaewon Clubs|      139|126.992652|\n",
      "|1000002|   Seoul|   Gwanak-gu|             Richway|      119|126.901384|\n",
      "|1000003|   Seoul|     Guro-gu| Guro-gu Call Center|       95|126.884387|\n",
      "|1000004|   Seoul|Yangcheon-gu|Yangcheon Table T...|       43|126.874209|\n",
      "|1000005|   Seoul|   Dobong-gu|     Day Care Center|       43|127.044374|\n",
      "+-------+--------+------------+--------------------+---------+----------+\n",
      "only showing top 5 rows\n",
      "\n"
     ]
    }
   ],
   "source": [
    "cases1.show(5)"
   ]
  },
  {
   "cell_type": "markdown",
   "metadata": {},
   "source": [
    "# Changing Multiple Columns Together"
   ]
  },
  {
   "cell_type": "code",
   "execution_count": 25,
   "metadata": {},
   "outputs": [
    {
     "name": "stdout",
     "output_type": "stream",
     "text": [
      "+--------+--------+---------------+--------------------+---------+----------+\n",
      "| case_id|province|           city|      infection_case|confirmed| longitude|\n",
      "+--------+--------+---------------+--------------------+---------+----------+\n",
      "| 1000001|   Seoul|     Yongsan-gu|       Itaewon Clubs|      139|126.992652|\n",
      "| 1000002|   Seoul|      Gwanak-gu|             Richway|      119|126.901384|\n",
      "| 1000003|   Seoul|        Guro-gu| Guro-gu Call Center|       95|126.884387|\n",
      "| 1000004|   Seoul|   Yangcheon-gu|Yangcheon Table T...|       43|126.874209|\n",
      "| 1000005|   Seoul|      Dobong-gu|     Day Care Center|       43|127.044374|\n",
      "| 1000006|   Seoul|        Guro-gu|Manmin Central Ch...|       41|126.894343|\n",
      "| 1000007|   Seoul|from other city|SMR Newly Planted...|       36|         -|\n",
      "| 1000008|   Seoul|  Dongdaemun-gu|       Dongan Church|       17|127.056766|\n",
      "| 1000009|   Seoul|from other city|Coupang Logistics...|       25|         -|\n",
      "| 1000010|   Seoul|      Gwanak-gu|     Wangsung Church|       30|126.930121|\n",
      "| 1000011|   Seoul|   Eunpyeong-gu|Eunpyeong St. Mar...|       14|  126.9165|\n",
      "| 1000012|   Seoul|   Seongdong-gu|    Seongdong-gu APT|       13|  127.0403|\n",
      "| 1000013|   Seoul|      Jongno-gu|Jongno Community ...|       10|   127.006|\n",
      "| 1000014|   Seoul|     Gangnam-gu|Samsung Medical C...|        7| 127.08559|\n",
      "| 1000015|   Seoul|        Jung-gu|Jung-gu Fashion C...|        7|126.984377|\n",
      "| 1000016|   Seoul|   Seodaemun-gu|  Yeonana News Class|        5|126.943799|\n",
      "| 1000017|   Seoul|      Jongno-gu|Korea Campus Crus...|        7|126.968022|\n",
      "| 1000018|   Seoul|     Gangnam-gu|Gangnam Yeoksam-d...|        6|         -|\n",
      "| 1000019|   Seoul|from other city|Daejeon door-to-d...|        1|         -|\n",
      "| 1000020|   Seoul|   Geumcheon-gu|Geumcheon-gu rice...|        6|         -|\n",
      "+--------+--------+---------------+--------------------+---------+----------+\n",
      "only showing top 20 rows\n",
      "\n"
     ]
    }
   ],
   "source": [
    "cases.show()"
   ]
  },
  {
   "cell_type": "code",
   "execution_count": 26,
   "metadata": {},
   "outputs": [],
   "source": [
    "# changing names of mulitple columns together\n",
    "cases = cases.toDF(*['case_id', 'province', 'city', 'infection_case', 'confirmed', 'longitude'])"
   ]
  },
  {
   "cell_type": "code",
   "execution_count": 27,
   "metadata": {},
   "outputs": [
    {
     "name": "stdout",
     "output_type": "stream",
     "text": [
      "+-------+--------+---------------+--------------------+---------+----------+\n",
      "|case_id|province|           city|      infection_case|confirmed| longitude|\n",
      "+-------+--------+---------------+--------------------+---------+----------+\n",
      "|1000001|   Seoul|     Yongsan-gu|       Itaewon Clubs|      139|126.992652|\n",
      "|1000002|   Seoul|      Gwanak-gu|             Richway|      119|126.901384|\n",
      "|1000003|   Seoul|        Guro-gu| Guro-gu Call Center|       95|126.884387|\n",
      "|1000004|   Seoul|   Yangcheon-gu|Yangcheon Table T...|       43|126.874209|\n",
      "|1000005|   Seoul|      Dobong-gu|     Day Care Center|       43|127.044374|\n",
      "|1000006|   Seoul|        Guro-gu|Manmin Central Ch...|       41|126.894343|\n",
      "|1000007|   Seoul|from other city|SMR Newly Planted...|       36|         -|\n",
      "|1000008|   Seoul|  Dongdaemun-gu|       Dongan Church|       17|127.056766|\n",
      "|1000009|   Seoul|from other city|Coupang Logistics...|       25|         -|\n",
      "|1000010|   Seoul|      Gwanak-gu|     Wangsung Church|       30|126.930121|\n",
      "|1000011|   Seoul|   Eunpyeong-gu|Eunpyeong St. Mar...|       14|  126.9165|\n",
      "|1000012|   Seoul|   Seongdong-gu|    Seongdong-gu APT|       13|  127.0403|\n",
      "|1000013|   Seoul|      Jongno-gu|Jongno Community ...|       10|   127.006|\n",
      "|1000014|   Seoul|     Gangnam-gu|Samsung Medical C...|        7| 127.08559|\n",
      "|1000015|   Seoul|        Jung-gu|Jung-gu Fashion C...|        7|126.984377|\n",
      "|1000016|   Seoul|   Seodaemun-gu|  Yeonana News Class|        5|126.943799|\n",
      "|1000017|   Seoul|      Jongno-gu|Korea Campus Crus...|        7|126.968022|\n",
      "|1000018|   Seoul|     Gangnam-gu|Gangnam Yeoksam-d...|        6|         -|\n",
      "|1000019|   Seoul|from other city|Daejeon door-to-d...|        1|         -|\n",
      "|1000020|   Seoul|   Geumcheon-gu|Geumcheon-gu rice...|        6|         -|\n",
      "+-------+--------+---------------+--------------------+---------+----------+\n",
      "only showing top 20 rows\n",
      "\n"
     ]
    }
   ],
   "source": [
    "cases.show()"
   ]
  },
  {
   "cell_type": "markdown",
   "metadata": {},
   "source": [
    "# Sort"
   ]
  },
  {
   "cell_type": "code",
   "execution_count": 28,
   "metadata": {},
   "outputs": [],
   "source": [
    "from pyspark.sql import functions as f\n",
    "from pyspark.sql.types import DoubleType, IntegerType, StringType"
   ]
  },
  {
   "cell_type": "code",
   "execution_count": 29,
   "metadata": {},
   "outputs": [
    {
     "name": "stdout",
     "output_type": "stream",
     "text": [
      "+-------+----------------+---------------+--------------------+---------+---------+\n",
      "|case_id|        province|           city|      infection_case|confirmed|longitude|\n",
      "+-------+----------------+---------------+--------------------+---------+---------+\n",
      "|1200001|           Daegu|         Nam-gu|  Shincheonji Church|     4511| 128.5667|\n",
      "|1200009|           Daegu|              -|contact with patient|      917|        -|\n",
      "|1200010|           Daegu|              -|                 etc|      747|        -|\n",
      "|6000001|Gyeongsangbuk-do|from other city|  Shincheonji Church|      566|        -|\n",
      "|2000020|     Gyeonggi-do|              -|     overseas inflow|      305|        -|\n",
      "+-------+----------------+---------------+--------------------+---------+---------+\n",
      "only showing top 5 rows\n",
      "\n"
     ]
    }
   ],
   "source": [
    "cases.sort(f.desc(\"confirmed\"),f.desc(\"case_id\")).show(5)\n",
    "# cases.sort(\"case_id\").show(5)"
   ]
  },
  {
   "cell_type": "code",
   "execution_count": 30,
   "metadata": {},
   "outputs": [
    {
     "name": "stdout",
     "output_type": "stream",
     "text": [
      "+-------+---------------+---------+\n",
      "|case_id|           city|confirmed|\n",
      "+-------+---------------+---------+\n",
      "|1200001|         Nam-gu|     4511|\n",
      "|1200009|              -|      917|\n",
      "|1200010|              -|      747|\n",
      "|6000001|from other city|      566|\n",
      "|2000020|              -|      305|\n",
      "+-------+---------------+---------+\n",
      "only showing top 5 rows\n",
      "\n"
     ]
    }
   ],
   "source": [
    "cases.select(['case_id', 'city','confirmed']).sort(f.desc('confirmed')).show(5)"
   ]
  },
  {
   "cell_type": "code",
   "execution_count": 31,
   "metadata": {},
   "outputs": [],
   "source": [
    "cases = cases.select('case_id','province','city','infection_case','confirmed')"
   ]
  },
  {
   "cell_type": "markdown",
   "metadata": {},
   "source": [
    "# Cast"
   ]
  },
  {
   "cell_type": "code",
   "execution_count": 32,
   "metadata": {},
   "outputs": [],
   "source": [
    "cases = cases.withColumn('confirmed',f.col('confirmed').cast(IntegerType()))"
   ]
  },
  {
   "cell_type": "code",
   "execution_count": 33,
   "metadata": {},
   "outputs": [
    {
     "name": "stdout",
     "output_type": "stream",
     "text": [
      "+-------+--------+------------+--------------------+---------+\n",
      "|case_id|province|        city|      infection_case|confirmed|\n",
      "+-------+--------+------------+--------------------+---------+\n",
      "|1000001|   Seoul|  Yongsan-gu|       Itaewon Clubs|      139|\n",
      "|1000002|   Seoul|   Gwanak-gu|             Richway|      119|\n",
      "|1000003|   Seoul|     Guro-gu| Guro-gu Call Center|       95|\n",
      "|1000004|   Seoul|Yangcheon-gu|Yangcheon Table T...|       43|\n",
      "|1000005|   Seoul|   Dobong-gu|     Day Care Center|       43|\n",
      "+-------+--------+------------+--------------------+---------+\n",
      "only showing top 5 rows\n",
      "\n"
     ]
    }
   ],
   "source": [
    "cases.show(5)"
   ]
  },
  {
   "cell_type": "code",
   "execution_count": 35,
   "metadata": {},
   "outputs": [],
   "source": [
    "cases = cases.withColumn('category', f.lit('not defined'))"
   ]
  },
  {
   "cell_type": "code",
   "execution_count": 37,
   "metadata": {},
   "outputs": [
    {
     "name": "stdout",
     "output_type": "stream",
     "text": [
      "+-------+--------+------------+--------------------+---------+-----------+\n",
      "|case_id|province|        city|      infection_case|confirmed|   category|\n",
      "+-------+--------+------------+--------------------+---------+-----------+\n",
      "|1000001|   Seoul|  Yongsan-gu|       Itaewon Clubs|      139|not defined|\n",
      "|1000002|   Seoul|   Gwanak-gu|             Richway|      119|not defined|\n",
      "|1000003|   Seoul|     Guro-gu| Guro-gu Call Center|       95|not defined|\n",
      "|1000004|   Seoul|Yangcheon-gu|Yangcheon Table T...|       43|not defined|\n",
      "|1000005|   Seoul|   Dobong-gu|     Day Care Center|       43|not defined|\n",
      "+-------+--------+------------+--------------------+---------+-----------+\n",
      "only showing top 5 rows\n",
      "\n"
     ]
    }
   ],
   "source": [
    "cases.show(5)"
   ]
  },
  {
   "cell_type": "code",
   "execution_count": 38,
   "metadata": {},
   "outputs": [
    {
     "data": {
      "text/plain": [
       "[Row(category='not defined')]"
      ]
     },
     "execution_count": 38,
     "metadata": {},
     "output_type": "execute_result"
    }
   ],
   "source": [
    "cases.select('category').distinct().collect()"
   ]
  },
  {
   "cell_type": "code",
   "execution_count": 39,
   "metadata": {},
   "outputs": [],
   "source": [
    "proveince = cases.select('province').distinct().collect()\n"
   ]
  },
  {
   "cell_type": "code",
   "execution_count": 49,
   "metadata": {},
   "outputs": [
    {
     "name": "stdout",
     "output_type": "stream",
     "text": [
      "0 Sejong\n",
      "1 Ulsan\n",
      "2 Chungcheongbuk-do\n",
      "3 Gangwon-do\n",
      "4 Gwangju\n",
      "5 Gyeongsangbuk-do\n",
      "6 Daegu\n",
      "7 Gyeongsangnam-do\n",
      "8 Incheon\n",
      "9 Jeju-do\n",
      "10 Gyeonggi-do\n",
      "11 Busan\n",
      "12 Daejeon\n",
      "13 Seoul\n",
      "14 Chungcheongnam-do\n",
      "15 Jeollabuk-do\n",
      "16 Jeollanam-do\n"
     ]
    }
   ],
   "source": [
    "for i, j in enumerate(proveince):\n",
    "    print(i, j['province'])"
   ]
  },
  {
   "cell_type": "code",
   "execution_count": null,
   "metadata": {},
   "outputs": [],
   "source": []
  },
  {
   "cell_type": "markdown",
   "metadata": {},
   "source": [
    "# Filter"
   ]
  },
  {
   "cell_type": "code",
   "execution_count": null,
   "metadata": {},
   "outputs": [],
   "source": [
    "cases.filter((f.col(\"confirmed\") > 100) & (f.col(\"province\")==\"Seoul\")).show(5)"
   ]
  },
  {
   "cell_type": "code",
   "execution_count": null,
   "metadata": {},
   "outputs": [],
   "source": [
    "cases.filter((cases.confirmed > 100) & (cases.province ==\"Seoul\")).show(5)"
   ]
  },
  {
   "cell_type": "markdown",
   "metadata": {},
   "source": [
    "# Group By"
   ]
  },
  {
   "cell_type": "code",
   "execution_count": null,
   "metadata": {},
   "outputs": [],
   "source": [
    "from pyspark.sql import functions as f"
   ]
  },
  {
   "cell_type": "code",
   "execution_count": null,
   "metadata": {},
   "outputs": [],
   "source": [
    "cases."
   ]
  },
  {
   "cell_type": "code",
   "execution_count": 21,
   "metadata": {},
   "outputs": [
    {
     "name": "stdout",
     "output_type": "stream",
     "text": [
      "+-----------------+--------------+-----------------+--------------+\n",
      "|         province|sum(confirmed)|   avg(confirmed)|max(confirmed)|\n",
      "+-----------------+--------------+-----------------+--------------+\n",
      "|           Sejong|            49|8.166666666666666|            31|\n",
      "|            Ulsan|            51|            12.75|            25|\n",
      "|Chungcheongbuk-do|            60|8.571428571428571|            13|\n",
      "|       Gangwon-do|            62|             7.75|            17|\n",
      "|          Gwangju|            43|              8.6|            23|\n",
      "+-----------------+--------------+-----------------+--------------+\n",
      "only showing top 5 rows\n",
      "\n"
     ]
    }
   ],
   "source": [
    "cases.groupBy(\"province\").agg(f.sum(\"confirmed\"), f.mean(\"confirmed\"), f.max(\"confirmed\")).show(5)"
   ]
  },
  {
   "cell_type": "code",
   "execution_count": 22,
   "metadata": {},
   "outputs": [
    {
     "name": "stdout",
     "output_type": "stream",
     "text": [
      "+----------------+---------------+--------------+------------------+--------------+\n",
      "|        province|           city|sum(confirmed)|    avg(confirmed)|max(confirmed)|\n",
      "+----------------+---------------+--------------+------------------+--------------+\n",
      "|Gyeongsangnam-do|       Jinju-si|             9|               9.0|             9|\n",
      "|           Seoul|        Guro-gu|           139|46.333333333333336|            95|\n",
      "|           Seoul|     Gangnam-gu|            18|               4.5|             7|\n",
      "|         Daejeon|              -|           100|              25.0|            55|\n",
      "|    Jeollabuk-do|from other city|             6|               2.0|             3|\n",
      "+----------------+---------------+--------------+------------------+--------------+\n",
      "only showing top 5 rows\n",
      "\n"
     ]
    }
   ],
   "source": [
    "cases.groupBy([\"province\", \"city\"]).agg(f.sum(\"confirmed\"), f.mean(\"confirmed\"), f.max(\"confirmed\")).show(5)"
   ]
  },
  {
   "cell_type": "code",
   "execution_count": 23,
   "metadata": {},
   "outputs": [
    {
     "name": "stdout",
     "output_type": "stream",
     "text": [
      "+----------------+---------------+--------------+------------------+--------------+\n",
      "|        province|           city|TotalConfirmed|  AverageConfirmed|max(confirmed)|\n",
      "+----------------+---------------+--------------+------------------+--------------+\n",
      "|Gyeongsangnam-do|       Jinju-si|             9|               9.0|             9|\n",
      "|           Seoul|        Guro-gu|           139|46.333333333333336|            95|\n",
      "|           Seoul|     Gangnam-gu|            18|               4.5|             7|\n",
      "|         Daejeon|              -|           100|              25.0|            55|\n",
      "|    Jeollabuk-do|from other city|             6|               2.0|             3|\n",
      "+----------------+---------------+--------------+------------------+--------------+\n",
      "only showing top 5 rows\n",
      "\n"
     ]
    }
   ],
   "source": [
    "# with aliases\n",
    "cases.groupBy([\"province\", \"city\"]).agg(\n",
    "    f.sum(\"confirmed\").alias(\"TotalConfirmed\"),\n",
    "    f.mean(\"confirmed\").alias(\"AverageConfirmed\"), f.max(\"confirmed\")).show(5)"
   ]
  },
  {
   "cell_type": "markdown",
   "metadata": {},
   "source": [
    "# Joins"
   ]
  },
  {
   "cell_type": "code",
   "execution_count": 24,
   "metadata": {},
   "outputs": [],
   "source": [
    "regions = spark.read.load(cwd+'/Region.csv', format='csv', sep=',',\n",
    "                       inferSchema=\"true\", header=\"true\")"
   ]
  },
  {
   "cell_type": "code",
   "execution_count": 25,
   "metadata": {},
   "outputs": [
    {
     "data": {
      "text/plain": [
       "['code',\n",
       " 'province',\n",
       " 'city',\n",
       " 'latitude',\n",
       " 'longitude',\n",
       " 'elementary_school_count',\n",
       " 'kindergarten_count',\n",
       " 'university_count',\n",
       " 'academy_ratio',\n",
       " 'elderly_population_ratio',\n",
       " 'elderly_alone_ratio',\n",
       " 'nursing_home_count']"
      ]
     },
     "execution_count": 25,
     "metadata": {},
     "output_type": "execute_result"
    }
   ],
   "source": [
    "regions.columns"
   ]
  },
  {
   "cell_type": "code",
   "execution_count": 26,
   "metadata": {},
   "outputs": [
    {
     "name": "stdout",
     "output_type": "stream",
     "text": [
      "+-------+------------------+------------------+\n",
      "|summary|              code|          latitude|\n",
      "+-------+------------------+------------------+\n",
      "|  count|               244|               244|\n",
      "|   mean| 32912.09016393442| 36.39699581147539|\n",
      "| stddev|19373.349735535565|1.0603044400519337|\n",
      "|    min|             10000|         33.488936|\n",
      "|    max|             80000|         38.380571|\n",
      "+-------+------------------+------------------+\n",
      "\n"
     ]
    }
   ],
   "source": [
    "regions.describe(['code','latitude']).show()"
   ]
  },
  {
   "cell_type": "code",
   "execution_count": 27,
   "metadata": {},
   "outputs": [
    {
     "data": {
      "text/plain": [
       "[('code', 'int'),\n",
       " ('province', 'string'),\n",
       " ('city', 'string'),\n",
       " ('latitude', 'double'),\n",
       " ('longitude', 'double'),\n",
       " ('elementary_school_count', 'int'),\n",
       " ('kindergarten_count', 'int'),\n",
       " ('university_count', 'int'),\n",
       " ('academy_ratio', 'double'),\n",
       " ('elderly_population_ratio', 'double'),\n",
       " ('elderly_alone_ratio', 'double'),\n",
       " ('nursing_home_count', 'int')]"
      ]
     },
     "execution_count": 27,
     "metadata": {},
     "output_type": "execute_result"
    }
   ],
   "source": [
    "regions.dtypes"
   ]
  },
  {
   "cell_type": "code",
   "execution_count": 36,
   "metadata": {},
   "outputs": [
    {
     "name": "stdout",
     "output_type": "stream",
     "text": [
      "Wall time: 460 ms\n"
     ]
    }
   ],
   "source": [
    "%%time\n",
    "cases_regions = cases.join(regions, ['province', 'city'], how = 'left').toPandas()"
   ]
  },
  {
   "cell_type": "code",
   "execution_count": 29,
   "metadata": {},
   "outputs": [
    {
     "data": {
      "text/plain": [
       "372"
      ]
     },
     "execution_count": 29,
     "metadata": {},
     "output_type": "execute_result"
    }
   ],
   "source": [
    "len(cases_regions)"
   ]
  },
  {
   "cell_type": "markdown",
   "metadata": {},
   "source": [
    "# Broadcast Join"
   ]
  },
  {
   "cell_type": "code",
   "execution_count": 32,
   "metadata": {},
   "outputs": [],
   "source": [
    "# When you have to join a large table(~1 billion) with a much smaller table(~ 100-200)\n",
    "# A small optimization then you can do when joining on such big tables(assuming the other table is small) \n",
    "# is to broadcast the small table to each machine/node when you perform a join."
   ]
  },
  {
   "cell_type": "code",
   "execution_count": 43,
   "metadata": {},
   "outputs": [],
   "source": [
    "from pyspark.sql.functions import broadcast"
   ]
  },
  {
   "cell_type": "code",
   "execution_count": 44,
   "metadata": {},
   "outputs": [
    {
     "name": "stdout",
     "output_type": "stream",
     "text": [
      "Wall time: 330 ms\n"
     ]
    }
   ],
   "source": [
    "%%time\n",
    "cases_reg_broad = cases.join(broadcast(regions), ['province','city'],how='left').toPandas()"
   ]
  },
  {
   "cell_type": "markdown",
   "metadata": {},
   "source": [
    "# Use SQL with Dataframes"
   ]
  },
  {
   "cell_type": "code",
   "execution_count": 54,
   "metadata": {},
   "outputs": [],
   "source": [
    "cases.createOrReplaceTempView('cases_table')"
   ]
  },
  {
   "cell_type": "code",
   "execution_count": 55,
   "metadata": {},
   "outputs": [],
   "source": [
    "newDF = spark.sql(\"select * from cases_table where confirmed>100\")"
   ]
  },
  {
   "cell_type": "code",
   "execution_count": 56,
   "metadata": {},
   "outputs": [
    {
     "name": "stdout",
     "output_type": "stream",
     "text": [
      "+-------+-----------------+---------------+--------------------+---------+\n",
      "|case_id|         province|           city|      infection_case|confirmed|\n",
      "+-------+-----------------+---------------+--------------------+---------+\n",
      "|1000001|            Seoul|     Yongsan-gu|       Itaewon Clubs|      139|\n",
      "|1000002|            Seoul|      Gwanak-gu|             Richway|      119|\n",
      "|1000036|            Seoul|              -|     overseas inflow|      298|\n",
      "|1000037|            Seoul|              -|contact with patient|      162|\n",
      "|1200001|            Daegu|         Nam-gu|  Shincheonji Church|     4511|\n",
      "|1200002|            Daegu|   Dalseong-gun|Second Mi-Ju Hosp...|      196|\n",
      "|1200003|            Daegu|         Seo-gu|Hansarang Convale...|      124|\n",
      "|1200004|            Daegu|   Dalseong-gun|Daesil Convalesce...|      101|\n",
      "|1200009|            Daegu|              -|contact with patient|      917|\n",
      "|1200010|            Daegu|              -|                 etc|      747|\n",
      "|2000020|      Gyeonggi-do|              -|     overseas inflow|      305|\n",
      "|4100001|Chungcheongnam-do|     Cheonan-si|gym facility in C...|      103|\n",
      "|6000001| Gyeongsangbuk-do|from other city|  Shincheonji Church|      566|\n",
      "|6000002| Gyeongsangbuk-do|   Cheongdo-gun|Cheongdo Daenam H...|      119|\n",
      "|6000012| Gyeongsangbuk-do|              -|contact with patient|      190|\n",
      "|6000013| Gyeongsangbuk-do|              -|                 etc|      133|\n",
      "+-------+-----------------+---------------+--------------------+---------+\n",
      "\n"
     ]
    }
   ],
   "source": [
    "newDF.show()"
   ]
  },
  {
   "cell_type": "markdown",
   "metadata": {},
   "source": [
    "# Create New Columns"
   ]
  },
  {
   "cell_type": "code",
   "execution_count": 57,
   "metadata": {},
   "outputs": [
    {
     "name": "stdout",
     "output_type": "stream",
     "text": [
      "+-------+--------+---------------+--------------------+---------+------------+\n",
      "|case_id|province|           city|      infection_case|confirmed|NewConfirmed|\n",
      "+-------+--------+---------------+--------------------+---------+------------+\n",
      "|1000001|   Seoul|     Yongsan-gu|       Itaewon Clubs|      139|         239|\n",
      "|1000002|   Seoul|      Gwanak-gu|             Richway|      119|         219|\n",
      "|1000003|   Seoul|        Guro-gu| Guro-gu Call Center|       95|         195|\n",
      "|1000004|   Seoul|   Yangcheon-gu|Yangcheon Table T...|       43|         143|\n",
      "|1000005|   Seoul|      Dobong-gu|     Day Care Center|       43|         143|\n",
      "|1000006|   Seoul|        Guro-gu|Manmin Central Ch...|       41|         141|\n",
      "|1000007|   Seoul|from other city|SMR Newly Planted...|       36|         136|\n",
      "|1000008|   Seoul|  Dongdaemun-gu|       Dongan Church|       17|         117|\n",
      "|1000009|   Seoul|from other city|Coupang Logistics...|       25|         125|\n",
      "|1000010|   Seoul|      Gwanak-gu|     Wangsung Church|       30|         130|\n",
      "|1000011|   Seoul|   Eunpyeong-gu|Eunpyeong St. Mar...|       14|         114|\n",
      "|1000012|   Seoul|   Seongdong-gu|    Seongdong-gu APT|       13|         113|\n",
      "|1000013|   Seoul|      Jongno-gu|Jongno Community ...|       10|         110|\n",
      "|1000014|   Seoul|     Gangnam-gu|Samsung Medical C...|        7|         107|\n",
      "|1000015|   Seoul|        Jung-gu|Jung-gu Fashion C...|        7|         107|\n",
      "|1000016|   Seoul|   Seodaemun-gu|  Yeonana News Class|        5|         105|\n",
      "|1000017|   Seoul|      Jongno-gu|Korea Campus Crus...|        7|         107|\n",
      "|1000018|   Seoul|     Gangnam-gu|Gangnam Yeoksam-d...|        6|         106|\n",
      "|1000019|   Seoul|from other city|Daejeon door-to-d...|        1|         101|\n",
      "|1000020|   Seoul|   Geumcheon-gu|Geumcheon-gu rice...|        6|         106|\n",
      "+-------+--------+---------------+--------------------+---------+------------+\n",
      "only showing top 20 rows\n",
      "\n"
     ]
    }
   ],
   "source": [
    "casesWithNewConfirmed = cases.withColumn(\"NewConfirmed\", 100 + f.col(\"confirmed\"))\n",
    "casesWithNewConfirmed.show()"
   ]
  },
  {
   "cell_type": "code",
   "execution_count": 72,
   "metadata": {},
   "outputs": [],
   "source": [
    "# casesWithNewConfirmed.withColumn(\"confirmed_just\", f.col('confirmed')).show()"
   ]
  },
  {
   "cell_type": "markdown",
   "metadata": {},
   "source": [
    "# Spark UDFs"
   ]
  },
  {
   "cell_type": "markdown",
   "metadata": {},
   "source": [
    "We use spark UDFs if we need a more matured python functionality"
   ]
  },
  {
   "cell_type": "code",
   "execution_count": 73,
   "metadata": {},
   "outputs": [],
   "source": [
    "import pyspark.sql.functions as F\n",
    "from pyspark.sql.types import *"
   ]
  },
  {
   "cell_type": "code",
   "execution_count": 74,
   "metadata": {},
   "outputs": [],
   "source": [
    "def casesHighLow(confirmed):\n",
    "    if confirmed < 50: \n",
    "        return 'low'\n",
    "    else:\n",
    "        return 'high'"
   ]
  },
  {
   "cell_type": "code",
   "execution_count": 75,
   "metadata": {},
   "outputs": [
    {
     "name": "stdout",
     "output_type": "stream",
     "text": [
      "+-------+--------+---------------+--------------------+---------+-------+\n",
      "|case_id|province|           city|      infection_case|confirmed|HighLow|\n",
      "+-------+--------+---------------+--------------------+---------+-------+\n",
      "|1000001|   Seoul|     Yongsan-gu|       Itaewon Clubs|      139|   high|\n",
      "|1000002|   Seoul|      Gwanak-gu|             Richway|      119|   high|\n",
      "|1000003|   Seoul|        Guro-gu| Guro-gu Call Center|       95|   high|\n",
      "|1000004|   Seoul|   Yangcheon-gu|Yangcheon Table T...|       43|    low|\n",
      "|1000005|   Seoul|      Dobong-gu|     Day Care Center|       43|    low|\n",
      "|1000006|   Seoul|        Guro-gu|Manmin Central Ch...|       41|    low|\n",
      "|1000007|   Seoul|from other city|SMR Newly Planted...|       36|    low|\n",
      "|1000008|   Seoul|  Dongdaemun-gu|       Dongan Church|       17|    low|\n",
      "|1000009|   Seoul|from other city|Coupang Logistics...|       25|    low|\n",
      "|1000010|   Seoul|      Gwanak-gu|     Wangsung Church|       30|    low|\n",
      "|1000011|   Seoul|   Eunpyeong-gu|Eunpyeong St. Mar...|       14|    low|\n",
      "|1000012|   Seoul|   Seongdong-gu|    Seongdong-gu APT|       13|    low|\n",
      "|1000013|   Seoul|      Jongno-gu|Jongno Community ...|       10|    low|\n",
      "|1000014|   Seoul|     Gangnam-gu|Samsung Medical C...|        7|    low|\n",
      "|1000015|   Seoul|        Jung-gu|Jung-gu Fashion C...|        7|    low|\n",
      "|1000016|   Seoul|   Seodaemun-gu|  Yeonana News Class|        5|    low|\n",
      "|1000017|   Seoul|      Jongno-gu|Korea Campus Crus...|        7|    low|\n",
      "|1000018|   Seoul|     Gangnam-gu|Gangnam Yeoksam-d...|        6|    low|\n",
      "|1000019|   Seoul|from other city|Daejeon door-to-d...|        1|    low|\n",
      "|1000020|   Seoul|   Geumcheon-gu|Geumcheon-gu rice...|        6|    low|\n",
      "+-------+--------+---------------+--------------------+---------+-------+\n",
      "only showing top 20 rows\n",
      "\n"
     ]
    }
   ],
   "source": [
    "#convert to a UDF Function by passing in the function and return type of function\n",
    "casesHighLowUDF = F.udf(casesHighLow, StringType())\n",
    "CasesWithHighLow = cases.withColumn(\"HighLow\", casesHighLowUDF(\"confirmed\"))\n",
    "CasesWithHighLow.show()"
   ]
  },
  {
   "cell_type": "markdown",
   "metadata": {},
   "source": [
    "# Using RDD (Resilient Distributed Dataset)"
   ]
  },
  {
   "cell_type": "code",
   "execution_count": null,
   "metadata": {},
   "outputs": [],
   "source": []
  },
  {
   "cell_type": "code",
   "execution_count": null,
   "metadata": {},
   "outputs": [],
   "source": []
  },
  {
   "cell_type": "code",
   "execution_count": null,
   "metadata": {},
   "outputs": [],
   "source": []
  },
  {
   "cell_type": "code",
   "execution_count": null,
   "metadata": {},
   "outputs": [],
   "source": []
  },
  {
   "cell_type": "code",
   "execution_count": null,
   "metadata": {},
   "outputs": [],
   "source": []
  },
  {
   "cell_type": "code",
   "execution_count": 21,
   "metadata": {},
   "outputs": [],
   "source": [
    "s = [1,2,3,4,5,6,7,8,9,10]"
   ]
  },
  {
   "cell_type": "code",
   "execution_count": 23,
   "metadata": {},
   "outputs": [],
   "source": [
    "t = s[::2]"
   ]
  },
  {
   "cell_type": "code",
   "execution_count": 24,
   "metadata": {},
   "outputs": [
    {
     "data": {
      "text/plain": [
       "[1, 5, 9]"
      ]
     },
     "execution_count": 24,
     "metadata": {},
     "output_type": "execute_result"
    }
   ],
   "source": [
    "s[::len(t)-1]"
   ]
  },
  {
   "cell_type": "code",
   "execution_count": 71,
   "metadata": {},
   "outputs": [
    {
     "name": "stdout",
     "output_type": "stream",
     "text": [
      "+-------+--------+---------------+--------------------+---------+---------+\n",
      "|case_id|province|           city|      infection_case|confirmed|   case-c|\n",
      "+-------+--------+---------------+--------------------+---------+---------+\n",
      "|1000001|   Seoul|     Yongsan-gu|       Itaewon Clubs|      139|100000239|\n",
      "|1000002|   Seoul|      Gwanak-gu|             Richway|      119|100000319|\n",
      "|1000003|   Seoul|        Guro-gu| Guro-gu Call Center|       95|100000395|\n",
      "|1000004|   Seoul|   Yangcheon-gu|Yangcheon Table T...|       43|100000443|\n",
      "|1000005|   Seoul|      Dobong-gu|     Day Care Center|       43|100000543|\n",
      "|1000006|   Seoul|        Guro-gu|Manmin Central Ch...|       41|100000641|\n",
      "|1000007|   Seoul|from other city|SMR Newly Planted...|       36|100000736|\n",
      "|1000008|   Seoul|  Dongdaemun-gu|       Dongan Church|       17|100000817|\n",
      "|1000009|   Seoul|from other city|Coupang Logistics...|       25|100000925|\n",
      "|1000010|   Seoul|      Gwanak-gu|     Wangsung Church|       30|100001030|\n",
      "|1000011|   Seoul|   Eunpyeong-gu|Eunpyeong St. Mar...|       14|100001114|\n",
      "|1000012|   Seoul|   Seongdong-gu|    Seongdong-gu APT|       13|100001213|\n",
      "|1000013|   Seoul|      Jongno-gu|Jongno Community ...|       10|100001310|\n",
      "|1000014|   Seoul|     Gangnam-gu|Samsung Medical C...|        7|100001407|\n",
      "|1000015|   Seoul|        Jung-gu|Jung-gu Fashion C...|        7|100001507|\n",
      "|1000016|   Seoul|   Seodaemun-gu|  Yeonana News Class|        5|100001605|\n",
      "|1000017|   Seoul|      Jongno-gu|Korea Campus Crus...|        7|100001707|\n",
      "|1000018|   Seoul|     Gangnam-gu|Gangnam Yeoksam-d...|        6|100001806|\n",
      "|1000019|   Seoul|from other city|Daejeon door-to-d...|        1|100001901|\n",
      "|1000020|   Seoul|   Geumcheon-gu|Geumcheon-gu rice...|        6|100002006|\n",
      "+-------+--------+---------------+--------------------+---------+---------+\n",
      "only showing top 20 rows\n",
      "\n"
     ]
    }
   ],
   "source": [
    "cases.withColumn('case-c',f.col('case_id')*100+f.col('confirmed')).show()"
   ]
  },
  {
   "cell_type": "code",
   "execution_count": 61,
   "metadata": {},
   "outputs": [
    {
     "name": "stdout",
     "output_type": "stream",
     "text": [
      "+-------+--------+---------------+--------------------+---------+\n",
      "|case_id|province|           city|      infection_case|confirmed|\n",
      "+-------+--------+---------------+--------------------+---------+\n",
      "|1000001|   Seoul|     Yongsan-gu|       Itaewon Clubs|      139|\n",
      "|1000002|   Seoul|      Gwanak-gu|             Richway|      119|\n",
      "|1000003|   Seoul|        Guro-gu| Guro-gu Call Center|       95|\n",
      "|1000004|   Seoul|   Yangcheon-gu|Yangcheon Table T...|       43|\n",
      "|1000005|   Seoul|      Dobong-gu|     Day Care Center|       43|\n",
      "|1000006|   Seoul|        Guro-gu|Manmin Central Ch...|       41|\n",
      "|1000007|   Seoul|from other city|SMR Newly Planted...|       36|\n",
      "|1000008|   Seoul|  Dongdaemun-gu|       Dongan Church|       17|\n",
      "|1000009|   Seoul|from other city|Coupang Logistics...|       25|\n",
      "|1000010|   Seoul|      Gwanak-gu|     Wangsung Church|       30|\n",
      "|1000011|   Seoul|   Eunpyeong-gu|Eunpyeong St. Mar...|       14|\n",
      "|1000012|   Seoul|   Seongdong-gu|    Seongdong-gu APT|       13|\n",
      "|1000013|   Seoul|      Jongno-gu|Jongno Community ...|       10|\n",
      "|1000014|   Seoul|     Gangnam-gu|Samsung Medical C...|        7|\n",
      "|1000015|   Seoul|        Jung-gu|Jung-gu Fashion C...|        7|\n",
      "|1000016|   Seoul|   Seodaemun-gu|  Yeonana News Class|        5|\n",
      "|1000017|   Seoul|      Jongno-gu|Korea Campus Crus...|        7|\n",
      "|1000018|   Seoul|     Gangnam-gu|Gangnam Yeoksam-d...|        6|\n",
      "|1000019|   Seoul|from other city|Daejeon door-to-d...|        1|\n",
      "|1000020|   Seoul|   Geumcheon-gu|Geumcheon-gu rice...|        6|\n",
      "+-------+--------+---------------+--------------------+---------+\n",
      "only showing top 20 rows\n",
      "\n"
     ]
    }
   ],
   "source": [
    "cases.show()"
   ]
  },
  {
   "cell_type": "code",
   "execution_count": null,
   "metadata": {},
   "outputs": [],
   "source": []
  }
 ],
 "metadata": {
  "kernelspec": {
   "display_name": "Python 3",
   "language": "python",
   "name": "python3"
  },
  "language_info": {
   "codemirror_mode": {
    "name": "ipython",
    "version": 3
   },
   "file_extension": ".py",
   "mimetype": "text/x-python",
   "name": "python",
   "nbconvert_exporter": "python",
   "pygments_lexer": "ipython3",
   "version": "3.8.6"
  }
 },
 "nbformat": 4,
 "nbformat_minor": 4
}
