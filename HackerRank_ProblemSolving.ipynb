{
 "cells": [
  {
   "cell_type": "code",
   "execution_count": 1,
   "metadata": {},
   "outputs": [],
   "source": [
    "import math\n",
    "import os\n",
    "import random\n",
    "import re\n",
    "import sys"
   ]
  },
  {
   "cell_type": "markdown",
   "metadata": {},
   "source": [
    "# Array problem"
   ]
  },
  {
   "cell_type": "code",
   "execution_count": 69,
   "metadata": {},
   "outputs": [],
   "source": [
    "arr = [5, 4, 4, 2, 2, 8]\n",
    "brr = []"
   ]
  },
  {
   "cell_type": "code",
   "execution_count": 70,
   "metadata": {},
   "outputs": [
    {
     "name": "stdout",
     "output_type": "stream",
     "text": [
      "[6, 4, 2, 1]\n"
     ]
    }
   ],
   "source": [
    "while len(arr)!=0:\n",
    "    n = len(arr)\n",
    "    min_val = min(arr)\n",
    "    brr.append(n)\n",
    "    for i in range(n):\n",
    "        arr[i] = arr[i] - min_val\n",
    "    arr = [i for i in arr if i != 0]\n",
    "print(brr)"
   ]
  },
  {
   "cell_type": "markdown",
   "metadata": {},
   "source": [
    "# Non-Divisible Subset"
   ]
  },
  {
   "cell_type": "markdown",
   "metadata": {},
   "source": [
    "Given a set of distinct integers, print the size of a maximal subset of S where the sum of any 2 numbers in S is not evenly divisible by k.\n",
    "\n",
    "#### Function Description\n",
    "Complete the nonDivisibleSubset function in the editor below.\n",
    "nonDivisibleSubset has the following parameter(s):\n",
    "\n",
    "int S[n]: an array of integers\n",
    "int k: the divisor\n",
    "\n",
    "#### Returns\n",
    "\n",
    "int: the length of the longest subset of S meeting the criteria"
   ]
  },
  {
   "cell_type": "code",
   "execution_count": 160,
   "metadata": {},
   "outputs": [],
   "source": [
    "S = [19,10,12,24,25,22]\n",
    "k = 4"
   ]
  },
  {
   "cell_type": "code",
   "execution_count": 127,
   "metadata": {},
   "outputs": [],
   "source": [
    "combinations = []\n",
    "sum_values = []\n",
    "index = []\n",
    "for i in range(len(S)):\n",
    "    for j in range(i+1,len(S)):\n",
    "        combinations.append([S[i],S[j]])\n",
    "        sum_values.append(sum([S[i],S[j]]))\n",
    "        index.append(sum([S[i],S[j]])%k)"
   ]
  },
  {
   "cell_type": "code",
   "execution_count": 108,
   "metadata": {},
   "outputs": [],
   "source": [
    "req_combos = []\n",
    "for i in range(len(index)):\n",
    "    if index[i]!=0:\n",
    "        req_combos.append(combinations[i])"
   ]
  },
  {
   "cell_type": "code",
   "execution_count": 110,
   "metadata": {},
   "outputs": [],
   "source": [
    "flat_list = [item for sublist in req_combos for item in sublist]"
   ]
  },
  {
   "cell_type": "code",
   "execution_count": 111,
   "metadata": {},
   "outputs": [
    {
     "data": {
      "text/plain": [
       "{1, 4, 7}"
      ]
     },
     "execution_count": 111,
     "metadata": {},
     "output_type": "execute_result"
    }
   ],
   "source": [
    "set(flat_list)"
   ]
  },
  {
   "cell_type": "code",
   "execution_count": 1,
   "metadata": {},
   "outputs": [],
   "source": [
    "import math\n",
    "import os\n",
    "import random\n",
    "import re\n",
    "import sys\n"
   ]
  },
  {
   "cell_type": "code",
   "execution_count": 124,
   "metadata": {},
   "outputs": [],
   "source": [
    "\n",
    "def nonDivisibleSubset(k, s):\n",
    "    n = len(s)\n",
    "    combinations = []\n",
    "    index = []\n",
    "    for i in range(n):\n",
    "        for j in range(i+1,n):\n",
    "            combinations.append([s[i],s[j]])\n",
    "            index.append(sum([s[i],s[j]])%k)\n",
    "    req_combos = []\n",
    "    for i in range(len(index)):\n",
    "        if index[i]!=0:\n",
    "            req_combos.append(combinations[i])\n",
    "    final =set([item for sublist in req_combos for item in sublist])\n",
    "    return len(final)"
   ]
  },
  {
   "cell_type": "code",
   "execution_count": 125,
   "metadata": {
    "scrolled": true
   },
   "outputs": [
    {
     "name": "stdout",
     "output_type": "stream",
     "text": [
      "[[19, 10], [19, 12], [19, 24], [19, 25], [19, 22], [10, 12], [10, 24], [10, 25], [10, 22], [12, 24], [12, 25], [12, 22], [24, 25], [24, 22], [25, 22]]\n",
      "[[19, 10], [19, 12], [19, 24], [19, 22], [10, 12], [10, 24], [10, 25], [12, 25], [12, 22], [24, 25], [24, 22], [25, 22]]\n",
      "{10, 12, 19, 22, 24, 25}\n"
     ]
    },
    {
     "data": {
      "text/plain": [
       "6"
      ]
     },
     "execution_count": 125,
     "metadata": {},
     "output_type": "execute_result"
    }
   ],
   "source": [
    "nonDivisibleSubset(4,[19,10,12,24,25,22])"
   ]
  },
  {
   "cell_type": "code",
   "execution_count": 161,
   "metadata": {},
   "outputs": [
    {
     "name": "stdout",
     "output_type": "stream",
     "text": [
      "{0: [], 1: [], 2: [], 3: []}\n",
      "{0: [12, 24], 1: [25], 2: [10, 22], 3: [19]}\n",
      "(1, 3)\n",
      "(2, 2)\n",
      "3\n"
     ]
    }
   ],
   "source": [
    "d = {x:[] for x in range(k)}\n",
    "print(d)\n",
    "n = len(S)\n",
    "for i in range(n):\n",
    "    d[S[i]%k].append(S[i])\n",
    "\n",
    "print(d)\n",
    "count = 0\n",
    "if len(d[0]) > 0:\n",
    "    count = 1\n",
    "\n",
    "S = set([(x,k-x) for x in range(1,k//2+1)])\n",
    "for (i,j) in S:\n",
    "    print((i,j))\n",
    "    if i != j:\n",
    "        if len(d[i]) > len(d[j]):\n",
    "            count += len(d[i])\n",
    "        else:\n",
    "            count += len(d[j])\n",
    "    else:\n",
    "        if len(d[i]) > 0:\n",
    "            count += 1\n",
    "\n",
    "print(count)"
   ]
  },
  {
   "cell_type": "code",
   "execution_count": 1,
   "metadata": {},
   "outputs": [
    {
     "name": "stdout",
     "output_type": "stream",
     "text": [
      "[0, 0, 0, 0]\n",
      "[2, 1, 3, 1]\n",
      "1\n",
      "1\n",
      "2\n",
      "3\n"
     ]
    }
   ],
   "source": [
    "numbers = [19,10,12,10,24,25,22]\n",
    "n, k = len(numbers),4\n",
    "\n",
    "counts = [0] * k\n",
    "print(counts)\n",
    "for number in numbers:\n",
    "    counts[number % k] += 1\n",
    "\n",
    "print(counts)\n",
    "\n",
    "count = min(counts[0], 1)\n",
    "print(count)\n",
    "\n",
    "for i in range(1, k//2+1):\n",
    "    print(i)\n",
    "    if i != k - i:\n",
    "        count += max(counts[i], counts[k-i])\n",
    "if k % 2 == 0: \n",
    "    count += 1\n",
    "\n",
    "print(count)"
   ]
  },
  {
   "cell_type": "markdown",
   "metadata": {},
   "source": [
    "# Equalize the Array\n",
    "\n"
   ]
  },
  {
   "cell_type": "code",
   "execution_count": 1,
   "metadata": {},
   "outputs": [],
   "source": [
    "arr = [1,2,2,3]"
   ]
  },
  {
   "cell_type": "code",
   "execution_count": 14,
   "metadata": {},
   "outputs": [
    {
     "data": {
      "text/plain": [
       "2"
      ]
     },
     "execution_count": 14,
     "metadata": {},
     "output_type": "execute_result"
    }
   ],
   "source": [
    "len(arr) - max(set([arr.count(i) for i in arr]))"
   ]
  },
  {
   "cell_type": "code",
   "execution_count": 15,
   "metadata": {},
   "outputs": [],
   "source": [
    "def equalizeArray(arr):\n",
    "    return len(arr) - max(set([arr.count(i) for i in arr]))"
   ]
  },
  {
   "cell_type": "code",
   "execution_count": 16,
   "metadata": {},
   "outputs": [
    {
     "name": "stdout",
     "output_type": "stream",
     "text": [
      "2\n"
     ]
    }
   ],
   "source": [
    "print(equalizeArray([3, 3, 2, 1, 3]))"
   ]
  },
  {
   "cell_type": "markdown",
   "metadata": {},
   "source": [
    "# Queen's Attack II"
   ]
  },
  {
   "cell_type": "markdown",
   "metadata": {},
   "source": [
    "You will be given a square chess board with one queen and a number of obstacles placed on it. Determine how many squares the queen can attack.\n",
    "\n",
    "Function Description\n",
    "\n",
    "Complete the queensAttack function in the editor below.\n",
    "\n",
    "queensAttack has the following parameters:\n",
    "- int n: the number of rows and columns in the board\n",
    "- nt k: the number of obstacles on the board\n",
    "- int r_q: the row number of the queen's position\n",
    "- int c_q: the column number of the queen's position\n",
    "- int obstacles[k][2]: each element is an array of 2 integers, the row and column of an obstacle\n",
    "\n",
    "Returns\n",
    "- int: the number of squares the queen can attack"
   ]
  },
  {
   "cell_type": "code",
   "execution_count": 21,
   "metadata": {},
   "outputs": [],
   "source": [
    "n = 5\n",
    "k = 0\n",
    "r_q = 4\n",
    "c_q = 4\n",
    "obstacles = []"
   ]
  },
  {
   "cell_type": "code",
   "execution_count": null,
   "metadata": {},
   "outputs": [],
   "source": [
    "n, k = "
   ]
  },
  {
   "cell_type": "code",
   "execution_count": 25,
   "metadata": {},
   "outputs": [
    {
     "name": "stdout",
     "output_type": "stream",
     "text": [
      "2 2\n",
      "2 1\n",
      "2 0\n",
      "1 2\n",
      "1 1\n",
      "1 0\n",
      "0 2\n",
      "0 1\n",
      "0 0\n"
     ]
    }
   ],
   "source": [
    "for i in reversed(range(r_q-1)):\n",
    "    for j in reversed(range(c_q-1)):\n",
    "        print(i,j)"
   ]
  },
  {
   "cell_type": "code",
   "execution_count": null,
   "metadata": {},
   "outputs": [],
   "source": [
    "def queensAttack(n, k, r_q, c_q, obstacles):"
   ]
  },
  {
   "cell_type": "code",
   "execution_count": null,
   "metadata": {},
   "outputs": [],
   "source": []
  },
  {
   "cell_type": "markdown",
   "metadata": {},
   "source": [
    "# Interview Preparation"
   ]
  },
  {
   "cell_type": "markdown",
   "metadata": {},
   "source": [
    "# Strings: Making Anagrams"
   ]
  },
  {
   "cell_type": "markdown",
   "metadata": {},
   "source": [
    "Given two strings, a and b, that may or may not be of the same length, determine the minimum number of character deletions required to make a and b anagrams. Any characters can be deleted from either of the strings."
   ]
  },
  {
   "cell_type": "code",
   "execution_count": 23,
   "metadata": {},
   "outputs": [],
   "source": [
    "import math\n",
    "import os\n",
    "import random\n",
    "import re\n",
    "import sys"
   ]
  },
  {
   "cell_type": "markdown",
   "metadata": {},
   "source": [
    "### Approach 1"
   ]
  },
  {
   "cell_type": "code",
   "execution_count": 28,
   "metadata": {},
   "outputs": [],
   "source": [
    "def makeAnagram(a, b):\n",
    "    lena, lenb = len(a), len(b)\n",
    "    counter = 0\n",
    "    for i in a:\n",
    "        if i in b:\n",
    "            counter+=1\n",
    "            b = b.replace(i,'',1)\n",
    "    return lena+lenb-2*counter"
   ]
  },
  {
   "cell_type": "code",
   "execution_count": 29,
   "metadata": {},
   "outputs": [
    {
     "name": "stdout",
     "output_type": "stream",
     "text": [
      "4\n"
     ]
    }
   ],
   "source": [
    "print(makeAnagram('cde','abc'))"
   ]
  },
  {
   "cell_type": "markdown",
   "metadata": {},
   "source": [
    "### Approach 2"
   ]
  },
  {
   "cell_type": "code",
   "execution_count": 30,
   "metadata": {},
   "outputs": [],
   "source": [
    "from collections import Counter"
   ]
  },
  {
   "cell_type": "code",
   "execution_count": 59,
   "metadata": {},
   "outputs": [],
   "source": [
    "def makeAnagram2(a, b):\n",
    "    a1 = Counter(a)\n",
    "    b1 = Counter(b)\n",
    "    # taking the set difference\n",
    "    c = a1-b1\n",
    "    d = b1-a1\n",
    "    # taking the union\n",
    "    e = c+d\n",
    "    return len(list(e.elements()))"
   ]
  },
  {
   "cell_type": "code",
   "execution_count": 60,
   "metadata": {},
   "outputs": [
    {
     "name": "stdout",
     "output_type": "stream",
     "text": [
      "4\n"
     ]
    }
   ],
   "source": [
    "print(makeAnagram2('cde','abc'))"
   ]
  },
  {
   "cell_type": "markdown",
   "metadata": {},
   "source": [
    "# Strings: Alternating Characters"
   ]
  },
  {
   "cell_type": "markdown",
   "metadata": {},
   "source": [
    "You are given a string containing characters A and B only. Your task is to change it into a string such that there are no matching adjacent characters. To do this, you are allowed to delete zero or more characters in the string.\n",
    "\n",
    "Your task is to find the minimum number of required deletions."
   ]
  },
  {
   "cell_type": "code",
   "execution_count": 71,
   "metadata": {},
   "outputs": [],
   "source": [
    "a = 'AABAB'\n",
    "# b = 'AABAB'"
   ]
  },
  {
   "cell_type": "code",
   "execution_count": 75,
   "metadata": {},
   "outputs": [],
   "source": [
    "def alternatingCharacters(s):\n",
    "    counter = 0\n",
    "    for i in range(len(s)-1):\n",
    "        if s[i]==s[i+1]:\n",
    "            counter+=1\n",
    "    return counter"
   ]
  },
  {
   "cell_type": "code",
   "execution_count": 76,
   "metadata": {},
   "outputs": [
    {
     "name": "stdout",
     "output_type": "stream",
     "text": [
      "1\n"
     ]
    }
   ],
   "source": [
    "print(alternatingCharacters(a))"
   ]
  },
  {
   "cell_type": "code",
   "execution_count": null,
   "metadata": {},
   "outputs": [],
   "source": []
  }
 ],
 "metadata": {
  "kernelspec": {
   "display_name": "Python 3",
   "language": "python",
   "name": "python3"
  },
  "language_info": {
   "codemirror_mode": {
    "name": "ipython",
    "version": 3
   },
   "file_extension": ".py",
   "mimetype": "text/x-python",
   "name": "python",
   "nbconvert_exporter": "python",
   "pygments_lexer": "ipython3",
   "version": "3.8.6"
  }
 },
 "nbformat": 4,
 "nbformat_minor": 4
}
