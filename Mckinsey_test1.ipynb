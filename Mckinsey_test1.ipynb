{
 "cells": [
  {
   "cell_type": "code",
   "execution_count": 1,
   "id": "b9328cf5-4aff-432c-8b17-5779430a0e7c",
   "metadata": {},
   "outputs": [],
   "source": [
    "arr = [-4,3,2,1]"
   ]
  },
  {
   "cell_type": "code",
   "execution_count": 2,
   "id": "6f119bcf-18d4-4a73-b818-89fe2f0dade9",
   "metadata": {},
   "outputs": [],
   "source": [
    "if min(arr)<0:\n",
    "    num = -min(arr)+1\n",
    "else:\n",
    "    num = 1"
   ]
  },
  {
   "cell_type": "code",
   "execution_count": 3,
   "id": "289e29ea-bb71-4a8f-97e5-77af25d51d21",
   "metadata": {},
   "outputs": [
    {
     "data": {
      "text/plain": [
       "5"
      ]
     },
     "execution_count": 3,
     "metadata": {},
     "output_type": "execute_result"
    }
   ],
   "source": [
    "num"
   ]
  },
  {
   "cell_type": "code",
   "execution_count": 7,
   "id": "8c109afb-af50-48b8-93d4-643f9dca0e0f",
   "metadata": {},
   "outputs": [
    {
     "data": {
      "text/plain": [
       "[4, 3, 2, 1]"
      ]
     },
     "execution_count": 7,
     "metadata": {},
     "output_type": "execute_result"
    }
   ],
   "source": [
    "[abs(x) for x in arr]"
   ]
  },
  {
   "cell_type": "code",
   "execution_count": 5,
   "id": "c33f2bc2-898c-4796-ba71-9fda78e86a45",
   "metadata": {},
   "outputs": [
    {
     "name": "stdout",
     "output_type": "stream",
     "text": [
      "-4\n",
      "-1\n",
      "1\n",
      "2\n"
     ]
    }
   ],
   "source": [
    "num = 0\n",
    "while num<max(arr):\n",
    "    for i in arr:\n",
    "        num = num+i\n",
    "        print(num)"
   ]
  },
  {
   "cell_type": "code",
   "execution_count": 12,
   "id": "f86b90a3-e71a-488f-a7d0-81ef639f6511",
   "metadata": {},
   "outputs": [],
   "source": [
    "x = 1\n",
    "for i in range(len(arr),0,-1):\n",
    "    x = x - arr[i-1]\n",
    "    if x<1:\n",
    "        x = 1"
   ]
  },
  {
   "cell_type": "code",
   "execution_count": 14,
   "id": "4d2444db-b9e2-419c-83a8-e9460f5c5bde",
   "metadata": {},
   "outputs": [
    {
     "data": {
      "text/plain": [
       "5"
      ]
     },
     "execution_count": 14,
     "metadata": {},
     "output_type": "execute_result"
    }
   ],
   "source": [
    "x"
   ]
  },
  {
   "cell_type": "code",
   "execution_count": 15,
   "id": "90ac63fd-d0f9-4d8b-832b-e91e9ed5328d",
   "metadata": {},
   "outputs": [],
   "source": [
    "### Test encryption count"
   ]
  },
  {
   "cell_type": "code",
   "execution_count": 29,
   "id": "69a46604-e944-485d-b052-f796695f27eb",
   "metadata": {},
   "outputs": [],
   "source": [
    "keys = [2,4]\n",
    "instructionCount = 100\n",
    "validityPeriod = 1000"
   ]
  },
  {
   "cell_type": "code",
   "execution_count": 32,
   "id": "c8eabc97-9f04-4835-b5e4-854159d2fc59",
   "metadata": {},
   "outputs": [
    {
     "data": {
      "text/plain": [
       "2"
      ]
     },
     "execution_count": 32,
     "metadata": {},
     "output_type": "execute_result"
    }
   ],
   "source": [
    "max([sum([i%x==0 for x in keys]) for i in keys])"
   ]
  },
  {
   "cell_type": "code",
   "execution_count": null,
   "id": "cffc5462-5447-49a9-829a-7bf1b4e501f2",
   "metadata": {},
   "outputs": [],
   "source": [
    "for i in "
   ]
  },
  {
   "cell_type": "code",
   "execution_count": 30,
   "id": "4ca63b15-8cc8-4b5e-b87c-87811430b7a9",
   "metadata": {},
   "outputs": [],
   "source": [
    "def encryptionValidity(instructionCount, validityPeriod, keys):\n",
    "    strength = max([sum([i%x==0 for x in keys]) for i in keys])*10**5\n",
    "    hijacker = instructionCount*validityPeriod\n",
    "    if hijacker>strength:\n",
    "        return 1, strength\n",
    "    else:\n",
    "        return 0, strength"
   ]
  },
  {
   "cell_type": "code",
   "execution_count": 31,
   "id": "57a3b62b-b65b-4ea5-af3a-49973e128511",
   "metadata": {},
   "outputs": [
    {
     "data": {
      "text/plain": [
       "(0, 200000)"
      ]
     },
     "execution_count": 31,
     "metadata": {},
     "output_type": "execute_result"
    }
   ],
   "source": [
    "encryptionValidity(instructionCount, validityPeriod, keys)"
   ]
  },
  {
   "cell_type": "code",
   "execution_count": 34,
   "id": "e78c8b8d-4a99-43df-84c0-2fdb0dfe1ac1",
   "metadata": {},
   "outputs": [],
   "source": [
    "def encryptionValidity(instructionCount, validityPeriod, keys):\n",
    "    keys = sorted(keys, reverse=True)\n",
    "    n = len(keys)\n",
    "    d_max = 0\n",
    "    for i in range(n):\n",
    "        n_factor = 1\n",
    "        for j in range(i + 1, n):\n",
    "            if keys[i] % keys[j] == 0:\n",
    "                n_factor += 1\n",
    "        d_max = max(d_max, n_factor)\n",
    "    strength = d_max*10**5\n",
    "    hijacker = instructionCount*validityPeriod\n",
    "    is_hijacked = int(hijacker > strength)\n",
    "    return [is_hijacked,  strength]"
   ]
  },
  {
   "cell_type": "code",
   "execution_count": 35,
   "id": "238ce67b-7348-42db-8e02-960d87757c32",
   "metadata": {},
   "outputs": [
    {
     "data": {
      "text/plain": [
       "[0, 200000]"
      ]
     },
     "execution_count": 35,
     "metadata": {},
     "output_type": "execute_result"
    }
   ],
   "source": [
    "encryptionValidity(instructionCount, validityPeriod, keys)"
   ]
  },
  {
   "cell_type": "code",
   "execution_count": null,
   "id": "f9ac897c-cf9c-4677-a7ce-2282656520dc",
   "metadata": {},
   "outputs": [],
   "source": [
    "def encryptionValidity(instructionCount, validityPeriod, keys):\n",
    "    # Write your code here\n",
    "    keys = sorted(keys, reverse=True)\n",
    "    n = len(keys)\n",
    "    d_max = 0\n",
    "    for i in range(n):\n",
    "        n_factor = 1\n",
    "        if i > n - d_max:\n",
    "            break\n",
    "        for j in range(i + 1, n):\n",
    "            if keys[i] % keys[j] == 0:\n",
    "                n_factor += 1\n",
    "        d_max = max(d_max, n_factor)\n",
    "    strength = d_max*10**5\n",
    "    hijacker = instructionCount*validityPeriod\n",
    "    is_hijacked = int(hijacker > strength)\n",
    "    return [is_hijacked,  strength]"
   ]
  }
 ],
 "metadata": {
  "kernelspec": {
   "display_name": "Python 3",
   "language": "python",
   "name": "python3"
  },
  "language_info": {
   "codemirror_mode": {
    "name": "ipython",
    "version": 3
   },
   "file_extension": ".py",
   "mimetype": "text/x-python",
   "name": "python",
   "nbconvert_exporter": "python",
   "pygments_lexer": "ipython3",
   "version": "3.8.6"
  }
 },
 "nbformat": 4,
 "nbformat_minor": 5
}
