{
 "cells": [
  {
   "cell_type": "code",
   "execution_count": 1,
   "metadata": {},
   "outputs": [],
   "source": [
    "import math\n",
    "import os\n",
    "import random\n",
    "import re\n",
    "import sys"
   ]
  },
  {
   "cell_type": "markdown",
   "metadata": {},
   "source": [
    "# Sorting: Bubble Sort"
   ]
  },
  {
   "cell_type": "code",
   "execution_count": 36,
   "metadata": {},
   "outputs": [],
   "source": [
    "n = 3\n",
    "a = [6, 4, 1]\n",
    "b = 0"
   ]
  },
  {
   "cell_type": "code",
   "execution_count": 37,
   "metadata": {},
   "outputs": [
    {
     "name": "stdout",
     "output_type": "stream",
     "text": [
      "6\n",
      "[6, 4, 1]\n",
      "[4, 6, 1]\n",
      "6\n",
      "[4, 6, 1]\n",
      "[4, 1, 6]\n",
      "4\n",
      "[4, 1, 6]\n",
      "[1, 4, 6]\n",
      "4\n",
      "1\n",
      "4\n"
     ]
    }
   ],
   "source": [
    "for i in range(n):\n",
    "    for j in range(n-1):\n",
    "        print(a[j])\n",
    "        if a[j]>a[j+1]:\n",
    "            print(a)\n",
    "            a[j],a[j+1] = a[j+1],a[j]\n",
    "            print(a)\n",
    "            b=b+1\n",
    "            continue"
   ]
  },
  {
   "cell_type": "code",
   "execution_count": 33,
   "metadata": {},
   "outputs": [
    {
     "name": "stdout",
     "output_type": "stream",
     "text": [
      "[1, 2, 6, 7] 5\n"
     ]
    }
   ],
   "source": [
    "print(a,b)"
   ]
  },
  {
   "cell_type": "markdown",
   "metadata": {},
   "source": [
    "# Mark and Toys"
   ]
  },
  {
   "cell_type": "code",
   "execution_count": 52,
   "metadata": {},
   "outputs": [],
   "source": [
    "prices = [1, 12, 5, 111, 200, 1000, 10]\n",
    "k = 50"
   ]
  },
  {
   "cell_type": "code",
   "execution_count": 53,
   "metadata": {},
   "outputs": [
    {
     "data": {
      "text/plain": [
       "[1, 5, 10, 12, 111, 200, 1000]"
      ]
     },
     "execution_count": 53,
     "metadata": {},
     "output_type": "execute_result"
    }
   ],
   "source": [
    "sorted(prices)"
   ]
  },
  {
   "cell_type": "code",
   "execution_count": 54,
   "metadata": {},
   "outputs": [],
   "source": [
    "counter = 0\n",
    "cost = 0\n",
    "for i in sorted(prices):\n",
    "    cost = cost+i\n",
    "    if cost>k:\n",
    "        continue\n",
    "    counter+=1"
   ]
  },
  {
   "cell_type": "code",
   "execution_count": 55,
   "metadata": {},
   "outputs": [
    {
     "name": "stdout",
     "output_type": "stream",
     "text": [
      "4\n"
     ]
    }
   ],
   "source": [
    "print(counter)"
   ]
  },
  {
   "cell_type": "markdown",
   "metadata": {},
   "source": [
    "# Sorting: Comparator"
   ]
  },
  {
   "cell_type": "code",
   "execution_count": 58,
   "metadata": {},
   "outputs": [],
   "source": [
    "n = 3\n",
    "data = [['Smith', 20], ['Jones', 15], ['Jones', 20]]"
   ]
  },
  {
   "cell_type": "code",
   "execution_count": 62,
   "metadata": {},
   "outputs": [
    {
     "data": {
      "text/plain": [
       "[['Jones', 15], ['Jones', 20], ['Smith', 20]]"
      ]
     },
     "execution_count": 62,
     "metadata": {},
     "output_type": "execute_result"
    }
   ],
   "source": [
    "sorted(sorted(data, key= lambda x: x[1]), key=lambda x:x[0])"
   ]
  },
  {
   "cell_type": "code",
   "execution_count": 95,
   "metadata": {},
   "outputs": [],
   "source": [
    "data = [['david', 100], ['amy', 100], ['heraldo', 50], ['aakansha', 75], ['aleksa', 150]]"
   ]
  },
  {
   "cell_type": "code",
   "execution_count": 79,
   "metadata": {},
   "outputs": [
    {
     "data": {
      "text/plain": [
       "True"
      ]
     },
     "execution_count": 79,
     "metadata": {},
     "output_type": "execute_result"
    }
   ],
   "source": [
    "data[0][0]>data[1][0]"
   ]
  },
  {
   "cell_type": "code",
   "execution_count": 94,
   "metadata": {},
   "outputs": [
    {
     "data": {
      "text/plain": [
       "['david', 100]"
      ]
     },
     "execution_count": 94,
     "metadata": {},
     "output_type": "execute_result"
    }
   ],
   "source": [
    "# sorted(data, key= lambda x: x[1], reverse=True)\n",
    "data[]"
   ]
  },
  {
   "cell_type": "code",
   "execution_count": 96,
   "metadata": {},
   "outputs": [
    {
     "name": "stdout",
     "output_type": "stream",
     "text": [
      "0\n",
      "1\n",
      "2\n",
      "[['amy', 100], ['david', 100], ['heraldo', 50], ['aakansha', 75], ['aleksa', 150]]\n",
      "3\n",
      "[['amy', 100], ['david', 100], ['aakansha', 75], ['heraldo', 50], ['aleksa', 150]]\n",
      "0\n",
      "1\n",
      "2\n",
      "[['amy', 100], ['david', 100], ['aakansha', 75], ['aleksa', 150], ['heraldo', 50]]\n",
      "3\n",
      "0\n",
      "1\n",
      "[['amy', 100], ['david', 100], ['aleksa', 150], ['aakansha', 75], ['heraldo', 50]]\n",
      "2\n",
      "3\n",
      "0\n",
      "[['amy', 100], ['aleksa', 150], ['david', 100], ['aakansha', 75], ['heraldo', 50]]\n",
      "1\n",
      "2\n",
      "3\n",
      "0\n",
      "1\n",
      "2\n",
      "3\n"
     ]
    }
   ],
   "source": [
    "for j in range(len(data)):    \n",
    "    for i in range(len(data)-1):\n",
    "        if data[i][1]<data[i+1][1]:\n",
    "            data[i],data[i+1]=data[i+1],data[i]\n",
    "            continue\n",
    "        elif data[i][1]==data[i+1][1]:\n",
    "            if data[i][0]>data[i+1][0]:\n",
    "                data[i],data[i+1] = data[i+1],data[i]\n",
    "                continue"
   ]
  },
  {
   "cell_type": "code",
   "execution_count": 97,
   "metadata": {},
   "outputs": [
    {
     "data": {
      "text/plain": [
       "[['aleksa', 150],\n",
       " ['amy', 100],\n",
       " ['david', 100],\n",
       " ['aakansha', 75],\n",
       " ['heraldo', 50]]"
      ]
     },
     "execution_count": 97,
     "metadata": {},
     "output_type": "execute_result"
    }
   ],
   "source": [
    "data"
   ]
  },
  {
   "cell_type": "code",
   "execution_count": 73,
   "metadata": {},
   "outputs": [
    {
     "data": {
      "text/plain": [
       "True"
      ]
     },
     "execution_count": 73,
     "metadata": {},
     "output_type": "execute_result"
    }
   ],
   "source": [
    "data[1][0]<data[2][0]"
   ]
  },
  {
   "cell_type": "markdown",
   "metadata": {},
   "source": [
    "# Fraudulent Activity Notification"
   ]
  },
  {
   "cell_type": "code",
   "execution_count": 66,
   "metadata": {},
   "outputs": [],
   "source": [
    "import math\n",
    "import statistics as stats\n",
    "expenditure = [1, 2, 3, 4, 4]\n",
    "\n",
    "d = 4"
   ]
  },
  {
   "cell_type": "code",
   "execution_count": 67,
   "metadata": {},
   "outputs": [],
   "source": [
    "def median(arr):\n",
    "    arr.sort()\n",
    "    n = len(arr)\n",
    "    if n%2==0:\n",
    "        return (arr[n//2-1]+arr[n//2])/2\n",
    "    else:\n",
    "        return arr[n//2]"
   ]
  },
  {
   "cell_type": "code",
   "execution_count": 70,
   "metadata": {},
   "outputs": [],
   "source": [
    "def activityNotifications(expenditure, d):\n",
    "    notice = 0\n",
    "    for i in range(d,len(expenditure)):\n",
    "        if expenditure[i]>=2*median(expenditure[i-d:i]):\n",
    "            notice+=1\n",
    "    return notice"
   ]
  },
  {
   "cell_type": "code",
   "execution_count": 71,
   "metadata": {},
   "outputs": [
    {
     "name": "stdout",
     "output_type": "stream",
     "text": [
      "0\n"
     ]
    }
   ],
   "source": [
    "print(activityNotifications(expenditure, d))"
   ]
  },
  {
   "cell_type": "markdown",
   "metadata": {},
   "source": [
    "## Dictionary and HashMaps: Sherlock and Anagrams"
   ]
  },
  {
   "cell_type": "markdown",
   "metadata": {},
   "source": [
    "Two strings are anagrams of each other if the letters of one string can be rearranged to form the other string. Given a string, find the number of pairs of substrings of the string that are anagrams of each other."
   ]
  },
  {
   "cell_type": "code",
   "execution_count": 49,
   "metadata": {},
   "outputs": [],
   "source": [
    "import collections\n",
    "from math import comb"
   ]
  },
  {
   "cell_type": "code",
   "execution_count": 50,
   "metadata": {},
   "outputs": [],
   "source": [
    "def sherlockAndAnagrams(s):\n",
    "    n = len(s)\n",
    "    counter = 0\n",
    "    list_words = []\n",
    "    for i in range(0,n):\n",
    "        for j in range(i,n):\n",
    "            list_words.append(s[i:j+1])\n",
    "    d = collections.Counter([''.join(sorted(i)) for i in list_words])\n",
    "    for (key, value) in d.items():\n",
    "        if value>1:\n",
    "            counter+=comb(value, 2)\n",
    "    return counter"
   ]
  },
  {
   "cell_type": "code",
   "execution_count": 51,
   "metadata": {},
   "outputs": [
    {
     "name": "stdout",
     "output_type": "stream",
     "text": [
      "5\n"
     ]
    }
   ],
   "source": [
    "print(sherlockAndAnagrams('cdcd'))"
   ]
  },
  {
   "cell_type": "markdown",
   "metadata": {},
   "source": [
    "## Dictionary and HashMaps: Count Triplets"
   ]
  },
  {
   "cell_type": "markdown",
   "metadata": {},
   "source": [
    "You are given an array and you need to find number of tripets of indices (i,j,k) such that the elements at those indices are in geometric progression for a given common ratio r and i<j<k."
   ]
  },
  {
   "cell_type": "code",
   "execution_count": 118,
   "metadata": {},
   "outputs": [],
   "source": [
    "arr = [1237]*1000\n",
    "r = 1\n",
    "n = len(arr)"
   ]
  },
  {
   "cell_type": "code",
   "execution_count": 119,
   "metadata": {},
   "outputs": [
    {
     "data": {
      "text/plain": [
       "1000"
      ]
     },
     "execution_count": 119,
     "metadata": {},
     "output_type": "execute_result"
    }
   ],
   "source": [
    "n"
   ]
  },
  {
   "cell_type": "code",
   "execution_count": 120,
   "metadata": {},
   "outputs": [],
   "source": [
    "from itertools import combinations\n",
    "import time"
   ]
  },
  {
   "cell_type": "code",
   "execution_count": 126,
   "metadata": {},
   "outputs": [],
   "source": [
    "def countTriplets(arr, r):\n",
    "    n = len(arr)\n",
    "    if r==1:\n",
    "        return comb(n,3)\n",
    "    else:\n",
    "        triplets = combinations(arr,3)\n",
    "        counter = 0\n",
    "        for i in triplets:\n",
    "            if i[1]/i[0]==i[2]/i[1]==r:\n",
    "                counter+=1\n",
    "        return counter"
   ]
  },
  {
   "cell_type": "code",
   "execution_count": 127,
   "metadata": {},
   "outputs": [
    {
     "name": "stdout",
     "output_type": "stream",
     "text": [
      "166167000\n",
      "Wall time: 0 ns\n"
     ]
    }
   ],
   "source": [
    "%%time\n",
    "print(countTriplets(arr,r))"
   ]
  },
  {
   "cell_type": "code",
   "execution_count": 125,
   "metadata": {},
   "outputs": [
    {
     "data": {
      "text/plain": [
       "166661666700000"
      ]
     },
     "execution_count": 125,
     "metadata": {},
     "output_type": "execute_result"
    }
   ],
   "source": [
    "comb(100000,3)"
   ]
  },
  {
   "cell_type": "code",
   "execution_count": 128,
   "metadata": {},
   "outputs": [],
   "source": [
    "# alternative"
   ]
  },
  {
   "cell_type": "code",
   "execution_count": 164,
   "metadata": {},
   "outputs": [],
   "source": [
    "# arr = (1 700017524 19825744 777459894 735573643 178930800 381654999 429832527 180098534 927622329 16298209 825911952 507288526 317338746 888990172 560552183 429755564 976069902 240301877 791130043 947340732 134328643 400900451 741150090 213632881 803543377 231990946 999970945 950575872 43108758 207080820 785652192 595642633 226906563 415628437 183732627 405837362 797283435 466081505 438452247 577422115 482379713 116880550 84710640 799718459 5870722 645262822 229474022 834456975 885564698 20604064 634314058 872409692 274020867 227980499 938558924 930080595 459971445 938529868 880656466 355596554 145610687 518825009 803755538 225033602 934453445 987488164 483387315 584253231 306086020 921839562 161675345 788465732 38720111 98902336 588184190 897107184 744165157 670174564 731564158 482246206 543294979 218394567 207172249 817315845 446375066 145731172 599912791 906346510 936777392 333085609 114459415 934904430 851910617 918214952 12454383 638880414 758219467 495841698 75649996 64305486 270197611 237325341 705287569 308917721 336227676 145988111 58541257 932909185 816162674 790105414 267671742 359457652 8499981 474843991 29289849 307391398 473091514 629202639 66254259 262385257 962288247 180713673 49806039 666715216 951444976 62260421 158111981 562180794 410618470 233761976 479002631 680816080 323603668 184290199 842250153 659831344 330278309 900791409 445256880 146440982 543413174 712928621 358414986 404429506 40288963 240221186 711820903"
   ]
  },
  {
   "cell_type": "code",
   "execution_count": 165,
   "metadata": {},
   "outputs": [],
   "source": [
    "# arr = list(map(int, input().rstrip().split()))\n",
    "arr = [123]*1000000"
   ]
  },
  {
   "cell_type": "code",
   "execution_count": 166,
   "metadata": {},
   "outputs": [],
   "source": [
    "n = len(arr)\n",
    "r = 1"
   ]
  },
  {
   "cell_type": "code",
   "execution_count": 167,
   "metadata": {},
   "outputs": [],
   "source": [
    "def countTriplets(arr, r):\n",
    "    a = collections.Counter(arr)\n",
    "    b = collections.Counter()\n",
    "    s = 0\n",
    "    for i in arr:\n",
    "        j = i*r\n",
    "        k = i*r*r\n",
    "        a[i]-=1\n",
    "        if b[j] and a[k] and i%r == 0:\n",
    "            s+=b[j]*a[k]\n",
    "        b[i]+=1\n",
    "    return s"
   ]
  },
  {
   "cell_type": "code",
   "execution_count": 168,
   "metadata": {},
   "outputs": [
    {
     "data": {
      "text/plain": [
       "166666166667000000"
      ]
     },
     "execution_count": 168,
     "metadata": {},
     "output_type": "execute_result"
    }
   ],
   "source": [
    "countTriplets(arr, r)"
   ]
  },
  {
   "cell_type": "code",
   "execution_count": 141,
   "metadata": {},
   "outputs": [
    {
     "name": "stdout",
     "output_type": "stream",
     "text": [
      "1 0 2 1\n",
      "700017524 350008762 1400035048 0\n",
      "19825744 9912872 39651488 0\n",
      "777459894 388729947 1554919788 0\n",
      "735573643 367786821 1471147286 1\n",
      "178930800 89465400 357861600 0\n",
      "381654999 190827499 763309998 1\n",
      "429832527 214916263 859665054 1\n",
      "180098534 90049267 360197068 0\n",
      "927622329 463811164 1855244658 1\n",
      "16298209 8149104 32596418 1\n",
      "825911952 412955976 1651823904 0\n",
      "507288526 253644263 1014577052 0\n",
      "317338746 158669373 634677492 0\n",
      "888990172 444495086 1777980344 0\n",
      "560552183 280276091 1121104366 1\n",
      "429755564 214877782 859511128 0\n",
      "976069902 488034951 1952139804 0\n",
      "240301877 120150938 480603754 1\n",
      "791130043 395565021 1582260086 1\n",
      "947340732 473670366 1894681464 0\n",
      "134328643 67164321 268657286 1\n",
      "400900451 200450225 801800902 1\n",
      "741150090 370575045 1482300180 0\n",
      "213632881 106816440 427265762 1\n",
      "803543377 401771688 1607086754 1\n",
      "231990946 115995473 463981892 0\n",
      "999970945 499985472 1999941890 1\n",
      "950575872 475287936 1901151744 0\n",
      "43108758 21554379 86217516 0\n",
      "207080820 103540410 414161640 0\n",
      "785652192 392826096 1571304384 0\n",
      "595642633 297821316 1191285266 1\n",
      "226906563 113453281 453813126 1\n",
      "415628437 207814218 831256874 1\n",
      "183732627 91866313 367465254 1\n",
      "405837362 202918681 811674724 0\n",
      "797283435 398641717 1594566870 1\n",
      "466081505 233040752 932163010 1\n",
      "438452247 219226123 876904494 1\n",
      "577422115 288711057 1154844230 1\n",
      "482379713 241189856 964759426 1\n",
      "116880550 58440275 233761100 0\n",
      "84710640 42355320 169421280 0\n",
      "799718459 399859229 1599436918 1\n",
      "5870722 2935361 11741444 0\n",
      "645262822 322631411 1290525644 0\n",
      "229474022 114737011 458948044 0\n",
      "834456975 417228487 1668913950 1\n",
      "885564698 442782349 1771129396 0\n",
      "20604064 10302032 41208128 0\n",
      "634314058 317157029 1268628116 0\n",
      "872409692 436204846 1744819384 0\n",
      "274020867 137010433 548041734 1\n",
      "227980499 113990249 455960998 1\n",
      "938558924 469279462 1877117848 0\n",
      "930080595 465040297 1860161190 1\n",
      "459971445 229985722 919942890 1\n",
      "938529868 469264934 1877059736 0\n",
      "880656466 440328233 1761312932 0\n",
      "355596554 177798277 711193108 0\n",
      "145610687 72805343 291221374 1\n",
      "518825009 259412504 1037650018 1\n",
      "803755538 401877769 1607511076 0\n",
      "225033602 112516801 450067204 0\n",
      "934453445 467226722 1868906890 1\n",
      "987488164 493744082 1974976328 0\n",
      "483387315 241693657 966774630 1\n",
      "584253231 292126615 1168506462 1\n",
      "306086020 153043010 612172040 0\n",
      "921839562 460919781 1843679124 0\n",
      "161675345 80837672 323350690 1\n",
      "788465732 394232866 1576931464 0\n",
      "38720111 19360055 77440222 1\n",
      "98902336 49451168 197804672 0\n",
      "588184190 294092095 1176368380 0\n",
      "897107184 448553592 1794214368 0\n",
      "744165157 372082578 1488330314 1\n",
      "670174564 335087282 1340349128 0\n",
      "731564158 365782079 1463128316 0\n",
      "482246206 241123103 964492412 0\n",
      "543294979 271647489 1086589958 1\n",
      "218394567 109197283 436789134 1\n",
      "207172249 103586124 414344498 1\n",
      "817315845 408657922 1634631690 1\n",
      "446375066 223187533 892750132 0\n",
      "145731172 72865586 291462344 0\n",
      "599912791 299956395 1199825582 1\n",
      "906346510 453173255 1812693020 0\n",
      "936777392 468388696 1873554784 0\n",
      "333085609 166542804 666171218 1\n",
      "114459415 57229707 228918830 1\n",
      "934904430 467452215 1869808860 0\n",
      "851910617 425955308 1703821234 1\n",
      "918214952 459107476 1836429904 0\n",
      "12454383 6227191 24908766 1\n",
      "638880414 319440207 1277760828 0\n",
      "758219467 379109733 1516438934 1\n",
      "495841698 247920849 991683396 0\n",
      "75649996 37824998 151299992 0\n",
      "64305486 32152743 128610972 0\n",
      "270197611 135098805 540395222 1\n",
      "237325341 118662670 474650682 1\n",
      "705287569 352643784 1410575138 1\n",
      "308917721 154458860 617835442 1\n",
      "336227676 168113838 672455352 0\n",
      "145988111 72994055 291976222 1\n",
      "58541257 29270628 117082514 1\n",
      "932909185 466454592 1865818370 1\n",
      "816162674 408081337 1632325348 0\n",
      "790105414 395052707 1580210828 0\n",
      "267671742 133835871 535343484 0\n",
      "359457652 179728826 718915304 0\n",
      "8499981 4249990 16999962 1\n",
      "474843991 237421995 949687982 1\n",
      "29289849 14644924 58579698 1\n",
      "307391398 153695699 614782796 0\n",
      "473091514 236545757 946183028 0\n",
      "629202639 314601319 1258405278 1\n",
      "66254259 33127129 132508518 1\n",
      "262385257 131192628 524770514 1\n",
      "962288247 481144123 1924576494 1\n",
      "180713673 90356836 361427346 1\n",
      "49806039 24903019 99612078 1\n",
      "666715216 333357608 1333430432 0\n",
      "951444976 475722488 1902889952 0\n",
      "62260421 31130210 124520842 1\n",
      "158111981 79055990 316223962 1\n",
      "562180794 281090397 1124361588 0\n",
      "410618470 205309235 821236940 0\n",
      "233761976 116880988 467523952 0\n",
      "479002631 239501315 958005262 1\n",
      "680816080 340408040 1361632160 0\n",
      "323603668 161801834 647207336 0\n",
      "184290199 92145099 368580398 1\n",
      "842250153 421125076 1684500306 1\n",
      "659831344 329915672 1319662688 0\n",
      "330278309 165139154 660556618 1\n",
      "900791409 450395704 1801582818 1\n",
      "445256880 222628440 890513760 0\n",
      "146440982 73220491 292881964 0\n",
      "543413174 271706587 1086826348 0\n",
      "712928621 356464310 1425857242 1\n",
      "358414986 179207493 716829972 0\n",
      "404429506 202214753 808859012 0\n",
      "40288963 20144481 80577926 1\n",
      "240221186 120110593 480442372 0\n",
      "711820903 355910451 1423641806 1\n"
     ]
    }
   ],
   "source": [
    "for i in arr:\n",
    "    print(i, i//r, i*r, i%r)\n",
    "    a[i]-=1"
   ]
  },
  {
   "cell_type": "markdown",
   "metadata": {},
   "source": [
    "### Time Conversion"
   ]
  },
  {
   "cell_type": "code",
   "execution_count": 41,
   "metadata": {},
   "outputs": [],
   "source": [
    "s = \"12:01:00AM\""
   ]
  },
  {
   "cell_type": "code",
   "execution_count": 43,
   "metadata": {},
   "outputs": [],
   "source": [
    "amorpm = s[-2:]\n",
    "time = s[:-2]"
   ]
  },
  {
   "cell_type": "code",
   "execution_count": 44,
   "metadata": {},
   "outputs": [],
   "source": [
    "# amorpm, time.split(':')\n",
    "hr, mint, sec = time.split(':')"
   ]
  },
  {
   "cell_type": "code",
   "execution_count": 45,
   "metadata": {},
   "outputs": [
    {
     "name": "stdout",
     "output_type": "stream",
     "text": [
      "00:01:00\n"
     ]
    }
   ],
   "source": [
    "if amorpm=='PM':\n",
    "    if hr=='12':\n",
    "        print(hr+\":\"+mint+\":\"+sec)\n",
    "    else:\n",
    "        hr = str((int(hr)+12)%24)\n",
    "        print(hr+\":\"+mint+\":\"+sec)\n",
    "else:\n",
    "    if hr=='12':\n",
    "        print('00'+\":\"+mint+\":\"+sec)\n",
    "    else:\n",
    "        print(hr+\":\"+mint+\":\"+sec)"
   ]
  },
  {
   "cell_type": "markdown",
   "metadata": {},
   "source": [
    "### Find the MEdian"
   ]
  },
  {
   "cell_type": "code",
   "execution_count": 75,
   "metadata": {},
   "outputs": [
    {
     "name": "stdout",
     "output_type": "stream",
     "text": [
      "6\n"
     ]
    }
   ],
   "source": [
    "s =[5,3,1,2, 4, 6]\n",
    "s.sort()\n",
    "n=len(s)\n",
    "print(n)\n",
    "if n%2==0:\n",
    "    a = (s[int(n/2)]+s[int(n/2)-1])/2\n",
    "else:\n",
    "    a = s[int((n-1)/2)]"
   ]
  },
  {
   "cell_type": "markdown",
   "metadata": {},
   "source": [
    "### Lonely Integer"
   ]
  },
  {
   "cell_type": "code",
   "execution_count": 77,
   "metadata": {},
   "outputs": [],
   "source": [
    "a = [1,2,3,4,3,2,1]"
   ]
  },
  {
   "cell_type": "code",
   "execution_count": 95,
   "metadata": {},
   "outputs": [],
   "source": [
    "def lonelyinteger(a):\n",
    "    # Write your code here\n",
    "    d = {}\n",
    "    for i in a:\n",
    "        if i in d:\n",
    "            d[i]+=1\n",
    "        else:\n",
    "            d[i]=1\n",
    "    for key, value in d.items():\n",
    "        if value==1:\n",
    "            return key"
   ]
  },
  {
   "cell_type": "code",
   "execution_count": 96,
   "metadata": {},
   "outputs": [
    {
     "data": {
      "text/plain": [
       "4"
      ]
     },
     "execution_count": 96,
     "metadata": {},
     "output_type": "execute_result"
    }
   ],
   "source": [
    "lonelyinteger(a)"
   ]
  },
  {
   "cell_type": "markdown",
   "metadata": {},
   "source": [
    "### Diagonal Difference"
   ]
  },
  {
   "cell_type": "code",
   "execution_count": 110,
   "metadata": {},
   "outputs": [],
   "source": [
    "import math"
   ]
  },
  {
   "cell_type": "code",
   "execution_count": 97,
   "metadata": {},
   "outputs": [],
   "source": [
    "arr = [[11, 2, 4], [4, 5, 6], [10, 8, -12]]"
   ]
  },
  {
   "cell_type": "code",
   "execution_count": 99,
   "metadata": {},
   "outputs": [],
   "source": [
    "n = len(arr)\n",
    "diag1 = 0\n",
    "for i in range(n):\n",
    "    diag1+=arr[i][i]\n",
    "diag2 = 0\n",
    "for i in range(n):\n",
    "    diag2 +=arr[i][n-1-i]"
   ]
  },
  {
   "cell_type": "code",
   "execution_count": 112,
   "metadata": {},
   "outputs": [
    {
     "data": {
      "text/plain": [
       "15"
      ]
     },
     "execution_count": 112,
     "metadata": {},
     "output_type": "execute_result"
    }
   ],
   "source": [
    "abs(diag1-diag2)"
   ]
  },
  {
   "cell_type": "markdown",
   "metadata": {},
   "source": [
    "### Comparison Sort 1"
   ]
  },
  {
   "cell_type": "markdown",
   "metadata": {},
   "source": [
    "Alternative sorting"
   ]
  },
  {
   "cell_type": "code",
   "execution_count": 141,
   "metadata": {},
   "outputs": [],
   "source": [
    "freq_arr = [0]*100"
   ]
  },
  {
   "cell_type": "code",
   "execution_count": 123,
   "metadata": {},
   "outputs": [
    {
     "name": "stdin",
     "output_type": "stream",
     "text": [
      " 63 25 73 1 98 73 56 84 86 57 16 83 8 25 81 56 9 53 98 67 99 12 83 89 80 91 39 86 76 85 74 39 25 90 59 10 94 32 44 3 89 30 27 79 46 96 27 32 18 21 92 69 81 40 40 34 68 78 24 87 42 69 23 41 78 22 6 90 99 89 50 30 20 1 43 3 70 95 33 46 44 9 69 48 33 60 65 16 82 67 61 32 21 79 75 75 13 87 70 33\n"
     ]
    }
   ],
   "source": [
    "arr = list(map(int, input().rstrip().split()))"
   ]
  },
  {
   "cell_type": "code",
   "execution_count": 146,
   "metadata": {},
   "outputs": [],
   "source": [
    "freq_arr = [0]*10\n",
    "arr = [1,1,3,2,1]\n",
    "n = len(arr)"
   ]
  },
  {
   "cell_type": "code",
   "execution_count": 147,
   "metadata": {},
   "outputs": [],
   "source": [
    "for i in range(n):\n",
    "    freq_arr[arr[i]]+=1"
   ]
  },
  {
   "cell_type": "code",
   "execution_count": 148,
   "metadata": {},
   "outputs": [
    {
     "data": {
      "text/plain": [
       "[0, 3, 1, 1, 0, 0, 0, 0, 0, 0]"
      ]
     },
     "execution_count": 148,
     "metadata": {},
     "output_type": "execute_result"
    }
   ],
   "source": [
    "freq_arr"
   ]
  },
  {
   "cell_type": "code",
   "execution_count": 155,
   "metadata": {},
   "outputs": [],
   "source": [
    "sorte_arr = []"
   ]
  },
  {
   "cell_type": "code",
   "execution_count": 156,
   "metadata": {},
   "outputs": [],
   "source": [
    "for i in range(10):\n",
    "    sorte_arr = sorte_arr+[i]*freq_arr[i]"
   ]
  },
  {
   "cell_type": "code",
   "execution_count": 157,
   "metadata": {},
   "outputs": [
    {
     "data": {
      "text/plain": [
       "[1, 1, 1, 2, 3]"
      ]
     },
     "execution_count": 157,
     "metadata": {},
     "output_type": "execute_result"
    }
   ],
   "source": [
    "sorte_arr"
   ]
  },
  {
   "cell_type": "markdown",
   "metadata": {},
   "source": [
    "### FLIPPING MATRIX"
   ]
  },
  {
   "cell_type": "code",
   "execution_count": 1,
   "metadata": {},
   "outputs": [],
   "source": [
    "matrix = [[112, 42, 83, 119], [56, 125, 56, 49], [15, 78, 101, 43], [62, 98, 114, 108]]"
   ]
  },
  {
   "cell_type": "code",
   "execution_count": 12,
   "metadata": {},
   "outputs": [
    {
     "name": "stdout",
     "output_type": "stream",
     "text": [
      "[112, 42, 83, 119] [56, 125, 56, 49] [15, 78, 101, 43] [62, 98, 114, 108]\n"
     ]
    }
   ],
   "source": [
    "print(*matrix)"
   ]
  },
  {
   "cell_type": "code",
   "execution_count": 4,
   "metadata": {},
   "outputs": [],
   "source": [
    "n = len(matrix)"
   ]
  },
  {
   "cell_type": "code",
   "execution_count": 19,
   "metadata": {},
   "outputs": [],
   "source": [
    "s=0\n",
    "for i in range(n//2):\n",
    "    for j in range(n//2):\n",
    "        s+=max(matrix[i][j],matrix[i][n-j-1], matrix[n-i-1][j], matrix[n-i-1][n-j-1])"
   ]
  },
  {
   "cell_type": "code",
   "execution_count": 20,
   "metadata": {},
   "outputs": [
    {
     "data": {
      "text/plain": [
       "414"
      ]
     },
     "execution_count": 20,
     "metadata": {},
     "output_type": "execute_result"
    }
   ],
   "source": [
    "s"
   ]
  },
  {
   "cell_type": "markdown",
   "metadata": {},
   "source": [
    "## Zig Zag Sequence"
   ]
  },
  {
   "cell_type": "code",
   "execution_count": 29,
   "metadata": {},
   "outputs": [],
   "source": [
    "a = [2,3,5,1,4,7,9]"
   ]
  },
  {
   "cell_type": "code",
   "execution_count": 38,
   "metadata": {},
   "outputs": [],
   "source": [
    "def findZigZagSequence(a, n):\n",
    "    a.sort()\n",
    "    mid = int((n + 1)/2)-1\n",
    "    a[mid], a[n-1] = a[n-1], a[mid]\n",
    "\n",
    "    st = mid + 1\n",
    "    ed = n - 2\n",
    "    while(st <= ed):\n",
    "        a[st], a[ed] = a[ed], a[st]\n",
    "        st = st + 1\n",
    "        ed = ed - 1\n",
    "\n",
    "    for i in range (n):\n",
    "        if i == n-1:\n",
    "            print(a[i])\n",
    "        else:\n",
    "            print(a[i], end = ' ')\n",
    "    return"
   ]
  },
  {
   "cell_type": "code",
   "execution_count": 39,
   "metadata": {},
   "outputs": [
    {
     "name": "stdout",
     "output_type": "stream",
     "text": [
      "1 2 3 9 7 5 4\n"
     ]
    }
   ],
   "source": [
    "findZigZagSequence([2,3,5,1,4,7,9],7)"
   ]
  },
  {
   "cell_type": "markdown",
   "metadata": {},
   "source": [
    "## Tower Breakers"
   ]
  },
  {
   "cell_type": "markdown",
   "metadata": {},
   "source": [
    "Two players are playing a game of Tower Breakers! Player 1 always moves first, and both players always play optimally.The rules of the game are as follows:\n",
    "\n",
    "- Initially there are <b>n</b> towers.\n",
    "- Each tower is of height <b>m</b>.\n",
    "- The players move in alternating turns.\n",
    "- In each turn, a player can choose a tower of height <b>x</b> and reduce its height to <b>y</b>, where <b>1$\\leq$y$<$x</b> and <b>y</b> evenly divides <b>x</b>.\n",
    "- If the current player is unable to make a move, they lose the game.\n",
    "\n",
    "Given the values of <b>n</b> and <b>m</b>, determine which player will win. If the first player wins, return 1. Otherwise, return 2."
   ]
  },
  {
   "cell_type": "markdown",
   "metadata": {},
   "source": [
    "Note the solution is very simple. We assume that the players are both playing optimally. That means that whatever Player 1 does Player 2 should repeat. So if the height of each tower __m__ is one then in that case player 2 always win since player 1 does not have any move. If the number of towers, __n__ is even then the player 2 always wins since if player 1 does something to one tower then player 2 will repeat it to the other tower, eventually bringing the game to player 1 having no moves left. If __n__ is odd them player 1 reduces one tower to height 1 and then the roles are reversed since now player 2 has to choose first and player 1 will follow whatever player 2 does."
   ]
  },
  {
   "cell_type": "code",
   "execution_count": 40,
   "metadata": {},
   "outputs": [],
   "source": [
    "def towerBreakers(n, m):\n",
    "    # Write your code here\n",
    "    if m==1:\n",
    "        return 2\n",
    "    else:\n",
    "        if n%2==1:\n",
    "            return 1\n",
    "        else:\n",
    "            return 2"
   ]
  },
  {
   "cell_type": "code",
   "execution_count": 41,
   "metadata": {},
   "outputs": [
    {
     "data": {
      "text/plain": [
       "2"
      ]
     },
     "execution_count": 41,
     "metadata": {},
     "output_type": "execute_result"
    }
   ],
   "source": [
    "towerBreakers(2, 6)"
   ]
  },
  {
   "cell_type": "markdown",
   "metadata": {},
   "source": [
    "## Greedy Algos: Minimum Absolute Difference in an Array"
   ]
  },
  {
   "cell_type": "code",
   "execution_count": 20,
   "metadata": {},
   "outputs": [],
   "source": [
    "arr = [3,-7,0]"
   ]
  },
  {
   "cell_type": "code",
   "execution_count": 12,
   "metadata": {},
   "outputs": [],
   "source": [
    "arr.sort()"
   ]
  },
  {
   "cell_type": "code",
   "execution_count": 6,
   "metadata": {},
   "outputs": [],
   "source": [
    "max_diff = abs(arr[0]-arr[-1])"
   ]
  },
  {
   "cell_type": "code",
   "execution_count": 16,
   "metadata": {},
   "outputs": [],
   "source": [
    "def minimumAbsoluteDifference(arr): \n",
    "    arr.sort()\n",
    "    min_diff = abs(arr[0]-arr[1])\n",
    "    for i in range(0, len(arr)-1):\n",
    "        diff = abs(arr[i]-arr[i+1])\n",
    "        if diff<min_diff:\n",
    "            min_diff = diff\n",
    "    return min_diff"
   ]
  },
  {
   "cell_type": "code",
   "execution_count": 21,
   "metadata": {},
   "outputs": [
    {
     "data": {
      "text/plain": [
       "3"
      ]
     },
     "execution_count": 21,
     "metadata": {},
     "output_type": "execute_result"
    }
   ],
   "source": [
    "minimumAbsoluteDifference(arr)"
   ]
  },
  {
   "cell_type": "markdown",
   "metadata": {},
   "source": [
    "## Greedy Algos: Luck Balance"
   ]
  },
  {
   "cell_type": "code",
   "execution_count": 7,
   "metadata": {},
   "outputs": [],
   "source": [
    "from itertools import groupby"
   ]
  },
  {
   "cell_type": "code",
   "execution_count": 23,
   "metadata": {
    "tags": []
   },
   "outputs": [],
   "source": [
    "n = 6\n",
    "k = 3"
   ]
  },
  {
   "cell_type": "code",
   "execution_count": 24,
   "metadata": {},
   "outputs": [],
   "source": [
    "contests = [[5, 1], [2, 1], [1, 1], [8, 1], [10, 0], [5, 0]]"
   ]
  },
  {
   "cell_type": "code",
   "execution_count": 39,
   "metadata": {},
   "outputs": [
    {
     "name": "stdout",
     "output_type": "stream",
     "text": [
      "5 1\n",
      "2 1\n",
      "1 1\n",
      "8 1\n",
      "10 0\n",
      "5 0\n"
     ]
    }
   ],
   "source": [
    "for x,y in contests:\n",
    "    print(x,y)"
   ]
  },
  {
   "cell_type": "code",
   "execution_count": 35,
   "metadata": {},
   "outputs": [],
   "source": [
    "def luckBalance(k, contests):\n",
    "    luckscore = 0\n",
    "    loss_cnt = 0\n",
    "    srted_list = sorted(contests, reverse = True)\n",
    "    for i in sorted(contests, reverse = True):\n",
    "        if i[1]==0:\n",
    "            luckscore+=i[0]\n",
    "        else:\n",
    "            loss_cnt+=1\n",
    "            if loss_cnt>k:\n",
    "                luckscore-=i[0]\n",
    "            else:\n",
    "                luckscore+=i[0]\n",
    "    return luckscore"
   ]
  },
  {
   "cell_type": "code",
   "execution_count": 36,
   "metadata": {},
   "outputs": [
    {
     "data": {
      "text/plain": [
       "29"
      ]
     },
     "execution_count": 36,
     "metadata": {},
     "output_type": "execute_result"
    }
   ],
   "source": [
    "luckBalance(k,contests)"
   ]
  },
  {
   "cell_type": "code",
   "execution_count": 37,
   "metadata": {},
   "outputs": [],
   "source": [
    "def luckBalance(k, contests):\n",
    "    important, optional = [], 0\n",
    "    for x,y in contests:\n",
    "        if y: \n",
    "            important.append(x)\n",
    "        else: \n",
    "            optional+=x\n",
    "    if k<len(important):\n",
    "        s = sorted(important)\n",
    "        i = len(s)-k\n",
    "        return optional+sum(s[i:])-sum(s[:i])\n",
    "    return optional+sum(important)"
   ]
  },
  {
   "cell_type": "code",
   "execution_count": 38,
   "metadata": {},
   "outputs": [
    {
     "data": {
      "text/plain": [
       "29"
      ]
     },
     "execution_count": 38,
     "metadata": {},
     "output_type": "execute_result"
    }
   ],
   "source": [
    "luckBalance(k,contests)"
   ]
  },
  {
   "cell_type": "markdown",
   "metadata": {},
   "source": [
    "# Stacks & Queues"
   ]
  },
  {
   "cell_type": "markdown",
   "metadata": {},
   "source": [
    "### Balanced Brackets"
   ]
  },
  {
   "cell_type": "markdown",
   "metadata": {},
   "source": [
    "A bracket is considered to be any one of the following characters: (, ), {, }, [, or ].\n",
    "\n",
    "Two brackets are considered to be a matched pair if the an opening bracket (i.e., (, [, or {) occurs to the left of a closing bracket (i.e., ), ], or }) of the exact same type. There are three types of matched pairs of brackets: [], {}, and ().\n",
    "\n",
    "A matching pair of brackets is not balanced if the set of brackets it encloses are not matched. For example, {[(])} is not balanced because the contents in between { and } are not balanced. The pair of square brackets encloses a single, unbalanced opening bracket, (, and the pair of parentheses encloses a single, unbalanced closing square bracket, ].\n",
    "\n",
    "By this logic, we say a sequence of brackets is balanced if the following conditions are met:\n",
    "\n",
    "It contains no unmatched brackets.\n",
    "The subset of brackets enclosed within the confines of a matched pair of brackets is also a matched pair of brackets.\n",
    "Given  strings of brackets, determine whether each sequence of brackets is balanced. If a string is balanced, return YES. Otherwise, return NO."
   ]
  },
  {
   "cell_type": "code",
   "execution_count": 126,
   "metadata": {},
   "outputs": [],
   "source": [
    "s = '{{)[](}}'"
   ]
  },
  {
   "cell_type": "code",
   "execution_count": 127,
   "metadata": {
    "tags": []
   },
   "outputs": [],
   "source": [
    "def isBalanced(s):\n",
    "    stack = []\n",
    "    pairs = {\"}\": \"{\", \"]\": \"[\", \")\" : \"(\"}\n",
    "    for i in s:\n",
    "        if i in pairs.values():\n",
    "            stack.append(i)\n",
    "        elif i in pairs.keys():\n",
    "            if not stack or stack.pop()!=pairs[i]:\n",
    "                return \"NO\"\n",
    "    return \"YES\" if not stack else\"NO\""
   ]
  },
  {
   "cell_type": "code",
   "execution_count": 128,
   "metadata": {
    "tags": []
   },
   "outputs": [
    {
     "data": {
      "text/plain": [
       "'NO'"
      ]
     },
     "execution_count": 128,
     "metadata": {},
     "output_type": "execute_result"
    }
   ],
   "source": [
    "isBalanced(s)"
   ]
  },
  {
   "cell_type": "code",
   "execution_count": null,
   "metadata": {},
   "outputs": [],
   "source": []
  }
 ],
 "metadata": {
  "kernelspec": {
   "display_name": "Python 3",
   "language": "python",
   "name": "python3"
  },
  "language_info": {
   "codemirror_mode": {
    "name": "ipython",
    "version": 3
   },
   "file_extension": ".py",
   "mimetype": "text/x-python",
   "name": "python",
   "nbconvert_exporter": "python",
   "pygments_lexer": "ipython3",
   "version": "3.8.6"
  }
 },
 "nbformat": 4,
 "nbformat_minor": 4
}
