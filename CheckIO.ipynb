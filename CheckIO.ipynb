{
 "cells": [
  {
   "cell_type": "markdown",
   "metadata": {},
   "source": [
    "# Morse Code"
   ]
  },
  {
   "cell_type": "code",
   "execution_count": 20,
   "metadata": {},
   "outputs": [],
   "source": [
    "MORSE = {'.-':    'a', '-...':  'b', '-.-.':  'c',\n",
    "         '-..':   'd', '.':     'e', '..-.':  'f',\n",
    "         '--.':   'g', '....':  'h', '..':    'i',\n",
    "         '.---':  'j', '-.-':   'k', '.-..':  'l',\n",
    "         '--':    'm', '-.':    'n', '---':   'o',\n",
    "         '.--.':  'p', '--.-':  'q', '.-.':   'r',\n",
    "         '...':   's', '-':     't', '..-':   'u',\n",
    "         '...-':  'v', '.--':   'w', '-..-':  'x',\n",
    "         '-.--':  'y', '--..':  'z', '-----': '0',\n",
    "         '.----': '1', '..---': '2', '...--': '3',\n",
    "         '....-': '4', '.....': '5', '-....': '6',\n",
    "         '--...': '7', '---..': '8', '----.': '9'\n",
    "        }"
   ]
  },
  {
   "cell_type": "code",
   "execution_count": 23,
   "metadata": {},
   "outputs": [],
   "source": [
    "def morse_decoder(code):\n",
    "    #replace this for solution\n",
    "    code_list = code.split('   ')\n",
    "    words = \"\"\n",
    "    for i in code_list:\n",
    "        wrd_lis = [MORSE[j] for j in i.split(' ')]\n",
    "        word = ''.join(wrd_lis)\n",
    "        if code_list.index(i)==0:\n",
    "            word = word.capitalize()\n",
    "        words+=\" \"+word\n",
    "    return words.lstrip()"
   ]
  },
  {
   "cell_type": "code",
   "execution_count": 24,
   "metadata": {},
   "outputs": [
    {
     "name": "stdout",
     "output_type": "stream",
     "text": [
      "some\n",
      "text\n",
      "Some text\n"
     ]
    }
   ],
   "source": [
    "print(morse_decoder(\"... --- -- .   - . -..- -\")) #== \"Some text\""
   ]
  },
  {
   "cell_type": "markdown",
   "metadata": {},
   "source": [
    "# Words Order"
   ]
  },
  {
   "cell_type": "code",
   "execution_count": 27,
   "metadata": {},
   "outputs": [],
   "source": [
    "def words_order(text: str, words: list) -> bool:\n",
    "    # your code here\n",
    "    return False"
   ]
  },
  {
   "cell_type": "code",
   "execution_count": 28,
   "metadata": {},
   "outputs": [],
   "source": [
    "# words_order('hi world im here', ['world', 'here']) == True\n",
    "# words_order('hi world im here', ['here', 'world']) == False\n",
    "\n",
    "# a word from the list is not in the text - your function should return False;\n",
    "# any word can appear more than once in a text - use only the first one;\n",
    "# two words in the given list are the same - your function should return False;\n",
    "# the condition is case sensitive, which means 'hi' and 'Hi' are two different words;\n",
    "# the text includes only English letters and spaces."
   ]
  },
  {
   "cell_type": "code",
   "execution_count": 66,
   "metadata": {},
   "outputs": [],
   "source": [
    "s = 'hi world im here im'\n",
    "lst = ['country', 'here']\n",
    "\n",
    "txt_lst = list(s.split(' '))\n",
    "# [txt_lst.index(i) for i in lst]"
   ]
  },
  {
   "cell_type": "code",
   "execution_count": 68,
   "metadata": {},
   "outputs": [
    {
     "data": {
      "text/plain": [
       "False"
      ]
     },
     "execution_count": 68,
     "metadata": {},
     "output_type": "execute_result"
    }
   ],
   "source": [
    "all([i in txt_lst for i in lst])"
   ]
  },
  {
   "cell_type": "code",
   "execution_count": 92,
   "metadata": {},
   "outputs": [],
   "source": [
    "def words_order(text: str, words: list):\n",
    "    txt_lst = list(text.split(' '))\n",
    "    if len(words)==1:\n",
    "        if words[0] in txt_lst:\n",
    "            return True\n",
    "        else: \n",
    "            return False\n",
    "    else:\n",
    "        if all([i in txt_lst for i in words]): \n",
    "            if all([txt_lst.index(words[j])<txt_lst.index(words[j+1]) for j in range(len(words)-1)]):\n",
    "                return True\n",
    "            else:\n",
    "                return False\n",
    "        else:\n",
    "            return False"
   ]
  },
  {
   "cell_type": "code",
   "execution_count": null,
   "metadata": {},
   "outputs": [],
   "source": [
    "def words_order(text: str, words: list):\n",
    "    i = -1\n",
    "    for p in words:\n",
    "        if p in text.split(' '):\n",
    "            if text.split(' ').index(p) > i :\n",
    "                i=text.split(' ').index(p)\n",
    "            else: return False\n",
    "        else: return False\n",
    "    return True"
   ]
  },
  {
   "cell_type": "code",
   "execution_count": 93,
   "metadata": {},
   "outputs": [
    {
     "data": {
      "text/plain": [
       "False"
      ]
     },
     "execution_count": 93,
     "metadata": {},
     "output_type": "execute_result"
    }
   ],
   "source": [
    "words_order(\"london in the capital of great britain\", [\"London\"])"
   ]
  },
  {
   "cell_type": "code",
   "execution_count": 90,
   "metadata": {},
   "outputs": [
    {
     "data": {
      "text/plain": [
       "False"
      ]
     },
     "execution_count": 90,
     "metadata": {},
     "output_type": "execute_result"
    }
   ],
   "source": [
    "words_order('', ['world', 'here'])"
   ]
  },
  {
   "cell_type": "code",
   "execution_count": null,
   "metadata": {},
   "outputs": [],
   "source": [
    "print(words_order('hi world im here', ['world']))# == True\n",
    "print(words_order('hi world im here',['world', 'here', 'hi']) == False\n",
    "    assert words_order('hi world im here',\n",
    " ['world', 'im', 'here']) == True\n",
    "    assert words_order('hi world im here',\n",
    " ['world', 'hi', 'here']) == False\n",
    "    assert words_order('hi world im here', ['world', 'world']) == False\n",
    "    assert words_order('hi world im here',\n",
    " ['country', 'world']) == False\n",
    "    assert words_order('hi world im here', ['wo', 'rld']) == False\n",
    "    assert words_order('', ['world', 'here']) == False"
   ]
  }
 ],
 "metadata": {
  "kernelspec": {
   "display_name": "Python 3",
   "language": "python",
   "name": "python3"
  },
  "language_info": {
   "codemirror_mode": {
    "name": "ipython",
    "version": 3
   },
   "file_extension": ".py",
   "mimetype": "text/x-python",
   "name": "python",
   "nbconvert_exporter": "python",
   "pygments_lexer": "ipython3",
   "version": "3.8.6"
  }
 },
 "nbformat": 4,
 "nbformat_minor": 4
}
