{
 "cells": [
  {
   "cell_type": "markdown",
   "id": "656f8075-7e99-47df-894a-a099f2e96bf6",
   "metadata": {},
   "source": [
    "# 1 Week Prepararion Kit"
   ]
  },
  {
   "cell_type": "code",
   "execution_count": 1,
   "id": "df4a1af4-732d-484c-93ae-67d30f9aed63",
   "metadata": {},
   "outputs": [],
   "source": [
    "import math\n",
    "import os\n",
    "import random\n",
    "import re\n",
    "import sys"
   ]
  },
  {
   "cell_type": "markdown",
   "id": "1dffd313-b93f-418d-8450-0ef550c29056",
   "metadata": {},
   "source": [
    "## Day 1: Plus Minus"
   ]
  },
  {
   "cell_type": "markdown",
   "id": "8aed91fa-d673-4930-acbd-423915da0caa",
   "metadata": {},
   "source": [
    "Given an array of integers, calculate the ratios of its elements that are positive, negative, and zero. Print the decimal value of each fraction on a new line with 6 places after the decimal."
   ]
  },
  {
   "cell_type": "code",
   "execution_count": 7,
   "id": "5a94bb5d-2b8f-4751-a4fb-ce5b702c9046",
   "metadata": {},
   "outputs": [],
   "source": [
    "def plusMinus(arr):\n",
    "    # Write your code here\n",
    "    n = len(arr)\n",
    "    plus = 0\n",
    "    minus = 0\n",
    "    zeros = 0\n",
    "    for i in arr:\n",
    "        if i>0:\n",
    "            plus+=1\n",
    "        elif i<0:\n",
    "            minus+=1\n",
    "        else:\n",
    "            zeros+=1\n",
    "    print(round(plus/n,6))\n",
    "    print(round(minus/n,6))\n",
    "    print(round(zeros/n,6))"
   ]
  },
  {
   "cell_type": "code",
   "execution_count": 8,
   "id": "41be2d17-1985-4d0d-bf35-e81a5f547694",
   "metadata": {},
   "outputs": [
    {
     "name": "stdout",
     "output_type": "stream",
     "text": [
      "0.4\n",
      "0.4\n",
      "0.2\n"
     ]
    }
   ],
   "source": [
    "arr = [1,1,0,-1,-1]\n",
    "plusMinus(arr)"
   ]
  },
  {
   "cell_type": "markdown",
   "id": "68875b7d-c37c-4f79-9220-28df42825cfe",
   "metadata": {},
   "source": [
    "## Day 1: Mini-Max Sum"
   ]
  },
  {
   "cell_type": "markdown",
   "id": "b22978fc-89df-47f2-b310-1ffecc7d2677",
   "metadata": {},
   "source": [
    "Given five positive integers, find the minimum and maximum values that can be calculated by summing exactly four of the five integers. Then print the respective minimum and maximum values as a single line of two space-separated long integers."
   ]
  },
  {
   "cell_type": "code",
   "execution_count": 4,
   "id": "178d521b-f458-488b-b7a2-6863554cbb15",
   "metadata": {},
   "outputs": [],
   "source": [
    "def miniMaxSum(arr):\n",
    "    # Write your code here\n",
    "    print(sum(arr)-max(arr), sum(arr)-min(arr))"
   ]
  },
  {
   "cell_type": "code",
   "execution_count": 6,
   "id": "afd38863-ba21-4eea-a8ac-7ccbcf6a26c4",
   "metadata": {},
   "outputs": [
    {
     "name": "stdout",
     "output_type": "stream",
     "text": [
      "16 24\n"
     ]
    }
   ],
   "source": [
    "arr = [1,3,5,7,9]\n",
    "miniMaxSum(arr)"
   ]
  },
  {
   "cell_type": "markdown",
   "id": "be8fe315-9fb3-452a-ac1f-3419fda5f262",
   "metadata": {},
   "source": [
    "## Day 1: Time Conversion"
   ]
  },
  {
   "cell_type": "markdown",
   "id": "53ddd30a-9e87-40bc-b34a-3895f4062139",
   "metadata": {},
   "source": [
    "Given a time in 12 -hour AM/PM format, convert it to military (24-hour) time.\n",
    "\n",
    "Note: - 12:00:00AM on a 12-hour clock is 00:00:00 on a 24-hour clock.\n",
    "\n",
    "12:00:00PM on a 12-hour clock is 12:00:00 on a 24-hour clock."
   ]
  },
  {
   "cell_type": "code",
   "execution_count": 9,
   "id": "86501eb9-16f4-48e7-955e-cbb6081fc160",
   "metadata": {},
   "outputs": [],
   "source": [
    "def timeConversion(s):\n",
    "    amorpm = s[-2:]\n",
    "    time = s[:-2]\n",
    "    hr, mint, sec = time.split(':')\n",
    "    \n",
    "    if amorpm=='PM':\n",
    "        if hr=='12':\n",
    "            return hr+\":\"+mint+\":\"+sec\n",
    "        else:\n",
    "            hr = str((int(hr)+12)%24)\n",
    "            return hr+\":\"+mint+\":\"+sec\n",
    "    else:\n",
    "        if hr=='12':\n",
    "            return \"00\"+\":\"+mint+\":\"+sec\n",
    "        else:\n",
    "            return hr+\":\"+mint+\":\"+sec"
   ]
  },
  {
   "cell_type": "code",
   "execution_count": 10,
   "id": "a7bfafe6-88d5-49d8-91fc-7757d9a19926",
   "metadata": {},
   "outputs": [
    {
     "data": {
      "text/plain": [
       "'00:01:00'"
      ]
     },
     "execution_count": 10,
     "metadata": {},
     "output_type": "execute_result"
    }
   ],
   "source": [
    "s = \"12:01:00AM\"\n",
    "timeConversion(s)"
   ]
  },
  {
   "cell_type": "markdown",
   "id": "3fa3ba3f-a613-4af1-8fc5-392cf43bdc26",
   "metadata": {},
   "source": [
    "## Day 2: Lonely Integer"
   ]
  },
  {
   "cell_type": "markdown",
   "id": "277246be-306a-4721-9454-744dc25d7e0f",
   "metadata": {},
   "source": [
    "Given an array of integers, where all elements but one occur twice, find the unique element."
   ]
  },
  {
   "cell_type": "code",
   "execution_count": 11,
   "id": "615ef834-9fa7-4f0a-a808-072659ce05eb",
   "metadata": {},
   "outputs": [],
   "source": [
    "def lonelyinteger(a):\n",
    "    # Write your code here\n",
    "    d = {}\n",
    "    for i in a:\n",
    "        if i in d:\n",
    "            d[i]+=1\n",
    "        else:\n",
    "            d[i]=1\n",
    "    for key, value in d.items():\n",
    "        if value==1:\n",
    "            return key"
   ]
  },
  {
   "cell_type": "code",
   "execution_count": 12,
   "id": "86bc8999-b4e2-4a0b-8884-263f5f9aa51d",
   "metadata": {},
   "outputs": [
    {
     "data": {
      "text/plain": [
       "4"
      ]
     },
     "execution_count": 12,
     "metadata": {},
     "output_type": "execute_result"
    }
   ],
   "source": [
    "arr = [1,2,3,4,3,2,1]\n",
    "lonelyinteger(arr)"
   ]
  },
  {
   "cell_type": "markdown",
   "id": "7d3f72a4-29d4-4f60-9daa-478fb57356c4",
   "metadata": {},
   "source": [
    "## Day 2: Diagonal Difference"
   ]
  },
  {
   "cell_type": "markdown",
   "id": "a56a4550-1ea4-453a-93f2-0094418639fe",
   "metadata": {},
   "source": [
    "Given a square matrix, calculate the absolute difference between the sums of its diagonals."
   ]
  },
  {
   "cell_type": "code",
   "execution_count": 13,
   "id": "3e0295a6-a870-4030-a74a-183c8414967d",
   "metadata": {},
   "outputs": [],
   "source": [
    "def diagonalDifference(arr):\n",
    "    # Write your code here\n",
    "    n = len(arr)\n",
    "    diag1 = 0\n",
    "    for i in range(n):\n",
    "        diag1+=arr[i][i]\n",
    "    diag2 = 0\n",
    "    for i in range(n):\n",
    "        diag2 +=arr[i][n-1-i]\n",
    "    return abs(diag1-diag2)"
   ]
  },
  {
   "cell_type": "code",
   "execution_count": 14,
   "id": "1da42da0-da1e-47fd-8b2d-1c9657e44f4d",
   "metadata": {},
   "outputs": [
    {
     "data": {
      "text/plain": [
       "15"
      ]
     },
     "execution_count": 14,
     "metadata": {},
     "output_type": "execute_result"
    }
   ],
   "source": [
    "arr = [[11, 2, 4], [4, 5, 6], [10, 8, -12]]\n",
    "diagonalDifference(arr)"
   ]
  },
  {
   "cell_type": "markdown",
   "id": "57649f6e-8dcb-4fda-8d4e-c1f0b8de7f97",
   "metadata": {},
   "source": [
    "## Day 2: Comparison Sorting 1"
   ]
  },
  {
   "cell_type": "markdown",
   "id": "9380277d-ee32-4608-ad6b-3cfb622efc8f",
   "metadata": {},
   "source": [
    "Quicksort usually has a running time of nlog(n), but is there an algorithm that can sort even faster? In general, this is not possible. Most sorting algorithms are comparison sorts, i.e. they sort a list just by comparing the elements to one another. A comparison sort algorithm cannot beat nlog(n) (worst-case) running time, since nlog(n) represents the minimum number of comparisons needed to know where to place each element. For more details, you can see these notes (PDF).\n",
    "\n",
    "<b>Alternative Sorting</b> <br>\n",
    "Another sorting method, the counting sort, does not require comparison. Instead, you create an integer array whose index range covers the entire range of values in your array to sort. Each time a value occurs in the original array, you increment the counter at that index. At the end, run through your counting array, printing the value of each non-zero valued index that number of times."
   ]
  },
  {
   "cell_type": "code",
   "execution_count": 15,
   "id": "47dc6bf0-490c-49c5-b41d-1d484ad55da9",
   "metadata": {},
   "outputs": [],
   "source": [
    "def countingSort(arr):\n",
    "    # Write your code here\n",
    "    freq_arr = [0]*100\n",
    "    n = len(arr)\n",
    "    for i in range(n):\n",
    "        freq_arr[arr[i]]+=1\n",
    "    return freq_arr"
   ]
  },
  {
   "cell_type": "code",
   "execution_count": 17,
   "id": "89b427a9-7db5-447d-b660-fe14dd0760a9",
   "metadata": {},
   "outputs": [
    {
     "data": {
      "text/plain": [
       "[0, 3, 1, 1, 0]"
      ]
     },
     "execution_count": 17,
     "metadata": {},
     "output_type": "execute_result"
    }
   ],
   "source": [
    "arr = [1,1,3,2,1]\n",
    "countingSort(arr)[:5]"
   ]
  },
  {
   "cell_type": "markdown",
   "id": "7aa20123-0b62-425a-875a-be48921793d5",
   "metadata": {},
   "source": [
    "## Day 3: Zig Zag Sequence"
   ]
  },
  {
   "cell_type": "markdown",
   "id": "89d4a1ec-c266-45bb-a524-1d0ccc9d8c9e",
   "metadata": {},
   "source": [
    "In this challenge, the task is to debug the existing code to successfully execute all provided test files.\n",
    "\n",
    "Given an array of n distinct integers, transform the array into a zig zag sequence by permuting the array elements. A sequence will be called a zig zag sequence if the first k elements in the sequence are in increasing order and the last k elements are in decreasing order, where k = (n+1)/2. You need to find the lexicographically smallest zig zag sequence of the given array."
   ]
  },
  {
   "cell_type": "code",
   "execution_count": 18,
   "id": "78f626f7-95e6-40ca-a283-82e8b10b4d73",
   "metadata": {},
   "outputs": [],
   "source": [
    "def findZigZagSequence(a, n):\n",
    "    a.sort()\n",
    "    mid = int((n + 1)/2)-1\n",
    "    a[mid], a[n-1] = a[n-1], a[mid]\n",
    "\n",
    "    st = mid + 1\n",
    "    ed = n - 2\n",
    "    while(st <= ed):\n",
    "        a[st], a[ed] = a[ed], a[st]\n",
    "        st = st + 1\n",
    "        ed = ed - 1\n",
    "\n",
    "    for i in range (n):\n",
    "        if i == n-1:\n",
    "            print(a[i])\n",
    "        else:\n",
    "            print(a[i], end = ' ')\n",
    "    return"
   ]
  },
  {
   "cell_type": "code",
   "execution_count": 19,
   "id": "e9303e62-9f43-45bd-a2ca-350145a0a177",
   "metadata": {},
   "outputs": [
    {
     "name": "stdout",
     "output_type": "stream",
     "text": [
      "1 2 3 9 7 5 4\n"
     ]
    }
   ],
   "source": [
    "findZigZagSequence([2,3,5,1,4,7,9],7)"
   ]
  },
  {
   "cell_type": "markdown",
   "id": "dd81aa3d-b17e-42c1-ab8b-946f21743dd1",
   "metadata": {},
   "source": [
    "## Day 3: Tower Breakers"
   ]
  },
  {
   "cell_type": "markdown",
   "id": "653e3a00-28a5-471b-8157-66c042954114",
   "metadata": {},
   "source": [
    "Two players are playing a game of Tower Breakers! Player 1 always moves first, and both players always play optimally.The rules of the game are as follows:\n",
    "\n",
    "- Initially there are <b>n</b> towers.\n",
    "- Each tower is of height <b>m</b>.\n",
    "- The players move in alternating turns.\n",
    "- In each turn, a player can choose a tower of height <b>x</b> and reduce its height to <b>y</b>, where <b>1$\\leq$y$<$x</b> and <b>y</b> evenly divides <b>x</b>.\n",
    "- If the current player is unable to make a move, they lose the game.\n",
    "\n",
    "Given the values of <b>n</b> and <b>m</b>, determine which player will win. If the first player wins, return 1. Otherwise, return 2."
   ]
  },
  {
   "cell_type": "markdown",
   "id": "0cfc7087-0bbc-4a4c-89db-f48c9a4d60e6",
   "metadata": {},
   "source": [
    "Note the solution is very simple. We assume that the players are both playing optimally. That means that whatever Player 1 does Player 2 should repeat. So if the height of each tower __m__ is one then in that case player 2 always win since player 1 does not have any move. If the number of towers, __n__ is even then the player 2 always wins since if player 1 does something to one tower then player 2 will repeat it to the other tower, eventually bringing the game to player 1 having no moves left. If __n__ is odd them player 1 reduces one tower to height 1 and then the roles are reversed since now player 2 has to choose first and player 1 will follow whatever player 2 does."
   ]
  },
  {
   "cell_type": "code",
   "execution_count": 20,
   "id": "fcc93152-9227-4edb-abd0-7b0457cdc9f9",
   "metadata": {},
   "outputs": [],
   "source": [
    "def towerBreakers(n, m):\n",
    "    # Write your code here\n",
    "    if m==1:\n",
    "        return 2\n",
    "    else:\n",
    "        if n%2==1:\n",
    "            return 1\n",
    "        else:\n",
    "            return 2"
   ]
  },
  {
   "cell_type": "code",
   "execution_count": 21,
   "id": "68d6ea0f-06a7-4887-ba2e-73f34d252778",
   "metadata": {},
   "outputs": [
    {
     "data": {
      "text/plain": [
       "2"
      ]
     },
     "execution_count": 21,
     "metadata": {},
     "output_type": "execute_result"
    }
   ],
   "source": [
    "towerBreakers(2, 6)"
   ]
  },
  {
   "cell_type": "markdown",
   "id": "bc3121d1-c5af-4e3f-aa77-6fffbaf7b61a",
   "metadata": {},
   "source": [
    "## Day 3: Caesar Cipher"
   ]
  },
  {
   "cell_type": "markdown",
   "id": "597cf0e1-d229-467a-ad79-0645e84a5865",
   "metadata": {},
   "source": [
    "Julius Caesar protected his confidential information by encrypting it using a cipher. Caesar's cipher shifts each letter by a number of letters. If the shift takes you past the end of the alphabet, just rotate back to the front of the alphabet. In the case of a rotation by 3, w, x, y and z would map to z, a, b and c."
   ]
  },
  {
   "cell_type": "markdown",
   "id": "8b8aeed3-1c87-45ab-9736-0176335f6328",
   "metadata": {},
   "source": [
    "Original alphabet:     abcdefghijklmnopqrstuvwxyz <br>\n",
    "Alphabet rotated +3:    defghijklmnopqrstuvwxyzabc"
   ]
  },
  {
   "cell_type": "code",
   "execution_count": 78,
   "id": "976634ab-c4f8-4c8d-a117-b095f9a897fb",
   "metadata": {},
   "outputs": [],
   "source": [
    "def caesarCipher(s, k):\n",
    "    alpha = 'abcdefghijklmnopqrstuvwxyz'\n",
    "    n_alpha = len(alpha)\n",
    "    def rotated(m):\n",
    "        return ''.join([alpha[i+m] if i+m<n_alpha else alpha[i+m-n_alpha] for i in range(n_alpha)])\n",
    "    new_str = ''\n",
    "    for i in s:\n",
    "        if i.lower() in alpha:\n",
    "            if i.isupper():\n",
    "                new_str += rotated(k%n_alpha)[alpha.index(i.lower())].upper()\n",
    "            else:\n",
    "                new_str += rotated(k%n_alpha)[alpha.index(i)]\n",
    "        else:\n",
    "            new_str += i\n",
    "    return new_str"
   ]
  },
  {
   "cell_type": "code",
   "execution_count": 79,
   "id": "2e025c26-97d6-4beb-849d-65a439a3ecbf",
   "metadata": {},
   "outputs": [
    {
     "data": {
      "text/plain": [
       "'fff.jkl.gh'"
      ]
     },
     "execution_count": 79,
     "metadata": {},
     "output_type": "execute_result"
    }
   ],
   "source": [
    "caesarCipher('www.abc.xy', 87)"
   ]
  },
  {
   "cell_type": "code",
   "execution_count": 84,
   "id": "23b21fd9-2bec-48d5-83df-52f38a24b853",
   "metadata": {},
   "outputs": [],
   "source": [
    "def caesarCipher_1(s, k):\n",
    "    if k == 0:\n",
    "        return s\n",
    "    new_s = []\n",
    "    for i in range(len(s)):\n",
    "        c = s[i]\n",
    "        if c.isalpha():\n",
    "            c = (ord(c) + k - 97)%26 + 97 if c.islower() else (ord(c) + k - 65)%26 + 65\n",
    "            c = chr(c)\n",
    "        new_s.append(c)\n",
    "    return ''.join(new_s)"
   ]
  },
  {
   "cell_type": "code",
   "execution_count": 85,
   "id": "1b2ad638-41ba-4632-87ab-28ce93860ff5",
   "metadata": {},
   "outputs": [
    {
     "data": {
      "text/plain": [
       "'fff.jkl.gh'"
      ]
     },
     "execution_count": 85,
     "metadata": {},
     "output_type": "execute_result"
    }
   ],
   "source": [
    "caesarCipher_1('www.abc.xy', 87)"
   ]
  },
  {
   "cell_type": "code",
   "execution_count": 90,
   "id": "58cf4fd4-fd55-403b-9555-1c0103485cd8",
   "metadata": {},
   "outputs": [
    {
     "data": {
      "text/plain": [
       "(18, 18)"
      ]
     },
     "execution_count": 90,
     "metadata": {},
     "output_type": "execute_result"
    }
   ],
   "source": [
    "ord('S')-65, ord('s')-97"
   ]
  },
  {
   "cell_type": "markdown",
   "id": "2194be76-be19-4d27-bc49-e0885e82f541",
   "metadata": {},
   "source": [
    "## Day 3: Mock Test\n",
    "Palindrome Index"
   ]
  },
  {
   "cell_type": "code",
   "execution_count": 156,
   "id": "cb138159-6679-466e-beb5-6a2d6d01bdc7",
   "metadata": {},
   "outputs": [],
   "source": [
    "def palindromeIndex(s):\n",
    "    # Write your code here\n",
    "    def isPalindrome(word):\n",
    "        m = len(word)//2\n",
    "        return word[:m]==word[::-1][:m]\n",
    "    if isPalindrome(s):\n",
    "        return -1\n",
    "    else:\n",
    "        for i in range(len(s)):\n",
    "            if isPalindrome(s[:i]+s[i+1:]):\n",
    "                return i\n",
    "        else:\n",
    "            return -1"
   ]
  },
  {
   "cell_type": "code",
   "execution_count": 158,
   "id": "25e544b2-139c-4ce9-957d-48feb8bd8059",
   "metadata": {},
   "outputs": [
    {
     "name": "stdout",
     "output_type": "stream",
     "text": [
      "44\n"
     ]
    }
   ],
   "source": [
    "print(palindromeIndex('hgygsvlfcwnswtuhmyaljkqlqjjqlqkjlaymhutwsnwcwflvsgygh'))"
   ]
  },
  {
   "cell_type": "markdown",
   "id": "727ae1d5-e5f9-4811-98fe-329a43e53ebb",
   "metadata": {},
   "source": [
    "## Day 4: Grid Challenge\n",
    "Given a square grid of characters in the range ascii[a-z], rearrange elements of each row alphabetically, ascending. Determine if the columns are also in ascending alphabetical order, top to bottom. Return YES if they are or NO if they are not."
   ]
  },
  {
   "cell_type": "code",
   "execution_count": 2,
   "id": "f80527d7-2adc-4de5-8fc3-33ac7e7d26d0",
   "metadata": {},
   "outputs": [],
   "source": [
    "grid = ['ebacd', 'fghij', 'olmkn', 'trpqs', 'xywuv']"
   ]
  },
  {
   "cell_type": "code",
   "execution_count": 12,
   "id": "5b3c91f1-9439-4b09-943d-9b9669bddcd5",
   "metadata": {
    "tags": []
   },
   "outputs": [],
   "source": [
    "def isAlphabaticOrder(s):\n",
    "    n = len(s)\n",
    "    for i in range(1, n):\n",
    "        # if element at index 'i' is less\n",
    "        # than the element at index 'i-1'\n",
    "        # then the string is not sorted\n",
    "        if (s[i] < s[i - 1]) :\n",
    "            return False\n",
    "    return True"
   ]
  },
  {
   "cell_type": "code",
   "execution_count": 21,
   "id": "ffcf32c1-6b12-4ac4-9362-e78ed42c7684",
   "metadata": {},
   "outputs": [],
   "source": [
    "def gridChallenge(grid):\n",
    "    arr_grid = []\n",
    "    for word in grid:\n",
    "        arr_grid.append(''.join(sorted(word)))\n",
    "    for i in range(0,len(arr_grid)-1):\n",
    "        m = len(arr_grid[i])\n",
    "        for j in range(0, m):\n",
    "            if arr_grid[i][j]>arr_grid[i+1][j]:\n",
    "                return \"NO\"\n",
    "    return \"YES\""
   ]
  },
  {
   "cell_type": "code",
   "execution_count": 22,
   "id": "62abb060-1eeb-460f-a8da-9843678a7694",
   "metadata": {},
   "outputs": [
    {
     "data": {
      "text/plain": [
       "True"
      ]
     },
     "execution_count": 22,
     "metadata": {},
     "output_type": "execute_result"
    }
   ],
   "source": [
    "gridChallenge(grid)"
   ]
  },
  {
   "cell_type": "markdown",
   "id": "01523ef7-eee8-499d-86fb-499b0c5c194b",
   "metadata": {},
   "source": [
    "## Day 4: Recursive Digit Sum\n",
    "We define super digit of an integer X using the following rules:\n",
    "\n",
    "Given an integer, we need to find the super digit of the integer.\n",
    "\n",
    "- If X has only 1 digit, then its super digit is X.\n",
    "- Otherwise, the super digit of X is equal to the super digit of the sum of the digits of X."
   ]
  },
  {
   "cell_type": "code",
   "execution_count": 26,
   "id": "4a106922-3d2b-49ff-b2b2-f1bb4ab78fb0",
   "metadata": {},
   "outputs": [],
   "source": [
    "n = '7404954009694227446246375747227852213692570890717884174001587537145838723390362624487926131161112710589127423098959327020544003395792482625191721603328307774998124389641069884634086849138515079220750462317357487762780480576640689175346956135668451835480490089962406773267569650663927778867764315211280625033388271518264961090111547480467065229843613873499846390257375933040086863430523668050046930387013897062106309406874425001127890574986610018093859693455518413268914361859000614904461902442822577552997680098389183082654625098817411306985010658756762152160904278169491634807464356130877526392725432086439934006728914411061861235300979536190100734360684054557448454640750198466877185875290011114667186730452681943043971812380628117527172389889545776779555664826488520325234792648448625225364535053605515386730925070072896004645416713682004600636574389040662827182696337187610904694029221880801372864040345567230941110986028568372710970460116491983700312243090679537497139499778923997433720159174153'\n",
    "k = 100000"
   ]
  },
  {
   "cell_type": "code",
   "execution_count": 27,
   "id": "3e423f63-8f17-46ad-8259-4d3780dbd0a9",
   "metadata": {},
   "outputs": [],
   "source": [
    "def superDigit(n, k):\n",
    "    p = str(sum([int(i) for i in n])*k)\n",
    "    while len(p)>1:\n",
    "        p = str(sum([int(i) for i in p]))\n",
    "    return int(p)"
   ]
  },
  {
   "cell_type": "code",
   "execution_count": 29,
   "id": "916be3ac-326f-4201-944d-fc9ad83d7aa5",
   "metadata": {},
   "outputs": [
    {
     "data": {
      "text/plain": [
       "3"
      ]
     },
     "execution_count": 29,
     "metadata": {},
     "output_type": "execute_result"
    }
   ],
   "source": [
    "superDigit(n, k)"
   ]
  },
  {
   "cell_type": "code",
   "execution_count": 32,
   "id": "6feef83b-36cd-4468-ac4f-39a56a42f0a6",
   "metadata": {},
   "outputs": [],
   "source": [
    "# recursion technique\n",
    "def superDigit(n, k):\n",
    "    if len(n)==1:\n",
    "        return int(n)\n",
    "    p = str(sum([int(i) for i in n])*k)\n",
    "    return superDigit(p,1)"
   ]
  },
  {
   "cell_type": "code",
   "execution_count": 33,
   "id": "ebab23e9-e204-4ed5-b9d5-de94dbc612e6",
   "metadata": {},
   "outputs": [
    {
     "data": {
      "text/plain": [
       "3"
      ]
     },
     "execution_count": 33,
     "metadata": {},
     "output_type": "execute_result"
    }
   ],
   "source": [
    "superDigit(n, k)"
   ]
  },
  {
   "cell_type": "markdown",
   "id": "1e63ed77-eb3e-4b04-a574-78ffb8e618aa",
   "metadata": {},
   "source": [
    "## Day 4: New Year Chaos\n",
    "It is New Year's Day and people are in line for the Wonderland rollercoaster ride. Each person wears a sticker indicating their initial position in the queue from 1 to n. Any person can bribe the person directly in front of them to swap positions, but they still wear their original sticker. One person can bribe at most two others.\n",
    "\n",
    "Determine the minimum number of bribes that took place to get to a given queue order. Print the number of bribes, or, if anyone has bribed more than two people, print \"Too chaotic\"."
   ]
  },
  {
   "cell_type": "code",
   "execution_count": 44,
   "id": "bf0a6387-66cf-4638-9e2b-c2e551d7a50a",
   "metadata": {},
   "outputs": [],
   "source": [
    "q = [1, 2, 5, 3, 7, 8, 6, 4]"
   ]
  },
  {
   "cell_type": "code",
   "execution_count": 47,
   "id": "ec521979-32e9-42a2-8f76-7a18c840ca7f",
   "metadata": {},
   "outputs": [],
   "source": [
    "def minimumBribes(q):\n",
    "    q = [x-1 for x in q]\n",
    "    c = 0\n",
    "    for i in range(len(q)-1):\n",
    "        if q[i]-i>2:\n",
    "            print(\"Too chaotic\")\n",
    "            return\n",
    "        j = i\n",
    "        while j >= 0 and q[j+1] < q[j]:\n",
    "            q[j+1], q[j] = q[j], q[j+1]\n",
    "            c += 1\n",
    "            j -= 1\n",
    "    print(c)"
   ]
  },
  {
   "cell_type": "code",
   "execution_count": 48,
   "id": "1cd01470-5702-487d-bd74-8e22a57fa873",
   "metadata": {},
   "outputs": [
    {
     "name": "stdout",
     "output_type": "stream",
     "text": [
      "7\n"
     ]
    }
   ],
   "source": [
    "minimumBribes(q)"
   ]
  },
  {
   "cell_type": "markdown",
   "id": "ea492124-3a56-496e-b627-3015ddb1b99f",
   "metadata": {},
   "source": [
    "## Truck Tour\n",
    "Suppose there is a circle. There are N petrol pumps on that circle. Petrol pumps are numbered 0 to N-1 (both inclusive). You have two pieces of information corresponding to each of the petrol pump: (1) the amount of petrol that particular petrol pump will give, and (2) the distance from that petrol pump to the next petrol pump.\n",
    "\n",
    "Initially, you have a tank of infinite capacity carrying no petrol. You can start the tour at any of the petrol pumps. Calculate the first point from where the truck will be able to complete the circle. Consider that the truck will stop at each of the petrol pumps. The truck will move one kilometer for each litre of the petrol."
   ]
  },
  {
   "cell_type": "code",
   "execution_count": 2,
   "id": "f377ef5a-2767-4363-a7a0-ef716a6f70ec",
   "metadata": {},
   "outputs": [],
   "source": [
    "petrolpumps = [[1,5], [10,3], [3,4]]"
   ]
  },
  {
   "cell_type": "code",
   "execution_count": 7,
   "id": "73c32f83-3966-432d-a111-4e42f6a889e7",
   "metadata": {},
   "outputs": [],
   "source": [
    "a = [x-y for x,y in petrolpumps]"
   ]
  },
  {
   "cell_type": "code",
   "execution_count": 8,
   "id": "56bd33c6-556e-452d-a17b-2b1b5a73e7f0",
   "metadata": {},
   "outputs": [
    {
     "data": {
      "text/plain": [
       "[-4, 7, -1]"
      ]
     },
     "execution_count": 8,
     "metadata": {},
     "output_type": "execute_result"
    }
   ],
   "source": [
    "a   "
   ]
  },
  {
   "cell_type": "code",
   "execution_count": 9,
   "id": "725d3d0d-b135-4e15-988a-b02f098d5800",
   "metadata": {},
   "outputs": [],
   "source": [
    "a.append(a.pop(0))"
   ]
  },
  {
   "cell_type": "code",
   "execution_count": 10,
   "id": "ed4dc08b-3f9a-49a3-9832-111dd499ec6f",
   "metadata": {},
   "outputs": [
    {
     "data": {
      "text/plain": [
       "[7, -1, -4]"
      ]
     },
     "execution_count": 10,
     "metadata": {},
     "output_type": "execute_result"
    }
   ],
   "source": [
    "a"
   ]
  },
  {
   "cell_type": "code",
   "execution_count": null,
   "id": "0cac36ae-3d4b-40b8-addc-bb7c30790948",
   "metadata": {},
   "outputs": [],
   "source": [
    "sum = 0\n",
    "fin = 0\n",
    "shift = 0\n",
    "while (fin < len(a)):\n",
    "    sum+=a[fin]\n",
    "    if sum < 0:\n",
    "        for _ in range(fin + 1):\n",
    "            a.append(a.pop(0))\n",
    "        sum = 0\n",
    "        shift += fin + 1\n",
    "        fin=0\n",
    "    else:\n",
    "        fin = fin + 1"
   ]
  }
 ],
 "metadata": {
  "kernelspec": {
   "display_name": "Python 3",
   "language": "python",
   "name": "python3"
  },
  "language_info": {
   "codemirror_mode": {
    "name": "ipython",
    "version": 3
   },
   "file_extension": ".py",
   "mimetype": "text/x-python",
   "name": "python",
   "nbconvert_exporter": "python",
   "pygments_lexer": "ipython3",
   "version": "3.8.6"
  }
 },
 "nbformat": 4,
 "nbformat_minor": 5
}
