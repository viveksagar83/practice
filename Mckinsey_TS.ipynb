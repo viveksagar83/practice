{
 "cells": [
  {
   "cell_type": "code",
   "execution_count": 1,
   "id": "cf77b001-3a0e-4459-981a-65c8b39445e6",
   "metadata": {},
   "outputs": [],
   "source": [
    "import pandas as pd\n",
    "import numpy as np\n",
    "from statsmodels.tsa.arima.model import ARIMA"
   ]
  },
  {
   "cell_type": "code",
   "execution_count": 12,
   "id": "da9eeb17-72a5-4f37-a335-c75d41cd3ee5",
   "metadata": {},
   "outputs": [],
   "source": [
    "import datetime as dt\n",
    "from matplotlib import pyplot\n",
    "from pandas.plotting import autocorrelation_plot"
   ]
  },
  {
   "cell_type": "code",
   "execution_count": 3,
   "id": "ce14aa72-0b8c-4305-835d-3d512f97ea89",
   "metadata": {},
   "outputs": [],
   "source": [
    "temperature = [24, 34.38, 34.36, 34.74, 35.26, 35.23, 35.29, 35.64, 36.02, 36.1, 36.98, 37.01, 36.75, 36.01, 35.66, 34.72, \n",
    "               33.9, 32.62, 31.51, 30.73, 29.5, 26.94, 25.47, 23.84, 22.55]\n",
    "startDate = '2013-01-01'\n",
    "endDate = '2013-01-01'\n",
    "n = 1"
   ]
  },
  {
   "cell_type": "code",
   "execution_count": 69,
   "id": "1788e95d-4cbe-40cd-8bc4-7080560fd3fa",
   "metadata": {},
   "outputs": [],
   "source": [
    "f = (pd.to_datetime(startDate) - pd.to_datetime(endDate))/pd.Timedelta('1d')"
   ]
  },
  {
   "cell_type": "code",
   "execution_count": 77,
   "id": "2966489b-ca1b-4ba4-b0f4-fad35b17f75f",
   "metadata": {},
   "outputs": [],
   "source": [
    "dti = pd.date_range(\"2013-01-01\", periods=int(f+1)*25, freq=\"H\")"
   ]
  },
  {
   "cell_type": "code",
   "execution_count": 86,
   "id": "8bf42db7-17cc-4330-9fcc-39e62f48aa17",
   "metadata": {},
   "outputs": [
    {
     "data": {
      "text/plain": [
       "(25, 24)"
      ]
     },
     "execution_count": 86,
     "metadata": {},
     "output_type": "execute_result"
    }
   ],
   "source": [
    "len(dti), len(output)"
   ]
  },
  {
   "cell_type": "code",
   "execution_count": 54,
   "id": "f3b52072-e93c-423c-864a-2fbe2145a116",
   "metadata": {},
   "outputs": [],
   "source": [
    "output = [36.02, 36.1, 36.98, 37.01, 36.75, 36.01, 35.66, 34.72, 33.9, 32.62, 31.51, 30.73, 29.5, 26.94, 25.47, 23.84, \n",
    "          22.55, 21.03, 19.92, 18.77, 18.48, 18.07, 17.91, 17.11]"
   ]
  },
  {
   "cell_type": "code",
   "execution_count": 102,
   "id": "faefe282-86ae-4661-8c87-4507cd83fd59",
   "metadata": {},
   "outputs": [],
   "source": [
    "series = pd.DataFrame(temperature, columns=['temperature'])\n",
    "output = pd.DataFrame(output, columns=['output'])"
   ]
  },
  {
   "cell_type": "code",
   "execution_count": 103,
   "id": "35fb67c9-fbca-4d1d-8733-2bc17669b66d",
   "metadata": {},
   "outputs": [
    {
     "data": {
      "text/html": [
       "<div>\n",
       "<style scoped>\n",
       "    .dataframe tbody tr th:only-of-type {\n",
       "        vertical-align: middle;\n",
       "    }\n",
       "\n",
       "    .dataframe tbody tr th {\n",
       "        vertical-align: top;\n",
       "    }\n",
       "\n",
       "    .dataframe thead th {\n",
       "        text-align: right;\n",
       "    }\n",
       "</style>\n",
       "<table border=\"1\" class=\"dataframe\">\n",
       "  <thead>\n",
       "    <tr style=\"text-align: right;\">\n",
       "      <th></th>\n",
       "      <th>temperature</th>\n",
       "    </tr>\n",
       "  </thead>\n",
       "  <tbody>\n",
       "    <tr>\n",
       "      <th>0</th>\n",
       "      <td>24.00</td>\n",
       "    </tr>\n",
       "    <tr>\n",
       "      <th>1</th>\n",
       "      <td>34.38</td>\n",
       "    </tr>\n",
       "    <tr>\n",
       "      <th>2</th>\n",
       "      <td>34.36</td>\n",
       "    </tr>\n",
       "    <tr>\n",
       "      <th>3</th>\n",
       "      <td>34.74</td>\n",
       "    </tr>\n",
       "    <tr>\n",
       "      <th>4</th>\n",
       "      <td>35.26</td>\n",
       "    </tr>\n",
       "    <tr>\n",
       "      <th>5</th>\n",
       "      <td>35.23</td>\n",
       "    </tr>\n",
       "    <tr>\n",
       "      <th>6</th>\n",
       "      <td>35.29</td>\n",
       "    </tr>\n",
       "    <tr>\n",
       "      <th>7</th>\n",
       "      <td>35.64</td>\n",
       "    </tr>\n",
       "    <tr>\n",
       "      <th>8</th>\n",
       "      <td>36.02</td>\n",
       "    </tr>\n",
       "    <tr>\n",
       "      <th>9</th>\n",
       "      <td>36.10</td>\n",
       "    </tr>\n",
       "    <tr>\n",
       "      <th>10</th>\n",
       "      <td>36.98</td>\n",
       "    </tr>\n",
       "    <tr>\n",
       "      <th>11</th>\n",
       "      <td>37.01</td>\n",
       "    </tr>\n",
       "    <tr>\n",
       "      <th>12</th>\n",
       "      <td>36.75</td>\n",
       "    </tr>\n",
       "    <tr>\n",
       "      <th>13</th>\n",
       "      <td>36.01</td>\n",
       "    </tr>\n",
       "    <tr>\n",
       "      <th>14</th>\n",
       "      <td>35.66</td>\n",
       "    </tr>\n",
       "    <tr>\n",
       "      <th>15</th>\n",
       "      <td>34.72</td>\n",
       "    </tr>\n",
       "    <tr>\n",
       "      <th>16</th>\n",
       "      <td>33.90</td>\n",
       "    </tr>\n",
       "    <tr>\n",
       "      <th>17</th>\n",
       "      <td>32.62</td>\n",
       "    </tr>\n",
       "    <tr>\n",
       "      <th>18</th>\n",
       "      <td>31.51</td>\n",
       "    </tr>\n",
       "    <tr>\n",
       "      <th>19</th>\n",
       "      <td>30.73</td>\n",
       "    </tr>\n",
       "    <tr>\n",
       "      <th>20</th>\n",
       "      <td>29.50</td>\n",
       "    </tr>\n",
       "    <tr>\n",
       "      <th>21</th>\n",
       "      <td>26.94</td>\n",
       "    </tr>\n",
       "    <tr>\n",
       "      <th>22</th>\n",
       "      <td>25.47</td>\n",
       "    </tr>\n",
       "    <tr>\n",
       "      <th>23</th>\n",
       "      <td>23.84</td>\n",
       "    </tr>\n",
       "    <tr>\n",
       "      <th>24</th>\n",
       "      <td>22.55</td>\n",
       "    </tr>\n",
       "  </tbody>\n",
       "</table>\n",
       "</div>"
      ],
      "text/plain": [
       "    temperature\n",
       "0         24.00\n",
       "1         34.38\n",
       "2         34.36\n",
       "3         34.74\n",
       "4         35.26\n",
       "5         35.23\n",
       "6         35.29\n",
       "7         35.64\n",
       "8         36.02\n",
       "9         36.10\n",
       "10        36.98\n",
       "11        37.01\n",
       "12        36.75\n",
       "13        36.01\n",
       "14        35.66\n",
       "15        34.72\n",
       "16        33.90\n",
       "17        32.62\n",
       "18        31.51\n",
       "19        30.73\n",
       "20        29.50\n",
       "21        26.94\n",
       "22        25.47\n",
       "23        23.84\n",
       "24        22.55"
      ]
     },
     "execution_count": 103,
     "metadata": {},
     "output_type": "execute_result"
    }
   ],
   "source": [
    "series"
   ]
  },
  {
   "cell_type": "code",
   "execution_count": 104,
   "id": "5b6c4044-1363-42e3-a8e0-8547f4c13b12",
   "metadata": {},
   "outputs": [
    {
     "data": {
      "image/png": "[encoded data removed]",
      "text/plain": [
       "<Figure size 640x480 with 1 Axes>"
      ]
     },
     "metadata": {},
     "output_type": "display_data"
    }
   ],
   "source": [
    "series.plot()\n",
    "pyplot.show()"
   ]
  },
  {
   "cell_type": "code",
   "execution_count": 192,
   "id": "7bcba0e2-c5b5-4eee-adb5-e547d35bee9c",
   "metadata": {},
   "outputs": [
    {
     "name": "stderr",
     "output_type": "stream",
     "text": [
      "C:\\Users\\ghvi0001\\Anaconda3\\envs\\lta_geo\\lib\\site-packages\\statsmodels\\tsa\\statespace\\sarimax.py:997: UserWarning: Non-stationary starting seasonal autoregressive Using zeros as starting parameters.\n",
      "  warn('Non-stationary starting seasonal autoregressive'\n"
     ]
    }
   ],
   "source": [
    "model = ARIMA(series, order = (1,0,0) , seasonal_order=(1, 0, 0, 24))\n",
    "model_fit = model.fit()"
   ]
  },
  {
   "cell_type": "code",
   "execution_count": 193,
   "id": "132b7504-bb4e-434d-9eab-f88ff7adfa2e",
   "metadata": {
    "jupyter": {
     "source_hidden": true
    },
    "tags": []
   },
   "outputs": [
    {
     "data": {
      "image/png": "[encoded data removed]",
      "text/plain": [
       "<Figure size 640x480 with 1 Axes>"
      ]
     },
     "metadata": {},
     "output_type": "display_data"
    },
    {
     "data": {
      "image/png": "[encoded data removed]",
      "text/plain": [
       "<Figure size 640x480 with 1 Axes>"
      ]
     },
     "metadata": {},
     "output_type": "display_data"
    },
    {
     "name": "stdout",
     "output_type": "stream",
     "text": [
      "               0\n",
      "count  25.000000\n",
      "mean    0.175201\n",
      "std     2.699655\n",
      "min    -8.866963\n",
      "25%    -0.242872\n",
      "50%     0.274242\n",
      "75%     0.766790\n",
      "max     9.039775\n"
     ]
    }
   ],
   "source": [
    "residuals = pd.DataFrame(model_fit.resid)\n",
    "residuals.plot()\n",
    "pyplot.show()\n",
    "# density plot of residuals\n",
    "residuals.plot(kind='kde')\n",
    "pyplot.show()\n",
    "# summary stats of residuals\n",
    "print(residuals.describe())"
   ]
  },
  {
   "cell_type": "code",
   "execution_count": 194,
   "id": "78cc410d-2135-454a-a0fe-d8ba79a967a0",
   "metadata": {},
   "outputs": [],
   "source": [
    "N = 24\n",
    "ts_pred = model_fit.forecast(steps=N)"
   ]
  },
  {
   "cell_type": "code",
   "execution_count": 195,
   "id": "4a3b096a-6bf3-4e00-b6d9-a2773a97482d",
   "metadata": {},
   "outputs": [
    {
     "data": {
      "text/plain": [
       "pandas.core.series.Series"
      ]
     },
     "execution_count": 195,
     "metadata": {},
     "output_type": "execute_result"
    }
   ],
   "source": [
    "type(ts_pred)"
   ]
  },
  {
   "cell_type": "code",
   "execution_count": 196,
   "id": "1c372641-c97b-4802-bad1-46bbb6a3b2eb",
   "metadata": {},
   "outputs": [],
   "source": [
    "ts_pred1 = pd.DataFrame(ts_pred).reset_index(drop=True)"
   ]
  },
  {
   "cell_type": "code",
   "execution_count": 197,
   "id": "07645b61-0f3d-4b78-9e40-88406fd47860",
   "metadata": {},
   "outputs": [
    {
     "data": {
      "text/html": [
       "<div>\n",
       "<style scoped>\n",
       "    .dataframe tbody tr th:only-of-type {\n",
       "        vertical-align: middle;\n",
       "    }\n",
       "\n",
       "    .dataframe tbody tr th {\n",
       "        vertical-align: top;\n",
       "    }\n",
       "\n",
       "    .dataframe thead th {\n",
       "        text-align: right;\n",
       "    }\n",
       "</style>\n",
       "<table border=\"1\" class=\"dataframe\">\n",
       "  <thead>\n",
       "    <tr style=\"text-align: right;\">\n",
       "      <th></th>\n",
       "      <th>predicted_mean</th>\n",
       "    </tr>\n",
       "  </thead>\n",
       "  <tbody>\n",
       "    <tr>\n",
       "      <th>0</th>\n",
       "      <td>32.672127</td>\n",
       "    </tr>\n",
       "    <tr>\n",
       "      <th>1</th>\n",
       "      <td>32.907733</td>\n",
       "    </tr>\n",
       "    <tr>\n",
       "      <th>2</th>\n",
       "      <td>33.481939</td>\n",
       "    </tr>\n",
       "    <tr>\n",
       "      <th>3</th>\n",
       "      <td>34.154995</td>\n",
       "    </tr>\n",
       "    <tr>\n",
       "      <th>4</th>\n",
       "      <td>34.279362</td>\n",
       "    </tr>\n",
       "    <tr>\n",
       "      <th>5</th>\n",
       "      <td>34.464970</td>\n",
       "    </tr>\n",
       "    <tr>\n",
       "      <th>6</th>\n",
       "      <td>34.904778</td>\n",
       "    </tr>\n",
       "    <tr>\n",
       "      <th>7</th>\n",
       "      <td>35.355959</td>\n",
       "    </tr>\n",
       "    <tr>\n",
       "      <th>8</th>\n",
       "      <td>35.508969</td>\n",
       "    </tr>\n",
       "    <tr>\n",
       "      <th>9</th>\n",
       "      <td>36.406745</td>\n",
       "    </tr>\n",
       "    <tr>\n",
       "      <th>10</th>\n",
       "      <td>36.490141</td>\n",
       "    </tr>\n",
       "    <tr>\n",
       "      <th>11</th>\n",
       "      <td>36.290561</td>\n",
       "    </tr>\n",
       "    <tr>\n",
       "      <th>12</th>\n",
       "      <td>35.629598</td>\n",
       "    </tr>\n",
       "    <tr>\n",
       "      <th>13</th>\n",
       "      <td>35.331483</td>\n",
       "    </tr>\n",
       "    <tr>\n",
       "      <th>14</th>\n",
       "      <td>34.470010</td>\n",
       "    </tr>\n",
       "    <tr>\n",
       "      <th>15</th>\n",
       "      <td>33.717709</td>\n",
       "    </tr>\n",
       "    <tr>\n",
       "      <th>16</th>\n",
       "      <td>32.526532</td>\n",
       "    </tr>\n",
       "    <tr>\n",
       "      <th>17</th>\n",
       "      <td>31.493089</td>\n",
       "    </tr>\n",
       "    <tr>\n",
       "      <th>18</th>\n",
       "      <td>30.769239</td>\n",
       "    </tr>\n",
       "    <tr>\n",
       "      <th>19</th>\n",
       "      <td>29.617444</td>\n",
       "    </tr>\n",
       "    <tr>\n",
       "      <th>20</th>\n",
       "      <td>27.205493</td>\n",
       "    </tr>\n",
       "    <tr>\n",
       "      <th>21</th>\n",
       "      <td>25.823206</td>\n",
       "    </tr>\n",
       "    <tr>\n",
       "      <th>22</th>\n",
       "      <td>24.288222</td>\n",
       "    </tr>\n",
       "    <tr>\n",
       "      <th>23</th>\n",
       "      <td>23.073790</td>\n",
       "    </tr>\n",
       "  </tbody>\n",
       "</table>\n",
       "</div>"
      ],
      "text/plain": [
       "    predicted_mean\n",
       "0        32.672127\n",
       "1        32.907733\n",
       "2        33.481939\n",
       "3        34.154995\n",
       "4        34.279362\n",
       "5        34.464970\n",
       "6        34.904778\n",
       "7        35.355959\n",
       "8        35.508969\n",
       "9        36.406745\n",
       "10       36.490141\n",
       "11       36.290561\n",
       "12       35.629598\n",
       "13       35.331483\n",
       "14       34.470010\n",
       "15       33.717709\n",
       "16       32.526532\n",
       "17       31.493089\n",
       "18       30.769239\n",
       "19       29.617444\n",
       "20       27.205493\n",
       "21       25.823206\n",
       "22       24.288222\n",
       "23       23.073790"
      ]
     },
     "execution_count": 197,
     "metadata": {},
     "output_type": "execute_result"
    }
   ],
   "source": [
    "ts_pred1"
   ]
  },
  {
   "cell_type": "code",
   "execution_count": 198,
   "id": "f841314d-f2df-4b90-a7c6-193e5259b45a",
   "metadata": {},
   "outputs": [],
   "source": [
    "ser = output.join(ts_pred1)\n",
    "# len(model_fit.forecast(steps=N))"
   ]
  },
  {
   "cell_type": "code",
   "execution_count": 199,
   "id": "0825a369-b938-4836-acde-033b58466c63",
   "metadata": {},
   "outputs": [],
   "source": [
    "ser['diff'] = abs(ser['output']-ser['predicted_mean'])"
   ]
  },
  {
   "cell_type": "code",
   "execution_count": 200,
   "id": "d214222e-3093-45e7-94de-57c9bfdfb320",
   "metadata": {},
   "outputs": [
    {
     "data": {
      "text/plain": [
       "0     False\n",
       "1     False\n",
       "2     False\n",
       "3     False\n",
       "4     False\n",
       "5     False\n",
       "6     False\n",
       "7     False\n",
       "8     False\n",
       "9     False\n",
       "10    False\n",
       "11     True\n",
       "12     True\n",
       "13     True\n",
       "14     True\n",
       "15     True\n",
       "16     True\n",
       "17     True\n",
       "18     True\n",
       "19     True\n",
       "20     True\n",
       "21     True\n",
       "22     True\n",
       "23     True\n",
       "Name: diff, dtype: bool"
      ]
     },
     "execution_count": 200,
     "metadata": {},
     "output_type": "execute_result"
    }
   ],
   "source": [
    "ser['diff']>5"
   ]
  },
  {
   "cell_type": "code",
   "execution_count": 173,
   "id": "e44ac4bf-c89f-473c-95aa-bbfdc71e1a45",
   "metadata": {
    "tags": []
   },
   "outputs": [],
   "source": [
    "seasonality_order = (1, 0, 0, 24)"
   ]
  },
  {
   "cell_type": "code",
   "execution_count": null,
   "id": "65e6da60-982b-449f-b3fa-08fcb044239f",
   "metadata": {},
   "outputs": [],
   "source": []
  },
  {
   "cell_type": "code",
   "execution_count": null,
   "id": "0da9dd6d-b8db-4498-bec0-e96edea683ff",
   "metadata": {},
   "outputs": [],
   "source": []
  }
 ],
 "metadata": {
  "kernelspec": {
   "display_name": "Python 3",
   "language": "python",
   "name": "python3"
  },
  "language_info": {
   "codemirror_mode": {
    "name": "ipython",
    "version": 3
   },
   "file_extension": ".py",
   "mimetype": "text/x-python",
   "name": "python",
   "nbconvert_exporter": "python",
   "pygments_lexer": "ipython3",
   "version": "3.8.6"
  }
 },
 "nbformat": 4,
 "nbformat_minor": 5
}
