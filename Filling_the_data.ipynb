{
 "cells": [
  {
   "cell_type": "code",
   "execution_count": 1,
   "metadata": {},
   "outputs": [
    {
     "name": "stdin",
     "output_type": "stream",
     "text": [
      " 1/3/2012 16:00:00\t26.96\n"
     ]
    }
   ],
   "source": [
    "d = input()"
   ]
  },
  {
   "cell_type": "code",
   "execution_count": 12,
   "metadata": {},
   "outputs": [
    {
     "name": "stdin",
     "output_type": "stream",
     "text": [
      " 9\n",
      " 1/3/2012 16:00:00\tMissing_1\n",
      " 1/4/2012 16:00:00\t27.47\n",
      " 1/5/2012 16:00:00\t27.728\n",
      " 1/6/2012 16:00:00\tMissing_2\n",
      " 1/9/2012 16:00:00\t28.1\n",
      " 1/10/2012 16:00:00\t28.15\n",
      " 1/11/2012 16:00:00\t27.98\n",
      " 1/12/2012 16:00:00\t28.02\n",
      " 1/13/2012 16:00:00\tMissing_3\n"
     ]
    }
   ],
   "source": [
    "readings_count = int(input().strip())\n",
    "\n",
    "readings = []\n",
    "\n",
    "for _ in range(readings_count):\n",
    "    readings_item = input()\n",
    "    readings.append(readings_item)"
   ]
  },
  {
   "cell_type": "code",
   "execution_count": null,
   "metadata": {
    "jupyter": {
     "source_hidden": true
    },
    "tags": []
   },
   "outputs": [],
   "source": [
    "1/3/2012 16:00:00\tMissing_1\n",
    "1/4/2012 16:00:00\t27.47\n",
    "1/5/2012 16:00:00\t27.728\n",
    "1/6/2012 16:00:00\tMissing_2\n",
    "1/9/2012 16:00:00\t28.1\n",
    "1/10/2012 16:00:00\t28.15\n",
    "1/11/2012 16:00:00\t27.98\n",
    "1/12/2012 16:00:00\t28.02\n",
    "1/13/2012 16:00:00\tMissing_3"
   ]
  },
  {
   "cell_type": "code",
   "execution_count": 13,
   "metadata": {},
   "outputs": [
    {
     "data": {
      "text/plain": [
       "['1/3/2012 16:00:00\\tMissing_1',\n",
       " '1/4/2012 16:00:00\\t27.47',\n",
       " '1/5/2012 16:00:00\\t27.728',\n",
       " '1/6/2012 16:00:00\\tMissing_2',\n",
       " '1/9/2012 16:00:00\\t28.1',\n",
       " '1/10/2012 16:00:00\\t28.15',\n",
       " '1/11/2012 16:00:00\\t27.98',\n",
       " '1/12/2012 16:00:00\\t28.02',\n",
       " '1/13/2012 16:00:00\\tMissing_3']"
      ]
     },
     "execution_count": 13,
     "metadata": {},
     "output_type": "execute_result"
    }
   ],
   "source": [
    "readings"
   ]
  },
  {
   "cell_type": "code",
   "execution_count": 71,
   "metadata": {},
   "outputs": [],
   "source": [
    "import datetime as dt\n",
    "import pandas as pd\n",
    "import numpy as np\n",
    "import random\n",
    "import warnings\n",
    "warnings.filterwarnings(\"ignore\")"
   ]
  },
  {
   "cell_type": "code",
   "execution_count": 72,
   "metadata": {},
   "outputs": [
    {
     "name": "stdout",
     "output_type": "stream",
     "text": [
      "27.47001163389271\n",
      "27.7280047810518\n",
      "28.019997025123324\n"
     ]
    }
   ],
   "source": [
    "dates = []\n",
    "values = []\n",
    "for i in readings:\n",
    "    temp = i.split('\\t')\n",
    "    dates.append(temp[0])\n",
    "    values.append(temp[1])\n",
    "df = pd.DataFrame({'X':dates, 'Y':values})\n",
    "df['X'] = pd.to_datetime(df['X'])\n",
    "\n",
    "df_train = df[~df['Y'].str.contains('^Missing')]\n",
    "df_train['Date'] = df_train['X'].map(dt.datetime.toordinal)\n",
    "df_train['Y'] = df_train['Y'].astype('float')\n",
    "\n",
    "df_test = df[df['Y'].str.contains('^Missing')]\n",
    "df_test['Date'] = df_test['X'].map(dt.datetime.toordinal)\n",
    "\n",
    "x = df_train[['Date']]\n",
    "y = df_train[['Y']]\n",
    "\n",
    "from sklearn.ensemble import GradientBoostingRegressor\n",
    "lr = GradientBoostingRegressor()\n",
    "lr.fit(x,y)\n",
    "\n",
    "y_pred = lr.predict(df_test[['Date']])\n",
    "for i in y_pred:\n",
    "    print(i)"
   ]
  },
  {
   "cell_type": "code",
   "execution_count": 35,
   "metadata": {},
   "outputs": [],
   "source": [
    "df1 = df[~df['Y'].str.contains('^Missing')]"
   ]
  },
  {
   "cell_type": "code",
   "execution_count": 41,
   "metadata": {},
   "outputs": [
    {
     "name": "stderr",
     "output_type": "stream",
     "text": [
      "<ipython-input-41-ad302109dd08>:1: SettingWithCopyWarning: \n",
      "A value is trying to be set on a copy of a slice from a DataFrame.\n",
      "Try using .loc[row_indexer,col_indexer] = value instead\n",
      "\n",
      "See the caveats in the documentation: https://pandas.pydata.org/pandas-docs/stable/user_guide/indexing.html#returning-a-view-versus-a-copy\n",
      "  df1['Date'] = df1['X'].map(dt.datetime.toordinal)\n"
     ]
    }
   ],
   "source": [
    "df1['Date'] = df1['X'].map(dt.datetime.toordinal)"
   ]
  },
  {
   "cell_type": "code",
   "execution_count": 48,
   "metadata": {},
   "outputs": [
    {
     "data": {
      "text/plain": [
       "X       datetime64[ns]\n",
       "Y              float64\n",
       "Date             int64\n",
       "dtype: object"
      ]
     },
     "execution_count": 48,
     "metadata": {},
     "output_type": "execute_result"
    }
   ],
   "source": [
    "df1.dtypes"
   ]
  },
  {
   "cell_type": "code",
   "execution_count": 44,
   "metadata": {},
   "outputs": [
    {
     "name": "stderr",
     "output_type": "stream",
     "text": [
      "<ipython-input-44-8e6729f7d263>:1: SettingWithCopyWarning: \n",
      "A value is trying to be set on a copy of a slice from a DataFrame.\n",
      "Try using .loc[row_indexer,col_indexer] = value instead\n",
      "\n",
      "See the caveats in the documentation: https://pandas.pydata.org/pandas-docs/stable/user_guide/indexing.html#returning-a-view-versus-a-copy\n",
      "  df1['Y'] = df1['Y'].astype('float')\n"
     ]
    }
   ],
   "source": [
    "df1['Y'] = df1['Y'].astype('float')"
   ]
  },
  {
   "cell_type": "code",
   "execution_count": 49,
   "metadata": {},
   "outputs": [],
   "source": [
    "x = df1[['Date']]\n",
    "y = df1[['Y']]"
   ]
  },
  {
   "cell_type": "code",
   "execution_count": 50,
   "metadata": {},
   "outputs": [
    {
     "name": "stderr",
     "output_type": "stream",
     "text": [
      "C:\\Users\\ghvi0001\\Anaconda3\\envs\\lta_geo\\lib\\site-packages\\sklearn\\ensemble\\_gb.py:494: DataConversionWarning: A column-vector y was passed when a 1d array was expected. Please change the shape of y to (n_samples, ), for example using ravel().\n",
      "  y = column_or_1d(y, warn=True)\n"
     ]
    },
    {
     "data": {
      "text/plain": [
       "GradientBoostingRegressor()"
      ]
     },
     "execution_count": 50,
     "metadata": {},
     "output_type": "execute_result"
    }
   ],
   "source": [
    "from sklearn.ensemble import GradientBoostingRegressor\n",
    "lr = GradientBoostingRegressor()\n",
    "lr.fit(x,y)\n"
   ]
  },
  {
   "cell_type": "code",
   "execution_count": 65,
   "metadata": {},
   "outputs": [
    {
     "name": "stderr",
     "output_type": "stream",
     "text": [
      "<ipython-input-65-8926427bbdb5>:2: SettingWithCopyWarning: \n",
      "A value is trying to be set on a copy of a slice from a DataFrame.\n",
      "Try using .loc[row_indexer,col_indexer] = value instead\n",
      "\n",
      "See the caveats in the documentation: https://pandas.pydata.org/pandas-docs/stable/user_guide/indexing.html#returning-a-view-versus-a-copy\n",
      "  df_test['Date'] = df_test['X'].map(dt.datetime.toordinal)\n"
     ]
    }
   ],
   "source": [
    "df_test = df[df['Y'].str.contains('^Missing')]\n",
    "df_test['Date'] = df_test['X'].map(dt.datetime.toordinal)\n",
    "\n",
    "# x_test = df.X[df['Y'].str.contains('^Missing')]\n",
    "# x_test1 = x_test.map(dt.datetime.toordinal)"
   ]
  },
  {
   "cell_type": "code",
   "execution_count": 66,
   "metadata": {
    "tags": []
   },
   "outputs": [
    {
     "data": {
      "text/html": [
       "<div>\n",
       "<style scoped>\n",
       "    .dataframe tbody tr th:only-of-type {\n",
       "        vertical-align: middle;\n",
       "    }\n",
       "\n",
       "    .dataframe tbody tr th {\n",
       "        vertical-align: top;\n",
       "    }\n",
       "\n",
       "    .dataframe thead th {\n",
       "        text-align: right;\n",
       "    }\n",
       "</style>\n",
       "<table border=\"1\" class=\"dataframe\">\n",
       "  <thead>\n",
       "    <tr style=\"text-align: right;\">\n",
       "      <th></th>\n",
       "      <th>X</th>\n",
       "      <th>Y</th>\n",
       "      <th>Date</th>\n",
       "    </tr>\n",
       "  </thead>\n",
       "  <tbody>\n",
       "    <tr>\n",
       "      <th>0</th>\n",
       "      <td>2012-01-03 16:00:00</td>\n",
       "      <td>Missing_1</td>\n",
       "      <td>734505</td>\n",
       "    </tr>\n",
       "    <tr>\n",
       "      <th>3</th>\n",
       "      <td>2012-01-06 16:00:00</td>\n",
       "      <td>Missing_2</td>\n",
       "      <td>734508</td>\n",
       "    </tr>\n",
       "    <tr>\n",
       "      <th>8</th>\n",
       "      <td>2012-01-13 16:00:00</td>\n",
       "      <td>Missing_3</td>\n",
       "      <td>734515</td>\n",
       "    </tr>\n",
       "  </tbody>\n",
       "</table>\n",
       "</div>"
      ],
      "text/plain": [
       "                    X          Y    Date\n",
       "0 2012-01-03 16:00:00  Missing_1  734505\n",
       "3 2012-01-06 16:00:00  Missing_2  734508\n",
       "8 2012-01-13 16:00:00  Missing_3  734515"
      ]
     },
     "execution_count": 66,
     "metadata": {},
     "output_type": "execute_result"
    }
   ],
   "source": [
    "df_test"
   ]
  },
  {
   "cell_type": "code",
   "execution_count": 67,
   "metadata": {},
   "outputs": [],
   "source": [
    "y_pred = lr.predict(df_test[['Date']])"
   ]
  },
  {
   "cell_type": "code",
   "execution_count": 69,
   "metadata": {},
   "outputs": [
    {
     "name": "stdout",
     "output_type": "stream",
     "text": [
      "27.47001163389271\n",
      "27.7280047810518\n",
      "28.019997025123324\n"
     ]
    }
   ],
   "source": [
    "for i in y_pred:\n",
    "    print(i)"
   ]
  },
  {
   "cell_type": "code",
   "execution_count": 73,
   "metadata": {},
   "outputs": [],
   "source": [
    "#### FIzzbuzz"
   ]
  },
  {
   "cell_type": "markdown",
   "metadata": {},
   "source": [
    "### Normalize grades"
   ]
  },
  {
   "cell_type": "code",
   "execution_count": 74,
   "metadata": {},
   "outputs": [],
   "source": [
    "tuples = [\n",
    "    ('Jason', 94),\n",
    "    ('Tessa', 80),\n",
    "    ('Carla', 38),\n",
    "    ('Matt', 43),\n",
    "    ('Jessica', 100)\n",
    "]"
   ]
  },
  {
   "cell_type": "code",
   "execution_count": 95,
   "metadata": {},
   "outputs": [],
   "source": [
    "def normalize_grades(tuples):\n",
    "    minm = min([x[1] for x in tuples])\n",
    "    maxm = max([x[1] for x in tuples])\n",
    "    return [(x[0],round((x[1]-minm)/(maxm-minm),2)) for x in tuples]"
   ]
  },
  {
   "cell_type": "code",
   "execution_count": 96,
   "metadata": {},
   "outputs": [
    {
     "data": {
      "text/plain": [
       "[('Jason', 0.9),\n",
       " ('Tessa', 0.68),\n",
       " ('Carla', 0.0),\n",
       " ('Matt', 0.08),\n",
       " ('Jessica', 1.0)]"
      ]
     },
     "execution_count": 96,
     "metadata": {},
     "output_type": "execute_result"
    }
   ],
   "source": [
    "normalize_grades(tuples)"
   ]
  },
  {
   "cell_type": "code",
   "execution_count": null,
   "metadata": {},
   "outputs": [],
   "source": []
  }
 ],
 "metadata": {
  "kernelspec": {
   "display_name": "Python 3",
   "language": "python",
   "name": "python3"
  },
  "language_info": {
   "codemirror_mode": {
    "name": "ipython",
    "version": 3
   },
   "file_extension": ".py",
   "mimetype": "text/x-python",
   "name": "python",
   "nbconvert_exporter": "python",
   "pygments_lexer": "ipython3",
   "version": "3.8.6"
  }
 },
 "nbformat": 4,
 "nbformat_minor": 4
}
