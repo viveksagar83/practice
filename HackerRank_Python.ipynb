{
 "cells": [
  {
   "cell_type": "markdown",
   "metadata": {},
   "source": [
    "# Ordered Dict"
   ]
  },
  {
   "cell_type": "code",
   "execution_count": 1,
   "metadata": {},
   "outputs": [],
   "source": [
    "from collections import OrderedDict"
   ]
  },
  {
   "cell_type": "code",
   "execution_count": 10,
   "metadata": {},
   "outputs": [],
   "source": [
    "ordinary_dictionary = {}\n",
    "ordinary_dictionary['a'] = 1\n",
    "ordinary_dictionary['b'] = 2\n",
    "ordinary_dictionary['c'] = 3\n",
    "ordinary_dictionary['d'] = 4\n",
    "ordinary_dictionary['e'] = 5"
   ]
  },
  {
   "cell_type": "code",
   "execution_count": 11,
   "metadata": {},
   "outputs": [
    {
     "data": {
      "text/plain": [
       "{'a': 1, 'b': 2, 'c': 3, 'd': 4, 'e': 5}"
      ]
     },
     "execution_count": 11,
     "metadata": {},
     "output_type": "execute_result"
    }
   ],
   "source": [
    "ordinary_dictionary"
   ]
  },
  {
   "cell_type": "code",
   "execution_count": 12,
   "metadata": {},
   "outputs": [],
   "source": [
    "ordinary_dictionary['aa'] = 6\n",
    "ordinary_dictionary"
   ]
  },
  {
   "cell_type": "code",
   "execution_count": 34,
   "metadata": {},
   "outputs": [],
   "source": [
    "ordered_dictionary = OrderedDict()\n",
    "ordered_dictionary['a'] = 1\n",
    "ordered_dictionary['b'] = 2\n",
    "ordered_dictionary['c'] = 3\n",
    "ordered_dictionary['d'] = 4\n",
    "ordered_dictionary['e'] = 5"
   ]
  },
  {
   "cell_type": "code",
   "execution_count": 35,
   "metadata": {},
   "outputs": [
    {
     "data": {
      "text/plain": [
       "OrderedDict([('a', 1), ('b', 2), ('c', 3), ('d', 4), ('e', 5)])"
      ]
     },
     "execution_count": 35,
     "metadata": {},
     "output_type": "execute_result"
    }
   ],
   "source": [
    "ordered_dictionary"
   ]
  },
  {
   "cell_type": "code",
   "execution_count": 22,
   "metadata": {},
   "outputs": [
    {
     "name": "stdout",
     "output_type": "stream",
     "text": [
      "OrderedDict([('a', 12), ('b', 2), ('c', 3), ('d', 4), ('e', 5), ('aa', 6)])\n"
     ]
    }
   ],
   "source": [
    "print(ordered_dictionary)"
   ]
  },
  {
   "cell_type": "code",
   "execution_count": 49,
   "metadata": {},
   "outputs": [
    {
     "name": "stdout",
     "output_type": "stream",
     "text": [
      "4\n",
      "candy 5\n",
      "potato chips 10\n",
      "candy 5\n",
      "apple 3\n"
     ]
    }
   ],
   "source": [
    "N = int(input())\n",
    "ordered_dict = OrderedDict()\n",
    "for i in range(N):\n",
    "    items = input().split()\n",
    "    item_name = ' '.join(items[:-1])\n",
    "    price = int(items[-1])\n",
    "    if item_name in ordered_dict.keys():\n",
    "        ordered_dict[item_name]+=price\n",
    "    else:\n",
    "        ordered_dict[item_name] = price"
   ]
  },
  {
   "cell_type": "code",
   "execution_count": 50,
   "metadata": {},
   "outputs": [
    {
     "name": "stdout",
     "output_type": "stream",
     "text": [
      "candy 10\n",
      "potato chips 10\n",
      "apple 3\n"
     ]
    }
   ],
   "source": [
    "for key, value in ordered_dict.items():\n",
    "    print(key, value)"
   ]
  },
  {
   "cell_type": "markdown",
   "metadata": {},
   "source": [
    "# Word Order"
   ]
  },
  {
   "cell_type": "code",
   "execution_count": 52,
   "metadata": {},
   "outputs": [
    {
     "name": "stdout",
     "output_type": "stream",
     "text": [
      "4\n",
      "abc\n",
      "ghe\n",
      "bhu\n",
      "abc\n"
     ]
    }
   ],
   "source": [
    "n = int(input())\n",
    "ordered_word = OrderedDict()\n",
    "overall = 0\n",
    "for i in range(n):\n",
    "    word = input()\n",
    "    if word in ordered_word.keys():\n",
    "        ordered_word[word]+=1\n",
    "    else:\n",
    "        ordered_word[word] = 1\n",
    "        overall +=1\n",
    "        "
   ]
  },
  {
   "cell_type": "code",
   "execution_count": 53,
   "metadata": {},
   "outputs": [
    {
     "data": {
      "text/plain": [
       "OrderedDict([('abc', 2), ('ghe', 1), ('bhu', 1)])"
      ]
     },
     "execution_count": 53,
     "metadata": {},
     "output_type": "execute_result"
    }
   ],
   "source": [
    "ordered_word"
   ]
  },
  {
   "cell_type": "code",
   "execution_count": 54,
   "metadata": {},
   "outputs": [
    {
     "data": {
      "text/plain": [
       "3"
      ]
     },
     "execution_count": 54,
     "metadata": {},
     "output_type": "execute_result"
    }
   ],
   "source": [
    "overall"
   ]
  },
  {
   "cell_type": "code",
   "execution_count": 58,
   "metadata": {
    "scrolled": true
   },
   "outputs": [
    {
     "name": "stdout",
     "output_type": "stream",
     "text": [
      "3\n",
      "2 1 1\n"
     ]
    }
   ],
   "source": [
    "print(overall)\n",
    "print(*ordered_word.values())"
   ]
  },
  {
   "cell_type": "markdown",
   "metadata": {},
   "source": [
    "# collections deque"
   ]
  },
  {
   "cell_type": "code",
   "execution_count": 60,
   "metadata": {},
   "outputs": [],
   "source": [
    "from collections import deque"
   ]
  },
  {
   "cell_type": "code",
   "execution_count": 61,
   "metadata": {},
   "outputs": [
    {
     "name": "stdout",
     "output_type": "stream",
     "text": [
      "deque([1])\n"
     ]
    }
   ],
   "source": [
    "d = deque()\n",
    "d.append(1)\n",
    "print(d)"
   ]
  },
  {
   "cell_type": "code",
   "execution_count": 85,
   "metadata": {},
   "outputs": [
    {
     "name": "stdout",
     "output_type": "stream",
     "text": [
      "3\n",
      "append 1\n",
      "append 4\n",
      "pop\n"
     ]
    }
   ],
   "source": [
    "N = int(input())\n",
    "d = deque()\n",
    "for i in range(N):\n",
    "    commands = input().split()\n",
    "    if commands[0]=='append':\n",
    "        d.append(commands[1])\n",
    "    elif commands[0]=='appendleft':\n",
    "        d.appendleft(commands[1])\n",
    "    elif commands[0]=='popleft':\n",
    "        d.popleft()\n",
    "    else:\n",
    "        d.pop()\n",
    "        \n",
    "    "
   ]
  },
  {
   "cell_type": "code",
   "execution_count": 87,
   "metadata": {},
   "outputs": [
    {
     "name": "stdout",
     "output_type": "stream",
     "text": [
      "1\n"
     ]
    }
   ],
   "source": [
    "print(*d)"
   ]
  },
  {
   "cell_type": "markdown",
   "metadata": {},
   "source": [
    "# incorrect regex"
   ]
  },
  {
   "cell_type": "code",
   "execution_count": 3,
   "metadata": {},
   "outputs": [
    {
     "name": "stdout",
     "output_type": "stream",
     "text": [
      "correct regex  .*\\+\n",
      "incorrect regex  .*+\n"
     ]
    }
   ],
   "source": [
    "print('correct regex ', '.*\\+')\n",
    "print('incorrect regex ', '.*+')"
   ]
  },
  {
   "cell_type": "code",
   "execution_count": 4,
   "metadata": {},
   "outputs": [],
   "source": [
    "import re\n",
    "\n",
    "txt = \"The rain in Spain\"\n",
    "x = re.search(\"^The.*Spain$\", txt)"
   ]
  },
  {
   "cell_type": "code",
   "execution_count": 6,
   "metadata": {},
   "outputs": [
    {
     "name": "stdout",
     "output_type": "stream",
     "text": [
      "yes\n"
     ]
    }
   ],
   "source": [
    "if x:\n",
    "    print('yes')\n",
    "else:\n",
    "    print('no')"
   ]
  },
  {
   "cell_type": "code",
   "execution_count": 7,
   "metadata": {},
   "outputs": [
    {
     "name": "stdout",
     "output_type": "stream",
     "text": [
      "['h', 'e', 'a', 'i', 'i', 'a', 'i']\n"
     ]
    }
   ],
   "source": [
    "x = re.findall(\"[a-m]\", txt)\n",
    "print(x)"
   ]
  },
  {
   "cell_type": "code",
   "execution_count": 16,
   "metadata": {},
   "outputs": [
    {
     "name": "stdout",
     "output_type": "stream",
     "text": [
      "false\n",
      "true\n"
     ]
    }
   ],
   "source": [
    "\n",
    "try: \n",
    "    re.compile(\".*+\")\n",
    "except re.error:\n",
    "    print('false')"
   ]
  },
  {
   "cell_type": "code",
   "execution_count": 20,
   "metadata": {},
   "outputs": [],
   "source": [
    "def isvalidregex(regex):\n",
    "    try: \n",
    "        re.compile(regex)\n",
    "    except re.error: \n",
    "        return False\n",
    "    return True"
   ]
  },
  {
   "cell_type": "code",
   "execution_count": 24,
   "metadata": {},
   "outputs": [
    {
     "name": "stdout",
     "output_type": "stream",
     "text": [
      "False\n"
     ]
    }
   ],
   "source": [
    "print(isvalidregex('.*|+'))"
   ]
  },
  {
   "cell_type": "markdown",
   "metadata": {},
   "source": [
    "# Concat arrays"
   ]
  },
  {
   "cell_type": "code",
   "execution_count": 2,
   "metadata": {},
   "outputs": [],
   "source": [
    "import numpy as np"
   ]
  },
  {
   "cell_type": "code",
   "execution_count": 46,
   "metadata": {
    "scrolled": true
   },
   "outputs": [
    {
     "data": {
      "text/plain": [
       "array([[1, 2],\n",
       "       [3, 4],\n",
       "       [4, 5],\n",
       "       [3, 2],\n",
       "       [4, 6],\n",
       "       [6, 8],\n",
       "       [1, 2]])"
      ]
     },
     "execution_count": 46,
     "metadata": {},
     "output_type": "execute_result"
    }
   ],
   "source": [
    "n, m, p =  map(int, input().split())\n",
    "\n",
    "A = np.array([input().split() for i in range(n)], int)\n",
    "\n",
    "B = np.array([input().split() for i in range(m)], int)\n",
    "\n",
    "np.concatenate((A, B), axis=0)"
   ]
  },
  {
   "cell_type": "code",
   "execution_count": 15,
   "metadata": {
    "scrolled": true
   },
   "outputs": [
    {
     "data": {
      "text/plain": [
       "array([[2, 3],\n",
       "       [3, 4],\n",
       "       [5, 6],\n",
       "       [4, 8]])"
      ]
     },
     "execution_count": 15,
     "metadata": {},
     "output_type": "execute_result"
    }
   ],
   "source": [
    "np.append(A, B, axis=0)"
   ]
  },
  {
   "cell_type": "markdown",
   "metadata": {},
   "source": [
    "# Zeros and Ones"
   ]
  },
  {
   "cell_type": "code",
   "execution_count": 63,
   "metadata": {},
   "outputs": [
    {
     "name": "stdout",
     "output_type": "stream",
     "text": [
      "3 2\n",
      "[[0 0]\n",
      " [0 0]\n",
      " [0 0]]\n",
      "[[1 1]\n",
      " [1 1]\n",
      " [1 1]]\n"
     ]
    }
   ],
   "source": [
    "f =  list(map(int, input().split()))\n",
    "\n",
    "print(np.zeros((f), int))\n",
    "print(np.ones((f), int))"
   ]
  },
  {
   "cell_type": "markdown",
   "metadata": {},
   "source": [
    "# itertools.combinations_with_replacement()"
   ]
  },
  {
   "cell_type": "code",
   "execution_count": 23,
   "metadata": {},
   "outputs": [
    {
     "name": "stdout",
     "output_type": "stream",
     "text": [
      "AA\n",
      "AC\n",
      "AH\n",
      "AK\n",
      "CC\n",
      "CH\n",
      "CK\n",
      "HH\n",
      "HK\n",
      "KK\n"
     ]
    }
   ],
   "source": [
    "from itertools import combinations_with_replacement\n",
    "from itertools import combinations\n",
    "\n",
    "# word_list = []\n",
    "S='HACK'\n",
    "k = 2\n",
    "S = list(S)\n",
    "S.sort()\n",
    "# print(''.join(S))\n",
    "for i in list(combinations_with_replacement(S,2)):\n",
    "    print(''.join(i))"
   ]
  },
  {
   "cell_type": "markdown",
   "metadata": {},
   "source": [
    "# Linear Algebra"
   ]
  },
  {
   "cell_type": "markdown",
   "metadata": {},
   "source": [
    "### Task\n",
    "You are given a square matrix A with dimensions nxn. Your task is to find the determinant. Note: Round the answer to 2 places after the decimal."
   ]
  },
  {
   "cell_type": "markdown",
   "metadata": {},
   "source": [
    "##### Input Format\n",
    "The first line contains the integer n.\n",
    "The next n lines contains the n space separated elements of array A.\n",
    "\n",
    "##### Output Format\n",
    "\n",
    "Print the determinant of A."
   ]
  },
  {
   "cell_type": "code",
   "execution_count": 2,
   "metadata": {},
   "outputs": [],
   "source": [
    "import numpy as np\n",
    "# numpy.array([input().split() for _ in range(int(input()))],float)"
   ]
  },
  {
   "cell_type": "code",
   "execution_count": 8,
   "metadata": {},
   "outputs": [
    {
     "name": "stdin",
     "output_type": "stream",
     "text": [
      " 2\n",
      " 1.1 1.1\n",
      " 1.1 1.1\n"
     ]
    },
    {
     "name": "stdout",
     "output_type": "stream",
     "text": [
      "0.0\n"
     ]
    }
   ],
   "source": [
    "\n",
    "n = int(input())\n",
    "print(round(np.linalg.det(np.array([input().split() for i in range(n)], float)),2))\n"
   ]
  },
  {
   "cell_type": "markdown",
   "metadata": {},
   "source": [
    "# Transpose and Flatten"
   ]
  },
  {
   "cell_type": "markdown",
   "metadata": {},
   "source": [
    "### Task\n",
    "\n",
    "You are given a N X M integer array matrix with space separated elements (N = rows and M = columns).\n",
    "Your task is to print the transpose and flatten results."
   ]
  },
  {
   "cell_type": "markdown",
   "metadata": {},
   "source": [
    "##### Input Format\n",
    "\n",
    "The first line contains the space separated values of N and M.\n",
    "The next N lines contains the space separated elements of M columns.\n",
    "\n",
    "##### Output Format\n",
    "\n",
    "First, print the transpose array and then print the flatten."
   ]
  },
  {
   "cell_type": "code",
   "execution_count": 11,
   "metadata": {},
   "outputs": [
    {
     "name": "stdin",
     "output_type": "stream",
     "text": [
      " 2 2\n",
      "  2 4\n",
      " 3 5\n"
     ]
    },
    {
     "name": "stdout",
     "output_type": "stream",
     "text": [
      "[[2. 3.]\n",
      " [4. 5.]]\n",
      "[2. 4. 3. 5.]\n"
     ]
    }
   ],
   "source": [
    "n, m =  map(int, input().split())\n",
    "\n",
    "A = np.array([input().split() for i in range(n)], float)\n",
    "print(np.transpose(A))\n",
    "print(A.flatten())\n"
   ]
  },
  {
   "cell_type": "markdown",
   "metadata": {},
   "source": [
    "# Eye and Identity"
   ]
  },
  {
   "cell_type": "code",
   "execution_count": 18,
   "metadata": {},
   "outputs": [],
   "source": [
    "import numpy as np \n",
    "np.set_printoptions(legacy='1.13')"
   ]
  },
  {
   "cell_type": "code",
   "execution_count": 19,
   "metadata": {},
   "outputs": [
    {
     "data": {
      "text/plain": [
       "array([[ 0.,  0.,  0.,  0.,  0.,  0.,  0.],\n",
       "       [ 1.,  0.,  0.,  0.,  0.,  0.,  0.],\n",
       "       [ 0.,  1.,  0.,  0.,  0.,  0.,  0.],\n",
       "       [ 0.,  0.,  1.,  0.,  0.,  0.,  0.],\n",
       "       [ 0.,  0.,  0.,  1.,  0.,  0.,  0.],\n",
       "       [ 0.,  0.,  0.,  0.,  1.,  0.,  0.],\n",
       "       [ 0.,  0.,  0.,  0.,  0.,  1.,  0.],\n",
       "       [ 0.,  0.,  0.,  0.,  0.,  0.,  1.]])"
      ]
     },
     "execution_count": 19,
     "metadata": {},
     "output_type": "execute_result"
    }
   ],
   "source": [
    "np.eye(8,7,-1)"
   ]
  },
  {
   "cell_type": "code",
   "execution_count": 14,
   "metadata": {},
   "outputs": [
    {
     "data": {
      "text/plain": [
       "array([[1., 0., 0.],\n",
       "       [0., 1., 0.],\n",
       "       [0., 0., 1.]])"
      ]
     },
     "execution_count": 14,
     "metadata": {},
     "output_type": "execute_result"
    }
   ],
   "source": [
    "np.identity(3)"
   ]
  },
  {
   "cell_type": "code",
   "execution_count": 20,
   "metadata": {},
   "outputs": [
    {
     "name": "stdin",
     "output_type": "stream",
     "text": [
      " 3 3\n"
     ]
    }
   ],
   "source": [
    "n, m =  map(int, input().split())\n",
    "\n",
    "A = np.eye(n,m)"
   ]
  },
  {
   "cell_type": "code",
   "execution_count": 21,
   "metadata": {},
   "outputs": [
    {
     "data": {
      "text/plain": [
       "array([[ 1.,  0.,  0.],\n",
       "       [ 0.,  1.,  0.],\n",
       "       [ 0.,  0.,  1.]])"
      ]
     },
     "execution_count": 21,
     "metadata": {},
     "output_type": "execute_result"
    }
   ],
   "source": [
    "A"
   ]
  },
  {
   "cell_type": "markdown",
   "metadata": {},
   "source": [
    "# Compress the String!"
   ]
  },
  {
   "cell_type": "code",
   "execution_count": 2,
   "metadata": {},
   "outputs": [],
   "source": [
    "from itertools import groupby"
   ]
  },
  {
   "cell_type": "code",
   "execution_count": 32,
   "metadata": {},
   "outputs": [
    {
     "name": "stdout",
     "output_type": "stream",
     "text": [
      "36\n"
     ]
    }
   ],
   "source": [
    "# round(100/22,0)\n",
    "x = 9\n",
    "print(x*2**2) \n"
   ]
  },
  {
   "cell_type": "code",
   "execution_count": 63,
   "metadata": {},
   "outputs": [
    {
     "name": "stdout",
     "output_type": "stream",
     "text": [
      "(1, 1) (3, 2) (1, 3) (2, 1)\n"
     ]
    }
   ],
   "source": [
    "s = '1222311'\n",
    "\n",
    "out1 = []\n",
    "for k, g in groupby(s):\n",
    "    size = len(list(g))\n",
    "    out1.append((size, int(k)))\n",
    "\n",
    "print(*out1)   "
   ]
  },
  {
   "cell_type": "markdown",
   "metadata": {},
   "source": [
    "# collections.Counter()"
   ]
  },
  {
   "cell_type": "code",
   "execution_count": null,
   "metadata": {},
   "outputs": [],
   "source": []
  }
 ],
 "metadata": {
  "kernelspec": {
   "display_name": "Python 3",
   "language": "python",
   "name": "python3"
  },
  "language_info": {
   "codemirror_mode": {
    "name": "ipython",
    "version": 3
   },
   "file_extension": ".py",
   "mimetype": "text/x-python",
   "name": "python",
   "nbconvert_exporter": "python",
   "pygments_lexer": "ipython3",
   "version": "3.8.6"
  }
 },
 "nbformat": 4,
 "nbformat_minor": 4
}
