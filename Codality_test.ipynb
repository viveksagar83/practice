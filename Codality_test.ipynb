{
 "cells": [
  {
   "cell_type": "code",
   "execution_count": 4,
   "id": "a1971b14-31b7-4fb7-99d2-38eb67a5a2d2",
   "metadata": {},
   "outputs": [],
   "source": [
    "def solution(A):\n",
    "    # write your code in Python 3.6\n",
    "    N = len(A)\n",
    "    m = max(A)\n",
    "    if m<1:\n",
    "        return 1\n",
    "    if N==1:\n",
    "        return 2 if A[0]==1 else 1\n",
    "    l = [0]*m\n",
    "    for i in range(N):\n",
    "        if A[i] > 0:\n",
    "            if l[A[i] - 1] != 1:\n",
    "                l[A[i] - 1] = 1\n",
    "                print(l)\n",
    "    for i in range(len(l)):\n",
    "\n",
    "        # Encountering first 0, i.e, the element with least value\n",
    "        if l[i] == 0:\n",
    "            return i + 1\n",
    "            # In case all values are filled between 1 and m\n",
    "    return i + 2           \n",
    "    "
   ]
  },
  {
   "cell_type": "code",
   "execution_count": 7,
   "id": "7d710bf8-420f-4cf0-baeb-9e4532317fcb",
   "metadata": {},
   "outputs": [
    {
     "data": {
      "text/plain": [
       "1"
      ]
     },
     "execution_count": 7,
     "metadata": {},
     "output_type": "execute_result"
    }
   ],
   "source": [
    "solution([-1, -2])"
   ]
  },
  {
   "cell_type": "code",
   "execution_count": 62,
   "id": "4ffdcf7e-9855-4b94-a7e9-77dc26d2969b",
   "metadata": {},
   "outputs": [],
   "source": [
    "def solution(predicted, observed):\n",
    "    # write your code in Python 3.6\n",
    "    sum_sq = []\n",
    "    if len(predicted)!=len(observed):\n",
    "        return 'Lists are not the same length'\n",
    "    n = len(predicted)\n",
    "    for i in range(n):\n",
    "        sum_sq.append((predicted[i]-observed[i])**2)\n",
    "    print(sum_sq)\n",
    "    return (sum(sum_sq)/n)**(1/2)\n",
    "    "
   ]
  },
  {
   "cell_type": "code",
   "execution_count": 68,
   "id": "72db4a7d-f803-429c-9921-2b3c6fd18687",
   "metadata": {},
   "outputs": [],
   "source": [
    "def solution(predicted, observed):\n",
    "    # write your code in Python 3.6\n",
    "    res = 0\n",
    "    n = 0\n",
    "    for t, p in zip(predicted, observed):\n",
    "        res+=(t-p)**2\n",
    "        n+=1\n",
    "    print(res)\n",
    "    res=(res/n)**0.5\n",
    "    return res"
   ]
  },
  {
   "cell_type": "code",
   "execution_count": 71,
   "id": "e1de2caf-d6e3-4e34-a233-8f249bb30d4e",
   "metadata": {},
   "outputs": [],
   "source": [
    "predicted = [4, 25,  0.75, 11, 34, 45]\n",
    "observed  = [3, 21, -1.25, 13, 21, 40]"
   ]
  },
  {
   "cell_type": "code",
   "execution_count": 72,
   "id": "d8923a76-e915-4497-a01c-499a3aed93dc",
   "metadata": {},
   "outputs": [
    {
     "name": "stdout",
     "output_type": "stream",
     "text": [
      "219.0\n"
     ]
    },
    {
     "data": {
      "text/plain": [
       "6.041522986797286"
      ]
     },
     "execution_count": 72,
     "metadata": {},
     "output_type": "execute_result"
    }
   ],
   "source": [
    "solution(predicted, observed)"
   ]
  },
  {
   "cell_type": "code",
   "execution_count": 48,
   "id": "c968580d-238d-4f99-a018-0ca18086b14b",
   "metadata": {},
   "outputs": [],
   "source": [
    "s = 'aaabbaAa'"
   ]
  },
  {
   "cell_type": "code",
   "execution_count": 49,
   "id": "0647eb61-867a-4393-87f9-8d298adcc2ac",
   "metadata": {},
   "outputs": [
    {
     "data": {
      "text/plain": [
       "'aaabbaaa'"
      ]
     },
     "execution_count": 49,
     "metadata": {},
     "output_type": "execute_result"
    }
   ],
   "source": [
    "s.lower()"
   ]
  },
  {
   "cell_type": "code",
   "execution_count": 50,
   "id": "8efc451a-e2a6-44e1-a6d4-b52fe1c87e49",
   "metadata": {},
   "outputs": [
    {
     "data": {
      "text/plain": [
       "'aaabbaAa'"
      ]
     },
     "execution_count": 50,
     "metadata": {},
     "output_type": "execute_result"
    }
   ],
   "source": [
    "s"
   ]
  },
  {
   "cell_type": "code",
   "execution_count": 44,
   "id": "79a1186b-b65e-4c9b-a4ec-d4ecb673cf94",
   "metadata": {},
   "outputs": [],
   "source": [
    "d = {}\n",
    "for i in s:\n",
    "    if i in d:\n",
    "        d[i]+=1\n",
    "    else:\n",
    "        d[i]=1"
   ]
  },
  {
   "cell_type": "code",
   "execution_count": 45,
   "id": "6565a5b7-07c4-449e-96db-a111dcdd9c9e",
   "metadata": {},
   "outputs": [
    {
     "data": {
      "text/plain": [
       "{'a': 5, 'b': 2}"
      ]
     },
     "execution_count": 45,
     "metadata": {},
     "output_type": "execute_result"
    }
   ],
   "source": [
    "d"
   ]
  },
  {
   "cell_type": "code",
   "execution_count": 46,
   "id": "47ca7489-00b2-4773-a34a-357c3a4779bb",
   "metadata": {},
   "outputs": [],
   "source": [
    "res = \"\"\n",
    "for i in d:\n",
    "    res+=i+str(d[i])"
   ]
  },
  {
   "cell_type": "code",
   "execution_count": 47,
   "id": "7068123b-cd1a-4619-a680-56b04fe403ff",
   "metadata": {},
   "outputs": [
    {
     "data": {
      "text/plain": [
       "'a5b2'"
      ]
     },
     "execution_count": 47,
     "metadata": {},
     "output_type": "execute_result"
    }
   ],
   "source": [
    "res"
   ]
  },
  {
   "cell_type": "code",
   "execution_count": 51,
   "id": "24299828-59eb-4564-b9df-3608ae1ee16e",
   "metadata": {},
   "outputs": [],
   "source": [
    "def solution(S):\n",
    "    S = S.lower()\n",
    "    if len(S)==0:\n",
    "        return \"\"\n",
    "    letters = 'abcdefghijklmnopqrstuvwxyz'\n",
    "    res = \"\"\n",
    "    count = 1\n",
    "    w = S[0]\n",
    "    if w not in letters:\n",
    "        return 'error'\n",
    "    for c in S[1:]:\n",
    "        if c==w:\n",
    "            count+=1\n",
    "        elif c not in letters:\n",
    "            return 'error'\n",
    "        else:\n",
    "            res+=w+str(count)\n",
    "            w = c\n",
    "            count=1\n",
    "    res+=w+str(count)\n",
    "    return res"
   ]
  },
  {
   "cell_type": "code",
   "execution_count": 57,
   "id": "663ce35f-3fe3-4efc-95e8-0d911449cd4a",
   "metadata": {},
   "outputs": [
    {
     "data": {
      "text/plain": [
       "'a2d2'"
      ]
     },
     "execution_count": 57,
     "metadata": {},
     "output_type": "execute_result"
    }
   ],
   "source": [
    "solution('AAdd')"
   ]
  },
  {
   "cell_type": "code",
   "execution_count": null,
   "id": "87030411-b7ff-46ae-85d8-1f714abf8db9",
   "metadata": {},
   "outputs": [],
   "source": []
  }
 ],
 "metadata": {
  "kernelspec": {
   "display_name": "Python 3",
   "language": "python",
   "name": "python3"
  },
  "language_info": {
   "codemirror_mode": {
    "name": "ipython",
    "version": 3
   },
   "file_extension": ".py",
   "mimetype": "text/x-python",
   "name": "python",
   "nbconvert_exporter": "python",
   "pygments_lexer": "ipython3",
   "version": "3.8.6"
  }
 },
 "nbformat": 4,
 "nbformat_minor": 5
}
